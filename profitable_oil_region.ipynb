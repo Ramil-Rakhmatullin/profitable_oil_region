{
  "nbformat": 4,
  "nbformat_minor": 0,
  "metadata": {
    "ExecuteTimeLog": [
      {
        "duration": 1519,
        "start_time": "2021-06-23T17:52:00.076Z"
      },
      {
        "duration": 162,
        "start_time": "2021-06-23T17:52:24.017Z"
      },
      {
        "duration": 465,
        "start_time": "2021-06-23T17:52:39.277Z"
      },
      {
        "duration": 468,
        "start_time": "2021-06-23T17:53:07.956Z"
      },
      {
        "duration": 13,
        "start_time": "2021-06-23T17:53:19.897Z"
      },
      {
        "duration": 14,
        "start_time": "2021-06-23T17:54:28.839Z"
      },
      {
        "duration": 14,
        "start_time": "2021-06-23T17:54:56.970Z"
      },
      {
        "duration": 13,
        "start_time": "2021-06-23T17:55:02.746Z"
      },
      {
        "duration": 11,
        "start_time": "2021-06-23T17:55:09.106Z"
      },
      {
        "duration": 12,
        "start_time": "2021-06-23T17:55:12.507Z"
      },
      {
        "duration": 14,
        "start_time": "2021-06-23T17:55:15.891Z"
      },
      {
        "duration": 14,
        "start_time": "2021-06-23T17:55:58.208Z"
      },
      {
        "duration": 71,
        "start_time": "2021-06-23T17:56:07.860Z"
      },
      {
        "duration": 53,
        "start_time": "2021-06-23T17:56:56.902Z"
      },
      {
        "duration": 530,
        "start_time": "2021-06-23T17:58:50.659Z"
      },
      {
        "duration": 284,
        "start_time": "2021-06-23T17:58:57.658Z"
      },
      {
        "duration": 330,
        "start_time": "2021-06-23T17:59:06.284Z"
      },
      {
        "duration": 206,
        "start_time": "2021-06-23T17:59:26.539Z"
      },
      {
        "duration": 15,
        "start_time": "2021-06-23T18:06:17.954Z"
      },
      {
        "duration": 16,
        "start_time": "2021-06-23T18:06:24.152Z"
      },
      {
        "duration": 14,
        "start_time": "2021-06-23T18:06:31.641Z"
      },
      {
        "duration": 70,
        "start_time": "2021-06-23T18:06:34.734Z"
      },
      {
        "duration": 53,
        "start_time": "2021-06-23T18:06:37.477Z"
      },
      {
        "duration": 325,
        "start_time": "2021-06-23T18:07:04.622Z"
      },
      {
        "duration": 405,
        "start_time": "2021-06-23T18:07:16.458Z"
      },
      {
        "duration": 390,
        "start_time": "2021-06-23T18:07:23.774Z"
      },
      {
        "duration": 219,
        "start_time": "2021-06-23T18:07:54.534Z"
      },
      {
        "duration": 192,
        "start_time": "2021-06-23T18:07:58.451Z"
      },
      {
        "duration": 220,
        "start_time": "2021-06-23T18:08:03.122Z"
      },
      {
        "duration": 213,
        "start_time": "2021-06-23T18:08:05.818Z"
      },
      {
        "duration": 211,
        "start_time": "2021-06-23T18:08:14.403Z"
      },
      {
        "duration": 311,
        "start_time": "2021-06-23T18:08:22.461Z"
      },
      {
        "duration": 316,
        "start_time": "2021-06-23T18:08:25.703Z"
      },
      {
        "duration": 202,
        "start_time": "2021-06-23T18:08:35.446Z"
      },
      {
        "duration": 239,
        "start_time": "2021-06-23T18:08:42.038Z"
      },
      {
        "duration": 316,
        "start_time": "2021-06-23T18:10:00.895Z"
      },
      {
        "duration": 413,
        "start_time": "2021-06-23T18:10:03.823Z"
      },
      {
        "duration": 328,
        "start_time": "2021-06-23T18:10:06.151Z"
      },
      {
        "duration": 204,
        "start_time": "2021-06-23T18:10:15.622Z"
      },
      {
        "duration": 334,
        "start_time": "2021-06-23T18:10:28.638Z"
      },
      {
        "duration": 211,
        "start_time": "2021-06-23T18:10:38.466Z"
      },
      {
        "duration": 206,
        "start_time": "2021-06-23T18:10:48.983Z"
      },
      {
        "duration": 317,
        "start_time": "2021-06-23T18:10:55.799Z"
      },
      {
        "duration": 307,
        "start_time": "2021-06-23T18:10:58.775Z"
      },
      {
        "duration": 325,
        "start_time": "2021-06-23T18:11:01.087Z"
      },
      {
        "duration": 316,
        "start_time": "2021-06-23T18:11:35.344Z"
      },
      {
        "duration": 320,
        "start_time": "2021-06-23T18:11:39.985Z"
      },
      {
        "duration": 395,
        "start_time": "2021-06-23T18:11:44.272Z"
      },
      {
        "duration": 333,
        "start_time": "2021-06-23T18:11:50.983Z"
      },
      {
        "duration": 490,
        "start_time": "2021-06-23T18:11:57.208Z"
      },
      {
        "duration": 334,
        "start_time": "2021-06-23T18:12:03.296Z"
      },
      {
        "duration": 315,
        "start_time": "2021-06-23T18:12:10.986Z"
      },
      {
        "duration": 322,
        "start_time": "2021-06-23T18:12:14.716Z"
      },
      {
        "duration": 336,
        "start_time": "2021-06-23T18:12:49.392Z"
      },
      {
        "duration": 456,
        "start_time": "2021-06-23T18:14:26.873Z"
      },
      {
        "duration": 3100,
        "start_time": "2021-06-23T18:14:31.828Z"
      },
      {
        "duration": 547,
        "start_time": "2021-06-23T18:14:39.464Z"
      },
      {
        "duration": 332,
        "start_time": "2021-06-23T18:14:50.080Z"
      },
      {
        "duration": 415,
        "start_time": "2021-06-23T18:15:00.566Z"
      },
      {
        "duration": 545,
        "start_time": "2021-06-23T18:15:20.723Z"
      },
      {
        "duration": 416,
        "start_time": "2021-06-23T18:15:34.672Z"
      },
      {
        "duration": 561,
        "start_time": "2021-06-23T18:17:33.673Z"
      },
      {
        "duration": 405,
        "start_time": "2021-06-23T18:17:39.217Z"
      },
      {
        "duration": 14,
        "start_time": "2021-06-23T18:19:34.825Z"
      },
      {
        "duration": 22,
        "start_time": "2021-06-23T18:19:42.206Z"
      },
      {
        "duration": 20,
        "start_time": "2021-06-23T18:19:47.211Z"
      },
      {
        "duration": 66,
        "start_time": "2021-06-23T18:19:50.658Z"
      },
      {
        "duration": 51,
        "start_time": "2021-06-23T18:19:53.378Z"
      },
      {
        "duration": 415,
        "start_time": "2021-06-23T18:20:44.010Z"
      },
      {
        "duration": 428,
        "start_time": "2021-06-23T18:20:51.554Z"
      },
      {
        "duration": 220,
        "start_time": "2021-06-23T18:20:59.738Z"
      },
      {
        "duration": 49,
        "start_time": "2021-06-23T18:21:16.811Z"
      },
      {
        "duration": 52,
        "start_time": "2021-06-23T18:23:33.452Z"
      },
      {
        "duration": 58,
        "start_time": "2021-06-23T18:23:40.293Z"
      },
      {
        "duration": 5,
        "start_time": "2021-06-23T18:31:59.296Z"
      },
      {
        "duration": 7,
        "start_time": "2021-06-23T18:32:01.376Z"
      },
      {
        "duration": 1392,
        "start_time": "2021-06-23T18:34:28.265Z"
      },
      {
        "duration": 17,
        "start_time": "2021-06-23T18:34:33.217Z"
      },
      {
        "duration": 480,
        "start_time": "2021-06-23T18:34:48.897Z"
      },
      {
        "duration": 173,
        "start_time": "2021-06-23T18:34:53.392Z"
      },
      {
        "duration": 36,
        "start_time": "2021-06-23T18:34:54.736Z"
      },
      {
        "duration": 335,
        "start_time": "2021-06-23T18:35:44.677Z"
      },
      {
        "duration": 1561,
        "start_time": "2021-06-23T18:36:17.791Z"
      },
      {
        "duration": 469,
        "start_time": "2021-06-23T18:36:19.355Z"
      },
      {
        "duration": 17,
        "start_time": "2021-06-23T18:36:19.827Z"
      },
      {
        "duration": 21,
        "start_time": "2021-06-23T18:36:19.847Z"
      },
      {
        "duration": 13,
        "start_time": "2021-06-23T18:36:19.870Z"
      },
      {
        "duration": 70,
        "start_time": "2021-06-23T18:36:19.910Z"
      },
      {
        "duration": 69,
        "start_time": "2021-06-23T18:36:19.982Z"
      },
      {
        "duration": 443,
        "start_time": "2021-06-23T18:36:20.055Z"
      },
      {
        "duration": 339,
        "start_time": "2021-06-23T18:36:20.501Z"
      },
      {
        "duration": 227,
        "start_time": "2021-06-23T18:36:20.842Z"
      },
      {
        "duration": 13,
        "start_time": "2021-06-23T18:36:21.072Z"
      },
      {
        "duration": 33,
        "start_time": "2021-06-23T18:36:21.088Z"
      },
      {
        "duration": 14,
        "start_time": "2021-06-23T18:36:21.124Z"
      },
      {
        "duration": 93,
        "start_time": "2021-06-23T18:36:21.140Z"
      },
      {
        "duration": 49,
        "start_time": "2021-06-23T18:36:21.235Z"
      },
      {
        "duration": 428,
        "start_time": "2021-06-23T18:36:21.287Z"
      },
      {
        "duration": 514,
        "start_time": "2021-06-23T18:36:21.718Z"
      },
      {
        "duration": 303,
        "start_time": "2021-06-23T18:36:22.234Z"
      },
      {
        "duration": 13,
        "start_time": "2021-06-23T18:36:22.540Z"
      },
      {
        "duration": 20,
        "start_time": "2021-06-23T18:36:22.555Z"
      },
      {
        "duration": 37,
        "start_time": "2021-06-23T18:36:22.577Z"
      },
      {
        "duration": 67,
        "start_time": "2021-06-23T18:36:22.616Z"
      },
      {
        "duration": 78,
        "start_time": "2021-06-23T18:36:22.688Z"
      },
      {
        "duration": 430,
        "start_time": "2021-06-23T18:36:22.769Z"
      },
      {
        "duration": 424,
        "start_time": "2021-06-23T18:36:23.209Z"
      },
      {
        "duration": 235,
        "start_time": "2021-06-23T18:36:23.635Z"
      },
      {
        "duration": 3,
        "start_time": "2021-06-23T18:36:23.873Z"
      },
      {
        "duration": 11,
        "start_time": "2021-06-23T18:36:23.879Z"
      },
      {
        "duration": 8,
        "start_time": "2021-06-23T18:36:23.910Z"
      },
      {
        "duration": 496,
        "start_time": "2021-06-23T18:36:23.921Z"
      },
      {
        "duration": -319,
        "start_time": "2021-06-23T18:36:24.739Z"
      },
      {
        "duration": -320,
        "start_time": "2021-06-23T18:36:24.742Z"
      },
      {
        "duration": -320,
        "start_time": "2021-06-23T18:36:24.743Z"
      },
      {
        "duration": -319,
        "start_time": "2021-06-23T18:36:24.745Z"
      },
      {
        "duration": -318,
        "start_time": "2021-06-23T18:36:24.746Z"
      },
      {
        "duration": 346,
        "start_time": "2021-06-23T18:36:30.589Z"
      },
      {
        "duration": 453,
        "start_time": "2021-06-23T18:40:54.142Z"
      },
      {
        "duration": 380,
        "start_time": "2021-06-23T18:41:08.707Z"
      },
      {
        "duration": 495,
        "start_time": "2021-06-23T18:41:10.559Z"
      },
      {
        "duration": 331,
        "start_time": "2021-06-23T18:42:36.315Z"
      },
      {
        "duration": 329,
        "start_time": "2021-06-23T18:42:42.659Z"
      },
      {
        "duration": 17,
        "start_time": "2021-06-23T18:44:11.086Z"
      },
      {
        "duration": 43,
        "start_time": "2021-06-23T18:44:13.230Z"
      },
      {
        "duration": 438,
        "start_time": "2021-06-23T18:44:32.434Z"
      },
      {
        "duration": 15,
        "start_time": "2021-06-23T18:44:44.614Z"
      },
      {
        "duration": 42,
        "start_time": "2021-06-23T18:44:46.588Z"
      },
      {
        "duration": 20,
        "start_time": "2021-06-23T18:45:34.990Z"
      },
      {
        "duration": 38,
        "start_time": "2021-06-23T18:45:36.197Z"
      },
      {
        "duration": 26,
        "start_time": "2021-06-23T18:45:53.138Z"
      },
      {
        "duration": 42,
        "start_time": "2021-06-23T18:45:54.949Z"
      },
      {
        "duration": 31,
        "start_time": "2021-06-23T18:46:14.207Z"
      },
      {
        "duration": 172,
        "start_time": "2021-06-23T18:46:14.956Z"
      },
      {
        "duration": 209,
        "start_time": "2021-06-23T18:46:21.356Z"
      },
      {
        "duration": 171,
        "start_time": "2021-06-23T18:46:23.868Z"
      },
      {
        "duration": 199,
        "start_time": "2021-06-23T18:46:26.147Z"
      },
      {
        "duration": 35,
        "start_time": "2021-06-23T18:46:58.734Z"
      },
      {
        "duration": 178,
        "start_time": "2021-06-23T18:47:00.236Z"
      },
      {
        "duration": 1464,
        "start_time": "2021-06-23T18:48:46.684Z"
      },
      {
        "duration": 18,
        "start_time": "2021-06-23T18:48:53.885Z"
      },
      {
        "duration": 322,
        "start_time": "2021-06-23T18:51:18.306Z"
      },
      {
        "duration": 10,
        "start_time": "2021-06-23T18:51:19.661Z"
      },
      {
        "duration": 305,
        "start_time": "2021-06-23T18:51:55.637Z"
      },
      {
        "duration": 11,
        "start_time": "2021-06-23T18:51:56.613Z"
      },
      {
        "duration": 301,
        "start_time": "2021-06-23T18:52:03.758Z"
      },
      {
        "duration": 10,
        "start_time": "2021-06-23T18:52:04.190Z"
      },
      {
        "duration": 17,
        "start_time": "2021-06-23T18:52:51.845Z"
      },
      {
        "duration": 1499,
        "start_time": "2021-06-23T18:54:18.588Z"
      },
      {
        "duration": 483,
        "start_time": "2021-06-23T18:54:20.090Z"
      },
      {
        "duration": 33,
        "start_time": "2021-06-23T18:54:20.576Z"
      },
      {
        "duration": 15,
        "start_time": "2021-06-23T18:54:20.612Z"
      },
      {
        "duration": 13,
        "start_time": "2021-06-23T18:54:20.631Z"
      },
      {
        "duration": 106,
        "start_time": "2021-06-23T18:54:20.647Z"
      },
      {
        "duration": 62,
        "start_time": "2021-06-23T18:54:20.755Z"
      },
      {
        "duration": 422,
        "start_time": "2021-06-23T18:54:20.821Z"
      },
      {
        "duration": 339,
        "start_time": "2021-06-23T18:54:21.246Z"
      },
      {
        "duration": 240,
        "start_time": "2021-06-23T18:54:21.587Z"
      },
      {
        "duration": 14,
        "start_time": "2021-06-23T18:54:21.829Z"
      },
      {
        "duration": 23,
        "start_time": "2021-06-23T18:54:21.846Z"
      },
      {
        "duration": 44,
        "start_time": "2021-06-23T18:54:21.871Z"
      },
      {
        "duration": 72,
        "start_time": "2021-06-23T18:54:21.917Z"
      },
      {
        "duration": 49,
        "start_time": "2021-06-23T18:54:22.008Z"
      },
      {
        "duration": 435,
        "start_time": "2021-06-23T18:54:22.059Z"
      },
      {
        "duration": 412,
        "start_time": "2021-06-23T18:54:22.496Z"
      },
      {
        "duration": 309,
        "start_time": "2021-06-23T18:54:22.911Z"
      },
      {
        "duration": 13,
        "start_time": "2021-06-23T18:54:23.222Z"
      },
      {
        "duration": 17,
        "start_time": "2021-06-23T18:54:23.237Z"
      },
      {
        "duration": 13,
        "start_time": "2021-06-23T18:54:23.256Z"
      },
      {
        "duration": 112,
        "start_time": "2021-06-23T18:54:23.270Z"
      },
      {
        "duration": 72,
        "start_time": "2021-06-23T18:54:23.386Z"
      },
      {
        "duration": 436,
        "start_time": "2021-06-23T18:54:23.461Z"
      },
      {
        "duration": 440,
        "start_time": "2021-06-23T18:54:23.899Z"
      },
      {
        "duration": 244,
        "start_time": "2021-06-23T18:54:24.342Z"
      },
      {
        "duration": 319,
        "start_time": "2021-06-23T18:54:24.589Z"
      },
      {
        "duration": 509,
        "start_time": "2021-06-23T18:54:24.911Z"
      },
      {
        "duration": -293,
        "start_time": "2021-06-23T18:54:25.715Z"
      },
      {
        "duration": -293,
        "start_time": "2021-06-23T18:54:25.716Z"
      },
      {
        "duration": -307,
        "start_time": "2021-06-23T18:54:25.731Z"
      },
      {
        "duration": -310,
        "start_time": "2021-06-23T18:54:25.736Z"
      },
      {
        "duration": -311,
        "start_time": "2021-06-23T18:54:25.738Z"
      },
      {
        "duration": -310,
        "start_time": "2021-06-23T18:54:25.739Z"
      },
      {
        "duration": -312,
        "start_time": "2021-06-23T18:54:25.742Z"
      },
      {
        "duration": -311,
        "start_time": "2021-06-23T18:54:25.743Z"
      },
      {
        "duration": 11,
        "start_time": "2021-06-23T18:54:40.252Z"
      },
      {
        "duration": 4,
        "start_time": "2021-06-23T18:54:49.669Z"
      },
      {
        "duration": 3,
        "start_time": "2021-06-23T18:55:10.065Z"
      },
      {
        "duration": 17,
        "start_time": "2021-06-23T18:55:16.100Z"
      },
      {
        "duration": 5,
        "start_time": "2021-06-23T18:55:20.058Z"
      },
      {
        "duration": 573,
        "start_time": "2021-06-23T18:55:20.345Z"
      },
      {
        "duration": 15,
        "start_time": "2021-06-23T18:55:20.922Z"
      },
      {
        "duration": 355,
        "start_time": "2021-06-23T18:55:30.066Z"
      },
      {
        "duration": 10,
        "start_time": "2021-06-23T18:55:30.464Z"
      },
      {
        "duration": 304,
        "start_time": "2021-06-23T18:55:42.794Z"
      },
      {
        "duration": 382,
        "start_time": "2021-06-23T18:56:01.689Z"
      },
      {
        "duration": 1298,
        "start_time": "2021-06-23T18:56:10.067Z"
      },
      {
        "duration": 9,
        "start_time": "2021-06-23T18:56:12.433Z"
      },
      {
        "duration": 1482,
        "start_time": "2021-06-23T18:56:21.246Z"
      },
      {
        "duration": 756,
        "start_time": "2021-06-23T18:56:22.732Z"
      },
      {
        "duration": 33,
        "start_time": "2021-06-23T18:56:23.493Z"
      },
      {
        "duration": 22,
        "start_time": "2021-06-23T18:56:23.530Z"
      },
      {
        "duration": 21,
        "start_time": "2021-06-23T18:56:23.555Z"
      },
      {
        "duration": 100,
        "start_time": "2021-06-23T18:56:23.578Z"
      },
      {
        "duration": 72,
        "start_time": "2021-06-23T18:56:23.681Z"
      },
      {
        "duration": 442,
        "start_time": "2021-06-23T18:56:23.756Z"
      },
      {
        "duration": 339,
        "start_time": "2021-06-23T18:56:24.202Z"
      },
      {
        "duration": 229,
        "start_time": "2021-06-23T18:56:24.544Z"
      },
      {
        "duration": 33,
        "start_time": "2021-06-23T18:56:24.776Z"
      },
      {
        "duration": 22,
        "start_time": "2021-06-23T18:56:24.812Z"
      },
      {
        "duration": 20,
        "start_time": "2021-06-23T18:56:24.837Z"
      },
      {
        "duration": 114,
        "start_time": "2021-06-23T18:56:24.861Z"
      },
      {
        "duration": 86,
        "start_time": "2021-06-23T18:56:24.978Z"
      },
      {
        "duration": 735,
        "start_time": "2021-06-23T18:56:25.067Z"
      },
      {
        "duration": 688,
        "start_time": "2021-06-23T18:56:25.805Z"
      },
      {
        "duration": 413,
        "start_time": "2021-06-23T18:56:26.496Z"
      },
      {
        "duration": 20,
        "start_time": "2021-06-23T18:56:26.912Z"
      },
      {
        "duration": 22,
        "start_time": "2021-06-23T18:56:26.935Z"
      },
      {
        "duration": 49,
        "start_time": "2021-06-23T18:56:26.961Z"
      },
      {
        "duration": 105,
        "start_time": "2021-06-23T18:56:27.014Z"
      },
      {
        "duration": 49,
        "start_time": "2021-06-23T18:56:27.121Z"
      },
      {
        "duration": 491,
        "start_time": "2021-06-23T18:56:27.173Z"
      },
      {
        "duration": 447,
        "start_time": "2021-06-23T18:56:27.666Z"
      },
      {
        "duration": 247,
        "start_time": "2021-06-23T18:56:28.116Z"
      },
      {
        "duration": 1393,
        "start_time": "2021-06-23T18:56:28.368Z"
      },
      {
        "duration": 8,
        "start_time": "2021-06-23T18:56:29.764Z"
      },
      {
        "duration": 10,
        "start_time": "2021-06-23T18:56:29.774Z"
      },
      {
        "duration": 25,
        "start_time": "2021-06-23T18:56:29.786Z"
      },
      {
        "duration": 17,
        "start_time": "2021-06-23T18:56:29.814Z"
      },
      {
        "duration": 22,
        "start_time": "2021-06-23T18:56:29.834Z"
      },
      {
        "duration": 71,
        "start_time": "2021-06-23T18:56:29.859Z"
      },
      {
        "duration": 778,
        "start_time": "2021-06-23T18:56:29.933Z"
      },
      {
        "duration": -271,
        "start_time": "2021-06-23T18:56:30.984Z"
      },
      {
        "duration": -270,
        "start_time": "2021-06-23T18:56:30.985Z"
      },
      {
        "duration": -273,
        "start_time": "2021-06-23T18:56:30.989Z"
      },
      {
        "duration": 22,
        "start_time": "2021-06-23T18:57:00.573Z"
      },
      {
        "duration": 42,
        "start_time": "2021-06-23T18:57:01.229Z"
      },
      {
        "duration": 33,
        "start_time": "2021-06-23T18:57:07.169Z"
      },
      {
        "duration": 188,
        "start_time": "2021-06-23T18:57:07.528Z"
      },
      {
        "duration": 36,
        "start_time": "2021-06-23T18:57:10.357Z"
      },
      {
        "duration": 168,
        "start_time": "2021-06-23T18:57:10.650Z"
      },
      {
        "duration": 1576,
        "start_time": "2021-06-23T18:57:22.507Z"
      },
      {
        "duration": 494,
        "start_time": "2021-06-23T18:57:24.086Z"
      },
      {
        "duration": 27,
        "start_time": "2021-06-23T18:57:24.583Z"
      },
      {
        "duration": 14,
        "start_time": "2021-06-23T18:57:24.614Z"
      },
      {
        "duration": 15,
        "start_time": "2021-06-23T18:57:24.631Z"
      },
      {
        "duration": 106,
        "start_time": "2021-06-23T18:57:24.648Z"
      },
      {
        "duration": 61,
        "start_time": "2021-06-23T18:57:24.756Z"
      },
      {
        "duration": 432,
        "start_time": "2021-06-23T18:57:24.819Z"
      },
      {
        "duration": 336,
        "start_time": "2021-06-23T18:57:25.255Z"
      },
      {
        "duration": 223,
        "start_time": "2021-06-23T18:57:25.594Z"
      },
      {
        "duration": 13,
        "start_time": "2021-06-23T18:57:25.820Z"
      },
      {
        "duration": 17,
        "start_time": "2021-06-23T18:57:25.835Z"
      },
      {
        "duration": 14,
        "start_time": "2021-06-23T18:57:25.854Z"
      },
      {
        "duration": 102,
        "start_time": "2021-06-23T18:57:25.870Z"
      },
      {
        "duration": 67,
        "start_time": "2021-06-23T18:57:25.975Z"
      },
      {
        "duration": 431,
        "start_time": "2021-06-23T18:57:26.044Z"
      },
      {
        "duration": 408,
        "start_time": "2021-06-23T18:57:26.477Z"
      },
      {
        "duration": 303,
        "start_time": "2021-06-23T18:57:26.887Z"
      },
      {
        "duration": 23,
        "start_time": "2021-06-23T18:57:27.192Z"
      },
      {
        "duration": 16,
        "start_time": "2021-06-23T18:57:27.218Z"
      },
      {
        "duration": 13,
        "start_time": "2021-06-23T18:57:27.236Z"
      },
      {
        "duration": 114,
        "start_time": "2021-06-23T18:57:27.251Z"
      },
      {
        "duration": 65,
        "start_time": "2021-06-23T18:57:27.368Z"
      },
      {
        "duration": 439,
        "start_time": "2021-06-23T18:57:27.435Z"
      },
      {
        "duration": 436,
        "start_time": "2021-06-23T18:57:27.877Z"
      },
      {
        "duration": 251,
        "start_time": "2021-06-23T18:57:28.316Z"
      },
      {
        "duration": 1302,
        "start_time": "2021-06-23T18:57:28.571Z"
      },
      {
        "duration": 9,
        "start_time": "2021-06-23T18:57:29.875Z"
      },
      {
        "duration": 21,
        "start_time": "2021-06-23T18:57:29.887Z"
      },
      {
        "duration": 15,
        "start_time": "2021-06-23T18:57:29.911Z"
      },
      {
        "duration": 18,
        "start_time": "2021-06-23T18:57:29.929Z"
      },
      {
        "duration": 23,
        "start_time": "2021-06-23T18:57:29.949Z"
      },
      {
        "duration": 58,
        "start_time": "2021-06-23T18:57:29.975Z"
      },
      {
        "duration": 495,
        "start_time": "2021-06-23T18:57:30.035Z"
      },
      {
        "duration": -280,
        "start_time": "2021-06-23T18:57:30.813Z"
      },
      {
        "duration": -280,
        "start_time": "2021-06-23T18:57:30.814Z"
      },
      {
        "duration": -295,
        "start_time": "2021-06-23T18:57:30.831Z"
      },
      {
        "duration": 331,
        "start_time": "2021-06-23T18:58:02.023Z"
      },
      {
        "duration": 20,
        "start_time": "2021-06-23T18:58:07.850Z"
      },
      {
        "duration": 45,
        "start_time": "2021-06-23T18:58:08.214Z"
      },
      {
        "duration": 1506,
        "start_time": "2021-06-23T18:58:22.582Z"
      },
      {
        "duration": 484,
        "start_time": "2021-06-23T18:58:24.090Z"
      },
      {
        "duration": 31,
        "start_time": "2021-06-23T18:58:24.580Z"
      },
      {
        "duration": 14,
        "start_time": "2021-06-23T18:58:24.613Z"
      },
      {
        "duration": 13,
        "start_time": "2021-06-23T18:58:24.629Z"
      },
      {
        "duration": 109,
        "start_time": "2021-06-23T18:58:24.645Z"
      },
      {
        "duration": 64,
        "start_time": "2021-06-23T18:58:24.759Z"
      },
      {
        "duration": 426,
        "start_time": "2021-06-23T18:58:24.826Z"
      },
      {
        "duration": 330,
        "start_time": "2021-06-23T18:58:25.254Z"
      },
      {
        "duration": 225,
        "start_time": "2021-06-23T18:58:25.586Z"
      },
      {
        "duration": 13,
        "start_time": "2021-06-23T18:58:25.814Z"
      },
      {
        "duration": 22,
        "start_time": "2021-06-23T18:58:25.830Z"
      },
      {
        "duration": 13,
        "start_time": "2021-06-23T18:58:25.854Z"
      },
      {
        "duration": 103,
        "start_time": "2021-06-23T18:58:25.870Z"
      },
      {
        "duration": 61,
        "start_time": "2021-06-23T18:58:25.975Z"
      },
      {
        "duration": 428,
        "start_time": "2021-06-23T18:58:26.039Z"
      },
      {
        "duration": 410,
        "start_time": "2021-06-23T18:58:26.470Z"
      },
      {
        "duration": 310,
        "start_time": "2021-06-23T18:58:26.882Z"
      },
      {
        "duration": 22,
        "start_time": "2021-06-23T18:58:27.194Z"
      },
      {
        "duration": 19,
        "start_time": "2021-06-23T18:58:27.219Z"
      },
      {
        "duration": 14,
        "start_time": "2021-06-23T18:58:27.241Z"
      },
      {
        "duration": 120,
        "start_time": "2021-06-23T18:58:27.260Z"
      },
      {
        "duration": 65,
        "start_time": "2021-06-23T18:58:27.384Z"
      },
      {
        "duration": 428,
        "start_time": "2021-06-23T18:58:27.451Z"
      },
      {
        "duration": 433,
        "start_time": "2021-06-23T18:58:27.881Z"
      },
      {
        "duration": 246,
        "start_time": "2021-06-23T18:58:28.316Z"
      },
      {
        "duration": 1304,
        "start_time": "2021-06-23T18:58:28.565Z"
      },
      {
        "duration": 11,
        "start_time": "2021-06-23T18:58:29.871Z"
      },
      {
        "duration": 5,
        "start_time": "2021-06-23T18:58:29.885Z"
      },
      {
        "duration": 9,
        "start_time": "2021-06-23T18:58:29.910Z"
      },
      {
        "duration": 16,
        "start_time": "2021-06-23T18:58:29.921Z"
      },
      {
        "duration": 22,
        "start_time": "2021-06-23T18:58:29.940Z"
      },
      {
        "duration": 71,
        "start_time": "2021-06-23T18:58:29.965Z"
      },
      {
        "duration": 508,
        "start_time": "2021-06-23T18:58:30.038Z"
      },
      {
        "duration": -286,
        "start_time": "2021-06-23T18:58:30.834Z"
      },
      {
        "duration": -287,
        "start_time": "2021-06-23T18:58:30.836Z"
      },
      {
        "duration": -286,
        "start_time": "2021-06-23T18:58:30.837Z"
      },
      {
        "duration": 50,
        "start_time": "2021-06-23T18:58:55.824Z"
      },
      {
        "duration": 34,
        "start_time": "2021-06-23T18:59:02.203Z"
      },
      {
        "duration": 17,
        "start_time": "2021-06-23T18:59:13.191Z"
      },
      {
        "duration": 13,
        "start_time": "2021-06-23T19:01:37.754Z"
      },
      {
        "duration": 32,
        "start_time": "2021-06-23T19:01:45.556Z"
      },
      {
        "duration": 396,
        "start_time": "2021-06-23T19:01:52.380Z"
      },
      {
        "duration": 13,
        "start_time": "2021-06-23T19:01:58.429Z"
      },
      {
        "duration": 377,
        "start_time": "2021-06-23T19:02:15.364Z"
      },
      {
        "duration": 6,
        "start_time": "2021-06-23T19:02:45.045Z"
      },
      {
        "duration": 10,
        "start_time": "2021-06-23T19:02:46.061Z"
      },
      {
        "duration": 357,
        "start_time": "2021-06-23T19:02:51.978Z"
      },
      {
        "duration": 10,
        "start_time": "2021-06-23T19:02:52.530Z"
      },
      {
        "duration": 330,
        "start_time": "2021-06-23T19:03:04.478Z"
      },
      {
        "duration": 1428,
        "start_time": "2021-06-23T19:03:12.252Z"
      },
      {
        "duration": 478,
        "start_time": "2021-06-23T19:03:13.683Z"
      },
      {
        "duration": 18,
        "start_time": "2021-06-23T19:03:14.165Z"
      },
      {
        "duration": 31,
        "start_time": "2021-06-23T19:03:14.186Z"
      },
      {
        "duration": 13,
        "start_time": "2021-06-23T19:03:14.220Z"
      },
      {
        "duration": 91,
        "start_time": "2021-06-23T19:03:14.235Z"
      },
      {
        "duration": 51,
        "start_time": "2021-06-23T19:03:14.329Z"
      },
      {
        "duration": 434,
        "start_time": "2021-06-23T19:03:14.382Z"
      },
      {
        "duration": 367,
        "start_time": "2021-06-23T19:03:14.819Z"
      },
      {
        "duration": 238,
        "start_time": "2021-06-23T19:03:15.190Z"
      },
      {
        "duration": 17,
        "start_time": "2021-06-23T19:03:15.431Z"
      },
      {
        "duration": 20,
        "start_time": "2021-06-23T19:03:15.450Z"
      },
      {
        "duration": 42,
        "start_time": "2021-06-23T19:03:15.473Z"
      },
      {
        "duration": 69,
        "start_time": "2021-06-23T19:03:15.517Z"
      },
      {
        "duration": 64,
        "start_time": "2021-06-23T19:03:15.588Z"
      },
      {
        "duration": 456,
        "start_time": "2021-06-23T19:03:15.655Z"
      },
      {
        "duration": 418,
        "start_time": "2021-06-23T19:03:16.114Z"
      },
      {
        "duration": 319,
        "start_time": "2021-06-23T19:03:16.535Z"
      },
      {
        "duration": 15,
        "start_time": "2021-06-23T19:03:16.857Z"
      },
      {
        "duration": 37,
        "start_time": "2021-06-23T19:03:16.874Z"
      },
      {
        "duration": 13,
        "start_time": "2021-06-23T19:03:16.913Z"
      },
      {
        "duration": 90,
        "start_time": "2021-06-23T19:03:16.929Z"
      },
      {
        "duration": 49,
        "start_time": "2021-06-23T19:03:17.022Z"
      },
      {
        "duration": 479,
        "start_time": "2021-06-23T19:03:17.073Z"
      },
      {
        "duration": 433,
        "start_time": "2021-06-23T19:03:17.554Z"
      },
      {
        "duration": 238,
        "start_time": "2021-06-23T19:03:17.989Z"
      },
      {
        "duration": 14,
        "start_time": "2021-06-23T19:03:18.233Z"
      },
      {
        "duration": 24,
        "start_time": "2021-06-23T19:03:18.250Z"
      },
      {
        "duration": 61,
        "start_time": "2021-06-23T19:03:18.276Z"
      },
      {
        "duration": 30,
        "start_time": "2021-06-23T19:03:18.339Z"
      },
      {
        "duration": 37,
        "start_time": "2021-06-23T19:03:18.371Z"
      },
      {
        "duration": 49,
        "start_time": "2021-06-23T19:03:18.411Z"
      },
      {
        "duration": 79,
        "start_time": "2021-06-23T19:03:18.462Z"
      },
      {
        "duration": 48,
        "start_time": "2021-06-23T19:03:18.543Z"
      },
      {
        "duration": 6,
        "start_time": "2021-06-23T19:06:13.899Z"
      },
      {
        "duration": 14,
        "start_time": "2021-06-23T19:06:17.484Z"
      },
      {
        "duration": 475,
        "start_time": "2021-06-23T19:07:08.691Z"
      },
      {
        "duration": 1480,
        "start_time": "2021-06-23T19:07:27.841Z"
      },
      {
        "duration": 475,
        "start_time": "2021-06-23T19:07:29.324Z"
      },
      {
        "duration": 19,
        "start_time": "2021-06-23T19:07:29.802Z"
      },
      {
        "duration": 19,
        "start_time": "2021-06-23T19:07:29.824Z"
      },
      {
        "duration": 13,
        "start_time": "2021-06-23T19:07:29.845Z"
      },
      {
        "duration": 102,
        "start_time": "2021-06-23T19:07:29.861Z"
      },
      {
        "duration": 75,
        "start_time": "2021-06-23T19:07:29.966Z"
      },
      {
        "duration": 451,
        "start_time": "2021-06-23T19:07:30.043Z"
      },
      {
        "duration": 332,
        "start_time": "2021-06-23T19:07:30.510Z"
      },
      {
        "duration": 263,
        "start_time": "2021-06-23T19:07:30.845Z"
      },
      {
        "duration": 21,
        "start_time": "2021-06-23T19:07:31.112Z"
      },
      {
        "duration": 29,
        "start_time": "2021-06-23T19:07:31.137Z"
      },
      {
        "duration": 41,
        "start_time": "2021-06-23T19:07:31.170Z"
      },
      {
        "duration": 72,
        "start_time": "2021-06-23T19:07:31.214Z"
      },
      {
        "duration": 75,
        "start_time": "2021-06-23T19:07:31.288Z"
      },
      {
        "duration": 459,
        "start_time": "2021-06-23T19:07:31.366Z"
      },
      {
        "duration": 440,
        "start_time": "2021-06-23T19:07:31.828Z"
      },
      {
        "duration": 445,
        "start_time": "2021-06-23T19:07:32.271Z"
      },
      {
        "duration": 13,
        "start_time": "2021-06-23T19:07:32.719Z"
      },
      {
        "duration": 19,
        "start_time": "2021-06-23T19:07:32.735Z"
      },
      {
        "duration": 13,
        "start_time": "2021-06-23T19:07:32.757Z"
      },
      {
        "duration": 100,
        "start_time": "2021-06-23T19:07:32.772Z"
      },
      {
        "duration": 72,
        "start_time": "2021-06-23T19:07:32.874Z"
      },
      {
        "duration": 435,
        "start_time": "2021-06-23T19:07:32.948Z"
      },
      {
        "duration": 692,
        "start_time": "2021-06-23T19:07:33.386Z"
      },
      {
        "duration": 357,
        "start_time": "2021-06-23T19:07:34.081Z"
      },
      {
        "duration": 15,
        "start_time": "2021-06-23T19:07:34.444Z"
      },
      {
        "duration": 50,
        "start_time": "2021-06-23T19:07:34.463Z"
      },
      {
        "duration": 34,
        "start_time": "2021-06-23T19:07:34.516Z"
      },
      {
        "duration": 7,
        "start_time": "2021-06-23T19:07:34.553Z"
      },
      {
        "duration": 20,
        "start_time": "2021-06-23T19:07:34.610Z"
      },
      {
        "duration": 4336,
        "start_time": "2021-06-23T19:09:32.613Z"
      },
      {
        "duration": 4144,
        "start_time": "2021-06-23T19:15:46.603Z"
      },
      {
        "duration": 23,
        "start_time": "2021-06-23T19:17:24.302Z"
      },
      {
        "duration": 505,
        "start_time": "2021-06-23T19:19:13.342Z"
      },
      {
        "duration": 515,
        "start_time": "2021-06-23T19:19:52.686Z"
      },
      {
        "duration": 948,
        "start_time": "2021-06-23T19:20:39.575Z"
      },
      {
        "duration": 599,
        "start_time": "2021-06-23T19:22:33.273Z"
      },
      {
        "duration": 285,
        "start_time": "2021-06-23T19:25:01.969Z"
      },
      {
        "duration": 510,
        "start_time": "2021-06-23T19:25:05.928Z"
      },
      {
        "duration": 817,
        "start_time": "2021-06-23T19:25:34.981Z"
      },
      {
        "duration": 506,
        "start_time": "2021-06-23T19:25:41.939Z"
      },
      {
        "duration": 503,
        "start_time": "2021-06-23T19:27:47.857Z"
      },
      {
        "duration": 511,
        "start_time": "2021-06-23T19:27:59.845Z"
      },
      {
        "duration": 515,
        "start_time": "2021-06-23T19:28:04.921Z"
      },
      {
        "duration": 525,
        "start_time": "2021-06-23T19:32:54.843Z"
      },
      {
        "duration": 533,
        "start_time": "2021-06-23T19:33:32.075Z"
      },
      {
        "duration": 534,
        "start_time": "2021-06-23T19:33:46.914Z"
      },
      {
        "duration": 108,
        "start_time": "2021-06-23T19:34:40.804Z"
      },
      {
        "duration": 919,
        "start_time": "2021-06-23T19:34:45.795Z"
      },
      {
        "duration": 817,
        "start_time": "2021-06-23T19:34:52.395Z"
      },
      {
        "duration": 862,
        "start_time": "2021-06-23T19:35:01.883Z"
      },
      {
        "duration": 832,
        "start_time": "2021-06-23T19:36:19.540Z"
      },
      {
        "duration": 829,
        "start_time": "2021-06-23T19:36:27.847Z"
      },
      {
        "duration": 788,
        "start_time": "2021-06-23T19:38:34.461Z"
      },
      {
        "duration": 824,
        "start_time": "2021-06-23T19:41:00.549Z"
      },
      {
        "duration": 938,
        "start_time": "2021-06-23T19:42:43.949Z"
      },
      {
        "duration": 897,
        "start_time": "2021-06-23T19:43:04.685Z"
      },
      {
        "duration": 881,
        "start_time": "2021-06-23T19:43:12.678Z"
      },
      {
        "duration": 891,
        "start_time": "2021-06-23T19:43:48.055Z"
      },
      {
        "duration": 880,
        "start_time": "2021-06-23T19:43:54.533Z"
      },
      {
        "duration": 523,
        "start_time": "2021-06-23T19:44:01.918Z"
      },
      {
        "duration": 641,
        "start_time": "2021-06-23T19:45:24.478Z"
      },
      {
        "duration": 527,
        "start_time": "2021-06-23T19:45:43.150Z"
      },
      {
        "duration": 608,
        "start_time": "2021-06-23T19:45:46.575Z"
      },
      {
        "duration": 521,
        "start_time": "2021-06-23T19:46:16.795Z"
      },
      {
        "duration": 869,
        "start_time": "2021-06-23T19:47:14.664Z"
      },
      {
        "duration": 527,
        "start_time": "2021-06-23T19:48:24.488Z"
      },
      {
        "duration": 1457,
        "start_time": "2021-06-25T16:32:53.747Z"
      },
      {
        "duration": 447,
        "start_time": "2021-06-25T16:32:55.207Z"
      },
      {
        "duration": 19,
        "start_time": "2021-06-25T16:32:55.657Z"
      },
      {
        "duration": 32,
        "start_time": "2021-06-25T16:32:55.678Z"
      },
      {
        "duration": 12,
        "start_time": "2021-06-25T16:32:55.713Z"
      },
      {
        "duration": 93,
        "start_time": "2021-06-25T16:32:55.728Z"
      },
      {
        "duration": 50,
        "start_time": "2021-06-25T16:32:55.823Z"
      },
      {
        "duration": 415,
        "start_time": "2021-06-25T16:32:55.876Z"
      },
      {
        "duration": 326,
        "start_time": "2021-06-25T16:32:56.303Z"
      },
      {
        "duration": 221,
        "start_time": "2021-06-25T16:32:56.632Z"
      },
      {
        "duration": 12,
        "start_time": "2021-06-25T16:32:56.855Z"
      },
      {
        "duration": 32,
        "start_time": "2021-06-25T16:32:56.870Z"
      },
      {
        "duration": 12,
        "start_time": "2021-06-25T16:32:56.905Z"
      },
      {
        "duration": 80,
        "start_time": "2021-06-25T16:32:56.920Z"
      },
      {
        "duration": 48,
        "start_time": "2021-06-25T16:32:57.003Z"
      },
      {
        "duration": 449,
        "start_time": "2021-06-25T16:32:57.053Z"
      },
      {
        "duration": 459,
        "start_time": "2021-06-25T16:32:57.505Z"
      },
      {
        "duration": 212,
        "start_time": "2021-06-25T16:32:57.966Z"
      },
      {
        "duration": 23,
        "start_time": "2021-06-25T16:32:58.180Z"
      },
      {
        "duration": 19,
        "start_time": "2021-06-25T16:32:58.205Z"
      },
      {
        "duration": 13,
        "start_time": "2021-06-25T16:32:58.227Z"
      },
      {
        "duration": 96,
        "start_time": "2021-06-25T16:32:58.242Z"
      },
      {
        "duration": 45,
        "start_time": "2021-06-25T16:32:58.340Z"
      },
      {
        "duration": 391,
        "start_time": "2021-06-25T16:32:58.401Z"
      },
      {
        "duration": 428,
        "start_time": "2021-06-25T16:32:58.800Z"
      },
      {
        "duration": 223,
        "start_time": "2021-06-25T16:32:59.230Z"
      },
      {
        "duration": 13,
        "start_time": "2021-06-25T16:32:59.457Z"
      },
      {
        "duration": 38,
        "start_time": "2021-06-25T16:32:59.473Z"
      },
      {
        "duration": 28,
        "start_time": "2021-06-25T16:32:59.513Z"
      },
      {
        "duration": 4,
        "start_time": "2021-06-25T16:32:59.544Z"
      },
      {
        "duration": 533,
        "start_time": "2021-06-25T16:32:59.550Z"
      },
      {
        "duration": 17,
        "start_time": "2021-06-25T16:34:09.494Z"
      },
      {
        "duration": 6,
        "start_time": "2021-06-25T16:35:38.875Z"
      },
      {
        "duration": 17,
        "start_time": "2021-06-25T16:36:23.308Z"
      },
      {
        "duration": 6,
        "start_time": "2021-06-25T16:38:12.178Z"
      },
      {
        "duration": 18,
        "start_time": "2021-06-25T16:38:12.691Z"
      },
      {
        "duration": 394,
        "start_time": "2021-06-25T16:38:14.238Z"
      },
      {
        "duration": 18,
        "start_time": "2021-06-25T16:38:26.544Z"
      },
      {
        "duration": 15,
        "start_time": "2021-06-25T16:38:57.181Z"
      },
      {
        "duration": 5,
        "start_time": "2021-06-25T16:38:58.443Z"
      },
      {
        "duration": 16,
        "start_time": "2021-06-25T16:38:58.746Z"
      },
      {
        "duration": 13,
        "start_time": "2021-06-25T16:38:59.003Z"
      },
      {
        "duration": 6,
        "start_time": "2021-06-25T16:39:21.979Z"
      },
      {
        "duration": 4,
        "start_time": "2021-06-25T16:39:40.132Z"
      },
      {
        "duration": 11,
        "start_time": "2021-06-25T16:39:44.859Z"
      },
      {
        "duration": 10,
        "start_time": "2021-06-25T16:40:40.811Z"
      },
      {
        "duration": 1637,
        "start_time": "2021-06-25T16:40:57.007Z"
      },
      {
        "duration": 459,
        "start_time": "2021-06-25T16:40:58.647Z"
      },
      {
        "duration": 20,
        "start_time": "2021-06-25T16:40:59.109Z"
      },
      {
        "duration": 13,
        "start_time": "2021-06-25T16:40:59.132Z"
      },
      {
        "duration": 12,
        "start_time": "2021-06-25T16:40:59.148Z"
      },
      {
        "duration": 100,
        "start_time": "2021-06-25T16:40:59.163Z"
      },
      {
        "duration": 71,
        "start_time": "2021-06-25T16:40:59.266Z"
      },
      {
        "duration": 433,
        "start_time": "2021-06-25T16:40:59.341Z"
      },
      {
        "duration": 339,
        "start_time": "2021-06-25T16:40:59.777Z"
      },
      {
        "duration": 234,
        "start_time": "2021-06-25T16:41:00.119Z"
      },
      {
        "duration": 14,
        "start_time": "2021-06-25T16:41:00.356Z"
      },
      {
        "duration": 36,
        "start_time": "2021-06-25T16:41:00.372Z"
      },
      {
        "duration": 18,
        "start_time": "2021-06-25T16:41:00.410Z"
      },
      {
        "duration": 83,
        "start_time": "2021-06-25T16:41:00.430Z"
      },
      {
        "duration": 48,
        "start_time": "2021-06-25T16:41:00.516Z"
      },
      {
        "duration": 539,
        "start_time": "2021-06-25T16:41:00.566Z"
      },
      {
        "duration": 537,
        "start_time": "2021-06-25T16:41:01.108Z"
      },
      {
        "duration": 217,
        "start_time": "2021-06-25T16:41:01.647Z"
      },
      {
        "duration": 14,
        "start_time": "2021-06-25T16:41:01.866Z"
      },
      {
        "duration": 16,
        "start_time": "2021-06-25T16:41:01.900Z"
      },
      {
        "duration": 16,
        "start_time": "2021-06-25T16:41:01.919Z"
      },
      {
        "duration": 103,
        "start_time": "2021-06-25T16:41:01.938Z"
      },
      {
        "duration": 66,
        "start_time": "2021-06-25T16:41:02.044Z"
      },
      {
        "duration": 410,
        "start_time": "2021-06-25T16:41:02.113Z"
      },
      {
        "duration": 418,
        "start_time": "2021-06-25T16:41:02.526Z"
      },
      {
        "duration": 241,
        "start_time": "2021-06-25T16:41:02.950Z"
      },
      {
        "duration": 14,
        "start_time": "2021-06-25T16:41:03.202Z"
      },
      {
        "duration": 24,
        "start_time": "2021-06-25T16:41:03.219Z"
      },
      {
        "duration": 64,
        "start_time": "2021-06-25T16:41:03.246Z"
      },
      {
        "duration": 5,
        "start_time": "2021-06-25T16:41:03.313Z"
      },
      {
        "duration": 535,
        "start_time": "2021-06-25T16:41:03.320Z"
      },
      {
        "duration": 17,
        "start_time": "2021-06-25T16:41:03.858Z"
      },
      {
        "duration": 23,
        "start_time": "2021-06-25T16:41:03.878Z"
      },
      {
        "duration": 26,
        "start_time": "2021-06-25T16:41:03.904Z"
      },
      {
        "duration": 70,
        "start_time": "2021-06-25T16:41:03.933Z"
      },
      {
        "duration": 97,
        "start_time": "2021-06-25T16:41:04.007Z"
      },
      {
        "duration": 5,
        "start_time": "2021-06-25T16:41:04.106Z"
      },
      {
        "duration": 11,
        "start_time": "2021-06-25T16:41:04.113Z"
      },
      {
        "duration": 3,
        "start_time": "2021-06-25T16:41:23.923Z"
      },
      {
        "duration": 5,
        "start_time": "2021-06-25T16:45:10.157Z"
      },
      {
        "duration": 6,
        "start_time": "2021-06-25T16:48:04.526Z"
      },
      {
        "duration": 390,
        "start_time": "2021-06-25T16:48:20.751Z"
      },
      {
        "duration": 6,
        "start_time": "2021-06-25T16:48:33.717Z"
      },
      {
        "duration": 4,
        "start_time": "2021-06-25T16:48:34.183Z"
      },
      {
        "duration": 5,
        "start_time": "2021-06-25T16:49:12.246Z"
      },
      {
        "duration": 1530,
        "start_time": "2021-06-25T16:51:00.881Z"
      },
      {
        "duration": 463,
        "start_time": "2021-06-25T16:51:02.414Z"
      },
      {
        "duration": 28,
        "start_time": "2021-06-25T16:51:02.879Z"
      },
      {
        "duration": 15,
        "start_time": "2021-06-25T16:51:02.910Z"
      },
      {
        "duration": 20,
        "start_time": "2021-06-25T16:51:02.928Z"
      },
      {
        "duration": 97,
        "start_time": "2021-06-25T16:51:02.951Z"
      },
      {
        "duration": 68,
        "start_time": "2021-06-25T16:51:03.051Z"
      },
      {
        "duration": 416,
        "start_time": "2021-06-25T16:51:03.122Z"
      },
      {
        "duration": 424,
        "start_time": "2021-06-25T16:51:03.542Z"
      },
      {
        "duration": 219,
        "start_time": "2021-06-25T16:51:03.970Z"
      },
      {
        "duration": 18,
        "start_time": "2021-06-25T16:51:04.191Z"
      },
      {
        "duration": 18,
        "start_time": "2021-06-25T16:51:04.211Z"
      },
      {
        "duration": 13,
        "start_time": "2021-06-25T16:51:04.231Z"
      },
      {
        "duration": 98,
        "start_time": "2021-06-25T16:51:04.246Z"
      },
      {
        "duration": 60,
        "start_time": "2021-06-25T16:51:04.347Z"
      },
      {
        "duration": 421,
        "start_time": "2021-06-25T16:51:04.409Z"
      },
      {
        "duration": 481,
        "start_time": "2021-06-25T16:51:04.832Z"
      },
      {
        "duration": 225,
        "start_time": "2021-06-25T16:51:05.315Z"
      },
      {
        "duration": 14,
        "start_time": "2021-06-25T16:51:05.543Z"
      },
      {
        "duration": 22,
        "start_time": "2021-06-25T16:51:05.559Z"
      },
      {
        "duration": 25,
        "start_time": "2021-06-25T16:51:05.584Z"
      },
      {
        "duration": 88,
        "start_time": "2021-06-25T16:51:05.612Z"
      },
      {
        "duration": 46,
        "start_time": "2021-06-25T16:51:05.703Z"
      },
      {
        "duration": 407,
        "start_time": "2021-06-25T16:51:05.752Z"
      },
      {
        "duration": 418,
        "start_time": "2021-06-25T16:51:06.161Z"
      },
      {
        "duration": 231,
        "start_time": "2021-06-25T16:51:06.581Z"
      },
      {
        "duration": 12,
        "start_time": "2021-06-25T16:51:06.818Z"
      },
      {
        "duration": 21,
        "start_time": "2021-06-25T16:51:06.833Z"
      },
      {
        "duration": 55,
        "start_time": "2021-06-25T16:51:06.857Z"
      },
      {
        "duration": 5,
        "start_time": "2021-06-25T16:51:06.915Z"
      },
      {
        "duration": 538,
        "start_time": "2021-06-25T16:51:06.922Z"
      },
      {
        "duration": 6,
        "start_time": "2021-06-25T16:51:07.462Z"
      },
      {
        "duration": 37,
        "start_time": "2021-06-25T16:51:07.471Z"
      },
      {
        "duration": 15,
        "start_time": "2021-06-25T16:51:07.510Z"
      },
      {
        "duration": 8,
        "start_time": "2021-06-25T16:51:07.600Z"
      },
      {
        "duration": 92,
        "start_time": "2021-06-25T16:51:07.611Z"
      },
      {
        "duration": 6,
        "start_time": "2021-06-25T16:51:07.706Z"
      },
      {
        "duration": 10,
        "start_time": "2021-06-25T16:51:07.714Z"
      },
      {
        "duration": 9,
        "start_time": "2021-06-25T16:51:07.727Z"
      },
      {
        "duration": 20,
        "start_time": "2021-06-25T16:51:07.738Z"
      },
      {
        "duration": 55,
        "start_time": "2021-06-25T16:51:07.760Z"
      },
      {
        "duration": 87,
        "start_time": "2021-06-25T16:51:07.818Z"
      },
      {
        "duration": 95,
        "start_time": "2021-06-25T16:51:07.908Z"
      },
      {
        "duration": 9,
        "start_time": "2021-06-25T16:51:08.006Z"
      },
      {
        "duration": 11,
        "start_time": "2021-06-25T16:51:08.018Z"
      },
      {
        "duration": 7,
        "start_time": "2021-06-25T16:51:08.032Z"
      },
      {
        "duration": 9,
        "start_time": "2021-06-25T16:51:08.041Z"
      },
      {
        "duration": 5,
        "start_time": "2021-06-25T16:53:05.572Z"
      },
      {
        "duration": 1654,
        "start_time": "2021-06-25T16:54:15.770Z"
      },
      {
        "duration": 475,
        "start_time": "2021-06-25T16:54:17.427Z"
      },
      {
        "duration": 19,
        "start_time": "2021-06-25T16:54:17.908Z"
      },
      {
        "duration": 23,
        "start_time": "2021-06-25T16:54:17.929Z"
      },
      {
        "duration": 13,
        "start_time": "2021-06-25T16:54:17.954Z"
      },
      {
        "duration": 76,
        "start_time": "2021-06-25T16:54:18.001Z"
      },
      {
        "duration": 67,
        "start_time": "2021-06-25T16:54:18.081Z"
      },
      {
        "duration": 449,
        "start_time": "2021-06-25T16:54:18.151Z"
      },
      {
        "duration": 337,
        "start_time": "2021-06-25T16:54:18.603Z"
      },
      {
        "duration": 219,
        "start_time": "2021-06-25T16:54:18.943Z"
      },
      {
        "duration": 14,
        "start_time": "2021-06-25T16:54:19.164Z"
      },
      {
        "duration": 28,
        "start_time": "2021-06-25T16:54:19.180Z"
      },
      {
        "duration": 13,
        "start_time": "2021-06-25T16:54:19.211Z"
      },
      {
        "duration": 92,
        "start_time": "2021-06-25T16:54:19.226Z"
      },
      {
        "duration": 48,
        "start_time": "2021-06-25T16:54:19.321Z"
      },
      {
        "duration": 434,
        "start_time": "2021-06-25T16:54:19.371Z"
      },
      {
        "duration": 478,
        "start_time": "2021-06-25T16:54:19.808Z"
      },
      {
        "duration": 222,
        "start_time": "2021-06-25T16:54:20.288Z"
      },
      {
        "duration": 13,
        "start_time": "2021-06-25T16:54:20.513Z"
      },
      {
        "duration": 15,
        "start_time": "2021-06-25T16:54:20.529Z"
      },
      {
        "duration": 13,
        "start_time": "2021-06-25T16:54:20.546Z"
      },
      {
        "duration": 101,
        "start_time": "2021-06-25T16:54:20.564Z"
      },
      {
        "duration": 70,
        "start_time": "2021-06-25T16:54:20.668Z"
      },
      {
        "duration": 414,
        "start_time": "2021-06-25T16:54:20.740Z"
      },
      {
        "duration": 421,
        "start_time": "2021-06-25T16:54:21.157Z"
      },
      {
        "duration": 242,
        "start_time": "2021-06-25T16:54:21.581Z"
      },
      {
        "duration": 13,
        "start_time": "2021-06-25T16:54:21.825Z"
      },
      {
        "duration": 21,
        "start_time": "2021-06-25T16:54:21.840Z"
      },
      {
        "duration": 54,
        "start_time": "2021-06-25T16:54:21.863Z"
      },
      {
        "duration": 5,
        "start_time": "2021-06-25T16:54:21.919Z"
      },
      {
        "duration": 654,
        "start_time": "2021-06-25T16:54:21.926Z"
      },
      {
        "duration": 7,
        "start_time": "2021-06-25T16:54:22.583Z"
      },
      {
        "duration": 17,
        "start_time": "2021-06-25T16:54:22.601Z"
      },
      {
        "duration": 80,
        "start_time": "2021-06-25T16:54:22.621Z"
      },
      {
        "duration": 96,
        "start_time": "2021-06-25T16:54:22.704Z"
      },
      {
        "duration": 6,
        "start_time": "2021-06-25T16:54:22.803Z"
      },
      {
        "duration": 8,
        "start_time": "2021-06-25T16:54:22.812Z"
      },
      {
        "duration": 10,
        "start_time": "2021-06-25T16:54:22.822Z"
      },
      {
        "duration": 12,
        "start_time": "2021-06-25T16:54:22.834Z"
      },
      {
        "duration": 33,
        "start_time": "2021-06-25T16:54:22.848Z"
      },
      {
        "duration": 29,
        "start_time": "2021-06-25T16:54:22.883Z"
      },
      {
        "duration": 89,
        "start_time": "2021-06-25T16:54:22.916Z"
      },
      {
        "duration": 94,
        "start_time": "2021-06-25T16:54:23.009Z"
      },
      {
        "duration": 9,
        "start_time": "2021-06-25T16:54:23.106Z"
      },
      {
        "duration": 11,
        "start_time": "2021-06-25T16:54:23.117Z"
      },
      {
        "duration": 10,
        "start_time": "2021-06-25T16:54:23.130Z"
      },
      {
        "duration": 30,
        "start_time": "2021-06-25T16:54:23.143Z"
      },
      {
        "duration": 34,
        "start_time": "2021-06-25T16:54:23.176Z"
      },
      {
        "duration": 88,
        "start_time": "2021-06-25T16:54:23.214Z"
      },
      {
        "duration": 95,
        "start_time": "2021-06-25T16:54:23.306Z"
      },
      {
        "duration": 3,
        "start_time": "2021-06-25T16:54:23.403Z"
      },
      {
        "duration": 12,
        "start_time": "2021-06-25T16:54:23.408Z"
      },
      {
        "duration": 6,
        "start_time": "2021-06-25T16:54:23.423Z"
      },
      {
        "duration": 5,
        "start_time": "2021-06-25T16:54:52.980Z"
      },
      {
        "duration": 4,
        "start_time": "2021-06-25T17:03:00.136Z"
      },
      {
        "duration": 5,
        "start_time": "2021-06-25T17:03:07.280Z"
      },
      {
        "duration": 4,
        "start_time": "2021-06-25T17:03:36.454Z"
      },
      {
        "duration": 4,
        "start_time": "2021-06-25T17:03:36.814Z"
      },
      {
        "duration": 4,
        "start_time": "2021-06-25T17:03:39.710Z"
      },
      {
        "duration": 5,
        "start_time": "2021-06-25T17:03:43.911Z"
      },
      {
        "duration": 4,
        "start_time": "2021-06-25T17:03:49.215Z"
      },
      {
        "duration": 11,
        "start_time": "2021-06-25T17:03:49.902Z"
      },
      {
        "duration": 4,
        "start_time": "2021-06-25T17:04:21.030Z"
      },
      {
        "duration": 12,
        "start_time": "2021-06-25T17:04:21.830Z"
      },
      {
        "duration": 6,
        "start_time": "2021-06-25T17:04:40.335Z"
      },
      {
        "duration": 6,
        "start_time": "2021-06-25T17:04:41.079Z"
      },
      {
        "duration": 6,
        "start_time": "2021-06-25T17:04:52.286Z"
      },
      {
        "duration": 8,
        "start_time": "2021-06-25T17:04:52.295Z"
      },
      {
        "duration": 5,
        "start_time": "2021-06-25T17:04:52.305Z"
      },
      {
        "duration": 7,
        "start_time": "2021-06-25T17:04:53.039Z"
      },
      {
        "duration": 90,
        "start_time": "2021-06-25T17:11:36.284Z"
      },
      {
        "duration": 3,
        "start_time": "2021-06-25T17:15:10.666Z"
      },
      {
        "duration": 7,
        "start_time": "2021-06-25T17:15:14.394Z"
      },
      {
        "duration": 11,
        "start_time": "2021-06-25T17:15:33.178Z"
      },
      {
        "duration": 76,
        "start_time": "2021-06-25T17:15:34.259Z"
      },
      {
        "duration": 411,
        "start_time": "2021-06-25T17:15:54.666Z"
      },
      {
        "duration": 11,
        "start_time": "2021-06-25T17:16:01.618Z"
      },
      {
        "duration": 70,
        "start_time": "2021-06-25T17:16:07.997Z"
      },
      {
        "duration": 10,
        "start_time": "2021-06-25T17:16:10.235Z"
      },
      {
        "duration": 70,
        "start_time": "2021-06-25T17:16:11.492Z"
      },
      {
        "duration": 1534,
        "start_time": "2021-06-25T17:16:17.473Z"
      },
      {
        "duration": 444,
        "start_time": "2021-06-25T17:16:19.010Z"
      },
      {
        "duration": 20,
        "start_time": "2021-06-25T17:16:19.462Z"
      },
      {
        "duration": 17,
        "start_time": "2021-06-25T17:16:19.502Z"
      },
      {
        "duration": 15,
        "start_time": "2021-06-25T17:16:19.522Z"
      },
      {
        "duration": 110,
        "start_time": "2021-06-25T17:16:19.540Z"
      },
      {
        "duration": 64,
        "start_time": "2021-06-25T17:16:19.655Z"
      },
      {
        "duration": 418,
        "start_time": "2021-06-25T17:16:19.723Z"
      },
      {
        "duration": 326,
        "start_time": "2021-06-25T17:16:20.144Z"
      },
      {
        "duration": 214,
        "start_time": "2021-06-25T17:16:20.473Z"
      },
      {
        "duration": 19,
        "start_time": "2021-06-25T17:16:20.689Z"
      },
      {
        "duration": 22,
        "start_time": "2021-06-25T17:16:20.710Z"
      },
      {
        "duration": 12,
        "start_time": "2021-06-25T17:16:20.735Z"
      },
      {
        "duration": 95,
        "start_time": "2021-06-25T17:16:20.750Z"
      },
      {
        "duration": 59,
        "start_time": "2021-06-25T17:16:20.848Z"
      },
      {
        "duration": 424,
        "start_time": "2021-06-25T17:16:20.909Z"
      },
      {
        "duration": 468,
        "start_time": "2021-06-25T17:16:21.336Z"
      },
      {
        "duration": 219,
        "start_time": "2021-06-25T17:16:21.807Z"
      },
      {
        "duration": 13,
        "start_time": "2021-06-25T17:16:22.028Z"
      },
      {
        "duration": 18,
        "start_time": "2021-06-25T17:16:22.045Z"
      },
      {
        "duration": 41,
        "start_time": "2021-06-25T17:16:22.066Z"
      },
      {
        "duration": 66,
        "start_time": "2021-06-25T17:16:22.113Z"
      },
      {
        "duration": 47,
        "start_time": "2021-06-25T17:16:22.202Z"
      },
      {
        "duration": 418,
        "start_time": "2021-06-25T17:16:22.252Z"
      },
      {
        "duration": 450,
        "start_time": "2021-06-25T17:16:22.673Z"
      },
      {
        "duration": 225,
        "start_time": "2021-06-25T17:16:23.125Z"
      },
      {
        "duration": 13,
        "start_time": "2021-06-25T17:16:23.353Z"
      },
      {
        "duration": 42,
        "start_time": "2021-06-25T17:16:23.368Z"
      },
      {
        "duration": 26,
        "start_time": "2021-06-25T17:16:23.413Z"
      },
      {
        "duration": 5,
        "start_time": "2021-06-25T17:16:23.442Z"
      },
      {
        "duration": 542,
        "start_time": "2021-06-25T17:16:23.449Z"
      },
      {
        "duration": 11,
        "start_time": "2021-06-25T17:16:23.993Z"
      },
      {
        "duration": 34,
        "start_time": "2021-06-25T17:16:24.006Z"
      },
      {
        "duration": 13,
        "start_time": "2021-06-25T17:16:24.043Z"
      },
      {
        "duration": 7,
        "start_time": "2021-06-25T17:16:24.101Z"
      },
      {
        "duration": 95,
        "start_time": "2021-06-25T17:16:24.111Z"
      },
      {
        "duration": 6,
        "start_time": "2021-06-25T17:16:24.209Z"
      },
      {
        "duration": 12,
        "start_time": "2021-06-25T17:16:24.217Z"
      },
      {
        "duration": 12,
        "start_time": "2021-06-25T17:16:24.231Z"
      },
      {
        "duration": 22,
        "start_time": "2021-06-25T17:16:24.245Z"
      },
      {
        "duration": 47,
        "start_time": "2021-06-25T17:16:24.269Z"
      },
      {
        "duration": 7,
        "start_time": "2021-06-25T17:16:24.402Z"
      },
      {
        "duration": 5,
        "start_time": "2021-06-25T17:16:24.502Z"
      },
      {
        "duration": 7,
        "start_time": "2021-06-25T17:16:24.509Z"
      },
      {
        "duration": 8,
        "start_time": "2021-06-25T17:16:24.518Z"
      },
      {
        "duration": 6,
        "start_time": "2021-06-25T17:16:24.528Z"
      },
      {
        "duration": 19,
        "start_time": "2021-06-25T17:16:24.537Z"
      },
      {
        "duration": 58,
        "start_time": "2021-06-25T17:16:24.558Z"
      },
      {
        "duration": 8,
        "start_time": "2021-06-25T17:16:24.700Z"
      },
      {
        "duration": 93,
        "start_time": "2021-06-25T17:16:24.710Z"
      },
      {
        "duration": 8,
        "start_time": "2021-06-25T17:16:24.805Z"
      },
      {
        "duration": 9,
        "start_time": "2021-06-25T17:16:24.816Z"
      },
      {
        "duration": 398,
        "start_time": "2021-06-25T17:16:24.827Z"
      },
      {
        "duration": -1131,
        "start_time": "2021-06-25T17:16:26.358Z"
      },
      {
        "duration": -1135,
        "start_time": "2021-06-25T17:16:26.363Z"
      },
      {
        "duration": -1139,
        "start_time": "2021-06-25T17:16:26.369Z"
      },
      {
        "duration": -1143,
        "start_time": "2021-06-25T17:16:26.374Z"
      },
      {
        "duration": -1146,
        "start_time": "2021-06-25T17:16:26.379Z"
      },
      {
        "duration": -1148,
        "start_time": "2021-06-25T17:16:26.382Z"
      },
      {
        "duration": -1149,
        "start_time": "2021-06-25T17:16:26.385Z"
      },
      {
        "duration": -1150,
        "start_time": "2021-06-25T17:16:26.387Z"
      },
      {
        "duration": 6,
        "start_time": "2021-06-25T17:19:05.471Z"
      },
      {
        "duration": 4,
        "start_time": "2021-06-25T17:19:33.879Z"
      },
      {
        "duration": 7,
        "start_time": "2021-06-25T17:19:42.474Z"
      },
      {
        "duration": 4,
        "start_time": "2021-06-25T17:20:05.671Z"
      },
      {
        "duration": 9,
        "start_time": "2021-06-25T17:20:08.759Z"
      },
      {
        "duration": 4,
        "start_time": "2021-06-25T17:20:23.887Z"
      },
      {
        "duration": 4,
        "start_time": "2021-06-25T17:20:24.241Z"
      },
      {
        "duration": 3,
        "start_time": "2021-06-25T17:20:24.583Z"
      },
      {
        "duration": 4,
        "start_time": "2021-06-25T17:21:21.984Z"
      },
      {
        "duration": 5,
        "start_time": "2021-06-25T17:21:39.400Z"
      },
      {
        "duration": 14,
        "start_time": "2021-06-25T17:21:44.811Z"
      },
      {
        "duration": 954,
        "start_time": "2021-06-25T17:22:26.216Z"
      },
      {
        "duration": 373,
        "start_time": "2021-06-25T17:22:54.082Z"
      },
      {
        "duration": 283,
        "start_time": "2021-06-25T17:23:01.785Z"
      },
      {
        "duration": 423,
        "start_time": "2021-06-25T17:24:32.386Z"
      },
      {
        "duration": 827,
        "start_time": "2021-06-25T17:42:28.303Z"
      },
      {
        "duration": 265,
        "start_time": "2021-06-25T17:43:16.196Z"
      },
      {
        "duration": 253,
        "start_time": "2021-06-25T17:44:35.064Z"
      },
      {
        "duration": 197,
        "start_time": "2021-06-25T17:45:30.970Z"
      },
      {
        "duration": 1437,
        "start_time": "2021-06-25T19:13:24.800Z"
      },
      {
        "duration": 440,
        "start_time": "2021-06-25T19:13:26.239Z"
      },
      {
        "duration": 18,
        "start_time": "2021-06-25T19:13:26.682Z"
      },
      {
        "duration": 13,
        "start_time": "2021-06-25T19:13:26.703Z"
      },
      {
        "duration": 38,
        "start_time": "2021-06-25T19:13:26.719Z"
      },
      {
        "duration": 61,
        "start_time": "2021-06-25T19:13:26.759Z"
      },
      {
        "duration": 67,
        "start_time": "2021-06-25T19:13:26.822Z"
      },
      {
        "duration": 406,
        "start_time": "2021-06-25T19:13:26.891Z"
      },
      {
        "duration": 313,
        "start_time": "2021-06-25T19:13:27.301Z"
      },
      {
        "duration": 207,
        "start_time": "2021-06-25T19:13:27.616Z"
      },
      {
        "duration": 12,
        "start_time": "2021-06-25T19:13:27.826Z"
      },
      {
        "duration": 13,
        "start_time": "2021-06-25T19:13:27.855Z"
      },
      {
        "duration": 13,
        "start_time": "2021-06-25T19:13:27.871Z"
      },
      {
        "duration": 84,
        "start_time": "2021-06-25T19:13:27.886Z"
      },
      {
        "duration": 45,
        "start_time": "2021-06-25T19:13:27.972Z"
      },
      {
        "duration": 406,
        "start_time": "2021-06-25T19:13:28.020Z"
      },
      {
        "duration": 448,
        "start_time": "2021-06-25T19:13:28.428Z"
      },
      {
        "duration": 215,
        "start_time": "2021-06-25T19:13:28.879Z"
      },
      {
        "duration": 12,
        "start_time": "2021-06-25T19:13:29.097Z"
      },
      {
        "duration": 15,
        "start_time": "2021-06-25T19:13:29.111Z"
      },
      {
        "duration": 32,
        "start_time": "2021-06-25T19:13:29.128Z"
      },
      {
        "duration": 62,
        "start_time": "2021-06-25T19:13:29.163Z"
      },
      {
        "duration": 66,
        "start_time": "2021-06-25T19:13:29.228Z"
      },
      {
        "duration": 395,
        "start_time": "2021-06-25T19:13:29.297Z"
      },
      {
        "duration": 419,
        "start_time": "2021-06-25T19:13:29.695Z"
      },
      {
        "duration": 217,
        "start_time": "2021-06-25T19:13:30.117Z"
      },
      {
        "duration": 20,
        "start_time": "2021-06-25T19:13:30.341Z"
      },
      {
        "duration": 32,
        "start_time": "2021-06-25T19:13:30.364Z"
      },
      {
        "duration": 30,
        "start_time": "2021-06-25T19:13:30.398Z"
      },
      {
        "duration": 25,
        "start_time": "2021-06-25T19:13:30.431Z"
      },
      {
        "duration": 542,
        "start_time": "2021-06-25T19:13:30.459Z"
      },
      {
        "duration": 5,
        "start_time": "2021-06-25T19:13:31.003Z"
      },
      {
        "duration": 29,
        "start_time": "2021-06-25T19:13:31.011Z"
      },
      {
        "duration": 22,
        "start_time": "2021-06-25T19:13:31.043Z"
      },
      {
        "duration": 91,
        "start_time": "2021-06-25T19:13:31.068Z"
      },
      {
        "duration": 95,
        "start_time": "2021-06-25T19:13:31.161Z"
      },
      {
        "duration": 18,
        "start_time": "2021-06-25T19:13:31.259Z"
      },
      {
        "duration": 25,
        "start_time": "2021-06-25T19:13:31.280Z"
      },
      {
        "duration": 13,
        "start_time": "2021-06-25T19:13:31.307Z"
      },
      {
        "duration": 47,
        "start_time": "2021-06-25T19:13:31.322Z"
      },
      {
        "duration": 21,
        "start_time": "2021-06-25T19:13:31.371Z"
      },
      {
        "duration": 68,
        "start_time": "2021-06-25T19:13:31.395Z"
      },
      {
        "duration": 92,
        "start_time": "2021-06-25T19:13:31.466Z"
      },
      {
        "duration": 3,
        "start_time": "2021-06-25T19:13:31.560Z"
      },
      {
        "duration": 13,
        "start_time": "2021-06-25T19:13:31.566Z"
      },
      {
        "duration": 10,
        "start_time": "2021-06-25T19:13:31.582Z"
      },
      {
        "duration": 19,
        "start_time": "2021-06-25T19:13:31.595Z"
      },
      {
        "duration": 48,
        "start_time": "2021-06-25T19:13:31.616Z"
      },
      {
        "duration": 89,
        "start_time": "2021-06-25T19:13:31.668Z"
      },
      {
        "duration": 101,
        "start_time": "2021-06-25T19:13:31.760Z"
      },
      {
        "duration": 12,
        "start_time": "2021-06-25T19:13:31.864Z"
      },
      {
        "duration": 13,
        "start_time": "2021-06-25T19:13:31.878Z"
      },
      {
        "duration": 8,
        "start_time": "2021-06-25T19:13:31.894Z"
      },
      {
        "duration": 15,
        "start_time": "2021-06-25T19:13:31.904Z"
      },
      {
        "duration": 8,
        "start_time": "2021-06-25T19:13:31.921Z"
      },
      {
        "duration": 15,
        "start_time": "2021-06-25T19:13:31.931Z"
      },
      {
        "duration": 5,
        "start_time": "2021-06-25T19:13:31.956Z"
      },
      {
        "duration": 19,
        "start_time": "2021-06-25T19:13:31.963Z"
      },
      {
        "duration": 428,
        "start_time": "2021-06-25T19:13:31.984Z"
      },
      {
        "duration": -1260,
        "start_time": "2021-06-25T19:13:33.674Z"
      },
      {
        "duration": -1261,
        "start_time": "2021-06-25T19:13:33.677Z"
      },
      {
        "duration": -1263,
        "start_time": "2021-06-25T19:13:33.680Z"
      },
      {
        "duration": -1265,
        "start_time": "2021-06-25T19:13:33.683Z"
      },
      {
        "duration": -1266,
        "start_time": "2021-06-25T19:13:33.685Z"
      },
      {
        "duration": -1267,
        "start_time": "2021-06-25T19:13:33.688Z"
      },
      {
        "duration": -1268,
        "start_time": "2021-06-25T19:13:33.691Z"
      },
      {
        "duration": -1269,
        "start_time": "2021-06-25T19:13:33.693Z"
      },
      {
        "duration": 3,
        "start_time": "2021-06-25T19:51:33.386Z"
      },
      {
        "duration": 3,
        "start_time": "2021-06-25T19:54:28.982Z"
      },
      {
        "duration": 3,
        "start_time": "2021-06-25T19:55:15.338Z"
      },
      {
        "duration": 3,
        "start_time": "2021-06-25T19:55:15.883Z"
      },
      {
        "duration": 4,
        "start_time": "2021-06-25T20:04:50.156Z"
      },
      {
        "duration": 3,
        "start_time": "2021-06-25T20:05:35.415Z"
      },
      {
        "duration": 5,
        "start_time": "2021-06-25T20:05:39.134Z"
      },
      {
        "duration": 4,
        "start_time": "2021-06-25T20:06:55.541Z"
      },
      {
        "duration": 5,
        "start_time": "2021-06-25T20:06:58.167Z"
      },
      {
        "duration": 6,
        "start_time": "2021-06-25T20:39:30.746Z"
      },
      {
        "duration": 1680,
        "start_time": "2021-06-25T20:42:05.471Z"
      },
      {
        "duration": 441,
        "start_time": "2021-06-25T20:42:07.156Z"
      },
      {
        "duration": 18,
        "start_time": "2021-06-25T20:42:07.603Z"
      },
      {
        "duration": 34,
        "start_time": "2021-06-25T20:42:07.623Z"
      },
      {
        "duration": 13,
        "start_time": "2021-06-25T20:42:07.659Z"
      },
      {
        "duration": 83,
        "start_time": "2021-06-25T20:42:07.674Z"
      },
      {
        "duration": 50,
        "start_time": "2021-06-25T20:42:07.761Z"
      },
      {
        "duration": 409,
        "start_time": "2021-06-25T20:42:07.813Z"
      },
      {
        "duration": 325,
        "start_time": "2021-06-25T20:42:08.225Z"
      },
      {
        "duration": 203,
        "start_time": "2021-06-25T20:42:08.555Z"
      },
      {
        "duration": 12,
        "start_time": "2021-06-25T20:42:08.761Z"
      },
      {
        "duration": 20,
        "start_time": "2021-06-25T20:42:08.775Z"
      },
      {
        "duration": 13,
        "start_time": "2021-06-25T20:42:08.798Z"
      },
      {
        "duration": 97,
        "start_time": "2021-06-25T20:42:08.814Z"
      },
      {
        "duration": 59,
        "start_time": "2021-06-25T20:42:08.913Z"
      },
      {
        "duration": 410,
        "start_time": "2021-06-25T20:42:08.974Z"
      },
      {
        "duration": 444,
        "start_time": "2021-06-25T20:42:09.387Z"
      },
      {
        "duration": 221,
        "start_time": "2021-06-25T20:42:09.834Z"
      },
      {
        "duration": 14,
        "start_time": "2021-06-25T20:42:10.058Z"
      },
      {
        "duration": 27,
        "start_time": "2021-06-25T20:42:10.075Z"
      },
      {
        "duration": 19,
        "start_time": "2021-06-25T20:42:10.105Z"
      },
      {
        "duration": 65,
        "start_time": "2021-06-25T20:42:10.156Z"
      },
      {
        "duration": 69,
        "start_time": "2021-06-25T20:42:10.225Z"
      },
      {
        "duration": 398,
        "start_time": "2021-06-25T20:42:10.296Z"
      },
      {
        "duration": 430,
        "start_time": "2021-06-25T20:42:10.697Z"
      },
      {
        "duration": 231,
        "start_time": "2021-06-25T20:42:11.130Z"
      },
      {
        "duration": 14,
        "start_time": "2021-06-25T20:42:11.364Z"
      },
      {
        "duration": 29,
        "start_time": "2021-06-25T20:42:11.381Z"
      },
      {
        "duration": 56,
        "start_time": "2021-06-25T20:42:11.412Z"
      },
      {
        "duration": 6,
        "start_time": "2021-06-25T20:42:11.471Z"
      },
      {
        "duration": 563,
        "start_time": "2021-06-25T20:42:11.480Z"
      },
      {
        "duration": 10,
        "start_time": "2021-06-25T20:42:12.046Z"
      },
      {
        "duration": 28,
        "start_time": "2021-06-25T20:42:12.059Z"
      },
      {
        "duration": 13,
        "start_time": "2021-06-25T20:42:12.089Z"
      },
      {
        "duration": 63,
        "start_time": "2021-06-25T20:42:12.105Z"
      },
      {
        "duration": 92,
        "start_time": "2021-06-25T20:42:12.171Z"
      },
      {
        "duration": 16,
        "start_time": "2021-06-25T20:42:12.266Z"
      },
      {
        "duration": 13,
        "start_time": "2021-06-25T20:42:12.285Z"
      },
      {
        "duration": 15,
        "start_time": "2021-06-25T20:42:12.300Z"
      },
      {
        "duration": 23,
        "start_time": "2021-06-25T20:42:12.317Z"
      },
      {
        "duration": 27,
        "start_time": "2021-06-25T20:42:12.343Z"
      },
      {
        "duration": 89,
        "start_time": "2021-06-25T20:42:12.374Z"
      },
      {
        "duration": 98,
        "start_time": "2021-06-25T20:42:12.467Z"
      },
      {
        "duration": 5,
        "start_time": "2021-06-25T20:42:12.568Z"
      },
      {
        "duration": 6,
        "start_time": "2021-06-25T20:42:12.575Z"
      },
      {
        "duration": 7,
        "start_time": "2021-06-25T20:42:12.583Z"
      },
      {
        "duration": 9,
        "start_time": "2021-06-25T20:42:12.592Z"
      },
      {
        "duration": 61,
        "start_time": "2021-06-25T20:42:12.603Z"
      },
      {
        "duration": 14,
        "start_time": "2021-06-25T20:42:12.666Z"
      },
      {
        "duration": 77,
        "start_time": "2021-06-25T20:42:12.683Z"
      },
      {
        "duration": 94,
        "start_time": "2021-06-25T20:42:12.763Z"
      },
      {
        "duration": 6,
        "start_time": "2021-06-25T20:42:12.859Z"
      },
      {
        "duration": 9,
        "start_time": "2021-06-25T20:42:12.867Z"
      },
      {
        "duration": 4,
        "start_time": "2021-06-25T20:42:12.879Z"
      },
      {
        "duration": 5,
        "start_time": "2021-06-25T20:42:12.885Z"
      },
      {
        "duration": 9,
        "start_time": "2021-06-25T20:42:12.892Z"
      },
      {
        "duration": 12,
        "start_time": "2021-06-25T20:42:12.903Z"
      },
      {
        "duration": 43,
        "start_time": "2021-06-25T20:42:12.917Z"
      },
      {
        "duration": 16,
        "start_time": "2021-06-25T20:42:12.963Z"
      },
      {
        "duration": 7,
        "start_time": "2021-06-25T20:42:12.981Z"
      },
      {
        "duration": 7,
        "start_time": "2021-06-25T20:42:12.990Z"
      },
      {
        "duration": 403,
        "start_time": "2021-06-25T20:42:12.999Z"
      },
      {
        "duration": 395,
        "start_time": "2021-06-25T20:42:13.404Z"
      },
      {
        "duration": -1202,
        "start_time": "2021-06-25T20:42:15.004Z"
      },
      {
        "duration": -1203,
        "start_time": "2021-06-25T20:42:15.006Z"
      },
      {
        "duration": -1203,
        "start_time": "2021-06-25T20:42:15.008Z"
      },
      {
        "duration": -1208,
        "start_time": "2021-06-25T20:42:15.014Z"
      },
      {
        "duration": -1210,
        "start_time": "2021-06-25T20:42:15.017Z"
      },
      {
        "duration": -1209,
        "start_time": "2021-06-25T20:42:15.018Z"
      },
      {
        "duration": -1210,
        "start_time": "2021-06-25T20:42:15.020Z"
      },
      {
        "duration": -1211,
        "start_time": "2021-06-25T20:42:15.022Z"
      },
      {
        "duration": 263,
        "start_time": "2021-06-25T20:42:43.577Z"
      },
      {
        "duration": 8,
        "start_time": "2021-06-25T20:43:32.879Z"
      },
      {
        "duration": 25,
        "start_time": "2021-06-25T20:43:33.468Z"
      },
      {
        "duration": 268,
        "start_time": "2021-06-25T20:43:33.997Z"
      },
      {
        "duration": 9,
        "start_time": "2021-06-25T20:49:04.411Z"
      },
      {
        "duration": 17,
        "start_time": "2021-06-25T20:49:04.874Z"
      },
      {
        "duration": 16,
        "start_time": "2021-06-25T20:49:05.483Z"
      },
      {
        "duration": 13,
        "start_time": "2021-06-25T20:50:26.932Z"
      },
      {
        "duration": 270,
        "start_time": "2021-06-25T20:51:24.955Z"
      },
      {
        "duration": 243,
        "start_time": "2021-06-25T20:51:53.502Z"
      },
      {
        "duration": 261,
        "start_time": "2021-06-25T20:52:12.605Z"
      },
      {
        "duration": 4,
        "start_time": "2021-06-25T20:52:33.461Z"
      },
      {
        "duration": 280,
        "start_time": "2021-06-25T20:52:35.156Z"
      },
      {
        "duration": 1712,
        "start_time": "2021-06-25T20:52:44.794Z"
      },
      {
        "duration": 505,
        "start_time": "2021-06-25T20:52:46.509Z"
      },
      {
        "duration": 22,
        "start_time": "2021-06-25T20:52:47.018Z"
      },
      {
        "duration": 26,
        "start_time": "2021-06-25T20:52:47.043Z"
      },
      {
        "duration": 14,
        "start_time": "2021-06-25T20:52:47.072Z"
      },
      {
        "duration": 114,
        "start_time": "2021-06-25T20:52:47.089Z"
      },
      {
        "duration": 65,
        "start_time": "2021-06-25T20:52:47.206Z"
      },
      {
        "duration": 451,
        "start_time": "2021-06-25T20:52:47.275Z"
      },
      {
        "duration": 343,
        "start_time": "2021-06-25T20:52:47.730Z"
      },
      {
        "duration": 228,
        "start_time": "2021-06-25T20:52:48.076Z"
      },
      {
        "duration": 15,
        "start_time": "2021-06-25T20:52:48.307Z"
      },
      {
        "duration": 36,
        "start_time": "2021-06-25T20:52:48.324Z"
      },
      {
        "duration": 14,
        "start_time": "2021-06-25T20:52:48.363Z"
      },
      {
        "duration": 82,
        "start_time": "2021-06-25T20:52:48.379Z"
      },
      {
        "duration": 47,
        "start_time": "2021-06-25T20:52:48.464Z"
      },
      {
        "duration": 460,
        "start_time": "2021-06-25T20:52:48.514Z"
      },
      {
        "duration": 459,
        "start_time": "2021-06-25T20:52:48.977Z"
      },
      {
        "duration": 212,
        "start_time": "2021-06-25T20:52:49.438Z"
      },
      {
        "duration": 13,
        "start_time": "2021-06-25T20:52:49.657Z"
      },
      {
        "duration": 18,
        "start_time": "2021-06-25T20:52:49.673Z"
      },
      {
        "duration": 12,
        "start_time": "2021-06-25T20:52:49.693Z"
      },
      {
        "duration": 98,
        "start_time": "2021-06-25T20:52:49.707Z"
      },
      {
        "duration": 61,
        "start_time": "2021-06-25T20:52:49.810Z"
      },
      {
        "duration": 417,
        "start_time": "2021-06-25T20:52:49.875Z"
      },
      {
        "duration": 421,
        "start_time": "2021-06-25T20:52:50.294Z"
      },
      {
        "duration": 249,
        "start_time": "2021-06-25T20:52:50.717Z"
      },
      {
        "duration": 13,
        "start_time": "2021-06-25T20:52:50.969Z"
      },
      {
        "duration": 23,
        "start_time": "2021-06-25T20:52:50.984Z"
      },
      {
        "duration": 59,
        "start_time": "2021-06-25T20:52:51.009Z"
      },
      {
        "duration": 5,
        "start_time": "2021-06-25T20:52:51.071Z"
      },
      {
        "duration": 526,
        "start_time": "2021-06-25T20:52:51.079Z"
      },
      {
        "duration": 5,
        "start_time": "2021-06-25T20:52:51.608Z"
      },
      {
        "duration": 23,
        "start_time": "2021-06-25T20:52:51.615Z"
      },
      {
        "duration": 27,
        "start_time": "2021-06-25T20:52:51.640Z"
      },
      {
        "duration": 88,
        "start_time": "2021-06-25T20:52:51.670Z"
      },
      {
        "duration": 96,
        "start_time": "2021-06-25T20:52:51.762Z"
      },
      {
        "duration": 5,
        "start_time": "2021-06-25T20:52:51.860Z"
      },
      {
        "duration": 8,
        "start_time": "2021-06-25T20:52:51.867Z"
      },
      {
        "duration": 7,
        "start_time": "2021-06-25T20:52:51.877Z"
      },
      {
        "duration": 21,
        "start_time": "2021-06-25T20:52:51.886Z"
      },
      {
        "duration": 47,
        "start_time": "2021-06-25T20:52:51.910Z"
      },
      {
        "duration": 9,
        "start_time": "2021-06-25T20:52:51.959Z"
      },
      {
        "duration": 4,
        "start_time": "2021-06-25T20:52:52.058Z"
      },
      {
        "duration": 382,
        "start_time": "2021-06-25T20:52:52.065Z"
      },
      {
        "duration": -1213,
        "start_time": "2021-06-25T20:52:53.663Z"
      },
      {
        "duration": -1215,
        "start_time": "2021-06-25T20:52:53.666Z"
      },
      {
        "duration": -1216,
        "start_time": "2021-06-25T20:52:53.669Z"
      },
      {
        "duration": -1217,
        "start_time": "2021-06-25T20:52:53.671Z"
      },
      {
        "duration": -1217,
        "start_time": "2021-06-25T20:52:53.673Z"
      },
      {
        "duration": -1218,
        "start_time": "2021-06-25T20:52:53.676Z"
      },
      {
        "duration": -1218,
        "start_time": "2021-06-25T20:52:53.678Z"
      },
      {
        "duration": -1218,
        "start_time": "2021-06-25T20:52:53.680Z"
      },
      {
        "duration": -1217,
        "start_time": "2021-06-25T20:52:53.682Z"
      },
      {
        "duration": -1217,
        "start_time": "2021-06-25T20:52:53.684Z"
      },
      {
        "duration": -1222,
        "start_time": "2021-06-25T20:52:53.691Z"
      },
      {
        "duration": -1222,
        "start_time": "2021-06-25T20:52:53.693Z"
      },
      {
        "duration": -1222,
        "start_time": "2021-06-25T20:52:53.695Z"
      },
      {
        "duration": -1221,
        "start_time": "2021-06-25T20:52:53.697Z"
      },
      {
        "duration": -1222,
        "start_time": "2021-06-25T20:52:53.700Z"
      },
      {
        "duration": -1257,
        "start_time": "2021-06-25T20:52:53.737Z"
      },
      {
        "duration": -1259,
        "start_time": "2021-06-25T20:52:53.741Z"
      },
      {
        "duration": -1263,
        "start_time": "2021-06-25T20:52:53.747Z"
      },
      {
        "duration": -1263,
        "start_time": "2021-06-25T20:52:53.749Z"
      },
      {
        "duration": -1269,
        "start_time": "2021-06-25T20:52:53.757Z"
      },
      {
        "duration": -1270,
        "start_time": "2021-06-25T20:52:53.760Z"
      },
      {
        "duration": -1269,
        "start_time": "2021-06-25T20:52:53.762Z"
      },
      {
        "duration": -1208,
        "start_time": "2021-06-25T20:52:53.764Z"
      },
      {
        "duration": -1211,
        "start_time": "2021-06-25T20:52:53.770Z"
      },
      {
        "duration": -1212,
        "start_time": "2021-06-25T20:52:53.773Z"
      },
      {
        "duration": -1221,
        "start_time": "2021-06-25T20:52:53.784Z"
      },
      {
        "duration": -1223,
        "start_time": "2021-06-25T20:52:53.788Z"
      },
      {
        "duration": -1222,
        "start_time": "2021-06-25T20:52:53.790Z"
      },
      {
        "duration": -1222,
        "start_time": "2021-06-25T20:52:53.792Z"
      },
      {
        "duration": 8,
        "start_time": "2021-06-25T20:54:42.130Z"
      },
      {
        "duration": 7,
        "start_time": "2021-06-25T20:54:48.010Z"
      },
      {
        "duration": 1511,
        "start_time": "2021-06-25T20:54:55.145Z"
      },
      {
        "duration": 602,
        "start_time": "2021-06-25T20:54:56.658Z"
      },
      {
        "duration": 37,
        "start_time": "2021-06-25T20:54:57.264Z"
      },
      {
        "duration": 23,
        "start_time": "2021-06-25T20:54:57.305Z"
      },
      {
        "duration": 31,
        "start_time": "2021-06-25T20:54:57.331Z"
      },
      {
        "duration": 67,
        "start_time": "2021-06-25T20:54:57.364Z"
      },
      {
        "duration": 73,
        "start_time": "2021-06-25T20:54:57.433Z"
      },
      {
        "duration": 403,
        "start_time": "2021-06-25T20:54:57.511Z"
      },
      {
        "duration": 308,
        "start_time": "2021-06-25T20:54:57.918Z"
      },
      {
        "duration": 221,
        "start_time": "2021-06-25T20:54:58.230Z"
      },
      {
        "duration": 13,
        "start_time": "2021-06-25T20:54:58.455Z"
      },
      {
        "duration": 16,
        "start_time": "2021-06-25T20:54:58.471Z"
      },
      {
        "duration": 14,
        "start_time": "2021-06-25T20:54:58.490Z"
      },
      {
        "duration": 102,
        "start_time": "2021-06-25T20:54:58.507Z"
      },
      {
        "duration": 60,
        "start_time": "2021-06-25T20:54:58.611Z"
      },
      {
        "duration": 399,
        "start_time": "2021-06-25T20:54:58.673Z"
      },
      {
        "duration": 456,
        "start_time": "2021-06-25T20:54:59.075Z"
      },
      {
        "duration": 222,
        "start_time": "2021-06-25T20:54:59.534Z"
      },
      {
        "duration": 15,
        "start_time": "2021-06-25T20:54:59.758Z"
      },
      {
        "duration": 16,
        "start_time": "2021-06-25T20:54:59.776Z"
      },
      {
        "duration": 14,
        "start_time": "2021-06-25T20:54:59.795Z"
      },
      {
        "duration": 107,
        "start_time": "2021-06-25T20:54:59.812Z"
      },
      {
        "duration": 64,
        "start_time": "2021-06-25T20:54:59.926Z"
      },
      {
        "duration": 420,
        "start_time": "2021-06-25T20:54:59.994Z"
      },
      {
        "duration": 410,
        "start_time": "2021-06-25T20:55:00.416Z"
      },
      {
        "duration": 227,
        "start_time": "2021-06-25T20:55:00.828Z"
      },
      {
        "duration": 13,
        "start_time": "2021-06-25T20:55:01.058Z"
      },
      {
        "duration": 36,
        "start_time": "2021-06-25T20:55:01.073Z"
      },
      {
        "duration": 30,
        "start_time": "2021-06-25T20:55:01.111Z"
      },
      {
        "duration": 15,
        "start_time": "2021-06-25T20:55:01.143Z"
      },
      {
        "duration": 523,
        "start_time": "2021-06-25T20:55:01.161Z"
      },
      {
        "duration": 7,
        "start_time": "2021-06-25T20:55:01.687Z"
      },
      {
        "duration": 67,
        "start_time": "2021-06-25T20:55:01.697Z"
      },
      {
        "duration": 89,
        "start_time": "2021-06-25T20:55:01.767Z"
      },
      {
        "duration": 100,
        "start_time": "2021-06-25T20:55:01.860Z"
      },
      {
        "duration": 119,
        "start_time": "2021-06-25T20:55:01.962Z"
      },
      {
        "duration": 23,
        "start_time": "2021-06-25T20:55:02.083Z"
      },
      {
        "duration": 24,
        "start_time": "2021-06-25T20:55:02.109Z"
      },
      {
        "duration": 28,
        "start_time": "2021-06-25T20:55:02.135Z"
      },
      {
        "duration": 42,
        "start_time": "2021-06-25T20:55:02.165Z"
      },
      {
        "duration": 49,
        "start_time": "2021-06-25T20:55:02.209Z"
      },
      {
        "duration": 106,
        "start_time": "2021-06-25T20:55:02.262Z"
      },
      {
        "duration": 16,
        "start_time": "2021-06-25T20:55:02.456Z"
      },
      {
        "duration": 396,
        "start_time": "2021-06-25T20:55:02.474Z"
      },
      {
        "duration": -1186,
        "start_time": "2021-06-25T20:55:04.060Z"
      },
      {
        "duration": -1187,
        "start_time": "2021-06-25T20:55:04.062Z"
      },
      {
        "duration": -1187,
        "start_time": "2021-06-25T20:55:04.065Z"
      },
      {
        "duration": -1198,
        "start_time": "2021-06-25T20:55:04.078Z"
      },
      {
        "duration": -1199,
        "start_time": "2021-06-25T20:55:04.081Z"
      },
      {
        "duration": -1200,
        "start_time": "2021-06-25T20:55:04.084Z"
      },
      {
        "duration": -1200,
        "start_time": "2021-06-25T20:55:04.086Z"
      },
      {
        "duration": -1201,
        "start_time": "2021-06-25T20:55:04.088Z"
      },
      {
        "duration": -1201,
        "start_time": "2021-06-25T20:55:04.091Z"
      },
      {
        "duration": -1202,
        "start_time": "2021-06-25T20:55:04.093Z"
      },
      {
        "duration": -1209,
        "start_time": "2021-06-25T20:55:04.102Z"
      },
      {
        "duration": -1209,
        "start_time": "2021-06-25T20:55:04.104Z"
      },
      {
        "duration": -1209,
        "start_time": "2021-06-25T20:55:04.106Z"
      },
      {
        "duration": -1215,
        "start_time": "2021-06-25T20:55:04.114Z"
      },
      {
        "duration": -1216,
        "start_time": "2021-06-25T20:55:04.117Z"
      },
      {
        "duration": -1235,
        "start_time": "2021-06-25T20:55:04.138Z"
      },
      {
        "duration": -1236,
        "start_time": "2021-06-25T20:55:04.141Z"
      },
      {
        "duration": -1238,
        "start_time": "2021-06-25T20:55:04.146Z"
      },
      {
        "duration": -1239,
        "start_time": "2021-06-25T20:55:04.149Z"
      },
      {
        "duration": -1245,
        "start_time": "2021-06-25T20:55:04.156Z"
      },
      {
        "duration": -1247,
        "start_time": "2021-06-25T20:55:04.160Z"
      },
      {
        "duration": -1207,
        "start_time": "2021-06-25T20:55:04.162Z"
      },
      {
        "duration": -1207,
        "start_time": "2021-06-25T20:55:04.164Z"
      },
      {
        "duration": -1210,
        "start_time": "2021-06-25T20:55:04.170Z"
      },
      {
        "duration": -1210,
        "start_time": "2021-06-25T20:55:04.172Z"
      },
      {
        "duration": -1210,
        "start_time": "2021-06-25T20:55:04.174Z"
      },
      {
        "duration": -1218,
        "start_time": "2021-06-25T20:55:04.183Z"
      },
      {
        "duration": -1219,
        "start_time": "2021-06-25T20:55:04.186Z"
      },
      {
        "duration": 8,
        "start_time": "2021-06-25T20:55:18.407Z"
      },
      {
        "duration": 572,
        "start_time": "2021-06-25T20:57:58.601Z"
      },
      {
        "duration": 1447,
        "start_time": "2021-06-25T20:58:11.394Z"
      },
      {
        "duration": 436,
        "start_time": "2021-06-25T20:58:12.844Z"
      },
      {
        "duration": 18,
        "start_time": "2021-06-25T20:58:13.283Z"
      },
      {
        "duration": 15,
        "start_time": "2021-06-25T20:58:13.304Z"
      },
      {
        "duration": 37,
        "start_time": "2021-06-25T20:58:13.321Z"
      },
      {
        "duration": 66,
        "start_time": "2021-06-25T20:58:13.360Z"
      },
      {
        "duration": 66,
        "start_time": "2021-06-25T20:58:13.428Z"
      },
      {
        "duration": 410,
        "start_time": "2021-06-25T20:58:13.496Z"
      },
      {
        "duration": 312,
        "start_time": "2021-06-25T20:58:13.909Z"
      },
      {
        "duration": 215,
        "start_time": "2021-06-25T20:58:14.224Z"
      },
      {
        "duration": 22,
        "start_time": "2021-06-25T20:58:14.441Z"
      },
      {
        "duration": 16,
        "start_time": "2021-06-25T20:58:14.465Z"
      },
      {
        "duration": 12,
        "start_time": "2021-06-25T20:58:14.483Z"
      },
      {
        "duration": 95,
        "start_time": "2021-06-25T20:58:14.497Z"
      },
      {
        "duration": 47,
        "start_time": "2021-06-25T20:58:14.594Z"
      },
      {
        "duration": 414,
        "start_time": "2021-06-25T20:58:14.656Z"
      },
      {
        "duration": 461,
        "start_time": "2021-06-25T20:58:15.072Z"
      },
      {
        "duration": 215,
        "start_time": "2021-06-25T20:58:15.536Z"
      },
      {
        "duration": 13,
        "start_time": "2021-06-25T20:58:15.756Z"
      },
      {
        "duration": 14,
        "start_time": "2021-06-25T20:58:15.772Z"
      },
      {
        "duration": 12,
        "start_time": "2021-06-25T20:58:15.788Z"
      },
      {
        "duration": 106,
        "start_time": "2021-06-25T20:58:15.802Z"
      },
      {
        "duration": 54,
        "start_time": "2021-06-25T20:58:15.911Z"
      },
      {
        "duration": 403,
        "start_time": "2021-06-25T20:58:15.967Z"
      },
      {
        "duration": 406,
        "start_time": "2021-06-25T20:58:16.373Z"
      },
      {
        "duration": 225,
        "start_time": "2021-06-25T20:58:16.782Z"
      },
      {
        "duration": 12,
        "start_time": "2021-06-25T20:58:17.014Z"
      },
      {
        "duration": 39,
        "start_time": "2021-06-25T20:58:17.029Z"
      },
      {
        "duration": 28,
        "start_time": "2021-06-25T20:58:17.071Z"
      },
      {
        "duration": 5,
        "start_time": "2021-06-25T20:58:17.101Z"
      },
      {
        "duration": 545,
        "start_time": "2021-06-25T20:58:17.108Z"
      },
      {
        "duration": 5,
        "start_time": "2021-06-25T20:58:17.656Z"
      },
      {
        "duration": 24,
        "start_time": "2021-06-25T20:58:17.663Z"
      },
      {
        "duration": 70,
        "start_time": "2021-06-25T20:58:17.690Z"
      },
      {
        "duration": 96,
        "start_time": "2021-06-25T20:58:17.763Z"
      },
      {
        "duration": 5,
        "start_time": "2021-06-25T20:58:17.862Z"
      },
      {
        "duration": 6,
        "start_time": "2021-06-25T20:58:17.869Z"
      },
      {
        "duration": 9,
        "start_time": "2021-06-25T20:58:17.877Z"
      },
      {
        "duration": 6,
        "start_time": "2021-06-25T20:58:17.888Z"
      },
      {
        "duration": 61,
        "start_time": "2021-06-25T20:58:17.897Z"
      },
      {
        "duration": 16,
        "start_time": "2021-06-25T20:58:17.960Z"
      },
      {
        "duration": 77,
        "start_time": "2021-06-25T20:58:17.979Z"
      },
      {
        "duration": 383,
        "start_time": "2021-06-25T20:58:18.058Z"
      },
      {
        "duration": -1213,
        "start_time": "2021-06-25T20:58:19.656Z"
      },
      {
        "duration": -1214,
        "start_time": "2021-06-25T20:58:19.659Z"
      },
      {
        "duration": -1215,
        "start_time": "2021-06-25T20:58:19.661Z"
      },
      {
        "duration": -1217,
        "start_time": "2021-06-25T20:58:19.664Z"
      },
      {
        "duration": -1217,
        "start_time": "2021-06-25T20:58:19.666Z"
      },
      {
        "duration": -1219,
        "start_time": "2021-06-25T20:58:19.669Z"
      },
      {
        "duration": -1219,
        "start_time": "2021-06-25T20:58:19.671Z"
      },
      {
        "duration": -1219,
        "start_time": "2021-06-25T20:58:19.673Z"
      },
      {
        "duration": -1220,
        "start_time": "2021-06-25T20:58:19.675Z"
      },
      {
        "duration": -1220,
        "start_time": "2021-06-25T20:58:19.677Z"
      },
      {
        "duration": -1221,
        "start_time": "2021-06-25T20:58:19.679Z"
      },
      {
        "duration": -1223,
        "start_time": "2021-06-25T20:58:19.682Z"
      },
      {
        "duration": -1223,
        "start_time": "2021-06-25T20:58:19.684Z"
      },
      {
        "duration": -1224,
        "start_time": "2021-06-25T20:58:19.686Z"
      },
      {
        "duration": -1228,
        "start_time": "2021-06-25T20:58:19.692Z"
      },
      {
        "duration": -1230,
        "start_time": "2021-06-25T20:58:19.695Z"
      },
      {
        "duration": -1230,
        "start_time": "2021-06-25T20:58:19.697Z"
      },
      {
        "duration": -1231,
        "start_time": "2021-06-25T20:58:19.699Z"
      },
      {
        "duration": -1232,
        "start_time": "2021-06-25T20:58:19.701Z"
      },
      {
        "duration": -1232,
        "start_time": "2021-06-25T20:58:19.703Z"
      },
      {
        "duration": -1231,
        "start_time": "2021-06-25T20:58:19.705Z"
      },
      {
        "duration": -1232,
        "start_time": "2021-06-25T20:58:19.707Z"
      },
      {
        "duration": -1232,
        "start_time": "2021-06-25T20:58:19.709Z"
      },
      {
        "duration": -1233,
        "start_time": "2021-06-25T20:58:19.711Z"
      },
      {
        "duration": -1234,
        "start_time": "2021-06-25T20:58:19.713Z"
      },
      {
        "duration": -1234,
        "start_time": "2021-06-25T20:58:19.715Z"
      },
      {
        "duration": -1235,
        "start_time": "2021-06-25T20:58:19.717Z"
      },
      {
        "duration": -1236,
        "start_time": "2021-06-25T20:58:19.719Z"
      },
      {
        "duration": 6,
        "start_time": "2021-06-25T21:01:02.233Z"
      },
      {
        "duration": 5,
        "start_time": "2021-06-25T21:01:16.721Z"
      },
      {
        "duration": 14,
        "start_time": "2021-06-25T21:01:26.257Z"
      },
      {
        "duration": 1485,
        "start_time": "2021-06-26T10:44:18.342Z"
      },
      {
        "duration": 452,
        "start_time": "2021-06-26T10:44:19.830Z"
      },
      {
        "duration": 19,
        "start_time": "2021-06-26T10:44:20.286Z"
      },
      {
        "duration": 14,
        "start_time": "2021-06-26T10:44:20.308Z"
      },
      {
        "duration": 13,
        "start_time": "2021-06-26T10:44:20.324Z"
      },
      {
        "duration": 104,
        "start_time": "2021-06-26T10:44:20.339Z"
      },
      {
        "duration": 63,
        "start_time": "2021-06-26T10:44:20.445Z"
      },
      {
        "duration": 434,
        "start_time": "2021-06-26T10:44:20.513Z"
      },
      {
        "duration": 335,
        "start_time": "2021-06-26T10:44:20.951Z"
      },
      {
        "duration": 222,
        "start_time": "2021-06-26T10:44:21.289Z"
      },
      {
        "duration": 13,
        "start_time": "2021-06-26T10:44:21.513Z"
      },
      {
        "duration": 29,
        "start_time": "2021-06-26T10:44:21.528Z"
      },
      {
        "duration": 12,
        "start_time": "2021-06-26T10:44:21.560Z"
      },
      {
        "duration": 83,
        "start_time": "2021-06-26T10:44:21.575Z"
      },
      {
        "duration": 65,
        "start_time": "2021-06-26T10:44:21.660Z"
      },
      {
        "duration": 421,
        "start_time": "2021-06-26T10:44:21.727Z"
      },
      {
        "duration": 478,
        "start_time": "2021-06-26T10:44:22.151Z"
      },
      {
        "duration": 222,
        "start_time": "2021-06-26T10:44:22.631Z"
      },
      {
        "duration": 13,
        "start_time": "2021-06-26T10:44:22.855Z"
      },
      {
        "duration": 35,
        "start_time": "2021-06-26T10:44:22.870Z"
      },
      {
        "duration": 12,
        "start_time": "2021-06-26T10:44:22.907Z"
      },
      {
        "duration": 81,
        "start_time": "2021-06-26T10:44:22.921Z"
      },
      {
        "duration": 47,
        "start_time": "2021-06-26T10:44:23.008Z"
      },
      {
        "duration": 415,
        "start_time": "2021-06-26T10:44:23.058Z"
      },
      {
        "duration": 441,
        "start_time": "2021-06-26T10:44:23.475Z"
      },
      {
        "duration": 241,
        "start_time": "2021-06-26T10:44:23.918Z"
      },
      {
        "duration": 11,
        "start_time": "2021-06-26T10:44:24.161Z"
      },
      {
        "duration": 32,
        "start_time": "2021-06-26T10:44:24.174Z"
      },
      {
        "duration": 26,
        "start_time": "2021-06-26T10:44:24.208Z"
      },
      {
        "duration": 5,
        "start_time": "2021-06-26T10:44:24.236Z"
      },
      {
        "duration": 550,
        "start_time": "2021-06-26T10:44:24.243Z"
      },
      {
        "duration": 5,
        "start_time": "2021-06-26T10:44:24.795Z"
      },
      {
        "duration": 24,
        "start_time": "2021-06-26T10:44:24.803Z"
      },
      {
        "duration": 72,
        "start_time": "2021-06-26T10:44:24.829Z"
      },
      {
        "duration": 6,
        "start_time": "2021-06-26T10:44:24.904Z"
      },
      {
        "duration": 5,
        "start_time": "2021-06-26T10:44:25.001Z"
      },
      {
        "duration": 5,
        "start_time": "2021-06-26T10:44:25.008Z"
      },
      {
        "duration": 7,
        "start_time": "2021-06-26T10:44:25.016Z"
      },
      {
        "duration": 6,
        "start_time": "2021-06-26T10:44:25.025Z"
      },
      {
        "duration": 17,
        "start_time": "2021-06-26T10:44:25.034Z"
      },
      {
        "duration": 98,
        "start_time": "2021-06-26T10:44:25.101Z"
      },
      {
        "duration": 8,
        "start_time": "2021-06-26T10:44:25.202Z"
      },
      {
        "duration": 5,
        "start_time": "2021-06-26T10:44:25.302Z"
      },
      {
        "duration": 18,
        "start_time": "2021-06-26T10:44:25.310Z"
      },
      {
        "duration": 12,
        "start_time": "2021-06-26T10:44:25.330Z"
      },
      {
        "duration": 6,
        "start_time": "2021-06-26T10:44:25.345Z"
      },
      {
        "duration": 12,
        "start_time": "2021-06-26T10:44:25.353Z"
      },
      {
        "duration": 36,
        "start_time": "2021-06-26T10:44:25.367Z"
      },
      {
        "duration": 25,
        "start_time": "2021-06-26T10:44:25.406Z"
      },
      {
        "duration": 17,
        "start_time": "2021-06-26T10:44:25.433Z"
      },
      {
        "duration": 7,
        "start_time": "2021-06-26T10:44:25.503Z"
      },
      {
        "duration": 7,
        "start_time": "2021-06-26T10:44:25.601Z"
      },
      {
        "duration": 5,
        "start_time": "2021-06-26T10:44:25.610Z"
      },
      {
        "duration": 6,
        "start_time": "2021-06-26T10:44:25.618Z"
      },
      {
        "duration": 5,
        "start_time": "2021-06-26T10:44:25.626Z"
      },
      {
        "duration": 12,
        "start_time": "2021-06-26T10:44:25.633Z"
      },
      {
        "duration": 6,
        "start_time": "2021-06-26T10:44:25.647Z"
      },
      {
        "duration": 6,
        "start_time": "2021-06-26T10:44:25.655Z"
      },
      {
        "duration": 42,
        "start_time": "2021-06-26T10:44:25.663Z"
      },
      {
        "duration": 15,
        "start_time": "2021-06-26T10:44:25.707Z"
      },
      {
        "duration": 7,
        "start_time": "2021-06-26T10:44:25.724Z"
      },
      {
        "duration": 12,
        "start_time": "2021-06-26T10:44:25.734Z"
      },
      {
        "duration": 425,
        "start_time": "2021-06-26T10:44:25.748Z"
      },
      {
        "duration": 411,
        "start_time": "2021-06-26T10:44:26.176Z"
      },
      {
        "duration": -1811,
        "start_time": "2021-06-26T10:44:28.401Z"
      },
      {
        "duration": -1812,
        "start_time": "2021-06-26T10:44:28.403Z"
      },
      {
        "duration": -1814,
        "start_time": "2021-06-26T10:44:28.406Z"
      },
      {
        "duration": -1819,
        "start_time": "2021-06-26T10:44:28.412Z"
      },
      {
        "duration": -1820,
        "start_time": "2021-06-26T10:44:28.414Z"
      },
      {
        "duration": -1821,
        "start_time": "2021-06-26T10:44:28.417Z"
      },
      {
        "duration": -1821,
        "start_time": "2021-06-26T10:44:28.418Z"
      },
      {
        "duration": -1822,
        "start_time": "2021-06-26T10:44:28.420Z"
      },
      {
        "duration": 282,
        "start_time": "2021-06-26T10:45:53.891Z"
      },
      {
        "duration": 2399,
        "start_time": "2021-06-26T10:46:10.912Z"
      },
      {
        "duration": 437,
        "start_time": "2021-06-26T10:46:13.314Z"
      },
      {
        "duration": 19,
        "start_time": "2021-06-26T10:46:13.754Z"
      },
      {
        "duration": 30,
        "start_time": "2021-06-26T10:46:13.775Z"
      },
      {
        "duration": 12,
        "start_time": "2021-06-26T10:46:13.808Z"
      },
      {
        "duration": 93,
        "start_time": "2021-06-26T10:46:13.822Z"
      },
      {
        "duration": 51,
        "start_time": "2021-06-26T10:46:13.917Z"
      },
      {
        "duration": 422,
        "start_time": "2021-06-26T10:46:13.972Z"
      },
      {
        "duration": 311,
        "start_time": "2021-06-26T10:46:14.401Z"
      },
      {
        "duration": 215,
        "start_time": "2021-06-26T10:46:14.714Z"
      },
      {
        "duration": 14,
        "start_time": "2021-06-26T10:46:14.932Z"
      },
      {
        "duration": 18,
        "start_time": "2021-06-26T10:46:14.949Z"
      },
      {
        "duration": 38,
        "start_time": "2021-06-26T10:46:14.970Z"
      },
      {
        "duration": 74,
        "start_time": "2021-06-26T10:46:15.010Z"
      },
      {
        "duration": 55,
        "start_time": "2021-06-26T10:46:15.086Z"
      },
      {
        "duration": 412,
        "start_time": "2021-06-26T10:46:15.144Z"
      },
      {
        "duration": 458,
        "start_time": "2021-06-26T10:46:15.559Z"
      },
      {
        "duration": 213,
        "start_time": "2021-06-26T10:46:16.020Z"
      },
      {
        "duration": 18,
        "start_time": "2021-06-26T10:46:16.236Z"
      },
      {
        "duration": 43,
        "start_time": "2021-06-26T10:46:16.257Z"
      },
      {
        "duration": 18,
        "start_time": "2021-06-26T10:46:16.303Z"
      },
      {
        "duration": 111,
        "start_time": "2021-06-26T10:46:16.324Z"
      },
      {
        "duration": 58,
        "start_time": "2021-06-26T10:46:16.444Z"
      },
      {
        "duration": 398,
        "start_time": "2021-06-26T10:46:16.505Z"
      },
      {
        "duration": 410,
        "start_time": "2021-06-26T10:46:16.906Z"
      },
      {
        "duration": 227,
        "start_time": "2021-06-26T10:46:17.318Z"
      },
      {
        "duration": 12,
        "start_time": "2021-06-26T10:46:17.548Z"
      },
      {
        "duration": 41,
        "start_time": "2021-06-26T10:46:17.562Z"
      },
      {
        "duration": 26,
        "start_time": "2021-06-26T10:46:17.605Z"
      },
      {
        "duration": 6,
        "start_time": "2021-06-26T10:46:17.633Z"
      },
      {
        "duration": 530,
        "start_time": "2021-06-26T10:46:17.641Z"
      },
      {
        "duration": 6,
        "start_time": "2021-06-26T10:46:18.173Z"
      },
      {
        "duration": 38,
        "start_time": "2021-06-26T10:46:18.182Z"
      },
      {
        "duration": 80,
        "start_time": "2021-06-26T10:46:18.223Z"
      },
      {
        "duration": 97,
        "start_time": "2021-06-26T10:46:18.306Z"
      },
      {
        "duration": 6,
        "start_time": "2021-06-26T10:46:18.406Z"
      },
      {
        "duration": 5,
        "start_time": "2021-06-26T10:46:18.415Z"
      },
      {
        "duration": 7,
        "start_time": "2021-06-26T10:46:18.422Z"
      },
      {
        "duration": 6,
        "start_time": "2021-06-26T10:46:18.432Z"
      },
      {
        "duration": 68,
        "start_time": "2021-06-26T10:46:18.441Z"
      },
      {
        "duration": 20,
        "start_time": "2021-06-26T10:46:18.512Z"
      },
      {
        "duration": 72,
        "start_time": "2021-06-26T10:46:18.536Z"
      },
      {
        "duration": 95,
        "start_time": "2021-06-26T10:46:18.611Z"
      },
      {
        "duration": 15,
        "start_time": "2021-06-26T10:46:18.708Z"
      },
      {
        "duration": 6,
        "start_time": "2021-06-26T10:46:18.726Z"
      },
      {
        "duration": 8,
        "start_time": "2021-06-26T10:46:18.734Z"
      },
      {
        "duration": 8,
        "start_time": "2021-06-26T10:46:18.745Z"
      },
      {
        "duration": 7,
        "start_time": "2021-06-26T10:46:18.755Z"
      },
      {
        "duration": 21,
        "start_time": "2021-06-26T10:46:18.801Z"
      },
      {
        "duration": 76,
        "start_time": "2021-06-26T10:46:18.825Z"
      },
      {
        "duration": 96,
        "start_time": "2021-06-26T10:46:18.905Z"
      },
      {
        "duration": 5,
        "start_time": "2021-06-26T10:46:19.003Z"
      },
      {
        "duration": 5,
        "start_time": "2021-06-26T10:46:19.010Z"
      },
      {
        "duration": 8,
        "start_time": "2021-06-26T10:46:19.017Z"
      },
      {
        "duration": 6,
        "start_time": "2021-06-26T10:46:19.027Z"
      },
      {
        "duration": 7,
        "start_time": "2021-06-26T10:46:19.035Z"
      },
      {
        "duration": 8,
        "start_time": "2021-06-26T10:46:19.044Z"
      },
      {
        "duration": 52,
        "start_time": "2021-06-26T10:46:19.054Z"
      },
      {
        "duration": 13,
        "start_time": "2021-06-26T10:46:19.108Z"
      },
      {
        "duration": 19,
        "start_time": "2021-06-26T10:46:19.124Z"
      },
      {
        "duration": 1007,
        "start_time": "2021-06-26T10:46:19.145Z"
      },
      {
        "duration": 5,
        "start_time": "2021-06-26T10:46:20.155Z"
      },
      {
        "duration": 8,
        "start_time": "2021-06-26T10:46:20.162Z"
      },
      {
        "duration": 494,
        "start_time": "2021-06-26T10:46:20.173Z"
      },
      {
        "duration": 403,
        "start_time": "2021-06-26T10:46:20.669Z"
      },
      {
        "duration": -1808,
        "start_time": "2021-06-26T10:46:22.883Z"
      },
      {
        "duration": -1809,
        "start_time": "2021-06-26T10:46:22.886Z"
      },
      {
        "duration": -1815,
        "start_time": "2021-06-26T10:46:22.893Z"
      },
      {
        "duration": -1817,
        "start_time": "2021-06-26T10:46:22.896Z"
      },
      {
        "duration": -1817,
        "start_time": "2021-06-26T10:46:22.898Z"
      },
      {
        "duration": -1818,
        "start_time": "2021-06-26T10:46:22.900Z"
      },
      {
        "duration": -1819,
        "start_time": "2021-06-26T10:46:22.902Z"
      },
      {
        "duration": -1822,
        "start_time": "2021-06-26T10:46:22.906Z"
      },
      {
        "duration": 286,
        "start_time": "2021-06-26T10:46:56.079Z"
      },
      {
        "duration": 297,
        "start_time": "2021-06-26T10:47:00.616Z"
      },
      {
        "duration": 1493,
        "start_time": "2021-06-26T10:47:08.600Z"
      },
      {
        "duration": 437,
        "start_time": "2021-06-26T10:47:10.096Z"
      },
      {
        "duration": 18,
        "start_time": "2021-06-26T10:47:10.536Z"
      },
      {
        "duration": 15,
        "start_time": "2021-06-26T10:47:10.557Z"
      },
      {
        "duration": 33,
        "start_time": "2021-06-26T10:47:10.575Z"
      },
      {
        "duration": 68,
        "start_time": "2021-06-26T10:47:10.610Z"
      },
      {
        "duration": 51,
        "start_time": "2021-06-26T10:47:10.701Z"
      },
      {
        "duration": 409,
        "start_time": "2021-06-26T10:47:10.755Z"
      },
      {
        "duration": 335,
        "start_time": "2021-06-26T10:47:11.168Z"
      },
      {
        "duration": 220,
        "start_time": "2021-06-26T10:47:11.506Z"
      },
      {
        "duration": 13,
        "start_time": "2021-06-26T10:47:11.728Z"
      },
      {
        "duration": 20,
        "start_time": "2021-06-26T10:47:11.743Z"
      },
      {
        "duration": 36,
        "start_time": "2021-06-26T10:47:11.767Z"
      },
      {
        "duration": 63,
        "start_time": "2021-06-26T10:47:11.805Z"
      },
      {
        "duration": 62,
        "start_time": "2021-06-26T10:47:11.870Z"
      },
      {
        "duration": 448,
        "start_time": "2021-06-26T10:47:11.934Z"
      },
      {
        "duration": 466,
        "start_time": "2021-06-26T10:47:12.384Z"
      },
      {
        "duration": 213,
        "start_time": "2021-06-26T10:47:12.852Z"
      },
      {
        "duration": 13,
        "start_time": "2021-06-26T10:47:13.068Z"
      },
      {
        "duration": 28,
        "start_time": "2021-06-26T10:47:13.084Z"
      },
      {
        "duration": 16,
        "start_time": "2021-06-26T10:47:13.115Z"
      },
      {
        "duration": 92,
        "start_time": "2021-06-26T10:47:13.133Z"
      },
      {
        "duration": 46,
        "start_time": "2021-06-26T10:47:13.228Z"
      },
      {
        "duration": 409,
        "start_time": "2021-06-26T10:47:13.277Z"
      },
      {
        "duration": 395,
        "start_time": "2021-06-26T10:47:13.689Z"
      },
      {
        "duration": 227,
        "start_time": "2021-06-26T10:47:14.086Z"
      },
      {
        "duration": 11,
        "start_time": "2021-06-26T10:47:14.320Z"
      },
      {
        "duration": 21,
        "start_time": "2021-06-26T10:47:14.335Z"
      },
      {
        "duration": 55,
        "start_time": "2021-06-26T10:47:14.358Z"
      },
      {
        "duration": 4,
        "start_time": "2021-06-26T10:47:14.416Z"
      },
      {
        "duration": 531,
        "start_time": "2021-06-26T10:47:14.423Z"
      },
      {
        "duration": 5,
        "start_time": "2021-06-26T10:47:14.957Z"
      },
      {
        "duration": 35,
        "start_time": "2021-06-26T10:47:14.965Z"
      },
      {
        "duration": 20,
        "start_time": "2021-06-26T10:47:15.003Z"
      },
      {
        "duration": 98,
        "start_time": "2021-06-26T10:47:15.103Z"
      },
      {
        "duration": 8,
        "start_time": "2021-06-26T10:47:15.203Z"
      },
      {
        "duration": 7,
        "start_time": "2021-06-26T10:47:15.213Z"
      },
      {
        "duration": 8,
        "start_time": "2021-06-26T10:47:15.223Z"
      },
      {
        "duration": 11,
        "start_time": "2021-06-26T10:47:15.234Z"
      },
      {
        "duration": 22,
        "start_time": "2021-06-26T10:47:15.247Z"
      },
      {
        "duration": 41,
        "start_time": "2021-06-26T10:47:15.272Z"
      },
      {
        "duration": 86,
        "start_time": "2021-06-26T10:47:15.318Z"
      },
      {
        "duration": 6,
        "start_time": "2021-06-26T10:47:15.500Z"
      },
      {
        "duration": 14,
        "start_time": "2021-06-26T10:47:15.509Z"
      },
      {
        "duration": 7,
        "start_time": "2021-06-26T10:47:15.526Z"
      },
      {
        "duration": 4,
        "start_time": "2021-06-26T10:47:15.535Z"
      },
      {
        "duration": 8,
        "start_time": "2021-06-26T10:47:15.542Z"
      },
      {
        "duration": 6,
        "start_time": "2021-06-26T10:47:15.602Z"
      },
      {
        "duration": 22,
        "start_time": "2021-06-26T10:47:15.611Z"
      },
      {
        "duration": 73,
        "start_time": "2021-06-26T10:47:15.636Z"
      },
      {
        "duration": 7,
        "start_time": "2021-06-26T10:47:15.802Z"
      },
      {
        "duration": 8,
        "start_time": "2021-06-26T10:47:15.812Z"
      },
      {
        "duration": 6,
        "start_time": "2021-06-26T10:47:15.822Z"
      },
      {
        "duration": 8,
        "start_time": "2021-06-26T10:47:15.830Z"
      },
      {
        "duration": 5,
        "start_time": "2021-06-26T10:47:15.840Z"
      },
      {
        "duration": 6,
        "start_time": "2021-06-26T10:47:15.848Z"
      },
      {
        "duration": 4,
        "start_time": "2021-06-26T10:47:15.900Z"
      },
      {
        "duration": 8,
        "start_time": "2021-06-26T10:47:15.907Z"
      },
      {
        "duration": 7,
        "start_time": "2021-06-26T10:47:15.918Z"
      },
      {
        "duration": 15,
        "start_time": "2021-06-26T10:47:15.927Z"
      },
      {
        "duration": 1046,
        "start_time": "2021-06-26T10:47:15.945Z"
      },
      {
        "duration": 5,
        "start_time": "2021-06-26T10:47:17.000Z"
      },
      {
        "duration": 11,
        "start_time": "2021-06-26T10:47:17.008Z"
      },
      {
        "duration": 488,
        "start_time": "2021-06-26T10:47:17.022Z"
      },
      {
        "duration": 403,
        "start_time": "2021-06-26T10:47:17.512Z"
      },
      {
        "duration": -1818,
        "start_time": "2021-06-26T10:47:19.735Z"
      },
      {
        "duration": -1818,
        "start_time": "2021-06-26T10:47:19.737Z"
      },
      {
        "duration": -1823,
        "start_time": "2021-06-26T10:47:19.743Z"
      },
      {
        "duration": -1824,
        "start_time": "2021-06-26T10:47:19.745Z"
      },
      {
        "duration": -1825,
        "start_time": "2021-06-26T10:47:19.748Z"
      },
      {
        "duration": -1826,
        "start_time": "2021-06-26T10:47:19.750Z"
      },
      {
        "duration": -1827,
        "start_time": "2021-06-26T10:47:19.752Z"
      },
      {
        "duration": -1828,
        "start_time": "2021-06-26T10:47:19.754Z"
      },
      {
        "duration": 278,
        "start_time": "2021-06-26T10:47:43.627Z"
      },
      {
        "duration": 1469,
        "start_time": "2021-06-26T10:47:48.917Z"
      },
      {
        "duration": 427,
        "start_time": "2021-06-26T10:47:50.389Z"
      },
      {
        "duration": 19,
        "start_time": "2021-06-26T10:47:50.818Z"
      },
      {
        "duration": 18,
        "start_time": "2021-06-26T10:47:50.839Z"
      },
      {
        "duration": 13,
        "start_time": "2021-06-26T10:47:50.859Z"
      },
      {
        "duration": 89,
        "start_time": "2021-06-26T10:47:50.874Z"
      },
      {
        "duration": 68,
        "start_time": "2021-06-26T10:47:50.966Z"
      },
      {
        "duration": 513,
        "start_time": "2021-06-26T10:47:51.038Z"
      },
      {
        "duration": 317,
        "start_time": "2021-06-26T10:47:51.554Z"
      },
      {
        "duration": 217,
        "start_time": "2021-06-26T10:47:51.874Z"
      },
      {
        "duration": 18,
        "start_time": "2021-06-26T10:47:52.093Z"
      },
      {
        "duration": 18,
        "start_time": "2021-06-26T10:47:52.113Z"
      },
      {
        "duration": 13,
        "start_time": "2021-06-26T10:47:52.133Z"
      },
      {
        "duration": 97,
        "start_time": "2021-06-26T10:47:52.149Z"
      },
      {
        "duration": 59,
        "start_time": "2021-06-26T10:47:52.249Z"
      },
      {
        "duration": 403,
        "start_time": "2021-06-26T10:47:52.311Z"
      },
      {
        "duration": 561,
        "start_time": "2021-06-26T10:47:52.716Z"
      },
      {
        "duration": 223,
        "start_time": "2021-06-26T10:47:53.280Z"
      },
      {
        "duration": 13,
        "start_time": "2021-06-26T10:47:53.505Z"
      },
      {
        "duration": 19,
        "start_time": "2021-06-26T10:47:53.520Z"
      },
      {
        "duration": 12,
        "start_time": "2021-06-26T10:47:53.542Z"
      },
      {
        "duration": 101,
        "start_time": "2021-06-26T10:47:53.556Z"
      },
      {
        "duration": 61,
        "start_time": "2021-06-26T10:47:53.665Z"
      },
      {
        "duration": 420,
        "start_time": "2021-06-26T10:47:53.732Z"
      },
      {
        "duration": 447,
        "start_time": "2021-06-26T10:47:54.155Z"
      },
      {
        "duration": 240,
        "start_time": "2021-06-26T10:47:54.606Z"
      },
      {
        "duration": 13,
        "start_time": "2021-06-26T10:47:54.849Z"
      },
      {
        "duration": 42,
        "start_time": "2021-06-26T10:47:54.865Z"
      },
      {
        "duration": 28,
        "start_time": "2021-06-26T10:47:54.910Z"
      },
      {
        "duration": 6,
        "start_time": "2021-06-26T10:47:54.941Z"
      },
      {
        "duration": 554,
        "start_time": "2021-06-26T10:47:54.950Z"
      },
      {
        "duration": 6,
        "start_time": "2021-06-26T10:47:55.506Z"
      },
      {
        "duration": 19,
        "start_time": "2021-06-26T10:47:55.514Z"
      },
      {
        "duration": 69,
        "start_time": "2021-06-26T10:47:55.535Z"
      },
      {
        "duration": 96,
        "start_time": "2021-06-26T10:47:55.607Z"
      },
      {
        "duration": 5,
        "start_time": "2021-06-26T10:47:55.706Z"
      },
      {
        "duration": 5,
        "start_time": "2021-06-26T10:47:55.713Z"
      },
      {
        "duration": 10,
        "start_time": "2021-06-26T10:47:55.721Z"
      },
      {
        "duration": 6,
        "start_time": "2021-06-26T10:47:55.733Z"
      },
      {
        "duration": 62,
        "start_time": "2021-06-26T10:47:55.741Z"
      },
      {
        "duration": 96,
        "start_time": "2021-06-26T10:47:55.805Z"
      },
      {
        "duration": 6,
        "start_time": "2021-06-26T10:47:55.904Z"
      },
      {
        "duration": 6,
        "start_time": "2021-06-26T10:47:56.001Z"
      },
      {
        "duration": 19,
        "start_time": "2021-06-26T10:47:56.010Z"
      },
      {
        "duration": 7,
        "start_time": "2021-06-26T10:47:56.031Z"
      },
      {
        "duration": 8,
        "start_time": "2021-06-26T10:47:56.040Z"
      },
      {
        "duration": 11,
        "start_time": "2021-06-26T10:47:56.050Z"
      },
      {
        "duration": 37,
        "start_time": "2021-06-26T10:47:56.063Z"
      },
      {
        "duration": 21,
        "start_time": "2021-06-26T10:47:56.104Z"
      },
      {
        "duration": 16,
        "start_time": "2021-06-26T10:47:56.128Z"
      },
      {
        "duration": 6,
        "start_time": "2021-06-26T10:47:56.201Z"
      },
      {
        "duration": 97,
        "start_time": "2021-06-26T10:47:56.210Z"
      },
      {
        "duration": 4,
        "start_time": "2021-06-26T10:47:56.310Z"
      },
      {
        "duration": 10,
        "start_time": "2021-06-26T10:47:56.317Z"
      },
      {
        "duration": 12,
        "start_time": "2021-06-26T10:47:56.329Z"
      },
      {
        "duration": 8,
        "start_time": "2021-06-26T10:47:56.344Z"
      },
      {
        "duration": 8,
        "start_time": "2021-06-26T10:47:56.354Z"
      },
      {
        "duration": 36,
        "start_time": "2021-06-26T10:47:56.365Z"
      },
      {
        "duration": 6,
        "start_time": "2021-06-26T10:47:56.404Z"
      },
      {
        "duration": 18,
        "start_time": "2021-06-26T10:47:56.412Z"
      },
      {
        "duration": 648,
        "start_time": "2021-06-26T10:47:56.432Z"
      },
      {
        "duration": 18,
        "start_time": "2021-06-26T10:47:57.082Z"
      },
      {
        "duration": 6,
        "start_time": "2021-06-26T10:47:57.102Z"
      },
      {
        "duration": 460,
        "start_time": "2021-06-26T10:47:57.110Z"
      },
      {
        "duration": 410,
        "start_time": "2021-06-26T10:47:57.572Z"
      },
      {
        "duration": -1808,
        "start_time": "2021-06-26T10:47:59.793Z"
      },
      {
        "duration": -1810,
        "start_time": "2021-06-26T10:47:59.796Z"
      },
      {
        "duration": -1811,
        "start_time": "2021-06-26T10:47:59.799Z"
      },
      {
        "duration": -1819,
        "start_time": "2021-06-26T10:47:59.808Z"
      },
      {
        "duration": -1820,
        "start_time": "2021-06-26T10:47:59.810Z"
      },
      {
        "duration": -1821,
        "start_time": "2021-06-26T10:47:59.813Z"
      },
      {
        "duration": -1822,
        "start_time": "2021-06-26T10:47:59.815Z"
      },
      {
        "duration": -1824,
        "start_time": "2021-06-26T10:47:59.818Z"
      },
      {
        "duration": 255,
        "start_time": "2021-06-26T10:48:47.611Z"
      },
      {
        "duration": 1440,
        "start_time": "2021-06-26T10:48:54.047Z"
      },
      {
        "duration": 429,
        "start_time": "2021-06-26T10:48:55.489Z"
      },
      {
        "duration": 19,
        "start_time": "2021-06-26T10:48:55.920Z"
      },
      {
        "duration": 21,
        "start_time": "2021-06-26T10:48:55.942Z"
      },
      {
        "duration": 35,
        "start_time": "2021-06-26T10:48:55.965Z"
      },
      {
        "duration": 62,
        "start_time": "2021-06-26T10:48:56.004Z"
      },
      {
        "duration": 71,
        "start_time": "2021-06-26T10:48:56.069Z"
      },
      {
        "duration": 417,
        "start_time": "2021-06-26T10:48:56.144Z"
      },
      {
        "duration": 328,
        "start_time": "2021-06-26T10:48:56.564Z"
      },
      {
        "duration": 209,
        "start_time": "2021-06-26T10:48:56.895Z"
      },
      {
        "duration": 13,
        "start_time": "2021-06-26T10:48:57.106Z"
      },
      {
        "duration": 21,
        "start_time": "2021-06-26T10:48:57.121Z"
      },
      {
        "duration": 14,
        "start_time": "2021-06-26T10:48:57.144Z"
      },
      {
        "duration": 102,
        "start_time": "2021-06-26T10:48:57.161Z"
      },
      {
        "duration": 68,
        "start_time": "2021-06-26T10:48:57.265Z"
      },
      {
        "duration": 405,
        "start_time": "2021-06-26T10:48:57.335Z"
      },
      {
        "duration": 458,
        "start_time": "2021-06-26T10:48:57.742Z"
      },
      {
        "duration": 221,
        "start_time": "2021-06-26T10:48:58.202Z"
      },
      {
        "duration": 14,
        "start_time": "2021-06-26T10:48:58.425Z"
      },
      {
        "duration": 18,
        "start_time": "2021-06-26T10:48:58.441Z"
      },
      {
        "duration": 12,
        "start_time": "2021-06-26T10:48:58.461Z"
      },
      {
        "duration": 59,
        "start_time": "2021-06-26T10:48:58.501Z"
      },
      {
        "duration": 63,
        "start_time": "2021-06-26T10:48:58.566Z"
      },
      {
        "duration": 391,
        "start_time": "2021-06-26T10:48:58.633Z"
      },
      {
        "duration": 401,
        "start_time": "2021-06-26T10:48:59.026Z"
      },
      {
        "duration": 226,
        "start_time": "2021-06-26T10:48:59.430Z"
      },
      {
        "duration": 12,
        "start_time": "2021-06-26T10:48:59.659Z"
      },
      {
        "duration": 37,
        "start_time": "2021-06-26T10:48:59.673Z"
      },
      {
        "duration": 27,
        "start_time": "2021-06-26T10:48:59.713Z"
      },
      {
        "duration": 5,
        "start_time": "2021-06-26T10:48:59.743Z"
      },
      {
        "duration": 670,
        "start_time": "2021-06-26T10:48:59.750Z"
      },
      {
        "duration": 6,
        "start_time": "2021-06-26T10:49:00.422Z"
      },
      {
        "duration": 27,
        "start_time": "2021-06-26T10:49:00.430Z"
      },
      {
        "duration": 44,
        "start_time": "2021-06-26T10:49:00.460Z"
      },
      {
        "duration": 96,
        "start_time": "2021-06-26T10:49:00.507Z"
      },
      {
        "duration": 95,
        "start_time": "2021-06-26T10:49:00.607Z"
      },
      {
        "duration": 33,
        "start_time": "2021-06-26T10:49:00.705Z"
      },
      {
        "duration": 24,
        "start_time": "2021-06-26T10:49:00.741Z"
      },
      {
        "duration": 20,
        "start_time": "2021-06-26T10:49:00.767Z"
      },
      {
        "duration": 50,
        "start_time": "2021-06-26T10:49:00.790Z"
      },
      {
        "duration": 20,
        "start_time": "2021-06-26T10:49:00.843Z"
      },
      {
        "duration": 102,
        "start_time": "2021-06-26T10:49:00.900Z"
      },
      {
        "duration": 8,
        "start_time": "2021-06-26T10:49:01.005Z"
      },
      {
        "duration": 16,
        "start_time": "2021-06-26T10:49:01.017Z"
      },
      {
        "duration": 8,
        "start_time": "2021-06-26T10:49:01.036Z"
      },
      {
        "duration": 8,
        "start_time": "2021-06-26T10:49:01.047Z"
      },
      {
        "duration": 46,
        "start_time": "2021-06-26T10:49:01.058Z"
      },
      {
        "duration": 15,
        "start_time": "2021-06-26T10:49:01.106Z"
      },
      {
        "duration": 23,
        "start_time": "2021-06-26T10:49:01.124Z"
      },
      {
        "duration": 58,
        "start_time": "2021-06-26T10:49:01.150Z"
      },
      {
        "duration": 94,
        "start_time": "2021-06-26T10:49:01.212Z"
      },
      {
        "duration": 17,
        "start_time": "2021-06-26T10:49:01.309Z"
      },
      {
        "duration": 13,
        "start_time": "2021-06-26T10:49:01.329Z"
      },
      {
        "duration": 24,
        "start_time": "2021-06-26T10:49:01.345Z"
      },
      {
        "duration": 21,
        "start_time": "2021-06-26T10:49:01.372Z"
      },
      {
        "duration": 30,
        "start_time": "2021-06-26T10:49:01.396Z"
      },
      {
        "duration": 29,
        "start_time": "2021-06-26T10:49:01.429Z"
      },
      {
        "duration": 27,
        "start_time": "2021-06-26T10:49:01.460Z"
      },
      {
        "duration": 23,
        "start_time": "2021-06-26T10:49:01.489Z"
      },
      {
        "duration": 31,
        "start_time": "2021-06-26T10:49:01.515Z"
      },
      {
        "duration": 332,
        "start_time": "2021-06-26T10:49:01.548Z"
      },
      {
        "duration": 6,
        "start_time": "2021-06-26T10:49:01.882Z"
      },
      {
        "duration": 28,
        "start_time": "2021-06-26T10:49:01.890Z"
      },
      {
        "duration": 464,
        "start_time": "2021-06-26T10:49:01.921Z"
      },
      {
        "duration": 766,
        "start_time": "2021-06-26T10:49:02.388Z"
      },
      {
        "duration": -2525,
        "start_time": "2021-06-26T10:49:05.682Z"
      },
      {
        "duration": -2526,
        "start_time": "2021-06-26T10:49:05.685Z"
      },
      {
        "duration": -2527,
        "start_time": "2021-06-26T10:49:05.687Z"
      },
      {
        "duration": -2529,
        "start_time": "2021-06-26T10:49:05.690Z"
      },
      {
        "duration": -2530,
        "start_time": "2021-06-26T10:49:05.692Z"
      },
      {
        "duration": -2530,
        "start_time": "2021-06-26T10:49:05.694Z"
      },
      {
        "duration": -2531,
        "start_time": "2021-06-26T10:49:05.696Z"
      },
      {
        "duration": -2532,
        "start_time": "2021-06-26T10:49:05.698Z"
      },
      {
        "duration": 281,
        "start_time": "2021-06-26T10:54:20.796Z"
      },
      {
        "duration": 363,
        "start_time": "2021-06-26T10:54:30.684Z"
      },
      {
        "duration": 1537,
        "start_time": "2021-06-26T10:54:39.457Z"
      },
      {
        "duration": 455,
        "start_time": "2021-06-26T10:54:40.997Z"
      },
      {
        "duration": 25,
        "start_time": "2021-06-26T10:54:41.455Z"
      },
      {
        "duration": 34,
        "start_time": "2021-06-26T10:54:41.484Z"
      },
      {
        "duration": 19,
        "start_time": "2021-06-26T10:54:41.521Z"
      },
      {
        "duration": 104,
        "start_time": "2021-06-26T10:54:41.543Z"
      },
      {
        "duration": 60,
        "start_time": "2021-06-26T10:54:41.650Z"
      },
      {
        "duration": 392,
        "start_time": "2021-06-26T10:54:41.713Z"
      },
      {
        "duration": 344,
        "start_time": "2021-06-26T10:54:42.107Z"
      },
      {
        "duration": 215,
        "start_time": "2021-06-26T10:54:42.454Z"
      },
      {
        "duration": 14,
        "start_time": "2021-06-26T10:54:42.672Z"
      },
      {
        "duration": 25,
        "start_time": "2021-06-26T10:54:42.688Z"
      },
      {
        "duration": 12,
        "start_time": "2021-06-26T10:54:42.716Z"
      },
      {
        "duration": 95,
        "start_time": "2021-06-26T10:54:42.731Z"
      },
      {
        "duration": 49,
        "start_time": "2021-06-26T10:54:42.828Z"
      },
      {
        "duration": 417,
        "start_time": "2021-06-26T10:54:42.879Z"
      },
      {
        "duration": 455,
        "start_time": "2021-06-26T10:54:43.301Z"
      },
      {
        "duration": 210,
        "start_time": "2021-06-26T10:54:43.759Z"
      },
      {
        "duration": 13,
        "start_time": "2021-06-26T10:54:43.972Z"
      },
      {
        "duration": 24,
        "start_time": "2021-06-26T10:54:43.988Z"
      },
      {
        "duration": 12,
        "start_time": "2021-06-26T10:54:44.014Z"
      },
      {
        "duration": 93,
        "start_time": "2021-06-26T10:54:44.029Z"
      },
      {
        "duration": 47,
        "start_time": "2021-06-26T10:54:44.128Z"
      },
      {
        "duration": 406,
        "start_time": "2021-06-26T10:54:44.179Z"
      },
      {
        "duration": 415,
        "start_time": "2021-06-26T10:54:44.587Z"
      },
      {
        "duration": 228,
        "start_time": "2021-06-26T10:54:45.005Z"
      },
      {
        "duration": 13,
        "start_time": "2021-06-26T10:54:45.236Z"
      },
      {
        "duration": 24,
        "start_time": "2021-06-26T10:54:45.252Z"
      },
      {
        "duration": 28,
        "start_time": "2021-06-26T10:54:45.301Z"
      },
      {
        "duration": 5,
        "start_time": "2021-06-26T10:54:45.331Z"
      },
      {
        "duration": 536,
        "start_time": "2021-06-26T10:54:45.338Z"
      },
      {
        "duration": 6,
        "start_time": "2021-06-26T10:54:45.876Z"
      },
      {
        "duration": 33,
        "start_time": "2021-06-26T10:54:45.884Z"
      },
      {
        "duration": 13,
        "start_time": "2021-06-26T10:54:45.919Z"
      },
      {
        "duration": 71,
        "start_time": "2021-06-26T10:54:45.936Z"
      },
      {
        "duration": 91,
        "start_time": "2021-06-26T10:54:46.012Z"
      },
      {
        "duration": 7,
        "start_time": "2021-06-26T10:54:46.106Z"
      },
      {
        "duration": 10,
        "start_time": "2021-06-26T10:54:46.115Z"
      },
      {
        "duration": 11,
        "start_time": "2021-06-26T10:54:46.128Z"
      },
      {
        "duration": 21,
        "start_time": "2021-06-26T10:54:46.141Z"
      },
      {
        "duration": 48,
        "start_time": "2021-06-26T10:54:46.165Z"
      },
      {
        "duration": 100,
        "start_time": "2021-06-26T10:54:46.216Z"
      },
      {
        "duration": 5,
        "start_time": "2021-06-26T10:54:46.402Z"
      },
      {
        "duration": 16,
        "start_time": "2021-06-26T10:54:46.409Z"
      },
      {
        "duration": 5,
        "start_time": "2021-06-26T10:54:46.427Z"
      },
      {
        "duration": 6,
        "start_time": "2021-06-26T10:54:46.434Z"
      },
      {
        "duration": 8,
        "start_time": "2021-06-26T10:54:46.442Z"
      },
      {
        "duration": 48,
        "start_time": "2021-06-26T10:54:46.452Z"
      },
      {
        "duration": 19,
        "start_time": "2021-06-26T10:54:46.503Z"
      },
      {
        "duration": 15,
        "start_time": "2021-06-26T10:54:46.524Z"
      },
      {
        "duration": 65,
        "start_time": "2021-06-26T10:54:46.542Z"
      },
      {
        "duration": 6,
        "start_time": "2021-06-26T10:54:46.700Z"
      },
      {
        "duration": 8,
        "start_time": "2021-06-26T10:54:46.709Z"
      },
      {
        "duration": 12,
        "start_time": "2021-06-26T10:54:46.719Z"
      },
      {
        "duration": 3,
        "start_time": "2021-06-26T10:54:46.734Z"
      },
      {
        "duration": 8,
        "start_time": "2021-06-26T10:54:46.740Z"
      },
      {
        "duration": 6,
        "start_time": "2021-06-26T10:54:46.750Z"
      },
      {
        "duration": 41,
        "start_time": "2021-06-26T10:54:46.758Z"
      },
      {
        "duration": 28,
        "start_time": "2021-06-26T10:54:46.801Z"
      },
      {
        "duration": 36,
        "start_time": "2021-06-26T10:54:46.831Z"
      },
      {
        "duration": 440,
        "start_time": "2021-06-26T10:54:46.869Z"
      },
      {
        "duration": -1796,
        "start_time": "2021-06-26T10:54:49.108Z"
      },
      {
        "duration": -1799,
        "start_time": "2021-06-26T10:54:49.112Z"
      },
      {
        "duration": -1809,
        "start_time": "2021-06-26T10:54:49.124Z"
      },
      {
        "duration": -1810,
        "start_time": "2021-06-26T10:54:49.126Z"
      },
      {
        "duration": -1816,
        "start_time": "2021-06-26T10:54:49.134Z"
      },
      {
        "duration": -1818,
        "start_time": "2021-06-26T10:54:49.137Z"
      },
      {
        "duration": -1818,
        "start_time": "2021-06-26T10:54:49.139Z"
      },
      {
        "duration": -1819,
        "start_time": "2021-06-26T10:54:49.141Z"
      },
      {
        "duration": -1820,
        "start_time": "2021-06-26T10:54:49.143Z"
      },
      {
        "duration": -1826,
        "start_time": "2021-06-26T10:54:49.151Z"
      },
      {
        "duration": -1828,
        "start_time": "2021-06-26T10:54:49.154Z"
      },
      {
        "duration": -1828,
        "start_time": "2021-06-26T10:54:49.156Z"
      },
      {
        "duration": 283,
        "start_time": "2021-06-26T10:55:32.653Z"
      },
      {
        "duration": 1527,
        "start_time": "2021-06-26T10:55:43.176Z"
      },
      {
        "duration": 441,
        "start_time": "2021-06-26T10:55:44.705Z"
      },
      {
        "duration": 19,
        "start_time": "2021-06-26T10:55:45.149Z"
      },
      {
        "duration": 28,
        "start_time": "2021-06-26T10:55:45.172Z"
      },
      {
        "duration": 15,
        "start_time": "2021-06-26T10:55:45.203Z"
      },
      {
        "duration": 88,
        "start_time": "2021-06-26T10:55:45.220Z"
      },
      {
        "duration": 49,
        "start_time": "2021-06-26T10:55:45.310Z"
      },
      {
        "duration": 423,
        "start_time": "2021-06-26T10:55:45.363Z"
      },
      {
        "duration": 328,
        "start_time": "2021-06-26T10:55:45.790Z"
      },
      {
        "duration": 229,
        "start_time": "2021-06-26T10:55:46.121Z"
      },
      {
        "duration": 14,
        "start_time": "2021-06-26T10:55:46.353Z"
      },
      {
        "duration": 32,
        "start_time": "2021-06-26T10:55:46.370Z"
      },
      {
        "duration": 13,
        "start_time": "2021-06-26T10:55:46.405Z"
      },
      {
        "duration": 88,
        "start_time": "2021-06-26T10:55:46.421Z"
      },
      {
        "duration": 48,
        "start_time": "2021-06-26T10:55:46.512Z"
      },
      {
        "duration": 431,
        "start_time": "2021-06-26T10:55:46.562Z"
      },
      {
        "duration": 453,
        "start_time": "2021-06-26T10:55:47.000Z"
      },
      {
        "duration": 213,
        "start_time": "2021-06-26T10:55:47.455Z"
      },
      {
        "duration": 12,
        "start_time": "2021-06-26T10:55:47.671Z"
      },
      {
        "duration": 16,
        "start_time": "2021-06-26T10:55:47.701Z"
      },
      {
        "duration": 15,
        "start_time": "2021-06-26T10:55:47.720Z"
      },
      {
        "duration": 102,
        "start_time": "2021-06-26T10:55:47.738Z"
      },
      {
        "duration": 59,
        "start_time": "2021-06-26T10:55:47.848Z"
      },
      {
        "duration": 449,
        "start_time": "2021-06-26T10:55:47.913Z"
      },
      {
        "duration": 425,
        "start_time": "2021-06-26T10:55:48.365Z"
      },
      {
        "duration": 218,
        "start_time": "2021-06-26T10:55:48.793Z"
      },
      {
        "duration": 13,
        "start_time": "2021-06-26T10:55:49.013Z"
      },
      {
        "duration": 22,
        "start_time": "2021-06-26T10:55:49.028Z"
      },
      {
        "duration": 61,
        "start_time": "2021-06-26T10:55:49.053Z"
      },
      {
        "duration": 6,
        "start_time": "2021-06-26T10:55:49.118Z"
      },
      {
        "duration": 740,
        "start_time": "2021-06-26T10:55:49.128Z"
      },
      {
        "duration": 7,
        "start_time": "2021-06-26T10:55:49.871Z"
      },
      {
        "duration": 38,
        "start_time": "2021-06-26T10:55:49.881Z"
      },
      {
        "duration": 87,
        "start_time": "2021-06-26T10:55:49.922Z"
      },
      {
        "duration": 92,
        "start_time": "2021-06-26T10:55:50.012Z"
      },
      {
        "duration": 11,
        "start_time": "2021-06-26T10:55:50.108Z"
      },
      {
        "duration": 11,
        "start_time": "2021-06-26T10:55:50.122Z"
      },
      {
        "duration": 12,
        "start_time": "2021-06-26T10:55:50.136Z"
      },
      {
        "duration": 17,
        "start_time": "2021-06-26T10:55:50.151Z"
      },
      {
        "duration": 52,
        "start_time": "2021-06-26T10:55:50.171Z"
      },
      {
        "duration": 75,
        "start_time": "2021-06-26T10:55:50.226Z"
      },
      {
        "duration": 8,
        "start_time": "2021-06-26T10:55:50.304Z"
      },
      {
        "duration": 6,
        "start_time": "2021-06-26T10:55:50.402Z"
      },
      {
        "duration": 21,
        "start_time": "2021-06-26T10:55:50.411Z"
      },
      {
        "duration": 6,
        "start_time": "2021-06-26T10:55:50.435Z"
      },
      {
        "duration": 4,
        "start_time": "2021-06-26T10:55:50.444Z"
      },
      {
        "duration": 51,
        "start_time": "2021-06-26T10:55:50.451Z"
      },
      {
        "duration": 7,
        "start_time": "2021-06-26T10:55:50.505Z"
      },
      {
        "duration": 23,
        "start_time": "2021-06-26T10:55:50.514Z"
      },
      {
        "duration": 67,
        "start_time": "2021-06-26T10:55:50.539Z"
      },
      {
        "duration": 92,
        "start_time": "2021-06-26T10:55:50.608Z"
      },
      {
        "duration": 6,
        "start_time": "2021-06-26T10:55:50.704Z"
      },
      {
        "duration": 7,
        "start_time": "2021-06-26T10:55:50.713Z"
      },
      {
        "duration": 11,
        "start_time": "2021-06-26T10:55:50.723Z"
      },
      {
        "duration": 6,
        "start_time": "2021-06-26T10:55:50.737Z"
      },
      {
        "duration": 6,
        "start_time": "2021-06-26T10:55:50.745Z"
      },
      {
        "duration": 7,
        "start_time": "2021-06-26T10:55:50.753Z"
      },
      {
        "duration": 4,
        "start_time": "2021-06-26T10:55:50.800Z"
      },
      {
        "duration": 10,
        "start_time": "2021-06-26T10:55:50.806Z"
      },
      {
        "duration": 16,
        "start_time": "2021-06-26T10:55:50.819Z"
      },
      {
        "duration": 417,
        "start_time": "2021-06-26T10:55:50.837Z"
      },
      {
        "duration": -1816,
        "start_time": "2021-06-26T10:55:53.074Z"
      },
      {
        "duration": -1817,
        "start_time": "2021-06-26T10:55:53.077Z"
      },
      {
        "duration": -1818,
        "start_time": "2021-06-26T10:55:53.080Z"
      },
      {
        "duration": -1818,
        "start_time": "2021-06-26T10:55:53.082Z"
      },
      {
        "duration": -1817,
        "start_time": "2021-06-26T10:55:53.083Z"
      },
      {
        "duration": -1818,
        "start_time": "2021-06-26T10:55:53.086Z"
      },
      {
        "duration": -1819,
        "start_time": "2021-06-26T10:55:53.088Z"
      },
      {
        "duration": -1819,
        "start_time": "2021-06-26T10:55:53.090Z"
      },
      {
        "duration": -1819,
        "start_time": "2021-06-26T10:55:53.092Z"
      },
      {
        "duration": -1819,
        "start_time": "2021-06-26T10:55:53.095Z"
      },
      {
        "duration": -1819,
        "start_time": "2021-06-26T10:55:53.097Z"
      },
      {
        "duration": -1819,
        "start_time": "2021-06-26T10:55:53.099Z"
      },
      {
        "duration": 4,
        "start_time": "2021-06-26T10:56:29.791Z"
      },
      {
        "duration": 318,
        "start_time": "2021-06-26T10:56:49.486Z"
      },
      {
        "duration": 782,
        "start_time": "2021-06-26T11:36:09.751Z"
      },
      {
        "duration": 335,
        "start_time": "2021-06-26T11:36:24.957Z"
      },
      {
        "duration": 9,
        "start_time": "2021-06-26T11:37:02.686Z"
      },
      {
        "duration": 1463,
        "start_time": "2021-06-26T11:37:09.456Z"
      },
      {
        "duration": 460,
        "start_time": "2021-06-26T11:37:10.922Z"
      },
      {
        "duration": 24,
        "start_time": "2021-06-26T11:37:11.385Z"
      },
      {
        "duration": 17,
        "start_time": "2021-06-26T11:37:11.413Z"
      },
      {
        "duration": 13,
        "start_time": "2021-06-26T11:37:11.434Z"
      },
      {
        "duration": 109,
        "start_time": "2021-06-26T11:37:11.449Z"
      },
      {
        "duration": 75,
        "start_time": "2021-06-26T11:37:11.561Z"
      },
      {
        "duration": 446,
        "start_time": "2021-06-26T11:37:11.639Z"
      },
      {
        "duration": 357,
        "start_time": "2021-06-26T11:37:12.089Z"
      },
      {
        "duration": 237,
        "start_time": "2021-06-26T11:37:12.449Z"
      },
      {
        "duration": 20,
        "start_time": "2021-06-26T11:37:12.688Z"
      },
      {
        "duration": 17,
        "start_time": "2021-06-26T11:37:12.710Z"
      },
      {
        "duration": 13,
        "start_time": "2021-06-26T11:37:12.730Z"
      },
      {
        "duration": 112,
        "start_time": "2021-06-26T11:37:12.745Z"
      },
      {
        "duration": 61,
        "start_time": "2021-06-26T11:37:12.859Z"
      },
      {
        "duration": 428,
        "start_time": "2021-06-26T11:37:12.922Z"
      },
      {
        "duration": 468,
        "start_time": "2021-06-26T11:37:13.353Z"
      },
      {
        "duration": 221,
        "start_time": "2021-06-26T11:37:13.824Z"
      },
      {
        "duration": 13,
        "start_time": "2021-06-26T11:37:14.047Z"
      },
      {
        "duration": 37,
        "start_time": "2021-06-26T11:37:14.063Z"
      },
      {
        "duration": 13,
        "start_time": "2021-06-26T11:37:14.103Z"
      },
      {
        "duration": 91,
        "start_time": "2021-06-26T11:37:14.118Z"
      },
      {
        "duration": 49,
        "start_time": "2021-06-26T11:37:14.212Z"
      },
      {
        "duration": 437,
        "start_time": "2021-06-26T11:37:14.264Z"
      },
      {
        "duration": 429,
        "start_time": "2021-06-26T11:37:14.703Z"
      },
      {
        "duration": 238,
        "start_time": "2021-06-26T11:37:15.134Z"
      },
      {
        "duration": 22,
        "start_time": "2021-06-26T11:37:15.380Z"
      },
      {
        "duration": 27,
        "start_time": "2021-06-26T11:37:15.405Z"
      },
      {
        "duration": 30,
        "start_time": "2021-06-26T11:37:15.435Z"
      },
      {
        "duration": 5,
        "start_time": "2021-06-26T11:37:15.468Z"
      },
      {
        "duration": 536,
        "start_time": "2021-06-26T11:37:15.500Z"
      },
      {
        "duration": 5,
        "start_time": "2021-06-26T11:37:16.039Z"
      },
      {
        "duration": 25,
        "start_time": "2021-06-26T11:37:16.047Z"
      },
      {
        "duration": 30,
        "start_time": "2021-06-26T11:37:16.074Z"
      },
      {
        "duration": 96,
        "start_time": "2021-06-26T11:37:16.107Z"
      },
      {
        "duration": 96,
        "start_time": "2021-06-26T11:37:16.205Z"
      },
      {
        "duration": 15,
        "start_time": "2021-06-26T11:37:16.304Z"
      },
      {
        "duration": 20,
        "start_time": "2021-06-26T11:37:16.322Z"
      },
      {
        "duration": 23,
        "start_time": "2021-06-26T11:37:16.344Z"
      },
      {
        "duration": 26,
        "start_time": "2021-06-26T11:37:16.369Z"
      },
      {
        "duration": 20,
        "start_time": "2021-06-26T11:37:16.398Z"
      },
      {
        "duration": 89,
        "start_time": "2021-06-26T11:37:16.422Z"
      },
      {
        "duration": 6,
        "start_time": "2021-06-26T11:37:16.602Z"
      },
      {
        "duration": 24,
        "start_time": "2021-06-26T11:37:16.610Z"
      },
      {
        "duration": 18,
        "start_time": "2021-06-26T11:37:16.637Z"
      },
      {
        "duration": 16,
        "start_time": "2021-06-26T11:37:16.657Z"
      },
      {
        "duration": 24,
        "start_time": "2021-06-26T11:37:16.676Z"
      },
      {
        "duration": 21,
        "start_time": "2021-06-26T11:37:16.703Z"
      },
      {
        "duration": 35,
        "start_time": "2021-06-26T11:37:16.726Z"
      },
      {
        "duration": 39,
        "start_time": "2021-06-26T11:37:16.764Z"
      },
      {
        "duration": 104,
        "start_time": "2021-06-26T11:37:16.806Z"
      },
      {
        "duration": 14,
        "start_time": "2021-06-26T11:37:16.918Z"
      },
      {
        "duration": 4,
        "start_time": "2021-06-26T11:37:17.000Z"
      },
      {
        "duration": 9,
        "start_time": "2021-06-26T11:37:17.007Z"
      },
      {
        "duration": 12,
        "start_time": "2021-06-26T11:37:17.018Z"
      },
      {
        "duration": 5,
        "start_time": "2021-06-26T11:37:17.033Z"
      },
      {
        "duration": 8,
        "start_time": "2021-06-26T11:37:17.041Z"
      },
      {
        "duration": 7,
        "start_time": "2021-06-26T11:37:17.051Z"
      },
      {
        "duration": 9,
        "start_time": "2021-06-26T11:37:17.060Z"
      },
      {
        "duration": 14,
        "start_time": "2021-06-26T11:37:17.100Z"
      },
      {
        "duration": 10,
        "start_time": "2021-06-26T11:37:17.117Z"
      },
      {
        "duration": 254,
        "start_time": "2021-06-26T11:37:17.129Z"
      },
      {
        "duration": 14,
        "start_time": "2021-06-26T11:37:17.386Z"
      },
      {
        "duration": 5,
        "start_time": "2021-06-26T11:37:17.403Z"
      },
      {
        "duration": 6,
        "start_time": "2021-06-26T11:37:17.412Z"
      },
      {
        "duration": 444,
        "start_time": "2021-06-26T11:37:17.421Z"
      },
      {
        "duration": 409,
        "start_time": "2021-06-26T11:37:17.867Z"
      },
      {
        "duration": -1771,
        "start_time": "2021-06-26T11:37:20.050Z"
      },
      {
        "duration": -1782,
        "start_time": "2021-06-26T11:37:20.062Z"
      },
      {
        "duration": -1782,
        "start_time": "2021-06-26T11:37:20.064Z"
      },
      {
        "duration": -1784,
        "start_time": "2021-06-26T11:37:20.067Z"
      },
      {
        "duration": -1792,
        "start_time": "2021-06-26T11:37:20.076Z"
      },
      {
        "duration": -1792,
        "start_time": "2021-06-26T11:37:20.078Z"
      },
      {
        "duration": -1793,
        "start_time": "2021-06-26T11:37:20.080Z"
      },
      {
        "duration": -1795,
        "start_time": "2021-06-26T11:37:20.083Z"
      },
      {
        "duration": 319,
        "start_time": "2021-06-26T11:37:28.000Z"
      },
      {
        "duration": 277,
        "start_time": "2021-06-26T11:37:30.997Z"
      },
      {
        "duration": 5,
        "start_time": "2021-06-26T11:37:37.357Z"
      },
      {
        "duration": 1555,
        "start_time": "2021-06-26T11:37:51.860Z"
      },
      {
        "duration": 453,
        "start_time": "2021-06-26T11:37:53.418Z"
      },
      {
        "duration": 26,
        "start_time": "2021-06-26T11:37:53.874Z"
      },
      {
        "duration": 13,
        "start_time": "2021-06-26T11:37:53.903Z"
      },
      {
        "duration": 18,
        "start_time": "2021-06-26T11:37:53.919Z"
      },
      {
        "duration": 92,
        "start_time": "2021-06-26T11:37:53.940Z"
      },
      {
        "duration": 51,
        "start_time": "2021-06-26T11:37:54.035Z"
      },
      {
        "duration": 416,
        "start_time": "2021-06-26T11:37:54.101Z"
      },
      {
        "duration": 330,
        "start_time": "2021-06-26T11:37:54.520Z"
      },
      {
        "duration": 219,
        "start_time": "2021-06-26T11:37:54.853Z"
      },
      {
        "duration": 26,
        "start_time": "2021-06-26T11:37:55.074Z"
      },
      {
        "duration": 14,
        "start_time": "2021-06-26T11:37:55.103Z"
      },
      {
        "duration": 14,
        "start_time": "2021-06-26T11:37:55.120Z"
      },
      {
        "duration": 101,
        "start_time": "2021-06-26T11:37:55.137Z"
      },
      {
        "duration": 59,
        "start_time": "2021-06-26T11:37:55.241Z"
      },
      {
        "duration": 423,
        "start_time": "2021-06-26T11:37:55.303Z"
      },
      {
        "duration": 471,
        "start_time": "2021-06-26T11:37:55.729Z"
      },
      {
        "duration": 229,
        "start_time": "2021-06-26T11:37:56.203Z"
      },
      {
        "duration": 15,
        "start_time": "2021-06-26T11:37:56.434Z"
      },
      {
        "duration": 18,
        "start_time": "2021-06-26T11:37:56.452Z"
      },
      {
        "duration": 37,
        "start_time": "2021-06-26T11:37:56.472Z"
      },
      {
        "duration": 65,
        "start_time": "2021-06-26T11:37:56.511Z"
      },
      {
        "duration": 64,
        "start_time": "2021-06-26T11:37:56.582Z"
      },
      {
        "duration": 421,
        "start_time": "2021-06-26T11:37:56.650Z"
      },
      {
        "duration": 497,
        "start_time": "2021-06-26T11:37:57.073Z"
      },
      {
        "duration": 241,
        "start_time": "2021-06-26T11:37:57.572Z"
      },
      {
        "duration": 14,
        "start_time": "2021-06-26T11:37:57.816Z"
      },
      {
        "duration": 25,
        "start_time": "2021-06-26T11:37:57.833Z"
      },
      {
        "duration": 60,
        "start_time": "2021-06-26T11:37:57.861Z"
      },
      {
        "duration": 6,
        "start_time": "2021-06-26T11:37:57.924Z"
      },
      {
        "duration": 548,
        "start_time": "2021-06-26T11:37:57.933Z"
      },
      {
        "duration": 18,
        "start_time": "2021-06-26T11:37:58.483Z"
      },
      {
        "duration": 18,
        "start_time": "2021-06-26T11:37:58.504Z"
      },
      {
        "duration": 79,
        "start_time": "2021-06-26T11:37:58.525Z"
      },
      {
        "duration": 96,
        "start_time": "2021-06-26T11:37:58.607Z"
      },
      {
        "duration": 5,
        "start_time": "2021-06-26T11:37:58.706Z"
      },
      {
        "duration": 5,
        "start_time": "2021-06-26T11:37:58.713Z"
      },
      {
        "duration": 8,
        "start_time": "2021-06-26T11:37:58.720Z"
      },
      {
        "duration": 8,
        "start_time": "2021-06-26T11:37:58.730Z"
      },
      {
        "duration": 62,
        "start_time": "2021-06-26T11:37:58.740Z"
      },
      {
        "duration": 15,
        "start_time": "2021-06-26T11:37:58.805Z"
      },
      {
        "duration": 177,
        "start_time": "2021-06-26T11:37:58.824Z"
      },
      {
        "duration": 5,
        "start_time": "2021-06-26T11:37:59.004Z"
      },
      {
        "duration": 17,
        "start_time": "2021-06-26T11:37:59.011Z"
      },
      {
        "duration": 6,
        "start_time": "2021-06-26T11:37:59.030Z"
      },
      {
        "duration": 5,
        "start_time": "2021-06-26T11:37:59.038Z"
      },
      {
        "duration": 9,
        "start_time": "2021-06-26T11:37:59.046Z"
      },
      {
        "duration": 5,
        "start_time": "2021-06-26T11:37:59.102Z"
      },
      {
        "duration": 23,
        "start_time": "2021-06-26T11:37:59.110Z"
      },
      {
        "duration": 69,
        "start_time": "2021-06-26T11:37:59.135Z"
      },
      {
        "duration": 96,
        "start_time": "2021-06-26T11:37:59.207Z"
      },
      {
        "duration": 95,
        "start_time": "2021-06-26T11:37:59.306Z"
      },
      {
        "duration": 3,
        "start_time": "2021-06-26T11:37:59.403Z"
      },
      {
        "duration": 14,
        "start_time": "2021-06-26T11:37:59.410Z"
      },
      {
        "duration": 21,
        "start_time": "2021-06-26T11:37:59.427Z"
      },
      {
        "duration": 9,
        "start_time": "2021-06-26T11:37:59.450Z"
      },
      {
        "duration": 18,
        "start_time": "2021-06-26T11:37:59.462Z"
      },
      {
        "duration": 7,
        "start_time": "2021-06-26T11:37:59.483Z"
      },
      {
        "duration": 12,
        "start_time": "2021-06-26T11:37:59.501Z"
      },
      {
        "duration": 25,
        "start_time": "2021-06-26T11:37:59.515Z"
      },
      {
        "duration": 9,
        "start_time": "2021-06-26T11:37:59.543Z"
      },
      {
        "duration": 268,
        "start_time": "2021-06-26T11:37:59.555Z"
      },
      {
        "duration": 15,
        "start_time": "2021-06-26T11:37:59.825Z"
      },
      {
        "duration": 14,
        "start_time": "2021-06-26T11:37:59.843Z"
      },
      {
        "duration": 12,
        "start_time": "2021-06-26T11:37:59.860Z"
      },
      {
        "duration": 428,
        "start_time": "2021-06-26T11:37:59.875Z"
      },
      {
        "duration": 1053,
        "start_time": "2021-06-26T11:38:00.305Z"
      },
      {
        "duration": -1784,
        "start_time": "2021-06-26T11:38:03.146Z"
      },
      {
        "duration": -1785,
        "start_time": "2021-06-26T11:38:03.149Z"
      },
      {
        "duration": -1790,
        "start_time": "2021-06-26T11:38:03.155Z"
      },
      {
        "duration": -1790,
        "start_time": "2021-06-26T11:38:03.157Z"
      },
      {
        "duration": -1789,
        "start_time": "2021-06-26T11:38:03.159Z"
      },
      {
        "duration": -1790,
        "start_time": "2021-06-26T11:38:03.162Z"
      },
      {
        "duration": -1789,
        "start_time": "2021-06-26T11:38:03.164Z"
      },
      {
        "duration": -1788,
        "start_time": "2021-06-26T11:38:03.166Z"
      },
      {
        "duration": 1546,
        "start_time": "2021-06-26T11:38:25.722Z"
      },
      {
        "duration": 446,
        "start_time": "2021-06-26T11:38:27.271Z"
      },
      {
        "duration": 18,
        "start_time": "2021-06-26T11:38:27.720Z"
      },
      {
        "duration": 16,
        "start_time": "2021-06-26T11:38:27.741Z"
      },
      {
        "duration": 12,
        "start_time": "2021-06-26T11:38:27.760Z"
      },
      {
        "duration": 65,
        "start_time": "2021-06-26T11:38:27.801Z"
      },
      {
        "duration": 70,
        "start_time": "2021-06-26T11:38:27.869Z"
      },
      {
        "duration": 418,
        "start_time": "2021-06-26T11:38:27.942Z"
      },
      {
        "duration": 322,
        "start_time": "2021-06-26T11:38:28.364Z"
      },
      {
        "duration": 215,
        "start_time": "2021-06-26T11:38:28.689Z"
      },
      {
        "duration": 13,
        "start_time": "2021-06-26T11:38:28.907Z"
      },
      {
        "duration": 15,
        "start_time": "2021-06-26T11:38:28.922Z"
      },
      {
        "duration": 13,
        "start_time": "2021-06-26T11:38:28.940Z"
      },
      {
        "duration": 100,
        "start_time": "2021-06-26T11:38:28.955Z"
      },
      {
        "duration": 58,
        "start_time": "2021-06-26T11:38:29.058Z"
      },
      {
        "duration": 411,
        "start_time": "2021-06-26T11:38:29.119Z"
      },
      {
        "duration": 595,
        "start_time": "2021-06-26T11:38:29.532Z"
      },
      {
        "duration": 233,
        "start_time": "2021-06-26T11:38:30.129Z"
      },
      {
        "duration": 14,
        "start_time": "2021-06-26T11:38:30.364Z"
      },
      {
        "duration": 32,
        "start_time": "2021-06-26T11:38:30.380Z"
      },
      {
        "duration": 13,
        "start_time": "2021-06-26T11:38:30.415Z"
      },
      {
        "duration": 93,
        "start_time": "2021-06-26T11:38:30.430Z"
      },
      {
        "duration": 47,
        "start_time": "2021-06-26T11:38:30.526Z"
      },
      {
        "duration": 424,
        "start_time": "2021-06-26T11:38:30.576Z"
      },
      {
        "duration": 419,
        "start_time": "2021-06-26T11:38:31.003Z"
      },
      {
        "duration": 228,
        "start_time": "2021-06-26T11:38:31.425Z"
      },
      {
        "duration": 12,
        "start_time": "2021-06-26T11:38:31.661Z"
      },
      {
        "duration": 43,
        "start_time": "2021-06-26T11:38:31.677Z"
      },
      {
        "duration": 29,
        "start_time": "2021-06-26T11:38:31.722Z"
      },
      {
        "duration": 5,
        "start_time": "2021-06-26T11:38:31.754Z"
      },
      {
        "duration": 546,
        "start_time": "2021-06-26T11:38:31.761Z"
      },
      {
        "duration": 6,
        "start_time": "2021-06-26T11:38:32.309Z"
      },
      {
        "duration": 24,
        "start_time": "2021-06-26T11:38:32.318Z"
      },
      {
        "duration": 59,
        "start_time": "2021-06-26T11:38:32.345Z"
      },
      {
        "duration": 102,
        "start_time": "2021-06-26T11:38:32.407Z"
      },
      {
        "duration": 7,
        "start_time": "2021-06-26T11:38:32.511Z"
      },
      {
        "duration": 6,
        "start_time": "2021-06-26T11:38:32.520Z"
      },
      {
        "duration": 9,
        "start_time": "2021-06-26T11:38:32.528Z"
      },
      {
        "duration": 10,
        "start_time": "2021-06-26T11:38:32.539Z"
      },
      {
        "duration": 53,
        "start_time": "2021-06-26T11:38:32.551Z"
      },
      {
        "duration": 23,
        "start_time": "2021-06-26T11:38:32.607Z"
      },
      {
        "duration": 98,
        "start_time": "2021-06-26T11:38:32.703Z"
      },
      {
        "duration": 6,
        "start_time": "2021-06-26T11:38:32.803Z"
      },
      {
        "duration": 15,
        "start_time": "2021-06-26T11:38:32.813Z"
      },
      {
        "duration": 6,
        "start_time": "2021-06-26T11:38:32.830Z"
      },
      {
        "duration": 6,
        "start_time": "2021-06-26T11:38:32.839Z"
      },
      {
        "duration": 8,
        "start_time": "2021-06-26T11:38:32.847Z"
      },
      {
        "duration": 6,
        "start_time": "2021-06-26T11:38:32.901Z"
      },
      {
        "duration": 21,
        "start_time": "2021-06-26T11:38:32.909Z"
      },
      {
        "duration": 72,
        "start_time": "2021-06-26T11:38:32.932Z"
      },
      {
        "duration": 95,
        "start_time": "2021-06-26T11:38:33.008Z"
      },
      {
        "duration": 5,
        "start_time": "2021-06-26T11:38:33.106Z"
      },
      {
        "duration": 4,
        "start_time": "2021-06-26T11:38:33.114Z"
      },
      {
        "duration": 8,
        "start_time": "2021-06-26T11:38:33.121Z"
      },
      {
        "duration": 7,
        "start_time": "2021-06-26T11:38:33.131Z"
      },
      {
        "duration": 6,
        "start_time": "2021-06-26T11:38:33.141Z"
      },
      {
        "duration": 52,
        "start_time": "2021-06-26T11:38:33.150Z"
      },
      {
        "duration": 7,
        "start_time": "2021-06-26T11:38:33.205Z"
      },
      {
        "duration": 7,
        "start_time": "2021-06-26T11:38:33.214Z"
      },
      {
        "duration": 20,
        "start_time": "2021-06-26T11:38:33.224Z"
      },
      {
        "duration": 217,
        "start_time": "2021-06-26T11:38:33.246Z"
      },
      {
        "duration": 13,
        "start_time": "2021-06-26T11:38:33.466Z"
      },
      {
        "duration": 21,
        "start_time": "2021-06-26T11:38:33.482Z"
      },
      {
        "duration": 7,
        "start_time": "2021-06-26T11:38:33.505Z"
      },
      {
        "duration": 401,
        "start_time": "2021-06-26T11:38:33.514Z"
      },
      {
        "duration": 395,
        "start_time": "2021-06-26T11:38:33.917Z"
      },
      {
        "duration": -1781,
        "start_time": "2021-06-26T11:38:36.096Z"
      },
      {
        "duration": -1783,
        "start_time": "2021-06-26T11:38:36.100Z"
      },
      {
        "duration": -1788,
        "start_time": "2021-06-26T11:38:36.107Z"
      },
      {
        "duration": -1788,
        "start_time": "2021-06-26T11:38:36.109Z"
      },
      {
        "duration": -1789,
        "start_time": "2021-06-26T11:38:36.112Z"
      },
      {
        "duration": -1790,
        "start_time": "2021-06-26T11:38:36.115Z"
      },
      {
        "duration": -1790,
        "start_time": "2021-06-26T11:38:36.117Z"
      },
      {
        "duration": -1790,
        "start_time": "2021-06-26T11:38:36.119Z"
      },
      {
        "duration": 1515,
        "start_time": "2021-06-29T17:44:11.426Z"
      },
      {
        "duration": 1041,
        "start_time": "2021-06-29T17:44:12.943Z"
      },
      {
        "duration": 18,
        "start_time": "2021-06-29T17:44:13.987Z"
      },
      {
        "duration": 29,
        "start_time": "2021-06-29T17:44:14.008Z"
      },
      {
        "duration": 13,
        "start_time": "2021-06-29T17:44:14.039Z"
      },
      {
        "duration": 97,
        "start_time": "2021-06-29T17:44:14.054Z"
      },
      {
        "duration": 50,
        "start_time": "2021-06-29T17:44:14.154Z"
      },
      {
        "duration": 644,
        "start_time": "2021-06-29T17:44:14.210Z"
      },
      {
        "duration": 555,
        "start_time": "2021-06-29T17:44:14.858Z"
      },
      {
        "duration": 283,
        "start_time": "2021-06-29T17:44:15.416Z"
      },
      {
        "duration": 24,
        "start_time": "2021-06-29T17:44:15.702Z"
      },
      {
        "duration": 16,
        "start_time": "2021-06-29T17:44:15.729Z"
      },
      {
        "duration": 15,
        "start_time": "2021-06-29T17:44:15.748Z"
      },
      {
        "duration": 107,
        "start_time": "2021-06-29T17:44:15.766Z"
      },
      {
        "duration": 56,
        "start_time": "2021-06-29T17:44:15.875Z"
      },
      {
        "duration": 420,
        "start_time": "2021-06-29T17:44:15.933Z"
      },
      {
        "duration": 472,
        "start_time": "2021-06-29T17:44:16.355Z"
      },
      {
        "duration": 220,
        "start_time": "2021-06-29T17:44:16.830Z"
      },
      {
        "duration": 21,
        "start_time": "2021-06-29T17:44:17.053Z"
      },
      {
        "duration": 48,
        "start_time": "2021-06-29T17:44:17.077Z"
      },
      {
        "duration": 21,
        "start_time": "2021-06-29T17:44:17.128Z"
      },
      {
        "duration": 108,
        "start_time": "2021-06-29T17:44:17.152Z"
      },
      {
        "duration": 84,
        "start_time": "2021-06-29T17:44:17.271Z"
      },
      {
        "duration": 697,
        "start_time": "2021-06-29T17:44:17.362Z"
      },
      {
        "duration": 704,
        "start_time": "2021-06-29T17:44:18.062Z"
      },
      {
        "duration": 379,
        "start_time": "2021-06-29T17:44:18.770Z"
      },
      {
        "duration": 15,
        "start_time": "2021-06-29T17:44:19.152Z"
      },
      {
        "duration": 22,
        "start_time": "2021-06-29T17:44:19.169Z"
      },
      {
        "duration": 54,
        "start_time": "2021-06-29T17:44:19.194Z"
      },
      {
        "duration": 5,
        "start_time": "2021-06-29T17:44:19.250Z"
      },
      {
        "duration": 572,
        "start_time": "2021-06-29T17:44:19.257Z"
      },
      {
        "duration": 6,
        "start_time": "2021-06-29T17:44:19.832Z"
      },
      {
        "duration": 24,
        "start_time": "2021-06-29T17:44:19.840Z"
      },
      {
        "duration": 66,
        "start_time": "2021-06-29T17:44:19.866Z"
      },
      {
        "duration": 7,
        "start_time": "2021-06-29T17:44:20.024Z"
      },
      {
        "duration": 5,
        "start_time": "2021-06-29T17:44:20.033Z"
      },
      {
        "duration": 7,
        "start_time": "2021-06-29T17:44:20.041Z"
      },
      {
        "duration": 8,
        "start_time": "2021-06-29T17:44:20.051Z"
      },
      {
        "duration": 9,
        "start_time": "2021-06-29T17:44:20.061Z"
      },
      {
        "duration": 63,
        "start_time": "2021-06-29T17:44:20.072Z"
      },
      {
        "duration": 90,
        "start_time": "2021-06-29T17:44:20.137Z"
      },
      {
        "duration": 92,
        "start_time": "2021-06-29T17:44:20.233Z"
      },
      {
        "duration": 8,
        "start_time": "2021-06-29T17:44:20.328Z"
      },
      {
        "duration": 16,
        "start_time": "2021-06-29T17:44:20.340Z"
      },
      {
        "duration": 6,
        "start_time": "2021-06-29T17:44:20.358Z"
      },
      {
        "duration": 4,
        "start_time": "2021-06-29T17:44:20.367Z"
      },
      {
        "duration": 52,
        "start_time": "2021-06-29T17:44:20.374Z"
      },
      {
        "duration": 9,
        "start_time": "2021-06-29T17:44:20.429Z"
      },
      {
        "duration": 21,
        "start_time": "2021-06-29T17:44:20.440Z"
      },
      {
        "duration": 66,
        "start_time": "2021-06-29T17:44:20.463Z"
      },
      {
        "duration": 93,
        "start_time": "2021-06-29T17:44:20.531Z"
      },
      {
        "duration": 5,
        "start_time": "2021-06-29T17:44:20.626Z"
      },
      {
        "duration": 7,
        "start_time": "2021-06-29T17:44:20.633Z"
      },
      {
        "duration": 10,
        "start_time": "2021-06-29T17:44:20.642Z"
      },
      {
        "duration": 11,
        "start_time": "2021-06-29T17:44:20.654Z"
      },
      {
        "duration": 16,
        "start_time": "2021-06-29T17:44:20.667Z"
      },
      {
        "duration": 6,
        "start_time": "2021-06-29T17:44:20.686Z"
      },
      {
        "duration": 8,
        "start_time": "2021-06-29T17:44:20.694Z"
      },
      {
        "duration": 4,
        "start_time": "2021-06-29T17:44:20.725Z"
      },
      {
        "duration": 18,
        "start_time": "2021-06-29T17:44:20.731Z"
      },
      {
        "duration": 221,
        "start_time": "2021-06-29T17:44:20.751Z"
      },
      {
        "duration": 14,
        "start_time": "2021-06-29T17:44:20.975Z"
      },
      {
        "duration": 31,
        "start_time": "2021-06-29T17:44:20.992Z"
      },
      {
        "duration": 6,
        "start_time": "2021-06-29T17:44:21.026Z"
      },
      {
        "duration": 413,
        "start_time": "2021-06-29T17:44:21.036Z"
      },
      {
        "duration": 426,
        "start_time": "2021-06-29T17:44:21.452Z"
      },
      {
        "duration": -1353,
        "start_time": "2021-06-29T17:44:23.235Z"
      },
      {
        "duration": -1355,
        "start_time": "2021-06-29T17:44:23.238Z"
      },
      {
        "duration": -1355,
        "start_time": "2021-06-29T17:44:23.240Z"
      },
      {
        "duration": -1356,
        "start_time": "2021-06-29T17:44:23.243Z"
      },
      {
        "duration": -1356,
        "start_time": "2021-06-29T17:44:23.245Z"
      },
      {
        "duration": -1357,
        "start_time": "2021-06-29T17:44:23.248Z"
      },
      {
        "duration": -1356,
        "start_time": "2021-06-29T17:44:23.250Z"
      },
      {
        "duration": -1356,
        "start_time": "2021-06-29T17:44:23.252Z"
      },
      {
        "duration": 273,
        "start_time": "2021-06-29T17:52:32.845Z"
      },
      {
        "duration": 1625,
        "start_time": "2021-06-29T17:54:06.833Z"
      },
      {
        "duration": 476,
        "start_time": "2021-06-29T17:54:08.461Z"
      },
      {
        "duration": 19,
        "start_time": "2021-06-29T17:54:08.940Z"
      },
      {
        "duration": 16,
        "start_time": "2021-06-29T17:54:08.962Z"
      },
      {
        "duration": 43,
        "start_time": "2021-06-29T17:54:08.981Z"
      },
      {
        "duration": 68,
        "start_time": "2021-06-29T17:54:09.027Z"
      },
      {
        "duration": 68,
        "start_time": "2021-06-29T17:54:09.097Z"
      },
      {
        "duration": 423,
        "start_time": "2021-06-29T17:54:09.169Z"
      },
      {
        "duration": 347,
        "start_time": "2021-06-29T17:54:09.596Z"
      },
      {
        "duration": 235,
        "start_time": "2021-06-29T17:54:09.946Z"
      },
      {
        "duration": 14,
        "start_time": "2021-06-29T17:54:10.183Z"
      },
      {
        "duration": 40,
        "start_time": "2021-06-29T17:54:10.200Z"
      },
      {
        "duration": 20,
        "start_time": "2021-06-29T17:54:10.244Z"
      },
      {
        "duration": 105,
        "start_time": "2021-06-29T17:54:10.267Z"
      },
      {
        "duration": 61,
        "start_time": "2021-06-29T17:54:10.374Z"
      },
      {
        "duration": 696,
        "start_time": "2021-06-29T17:54:10.438Z"
      },
      {
        "duration": 502,
        "start_time": "2021-06-29T17:54:11.137Z"
      },
      {
        "duration": 240,
        "start_time": "2021-06-29T17:54:11.642Z"
      },
      {
        "duration": 13,
        "start_time": "2021-06-29T17:54:11.885Z"
      },
      {
        "duration": 36,
        "start_time": "2021-06-29T17:54:11.900Z"
      },
      {
        "duration": 13,
        "start_time": "2021-06-29T17:54:11.939Z"
      },
      {
        "duration": 92,
        "start_time": "2021-06-29T17:54:11.954Z"
      },
      {
        "duration": 49,
        "start_time": "2021-06-29T17:54:12.052Z"
      },
      {
        "duration": 424,
        "start_time": "2021-06-29T17:54:12.105Z"
      },
      {
        "duration": 444,
        "start_time": "2021-06-29T17:54:12.532Z"
      },
      {
        "duration": 249,
        "start_time": "2021-06-29T17:54:12.978Z"
      },
      {
        "duration": 29,
        "start_time": "2021-06-29T17:54:13.229Z"
      },
      {
        "duration": 28,
        "start_time": "2021-06-29T17:54:13.261Z"
      },
      {
        "duration": 41,
        "start_time": "2021-06-29T17:54:13.291Z"
      },
      {
        "duration": 7,
        "start_time": "2021-06-29T17:54:13.335Z"
      },
      {
        "duration": 623,
        "start_time": "2021-06-29T17:54:13.345Z"
      },
      {
        "duration": 5,
        "start_time": "2021-06-29T17:54:13.971Z"
      },
      {
        "duration": 27,
        "start_time": "2021-06-29T17:54:13.980Z"
      },
      {
        "duration": 35,
        "start_time": "2021-06-29T17:54:14.010Z"
      },
      {
        "duration": 178,
        "start_time": "2021-06-29T17:54:14.047Z"
      },
      {
        "duration": 7,
        "start_time": "2021-06-29T17:54:14.227Z"
      },
      {
        "duration": 14,
        "start_time": "2021-06-29T17:54:14.236Z"
      },
      {
        "duration": 13,
        "start_time": "2021-06-29T17:54:14.252Z"
      },
      {
        "duration": 14,
        "start_time": "2021-06-29T17:54:14.268Z"
      },
      {
        "duration": 27,
        "start_time": "2021-06-29T17:54:14.284Z"
      },
      {
        "duration": 21,
        "start_time": "2021-06-29T17:54:14.323Z"
      },
      {
        "duration": 82,
        "start_time": "2021-06-29T17:54:14.346Z"
      },
      {
        "duration": 97,
        "start_time": "2021-06-29T17:54:14.430Z"
      },
      {
        "duration": 18,
        "start_time": "2021-06-29T17:54:14.529Z"
      },
      {
        "duration": 11,
        "start_time": "2021-06-29T17:54:14.550Z"
      },
      {
        "duration": 12,
        "start_time": "2021-06-29T17:54:14.563Z"
      },
      {
        "duration": 16,
        "start_time": "2021-06-29T17:54:14.577Z"
      },
      {
        "duration": 7,
        "start_time": "2021-06-29T17:54:14.595Z"
      },
      {
        "duration": 36,
        "start_time": "2021-06-29T17:54:14.605Z"
      },
      {
        "duration": 15,
        "start_time": "2021-06-29T17:54:14.644Z"
      },
      {
        "duration": 75,
        "start_time": "2021-06-29T17:54:14.662Z"
      },
      {
        "duration": 8,
        "start_time": "2021-06-29T17:54:14.824Z"
      },
      {
        "duration": 9,
        "start_time": "2021-06-29T17:54:14.834Z"
      },
      {
        "duration": 8,
        "start_time": "2021-06-29T17:54:14.846Z"
      },
      {
        "duration": 6,
        "start_time": "2021-06-29T17:54:14.856Z"
      },
      {
        "duration": 6,
        "start_time": "2021-06-29T17:54:14.864Z"
      },
      {
        "duration": 11,
        "start_time": "2021-06-29T17:54:14.872Z"
      },
      {
        "duration": 40,
        "start_time": "2021-06-29T17:54:14.885Z"
      },
      {
        "duration": 8,
        "start_time": "2021-06-29T17:54:14.928Z"
      },
      {
        "duration": 17,
        "start_time": "2021-06-29T17:54:14.939Z"
      },
      {
        "duration": 295,
        "start_time": "2021-06-29T17:54:14.958Z"
      },
      {
        "duration": 19,
        "start_time": "2021-06-29T17:54:15.255Z"
      },
      {
        "duration": 6,
        "start_time": "2021-06-29T17:54:15.276Z"
      },
      {
        "duration": 44,
        "start_time": "2021-06-29T17:54:15.285Z"
      },
      {
        "duration": 520,
        "start_time": "2021-06-29T17:54:15.332Z"
      },
      {
        "duration": 3,
        "start_time": "2021-06-29T17:54:15.855Z"
      },
      {
        "duration": 7,
        "start_time": "2021-06-29T17:54:15.861Z"
      },
      {
        "duration": 3,
        "start_time": "2021-06-29T17:54:15.875Z"
      },
      {
        "duration": 5,
        "start_time": "2021-06-29T17:54:15.881Z"
      },
      {
        "duration": 35,
        "start_time": "2021-06-29T17:54:15.889Z"
      },
      {
        "duration": 9,
        "start_time": "2021-06-29T17:54:15.927Z"
      },
      {
        "duration": 7,
        "start_time": "2021-06-29T17:54:15.938Z"
      },
      {
        "duration": 5,
        "start_time": "2021-06-29T17:54:15.948Z"
      },
      {
        "duration": 10,
        "start_time": "2021-06-29T17:54:15.955Z"
      },
      {
        "duration": 4,
        "start_time": "2021-06-29T17:56:09.216Z"
      },
      {
        "duration": 5,
        "start_time": "2021-06-29T17:56:13.751Z"
      },
      {
        "duration": 407,
        "start_time": "2021-06-29T17:56:24.668Z"
      },
      {
        "duration": 287,
        "start_time": "2021-06-29T17:56:47.453Z"
      },
      {
        "duration": 289,
        "start_time": "2021-06-29T17:57:25.701Z"
      },
      {
        "duration": 292,
        "start_time": "2021-06-29T17:57:35.535Z"
      },
      {
        "duration": 3,
        "start_time": "2021-06-29T17:57:55.213Z"
      },
      {
        "duration": 5,
        "start_time": "2021-06-29T17:58:03.061Z"
      },
      {
        "duration": 1854,
        "start_time": "2021-06-29T17:58:50.492Z"
      },
      {
        "duration": 459,
        "start_time": "2021-06-29T17:58:52.349Z"
      },
      {
        "duration": 22,
        "start_time": "2021-06-29T17:58:52.811Z"
      },
      {
        "duration": 25,
        "start_time": "2021-06-29T17:58:52.835Z"
      },
      {
        "duration": 13,
        "start_time": "2021-06-29T17:58:52.863Z"
      },
      {
        "duration": 93,
        "start_time": "2021-06-29T17:58:52.879Z"
      },
      {
        "duration": 63,
        "start_time": "2021-06-29T17:58:52.974Z"
      },
      {
        "duration": 428,
        "start_time": "2021-06-29T17:58:53.040Z"
      },
      {
        "duration": 343,
        "start_time": "2021-06-29T17:58:53.471Z"
      },
      {
        "duration": 224,
        "start_time": "2021-06-29T17:58:53.816Z"
      },
      {
        "duration": 14,
        "start_time": "2021-06-29T17:58:54.042Z"
      },
      {
        "duration": 17,
        "start_time": "2021-06-29T17:58:54.058Z"
      },
      {
        "duration": 13,
        "start_time": "2021-06-29T17:58:54.078Z"
      },
      {
        "duration": 92,
        "start_time": "2021-06-29T17:58:54.093Z"
      },
      {
        "duration": 70,
        "start_time": "2021-06-29T17:58:54.187Z"
      },
      {
        "duration": 415,
        "start_time": "2021-06-29T17:58:54.260Z"
      },
      {
        "duration": 484,
        "start_time": "2021-06-29T17:58:54.678Z"
      },
      {
        "duration": 224,
        "start_time": "2021-06-29T17:58:55.164Z"
      },
      {
        "duration": 13,
        "start_time": "2021-06-29T17:58:55.390Z"
      },
      {
        "duration": 30,
        "start_time": "2021-06-29T17:58:55.406Z"
      },
      {
        "duration": 13,
        "start_time": "2021-06-29T17:58:55.438Z"
      },
      {
        "duration": 98,
        "start_time": "2021-06-29T17:58:55.454Z"
      },
      {
        "duration": 65,
        "start_time": "2021-06-29T17:58:55.560Z"
      },
      {
        "duration": 412,
        "start_time": "2021-06-29T17:58:55.631Z"
      },
      {
        "duration": 438,
        "start_time": "2021-06-29T17:58:56.045Z"
      },
      {
        "duration": 239,
        "start_time": "2021-06-29T17:58:56.485Z"
      },
      {
        "duration": 13,
        "start_time": "2021-06-29T17:58:56.726Z"
      },
      {
        "duration": 22,
        "start_time": "2021-06-29T17:58:56.741Z"
      },
      {
        "duration": 31,
        "start_time": "2021-06-29T17:58:56.765Z"
      },
      {
        "duration": 7,
        "start_time": "2021-06-29T17:58:56.825Z"
      },
      {
        "duration": 556,
        "start_time": "2021-06-29T17:58:56.835Z"
      },
      {
        "duration": 7,
        "start_time": "2021-06-29T17:58:57.395Z"
      },
      {
        "duration": 37,
        "start_time": "2021-06-29T17:58:57.405Z"
      },
      {
        "duration": 83,
        "start_time": "2021-06-29T17:58:57.444Z"
      },
      {
        "duration": 95,
        "start_time": "2021-06-29T17:58:57.530Z"
      },
      {
        "duration": 9,
        "start_time": "2021-06-29T17:58:57.628Z"
      },
      {
        "duration": 7,
        "start_time": "2021-06-29T17:58:57.639Z"
      },
      {
        "duration": 8,
        "start_time": "2021-06-29T17:58:57.649Z"
      },
      {
        "duration": 26,
        "start_time": "2021-06-29T17:58:57.659Z"
      },
      {
        "duration": 36,
        "start_time": "2021-06-29T17:58:57.688Z"
      },
      {
        "duration": 23,
        "start_time": "2021-06-29T17:58:57.726Z"
      },
      {
        "duration": 99,
        "start_time": "2021-06-29T17:58:57.825Z"
      },
      {
        "duration": 6,
        "start_time": "2021-06-29T17:58:57.926Z"
      },
      {
        "duration": 19,
        "start_time": "2021-06-29T17:58:57.935Z"
      },
      {
        "duration": 6,
        "start_time": "2021-06-29T17:58:57.957Z"
      },
      {
        "duration": 4,
        "start_time": "2021-06-29T17:58:57.966Z"
      },
      {
        "duration": 53,
        "start_time": "2021-06-29T17:58:57.973Z"
      },
      {
        "duration": 7,
        "start_time": "2021-06-29T17:58:58.030Z"
      },
      {
        "duration": 21,
        "start_time": "2021-06-29T17:58:58.039Z"
      },
      {
        "duration": 65,
        "start_time": "2021-06-29T17:58:58.063Z"
      },
      {
        "duration": 93,
        "start_time": "2021-06-29T17:58:58.133Z"
      },
      {
        "duration": 7,
        "start_time": "2021-06-29T17:58:58.228Z"
      },
      {
        "duration": 10,
        "start_time": "2021-06-29T17:58:58.237Z"
      },
      {
        "duration": 10,
        "start_time": "2021-06-29T17:58:58.249Z"
      },
      {
        "duration": 6,
        "start_time": "2021-06-29T17:58:58.261Z"
      },
      {
        "duration": 6,
        "start_time": "2021-06-29T17:58:58.270Z"
      },
      {
        "duration": 6,
        "start_time": "2021-06-29T17:58:58.279Z"
      },
      {
        "duration": 41,
        "start_time": "2021-06-29T17:58:58.287Z"
      },
      {
        "duration": 14,
        "start_time": "2021-06-29T17:58:58.330Z"
      },
      {
        "duration": 14,
        "start_time": "2021-06-29T17:58:58.347Z"
      },
      {
        "duration": 21,
        "start_time": "2021-06-29T17:58:58.365Z"
      },
      {
        "duration": 266,
        "start_time": "2021-06-29T17:58:58.389Z"
      },
      {
        "duration": 4,
        "start_time": "2021-06-29T17:58:58.657Z"
      },
      {
        "duration": 7,
        "start_time": "2021-06-29T17:58:58.663Z"
      },
      {
        "duration": 8,
        "start_time": "2021-06-29T17:58:58.672Z"
      },
      {
        "duration": 6,
        "start_time": "2021-06-29T17:58:58.683Z"
      },
      {
        "duration": 35,
        "start_time": "2021-06-29T17:58:58.691Z"
      },
      {
        "duration": 416,
        "start_time": "2021-06-29T17:58:58.733Z"
      },
      {
        "duration": 3,
        "start_time": "2021-06-29T17:58:59.152Z"
      },
      {
        "duration": 15,
        "start_time": "2021-06-29T17:58:59.157Z"
      },
      {
        "duration": 15,
        "start_time": "2021-06-29T17:58:59.175Z"
      },
      {
        "duration": 7,
        "start_time": "2021-06-29T17:58:59.192Z"
      },
      {
        "duration": 7,
        "start_time": "2021-06-29T17:58:59.201Z"
      },
      {
        "duration": 16,
        "start_time": "2021-06-29T17:58:59.210Z"
      },
      {
        "duration": 9,
        "start_time": "2021-06-29T17:58:59.229Z"
      },
      {
        "duration": 9,
        "start_time": "2021-06-29T17:58:59.241Z"
      },
      {
        "duration": 19,
        "start_time": "2021-06-29T17:58:59.252Z"
      },
      {
        "duration": 4,
        "start_time": "2021-06-29T18:00:18.284Z"
      },
      {
        "duration": 6,
        "start_time": "2021-06-29T18:00:22.725Z"
      },
      {
        "duration": 4,
        "start_time": "2021-06-29T18:00:36.719Z"
      },
      {
        "duration": 4,
        "start_time": "2021-06-29T18:00:37.718Z"
      },
      {
        "duration": 4,
        "start_time": "2021-06-29T18:00:38.572Z"
      },
      {
        "duration": 4,
        "start_time": "2021-06-29T18:00:40.053Z"
      },
      {
        "duration": 3,
        "start_time": "2021-06-29T18:00:40.507Z"
      },
      {
        "duration": 567,
        "start_time": "2021-06-29T18:00:42.494Z"
      },
      {
        "duration": 322,
        "start_time": "2021-06-29T18:00:49.421Z"
      },
      {
        "duration": 1506,
        "start_time": "2021-06-29T18:00:56.128Z"
      },
      {
        "duration": 465,
        "start_time": "2021-06-29T18:00:57.637Z"
      },
      {
        "duration": 28,
        "start_time": "2021-06-29T18:00:58.106Z"
      },
      {
        "duration": 17,
        "start_time": "2021-06-29T18:00:58.138Z"
      },
      {
        "duration": 16,
        "start_time": "2021-06-29T18:00:58.158Z"
      },
      {
        "duration": 108,
        "start_time": "2021-06-29T18:00:58.177Z"
      },
      {
        "duration": 76,
        "start_time": "2021-06-29T18:00:58.288Z"
      },
      {
        "duration": 414,
        "start_time": "2021-06-29T18:00:58.367Z"
      },
      {
        "duration": 332,
        "start_time": "2021-06-29T18:00:58.784Z"
      },
      {
        "duration": 219,
        "start_time": "2021-06-29T18:00:59.124Z"
      },
      {
        "duration": 13,
        "start_time": "2021-06-29T18:00:59.346Z"
      },
      {
        "duration": 18,
        "start_time": "2021-06-29T18:00:59.361Z"
      },
      {
        "duration": 13,
        "start_time": "2021-06-29T18:00:59.381Z"
      },
      {
        "duration": 63,
        "start_time": "2021-06-29T18:00:59.425Z"
      },
      {
        "duration": 74,
        "start_time": "2021-06-29T18:00:59.490Z"
      },
      {
        "duration": 422,
        "start_time": "2021-06-29T18:00:59.566Z"
      },
      {
        "duration": 516,
        "start_time": "2021-06-29T18:00:59.990Z"
      },
      {
        "duration": 228,
        "start_time": "2021-06-29T18:01:00.508Z"
      },
      {
        "duration": 14,
        "start_time": "2021-06-29T18:01:00.739Z"
      },
      {
        "duration": 20,
        "start_time": "2021-06-29T18:01:00.755Z"
      },
      {
        "duration": 15,
        "start_time": "2021-06-29T18:01:00.778Z"
      },
      {
        "duration": 70,
        "start_time": "2021-06-29T18:01:00.825Z"
      },
      {
        "duration": 66,
        "start_time": "2021-06-29T18:01:00.901Z"
      },
      {
        "duration": 439,
        "start_time": "2021-06-29T18:01:00.971Z"
      },
      {
        "duration": 432,
        "start_time": "2021-06-29T18:01:01.412Z"
      },
      {
        "duration": 244,
        "start_time": "2021-06-29T18:01:01.847Z"
      },
      {
        "duration": 12,
        "start_time": "2021-06-29T18:01:02.094Z"
      },
      {
        "duration": 44,
        "start_time": "2021-06-29T18:01:02.109Z"
      },
      {
        "duration": 34,
        "start_time": "2021-06-29T18:01:02.156Z"
      },
      {
        "duration": 8,
        "start_time": "2021-06-29T18:01:02.192Z"
      },
      {
        "duration": 561,
        "start_time": "2021-06-29T18:01:02.202Z"
      },
      {
        "duration": 6,
        "start_time": "2021-06-29T18:01:02.765Z"
      },
      {
        "duration": 22,
        "start_time": "2021-06-29T18:01:02.773Z"
      },
      {
        "duration": 41,
        "start_time": "2021-06-29T18:01:02.798Z"
      },
      {
        "duration": 88,
        "start_time": "2021-06-29T18:01:02.841Z"
      },
      {
        "duration": 94,
        "start_time": "2021-06-29T18:01:02.932Z"
      },
      {
        "duration": 6,
        "start_time": "2021-06-29T18:01:03.029Z"
      },
      {
        "duration": 20,
        "start_time": "2021-06-29T18:01:03.037Z"
      },
      {
        "duration": 7,
        "start_time": "2021-06-29T18:01:03.060Z"
      },
      {
        "duration": 21,
        "start_time": "2021-06-29T18:01:03.070Z"
      },
      {
        "duration": 49,
        "start_time": "2021-06-29T18:01:03.094Z"
      },
      {
        "duration": 82,
        "start_time": "2021-06-29T18:01:03.146Z"
      },
      {
        "duration": 96,
        "start_time": "2021-06-29T18:01:03.231Z"
      },
      {
        "duration": 19,
        "start_time": "2021-06-29T18:01:03.330Z"
      },
      {
        "duration": 8,
        "start_time": "2021-06-29T18:01:03.352Z"
      },
      {
        "duration": 6,
        "start_time": "2021-06-29T18:01:03.363Z"
      },
      {
        "duration": 8,
        "start_time": "2021-06-29T18:01:03.372Z"
      },
      {
        "duration": 41,
        "start_time": "2021-06-29T18:01:03.383Z"
      },
      {
        "duration": 26,
        "start_time": "2021-06-29T18:01:03.427Z"
      },
      {
        "duration": 69,
        "start_time": "2021-06-29T18:01:03.456Z"
      },
      {
        "duration": 96,
        "start_time": "2021-06-29T18:01:03.528Z"
      },
      {
        "duration": 5,
        "start_time": "2021-06-29T18:01:03.627Z"
      },
      {
        "duration": 5,
        "start_time": "2021-06-29T18:01:03.634Z"
      },
      {
        "duration": 7,
        "start_time": "2021-06-29T18:01:03.642Z"
      },
      {
        "duration": 8,
        "start_time": "2021-06-29T18:01:03.651Z"
      },
      {
        "duration": 6,
        "start_time": "2021-06-29T18:01:03.661Z"
      },
      {
        "duration": 12,
        "start_time": "2021-06-29T18:01:03.669Z"
      },
      {
        "duration": 40,
        "start_time": "2021-06-29T18:01:03.683Z"
      },
      {
        "duration": 5,
        "start_time": "2021-06-29T18:01:03.725Z"
      },
      {
        "duration": 30,
        "start_time": "2021-06-29T18:01:03.732Z"
      },
      {
        "duration": 208,
        "start_time": "2021-06-29T18:01:03.764Z"
      },
      {
        "duration": 3,
        "start_time": "2021-06-29T18:01:03.974Z"
      },
      {
        "duration": 15,
        "start_time": "2021-06-29T18:01:03.979Z"
      },
      {
        "duration": 10,
        "start_time": "2021-06-29T18:01:03.996Z"
      },
      {
        "duration": 24,
        "start_time": "2021-06-29T18:01:04.008Z"
      },
      {
        "duration": 432,
        "start_time": "2021-06-29T18:01:04.034Z"
      },
      {
        "duration": -1354,
        "start_time": "2021-06-29T18:01:05.823Z"
      },
      {
        "duration": -1355,
        "start_time": "2021-06-29T18:01:05.825Z"
      },
      {
        "duration": -1356,
        "start_time": "2021-06-29T18:01:05.828Z"
      },
      {
        "duration": -1357,
        "start_time": "2021-06-29T18:01:05.830Z"
      },
      {
        "duration": -1358,
        "start_time": "2021-06-29T18:01:05.833Z"
      },
      {
        "duration": -1359,
        "start_time": "2021-06-29T18:01:05.835Z"
      },
      {
        "duration": -1360,
        "start_time": "2021-06-29T18:01:05.837Z"
      },
      {
        "duration": -1362,
        "start_time": "2021-06-29T18:01:05.840Z"
      },
      {
        "duration": -1362,
        "start_time": "2021-06-29T18:01:05.842Z"
      },
      {
        "duration": -1363,
        "start_time": "2021-06-29T18:01:05.844Z"
      },
      {
        "duration": -1363,
        "start_time": "2021-06-29T18:01:05.846Z"
      },
      {
        "duration": -1364,
        "start_time": "2021-06-29T18:01:05.848Z"
      },
      {
        "duration": -1366,
        "start_time": "2021-06-29T18:01:05.851Z"
      },
      {
        "duration": 4,
        "start_time": "2021-06-29T18:01:46.350Z"
      },
      {
        "duration": 5,
        "start_time": "2021-06-29T18:01:48.517Z"
      },
      {
        "duration": 10,
        "start_time": "2021-06-29T18:01:49.861Z"
      },
      {
        "duration": 253,
        "start_time": "2021-06-29T18:02:03.910Z"
      },
      {
        "duration": 196,
        "start_time": "2021-06-29T18:03:37.391Z"
      },
      {
        "duration": 287,
        "start_time": "2021-06-29T18:03:43.918Z"
      },
      {
        "duration": 216,
        "start_time": "2021-06-29T18:03:51.773Z"
      },
      {
        "duration": 244,
        "start_time": "2021-06-29T18:03:56.622Z"
      },
      {
        "duration": 270,
        "start_time": "2021-06-29T18:04:08.063Z"
      },
      {
        "duration": 215,
        "start_time": "2021-06-29T18:04:12.317Z"
      },
      {
        "duration": 201,
        "start_time": "2021-06-29T18:04:17.351Z"
      },
      {
        "duration": 214,
        "start_time": "2021-06-29T18:05:38.322Z"
      },
      {
        "duration": 307,
        "start_time": "2021-06-29T18:05:41.952Z"
      },
      {
        "duration": 199,
        "start_time": "2021-06-29T18:05:54.398Z"
      },
      {
        "duration": 214,
        "start_time": "2021-06-29T18:05:57.792Z"
      },
      {
        "duration": 540,
        "start_time": "2021-06-29T18:06:12.806Z"
      },
      {
        "duration": 196,
        "start_time": "2021-06-29T18:06:20.575Z"
      },
      {
        "duration": 196,
        "start_time": "2021-06-29T18:06:22.936Z"
      },
      {
        "duration": 211,
        "start_time": "2021-06-29T18:06:32.574Z"
      },
      {
        "duration": 191,
        "start_time": "2021-06-29T18:06:34.403Z"
      },
      {
        "duration": 5,
        "start_time": "2021-06-29T18:10:57.604Z"
      },
      {
        "duration": 274,
        "start_time": "2021-06-29T18:14:57.143Z"
      },
      {
        "duration": 669,
        "start_time": "2021-06-29T18:15:07.136Z"
      },
      {
        "duration": 17,
        "start_time": "2021-06-29T18:15:14.361Z"
      },
      {
        "duration": 8,
        "start_time": "2021-06-29T18:25:30.771Z"
      },
      {
        "duration": 8,
        "start_time": "2021-06-29T18:25:50.515Z"
      },
      {
        "duration": 490,
        "start_time": "2021-06-29T18:30:58.877Z"
      },
      {
        "duration": 8,
        "start_time": "2021-06-29T18:37:02.110Z"
      },
      {
        "duration": 210,
        "start_time": "2021-06-29T18:37:09.614Z"
      },
      {
        "duration": 8,
        "start_time": "2021-06-29T18:37:24.030Z"
      },
      {
        "duration": 8212,
        "start_time": "2021-06-29T18:37:37.847Z"
      },
      {
        "duration": 4242,
        "start_time": "2021-06-29T18:38:22.446Z"
      },
      {
        "duration": 7,
        "start_time": "2021-06-29T18:39:49.951Z"
      },
      {
        "duration": 6,
        "start_time": "2021-06-29T18:39:55.232Z"
      },
      {
        "duration": 8,
        "start_time": "2021-06-29T18:40:02.103Z"
      },
      {
        "duration": 15,
        "start_time": "2021-06-29T18:40:40.391Z"
      },
      {
        "duration": 6,
        "start_time": "2021-06-29T18:41:03.384Z"
      },
      {
        "duration": 18,
        "start_time": "2021-06-29T18:41:18.727Z"
      },
      {
        "duration": 18,
        "start_time": "2021-06-29T18:42:09.887Z"
      },
      {
        "duration": 1540,
        "start_time": "2021-06-29T18:42:16.912Z"
      },
      {
        "duration": 479,
        "start_time": "2021-06-29T18:42:18.455Z"
      },
      {
        "duration": 20,
        "start_time": "2021-06-29T18:42:18.937Z"
      },
      {
        "duration": 14,
        "start_time": "2021-06-29T18:42:18.961Z"
      },
      {
        "duration": 47,
        "start_time": "2021-06-29T18:42:18.978Z"
      },
      {
        "duration": 67,
        "start_time": "2021-06-29T18:42:19.028Z"
      },
      {
        "duration": 69,
        "start_time": "2021-06-29T18:42:19.098Z"
      },
      {
        "duration": 426,
        "start_time": "2021-06-29T18:42:19.173Z"
      },
      {
        "duration": 351,
        "start_time": "2021-06-29T18:42:19.603Z"
      },
      {
        "duration": 225,
        "start_time": "2021-06-29T18:42:19.957Z"
      },
      {
        "duration": 14,
        "start_time": "2021-06-29T18:42:20.186Z"
      },
      {
        "duration": 34,
        "start_time": "2021-06-29T18:42:20.204Z"
      },
      {
        "duration": 16,
        "start_time": "2021-06-29T18:42:20.241Z"
      },
      {
        "duration": 103,
        "start_time": "2021-06-29T18:42:20.260Z"
      },
      {
        "duration": 63,
        "start_time": "2021-06-29T18:42:20.366Z"
      },
      {
        "duration": 424,
        "start_time": "2021-06-29T18:42:20.432Z"
      },
      {
        "duration": 481,
        "start_time": "2021-06-29T18:42:20.859Z"
      },
      {
        "duration": 226,
        "start_time": "2021-06-29T18:42:21.343Z"
      },
      {
        "duration": 14,
        "start_time": "2021-06-29T18:42:21.572Z"
      },
      {
        "duration": 38,
        "start_time": "2021-06-29T18:42:21.589Z"
      },
      {
        "duration": 13,
        "start_time": "2021-06-29T18:42:21.629Z"
      },
      {
        "duration": 95,
        "start_time": "2021-06-29T18:42:21.644Z"
      },
      {
        "duration": 48,
        "start_time": "2021-06-29T18:42:21.745Z"
      },
      {
        "duration": 423,
        "start_time": "2021-06-29T18:42:21.797Z"
      },
      {
        "duration": 420,
        "start_time": "2021-06-29T18:42:22.224Z"
      },
      {
        "duration": 240,
        "start_time": "2021-06-29T18:42:22.646Z"
      },
      {
        "duration": 12,
        "start_time": "2021-06-29T18:42:22.889Z"
      },
      {
        "duration": 36,
        "start_time": "2021-06-29T18:42:22.904Z"
      },
      {
        "duration": 30,
        "start_time": "2021-06-29T18:42:22.942Z"
      },
      {
        "duration": 6,
        "start_time": "2021-06-29T18:42:22.975Z"
      },
      {
        "duration": 632,
        "start_time": "2021-06-29T18:42:22.983Z"
      },
      {
        "duration": 10,
        "start_time": "2021-06-29T18:42:23.617Z"
      },
      {
        "duration": 25,
        "start_time": "2021-06-29T18:42:23.629Z"
      },
      {
        "duration": 70,
        "start_time": "2021-06-29T18:42:23.657Z"
      },
      {
        "duration": 96,
        "start_time": "2021-06-29T18:42:23.730Z"
      },
      {
        "duration": 6,
        "start_time": "2021-06-29T18:42:23.828Z"
      },
      {
        "duration": 21,
        "start_time": "2021-06-29T18:42:23.836Z"
      },
      {
        "duration": 21,
        "start_time": "2021-06-29T18:42:23.859Z"
      },
      {
        "duration": 17,
        "start_time": "2021-06-29T18:42:23.882Z"
      },
      {
        "duration": 35,
        "start_time": "2021-06-29T18:42:23.901Z"
      },
      {
        "duration": 16,
        "start_time": "2021-06-29T18:42:23.939Z"
      },
      {
        "duration": 73,
        "start_time": "2021-06-29T18:42:23.958Z"
      },
      {
        "duration": 100,
        "start_time": "2021-06-29T18:42:24.034Z"
      },
      {
        "duration": 14,
        "start_time": "2021-06-29T18:42:24.138Z"
      },
      {
        "duration": 23,
        "start_time": "2021-06-29T18:42:24.154Z"
      },
      {
        "duration": 10,
        "start_time": "2021-06-29T18:42:24.180Z"
      },
      {
        "duration": 23,
        "start_time": "2021-06-29T18:42:24.192Z"
      },
      {
        "duration": 17,
        "start_time": "2021-06-29T18:42:24.224Z"
      },
      {
        "duration": 173,
        "start_time": "2021-06-29T18:42:24.253Z"
      },
      {
        "duration": 9,
        "start_time": "2021-06-29T18:42:24.428Z"
      },
      {
        "duration": 10,
        "start_time": "2021-06-29T18:42:24.439Z"
      },
      {
        "duration": 21,
        "start_time": "2021-06-29T18:42:24.452Z"
      },
      {
        "duration": 14,
        "start_time": "2021-06-29T18:42:24.475Z"
      },
      {
        "duration": 16,
        "start_time": "2021-06-29T18:42:24.491Z"
      },
      {
        "duration": 15,
        "start_time": "2021-06-29T18:42:24.509Z"
      },
      {
        "duration": 25,
        "start_time": "2021-06-29T18:42:24.526Z"
      },
      {
        "duration": 25,
        "start_time": "2021-06-29T18:42:24.553Z"
      },
      {
        "duration": 27,
        "start_time": "2021-06-29T18:42:24.581Z"
      },
      {
        "duration": 214,
        "start_time": "2021-06-29T18:42:24.610Z"
      },
      {
        "duration": 4,
        "start_time": "2021-06-29T18:42:24.826Z"
      },
      {
        "duration": 36,
        "start_time": "2021-06-29T18:42:24.832Z"
      },
      {
        "duration": 29,
        "start_time": "2021-06-29T18:42:24.871Z"
      },
      {
        "duration": 20,
        "start_time": "2021-06-29T18:42:24.902Z"
      },
      {
        "duration": 27,
        "start_time": "2021-06-29T18:42:24.924Z"
      },
      {
        "duration": 247,
        "start_time": "2021-06-29T18:42:24.953Z"
      },
      {
        "duration": 5,
        "start_time": "2021-06-29T18:42:25.202Z"
      },
      {
        "duration": 17,
        "start_time": "2021-06-29T18:42:25.209Z"
      },
      {
        "duration": 425,
        "start_time": "2021-06-29T18:42:25.234Z"
      },
      {
        "duration": 3,
        "start_time": "2021-06-29T18:42:25.661Z"
      },
      {
        "duration": 6,
        "start_time": "2021-06-29T18:42:25.666Z"
      },
      {
        "duration": 7,
        "start_time": "2021-06-29T18:42:25.674Z"
      },
      {
        "duration": 6,
        "start_time": "2021-06-29T18:42:25.683Z"
      },
      {
        "duration": 32,
        "start_time": "2021-06-29T18:42:25.691Z"
      },
      {
        "duration": 4,
        "start_time": "2021-06-29T18:42:25.725Z"
      },
      {
        "duration": 5,
        "start_time": "2021-06-29T18:42:25.732Z"
      },
      {
        "duration": 6,
        "start_time": "2021-06-29T18:42:25.740Z"
      },
      {
        "duration": 15,
        "start_time": "2021-06-29T18:42:25.748Z"
      },
      {
        "duration": 18,
        "start_time": "2021-06-29T18:42:25.765Z"
      },
      {
        "duration": 225,
        "start_time": "2021-06-29T18:42:25.785Z"
      },
      {
        "duration": 4,
        "start_time": "2021-06-29T18:42:26.013Z"
      },
      {
        "duration": 5238,
        "start_time": "2021-06-29T18:42:26.019Z"
      },
      {
        "duration": -1345,
        "start_time": "2021-06-29T18:42:32.605Z"
      },
      {
        "duration": -1346,
        "start_time": "2021-06-29T18:42:32.607Z"
      },
      {
        "duration": -1346,
        "start_time": "2021-06-29T18:42:32.609Z"
      },
      {
        "duration": -1348,
        "start_time": "2021-06-29T18:42:32.612Z"
      },
      {
        "duration": 1485,
        "start_time": "2021-06-29T18:42:52.551Z"
      },
      {
        "duration": 464,
        "start_time": "2021-06-29T18:42:54.038Z"
      },
      {
        "duration": 23,
        "start_time": "2021-06-29T18:42:54.506Z"
      },
      {
        "duration": 22,
        "start_time": "2021-06-29T18:42:54.532Z"
      },
      {
        "duration": 13,
        "start_time": "2021-06-29T18:42:54.557Z"
      },
      {
        "duration": 89,
        "start_time": "2021-06-29T18:42:54.573Z"
      },
      {
        "duration": 67,
        "start_time": "2021-06-29T18:42:54.664Z"
      },
      {
        "duration": 433,
        "start_time": "2021-06-29T18:42:54.734Z"
      },
      {
        "duration": 329,
        "start_time": "2021-06-29T18:42:55.172Z"
      },
      {
        "duration": 222,
        "start_time": "2021-06-29T18:42:55.505Z"
      },
      {
        "duration": 14,
        "start_time": "2021-06-29T18:42:55.730Z"
      },
      {
        "duration": 18,
        "start_time": "2021-06-29T18:42:55.747Z"
      },
      {
        "duration": 21,
        "start_time": "2021-06-29T18:42:55.767Z"
      },
      {
        "duration": 96,
        "start_time": "2021-06-29T18:42:55.790Z"
      },
      {
        "duration": 73,
        "start_time": "2021-06-29T18:42:55.889Z"
      },
      {
        "duration": 409,
        "start_time": "2021-06-29T18:42:55.964Z"
      },
      {
        "duration": 476,
        "start_time": "2021-06-29T18:42:56.375Z"
      },
      {
        "duration": 225,
        "start_time": "2021-06-29T18:42:56.854Z"
      },
      {
        "duration": 14,
        "start_time": "2021-06-29T18:42:57.081Z"
      },
      {
        "duration": 35,
        "start_time": "2021-06-29T18:42:57.097Z"
      },
      {
        "duration": 13,
        "start_time": "2021-06-29T18:42:57.134Z"
      },
      {
        "duration": 93,
        "start_time": "2021-06-29T18:42:57.150Z"
      },
      {
        "duration": 50,
        "start_time": "2021-06-29T18:42:57.246Z"
      },
      {
        "duration": 410,
        "start_time": "2021-06-29T18:42:57.298Z"
      },
      {
        "duration": 424,
        "start_time": "2021-06-29T18:42:57.710Z"
      },
      {
        "duration": 234,
        "start_time": "2021-06-29T18:42:58.136Z"
      },
      {
        "duration": 13,
        "start_time": "2021-06-29T18:42:58.377Z"
      },
      {
        "duration": 39,
        "start_time": "2021-06-29T18:42:58.394Z"
      },
      {
        "duration": 31,
        "start_time": "2021-06-29T18:42:58.436Z"
      },
      {
        "duration": 5,
        "start_time": "2021-06-29T18:42:58.469Z"
      },
      {
        "duration": 568,
        "start_time": "2021-06-29T18:42:58.477Z"
      },
      {
        "duration": 6,
        "start_time": "2021-06-29T18:42:59.048Z"
      },
      {
        "duration": 35,
        "start_time": "2021-06-29T18:42:59.056Z"
      },
      {
        "duration": 34,
        "start_time": "2021-06-29T18:42:59.094Z"
      },
      {
        "duration": 95,
        "start_time": "2021-06-29T18:42:59.131Z"
      },
      {
        "duration": 97,
        "start_time": "2021-06-29T18:42:59.229Z"
      },
      {
        "duration": 22,
        "start_time": "2021-06-29T18:42:59.329Z"
      },
      {
        "duration": 22,
        "start_time": "2021-06-29T18:42:59.353Z"
      },
      {
        "duration": 20,
        "start_time": "2021-06-29T18:42:59.378Z"
      },
      {
        "duration": 28,
        "start_time": "2021-06-29T18:42:59.400Z"
      },
      {
        "duration": 17,
        "start_time": "2021-06-29T18:42:59.430Z"
      },
      {
        "duration": 78,
        "start_time": "2021-06-29T18:42:59.450Z"
      },
      {
        "duration": 104,
        "start_time": "2021-06-29T18:42:59.530Z"
      },
      {
        "duration": 16,
        "start_time": "2021-06-29T18:42:59.636Z"
      },
      {
        "duration": 17,
        "start_time": "2021-06-29T18:42:59.655Z"
      },
      {
        "duration": 9,
        "start_time": "2021-06-29T18:42:59.674Z"
      },
      {
        "duration": 55,
        "start_time": "2021-06-29T18:42:59.685Z"
      },
      {
        "duration": 18,
        "start_time": "2021-06-29T18:42:59.742Z"
      },
      {
        "duration": 66,
        "start_time": "2021-06-29T18:42:59.763Z"
      },
      {
        "duration": 99,
        "start_time": "2021-06-29T18:42:59.832Z"
      },
      {
        "duration": 6,
        "start_time": "2021-06-29T18:42:59.933Z"
      },
      {
        "duration": 11,
        "start_time": "2021-06-29T18:42:59.941Z"
      },
      {
        "duration": 15,
        "start_time": "2021-06-29T18:42:59.954Z"
      },
      {
        "duration": 10,
        "start_time": "2021-06-29T18:42:59.972Z"
      },
      {
        "duration": 6,
        "start_time": "2021-06-29T18:42:59.984Z"
      },
      {
        "duration": 6,
        "start_time": "2021-06-29T18:42:59.992Z"
      },
      {
        "duration": 25,
        "start_time": "2021-06-29T18:43:00.000Z"
      },
      {
        "duration": 27,
        "start_time": "2021-06-29T18:43:00.027Z"
      },
      {
        "duration": 208,
        "start_time": "2021-06-29T18:43:00.056Z"
      },
      {
        "duration": 4,
        "start_time": "2021-06-29T18:43:00.266Z"
      },
      {
        "duration": 20,
        "start_time": "2021-06-29T18:43:00.273Z"
      },
      {
        "duration": 19,
        "start_time": "2021-06-29T18:43:00.295Z"
      },
      {
        "duration": 18,
        "start_time": "2021-06-29T18:43:00.316Z"
      },
      {
        "duration": 19,
        "start_time": "2021-06-29T18:43:00.336Z"
      },
      {
        "duration": 281,
        "start_time": "2021-06-29T18:43:00.358Z"
      },
      {
        "duration": 6,
        "start_time": "2021-06-29T18:43:00.641Z"
      },
      {
        "duration": 20,
        "start_time": "2021-06-29T18:43:00.649Z"
      },
      {
        "duration": 415,
        "start_time": "2021-06-29T18:43:00.671Z"
      },
      {
        "duration": 4,
        "start_time": "2021-06-29T18:43:01.088Z"
      },
      {
        "duration": 21,
        "start_time": "2021-06-29T18:43:01.094Z"
      },
      {
        "duration": 10,
        "start_time": "2021-06-29T18:43:01.117Z"
      },
      {
        "duration": 10,
        "start_time": "2021-06-29T18:43:01.129Z"
      },
      {
        "duration": 13,
        "start_time": "2021-06-29T18:43:01.141Z"
      },
      {
        "duration": 20,
        "start_time": "2021-06-29T18:43:01.156Z"
      },
      {
        "duration": 22,
        "start_time": "2021-06-29T18:43:01.178Z"
      },
      {
        "duration": 25,
        "start_time": "2021-06-29T18:43:01.202Z"
      },
      {
        "duration": 33,
        "start_time": "2021-06-29T18:43:01.230Z"
      },
      {
        "duration": 21,
        "start_time": "2021-06-29T18:43:01.266Z"
      },
      {
        "duration": 309,
        "start_time": "2021-06-29T18:43:01.289Z"
      },
      {
        "duration": 4,
        "start_time": "2021-06-29T18:43:01.601Z"
      },
      {
        "duration": 12,
        "start_time": "2021-06-29T18:43:01.624Z"
      },
      {
        "duration": 32,
        "start_time": "2021-06-29T18:43:01.640Z"
      },
      {
        "duration": 30,
        "start_time": "2021-06-29T18:43:01.675Z"
      },
      {
        "duration": 37,
        "start_time": "2021-06-29T18:43:01.708Z"
      },
      {
        "duration": 7,
        "start_time": "2021-06-29T18:44:46.629Z"
      },
      {
        "duration": 1536,
        "start_time": "2021-06-29T18:46:19.698Z"
      },
      {
        "duration": 456,
        "start_time": "2021-06-29T18:46:21.237Z"
      },
      {
        "duration": 19,
        "start_time": "2021-06-29T18:46:21.696Z"
      },
      {
        "duration": 14,
        "start_time": "2021-06-29T18:46:21.724Z"
      },
      {
        "duration": 15,
        "start_time": "2021-06-29T18:46:21.741Z"
      },
      {
        "duration": 100,
        "start_time": "2021-06-29T18:46:21.758Z"
      },
      {
        "duration": 50,
        "start_time": "2021-06-29T18:46:21.860Z"
      },
      {
        "duration": 411,
        "start_time": "2021-06-29T18:46:21.924Z"
      },
      {
        "duration": 324,
        "start_time": "2021-06-29T18:46:22.339Z"
      },
      {
        "duration": 228,
        "start_time": "2021-06-29T18:46:22.666Z"
      },
      {
        "duration": 13,
        "start_time": "2021-06-29T18:46:22.896Z"
      },
      {
        "duration": 25,
        "start_time": "2021-06-29T18:46:22.912Z"
      },
      {
        "duration": 16,
        "start_time": "2021-06-29T18:46:22.940Z"
      },
      {
        "duration": 104,
        "start_time": "2021-06-29T18:46:22.958Z"
      },
      {
        "duration": 62,
        "start_time": "2021-06-29T18:46:23.065Z"
      },
      {
        "duration": 417,
        "start_time": "2021-06-29T18:46:23.130Z"
      },
      {
        "duration": 486,
        "start_time": "2021-06-29T18:46:23.550Z"
      },
      {
        "duration": 222,
        "start_time": "2021-06-29T18:46:24.039Z"
      },
      {
        "duration": 15,
        "start_time": "2021-06-29T18:46:24.264Z"
      },
      {
        "duration": 45,
        "start_time": "2021-06-29T18:46:24.283Z"
      },
      {
        "duration": 16,
        "start_time": "2021-06-29T18:46:24.331Z"
      },
      {
        "duration": 101,
        "start_time": "2021-06-29T18:46:24.350Z"
      },
      {
        "duration": 50,
        "start_time": "2021-06-29T18:46:24.454Z"
      },
      {
        "duration": 429,
        "start_time": "2021-06-29T18:46:24.506Z"
      },
      {
        "duration": 433,
        "start_time": "2021-06-29T18:46:24.937Z"
      },
      {
        "duration": 237,
        "start_time": "2021-06-29T18:46:25.373Z"
      },
      {
        "duration": 13,
        "start_time": "2021-06-29T18:46:25.625Z"
      },
      {
        "duration": 24,
        "start_time": "2021-06-29T18:46:25.641Z"
      },
      {
        "duration": 57,
        "start_time": "2021-06-29T18:46:25.667Z"
      },
      {
        "duration": 5,
        "start_time": "2021-06-29T18:46:25.726Z"
      },
      {
        "duration": 554,
        "start_time": "2021-06-29T18:46:25.733Z"
      },
      {
        "duration": 6,
        "start_time": "2021-06-29T18:46:26.289Z"
      },
      {
        "duration": 39,
        "start_time": "2021-06-29T18:46:26.298Z"
      },
      {
        "duration": 86,
        "start_time": "2021-06-29T18:46:26.340Z"
      },
      {
        "duration": 96,
        "start_time": "2021-06-29T18:46:26.429Z"
      },
      {
        "duration": 9,
        "start_time": "2021-06-29T18:46:26.527Z"
      },
      {
        "duration": 9,
        "start_time": "2021-06-29T18:46:26.539Z"
      },
      {
        "duration": 9,
        "start_time": "2021-06-29T18:46:26.551Z"
      },
      {
        "duration": 10,
        "start_time": "2021-06-29T18:46:26.562Z"
      },
      {
        "duration": 58,
        "start_time": "2021-06-29T18:46:26.575Z"
      },
      {
        "duration": 92,
        "start_time": "2021-06-29T18:46:26.635Z"
      },
      {
        "duration": 95,
        "start_time": "2021-06-29T18:46:26.730Z"
      },
      {
        "duration": 6,
        "start_time": "2021-06-29T18:46:26.828Z"
      },
      {
        "duration": 7,
        "start_time": "2021-06-29T18:46:26.837Z"
      },
      {
        "duration": 16,
        "start_time": "2021-06-29T18:46:26.847Z"
      },
      {
        "duration": 11,
        "start_time": "2021-06-29T18:46:26.865Z"
      },
      {
        "duration": 46,
        "start_time": "2021-06-29T18:46:26.878Z"
      },
      {
        "duration": 24,
        "start_time": "2021-06-29T18:46:26.927Z"
      },
      {
        "duration": 173,
        "start_time": "2021-06-29T18:46:26.953Z"
      },
      {
        "duration": 5,
        "start_time": "2021-06-29T18:46:27.129Z"
      },
      {
        "duration": 6,
        "start_time": "2021-06-29T18:46:27.136Z"
      },
      {
        "duration": 8,
        "start_time": "2021-06-29T18:46:27.145Z"
      },
      {
        "duration": 6,
        "start_time": "2021-06-29T18:46:27.155Z"
      },
      {
        "duration": 7,
        "start_time": "2021-06-29T18:46:27.163Z"
      },
      {
        "duration": 10,
        "start_time": "2021-06-29T18:46:27.173Z"
      },
      {
        "duration": 41,
        "start_time": "2021-06-29T18:46:27.185Z"
      },
      {
        "duration": 13,
        "start_time": "2021-06-29T18:46:27.229Z"
      },
      {
        "duration": 210,
        "start_time": "2021-06-29T18:46:27.245Z"
      },
      {
        "duration": 4,
        "start_time": "2021-06-29T18:46:27.457Z"
      },
      {
        "duration": 15,
        "start_time": "2021-06-29T18:46:27.463Z"
      },
      {
        "duration": 5,
        "start_time": "2021-06-29T18:46:27.480Z"
      },
      {
        "duration": 8,
        "start_time": "2021-06-29T18:46:27.488Z"
      },
      {
        "duration": 6,
        "start_time": "2021-06-29T18:46:27.498Z"
      },
      {
        "duration": 272,
        "start_time": "2021-06-29T18:46:27.506Z"
      },
      {
        "duration": 3,
        "start_time": "2021-06-29T18:46:27.781Z"
      },
      {
        "duration": 18,
        "start_time": "2021-06-29T18:46:27.786Z"
      },
      {
        "duration": 402,
        "start_time": "2021-06-29T18:46:27.806Z"
      },
      {
        "duration": 3,
        "start_time": "2021-06-29T18:46:28.211Z"
      },
      {
        "duration": 3,
        "start_time": "2021-06-29T18:46:28.223Z"
      },
      {
        "duration": 7,
        "start_time": "2021-06-29T18:46:28.228Z"
      },
      {
        "duration": 5,
        "start_time": "2021-06-29T18:46:28.238Z"
      },
      {
        "duration": 7,
        "start_time": "2021-06-29T18:46:28.245Z"
      },
      {
        "duration": 5,
        "start_time": "2021-06-29T18:46:28.254Z"
      },
      {
        "duration": 7,
        "start_time": "2021-06-29T18:46:28.261Z"
      },
      {
        "duration": 5,
        "start_time": "2021-06-29T18:46:28.270Z"
      },
      {
        "duration": 49,
        "start_time": "2021-06-29T18:46:28.277Z"
      },
      {
        "duration": 22,
        "start_time": "2021-06-29T18:46:28.328Z"
      },
      {
        "duration": 496,
        "start_time": "2021-06-29T18:46:28.352Z"
      },
      {
        "duration": -1316,
        "start_time": "2021-06-29T18:46:30.167Z"
      },
      {
        "duration": -1320,
        "start_time": "2021-06-29T18:46:30.172Z"
      },
      {
        "duration": -1321,
        "start_time": "2021-06-29T18:46:30.174Z"
      },
      {
        "duration": -1323,
        "start_time": "2021-06-29T18:46:30.177Z"
      },
      {
        "duration": -1332,
        "start_time": "2021-06-29T18:46:30.188Z"
      },
      {
        "duration": -1333,
        "start_time": "2021-06-29T18:46:30.190Z"
      },
      {
        "duration": 207,
        "start_time": "2021-06-29T18:46:36.755Z"
      },
      {
        "duration": 5,
        "start_time": "2021-06-29T18:46:38.722Z"
      },
      {
        "duration": 8,
        "start_time": "2021-06-29T18:46:41.316Z"
      },
      {
        "duration": 14,
        "start_time": "2021-06-29T18:46:46.187Z"
      },
      {
        "duration": 6,
        "start_time": "2021-06-29T18:46:47.834Z"
      },
      {
        "duration": 17,
        "start_time": "2021-06-29T18:46:48.730Z"
      },
      {
        "duration": 6,
        "start_time": "2021-06-29T18:46:49.906Z"
      },
      {
        "duration": 5,
        "start_time": "2021-06-29T18:52:41.085Z"
      },
      {
        "duration": 17,
        "start_time": "2021-06-29T18:52:48.590Z"
      },
      {
        "duration": 5,
        "start_time": "2021-06-29T18:52:56.972Z"
      },
      {
        "duration": 19,
        "start_time": "2021-06-29T18:52:58.132Z"
      },
      {
        "duration": 1504,
        "start_time": "2021-06-29T18:53:06.240Z"
      },
      {
        "duration": 475,
        "start_time": "2021-06-29T18:53:07.748Z"
      },
      {
        "duration": 18,
        "start_time": "2021-06-29T18:53:08.229Z"
      },
      {
        "duration": 20,
        "start_time": "2021-06-29T18:53:08.250Z"
      },
      {
        "duration": 13,
        "start_time": "2021-06-29T18:53:08.273Z"
      },
      {
        "duration": 109,
        "start_time": "2021-06-29T18:53:08.288Z"
      },
      {
        "duration": 64,
        "start_time": "2021-06-29T18:53:08.402Z"
      },
      {
        "duration": 428,
        "start_time": "2021-06-29T18:53:08.469Z"
      },
      {
        "duration": 338,
        "start_time": "2021-06-29T18:53:08.899Z"
      },
      {
        "duration": 221,
        "start_time": "2021-06-29T18:53:09.239Z"
      },
      {
        "duration": 14,
        "start_time": "2021-06-29T18:53:09.463Z"
      },
      {
        "duration": 25,
        "start_time": "2021-06-29T18:53:09.480Z"
      },
      {
        "duration": 16,
        "start_time": "2021-06-29T18:53:09.523Z"
      },
      {
        "duration": 86,
        "start_time": "2021-06-29T18:53:09.542Z"
      },
      {
        "duration": 48,
        "start_time": "2021-06-29T18:53:09.630Z"
      },
      {
        "duration": 426,
        "start_time": "2021-06-29T18:53:09.680Z"
      },
      {
        "duration": 475,
        "start_time": "2021-06-29T18:53:10.108Z"
      },
      {
        "duration": 227,
        "start_time": "2021-06-29T18:53:10.586Z"
      },
      {
        "duration": 19,
        "start_time": "2021-06-29T18:53:10.815Z"
      },
      {
        "duration": 19,
        "start_time": "2021-06-29T18:53:10.837Z"
      },
      {
        "duration": 16,
        "start_time": "2021-06-29T18:53:10.859Z"
      },
      {
        "duration": 100,
        "start_time": "2021-06-29T18:53:10.883Z"
      },
      {
        "duration": 64,
        "start_time": "2021-06-29T18:53:10.988Z"
      },
      {
        "duration": 416,
        "start_time": "2021-06-29T18:53:11.054Z"
      },
      {
        "duration": 416,
        "start_time": "2021-06-29T18:53:11.472Z"
      },
      {
        "duration": 320,
        "start_time": "2021-06-29T18:53:11.891Z"
      },
      {
        "duration": 16,
        "start_time": "2021-06-29T18:53:12.214Z"
      },
      {
        "duration": 37,
        "start_time": "2021-06-29T18:53:12.233Z"
      },
      {
        "duration": 33,
        "start_time": "2021-06-29T18:53:12.273Z"
      },
      {
        "duration": 18,
        "start_time": "2021-06-29T18:53:12.308Z"
      },
      {
        "duration": 641,
        "start_time": "2021-06-29T18:53:12.329Z"
      },
      {
        "duration": 6,
        "start_time": "2021-06-29T18:53:12.973Z"
      },
      {
        "duration": 23,
        "start_time": "2021-06-29T18:53:12.981Z"
      },
      {
        "duration": 37,
        "start_time": "2021-06-29T18:53:13.006Z"
      },
      {
        "duration": 86,
        "start_time": "2021-06-29T18:53:13.045Z"
      },
      {
        "duration": 98,
        "start_time": "2021-06-29T18:53:13.133Z"
      },
      {
        "duration": 8,
        "start_time": "2021-06-29T18:53:13.234Z"
      },
      {
        "duration": 8,
        "start_time": "2021-06-29T18:53:13.245Z"
      },
      {
        "duration": 8,
        "start_time": "2021-06-29T18:53:13.256Z"
      },
      {
        "duration": 23,
        "start_time": "2021-06-29T18:53:13.267Z"
      },
      {
        "duration": 49,
        "start_time": "2021-06-29T18:53:13.292Z"
      },
      {
        "duration": 7,
        "start_time": "2021-06-29T18:53:13.343Z"
      },
      {
        "duration": 7,
        "start_time": "2021-06-29T18:53:13.427Z"
      },
      {
        "duration": 91,
        "start_time": "2021-06-29T18:53:13.437Z"
      },
      {
        "duration": 8,
        "start_time": "2021-06-29T18:53:13.531Z"
      },
      {
        "duration": 10,
        "start_time": "2021-06-29T18:53:13.542Z"
      },
      {
        "duration": 30,
        "start_time": "2021-06-29T18:53:13.555Z"
      },
      {
        "duration": 44,
        "start_time": "2021-06-29T18:53:13.588Z"
      },
      {
        "duration": 6,
        "start_time": "2021-06-29T18:53:13.634Z"
      },
      {
        "duration": 97,
        "start_time": "2021-06-29T18:53:13.726Z"
      },
      {
        "duration": 3,
        "start_time": "2021-06-29T18:53:13.826Z"
      },
      {
        "duration": 9,
        "start_time": "2021-06-29T18:53:13.832Z"
      },
      {
        "duration": 9,
        "start_time": "2021-06-29T18:53:13.843Z"
      },
      {
        "duration": 6,
        "start_time": "2021-06-29T18:53:13.855Z"
      },
      {
        "duration": 6,
        "start_time": "2021-06-29T18:53:13.863Z"
      },
      {
        "duration": 5,
        "start_time": "2021-06-29T18:53:13.872Z"
      },
      {
        "duration": 44,
        "start_time": "2021-06-29T18:53:13.880Z"
      },
      {
        "duration": 211,
        "start_time": "2021-06-29T18:53:13.927Z"
      },
      {
        "duration": 4,
        "start_time": "2021-06-29T18:53:14.141Z"
      },
      {
        "duration": 9,
        "start_time": "2021-06-29T18:53:14.148Z"
      },
      {
        "duration": 9,
        "start_time": "2021-06-29T18:53:14.160Z"
      },
      {
        "duration": 8,
        "start_time": "2021-06-29T18:53:14.171Z"
      },
      {
        "duration": 9,
        "start_time": "2021-06-29T18:53:14.182Z"
      },
      {
        "duration": 286,
        "start_time": "2021-06-29T18:53:14.193Z"
      },
      {
        "duration": 6,
        "start_time": "2021-06-29T18:53:14.482Z"
      },
      {
        "duration": 7,
        "start_time": "2021-06-29T18:53:14.491Z"
      },
      {
        "duration": 419,
        "start_time": "2021-06-29T18:53:14.532Z"
      },
      {
        "duration": 4,
        "start_time": "2021-06-29T18:53:14.955Z"
      },
      {
        "duration": 9,
        "start_time": "2021-06-29T18:53:14.962Z"
      },
      {
        "duration": 8,
        "start_time": "2021-06-29T18:53:14.973Z"
      },
      {
        "duration": 10,
        "start_time": "2021-06-29T18:53:14.983Z"
      },
      {
        "duration": 29,
        "start_time": "2021-06-29T18:53:14.995Z"
      },
      {
        "duration": 10,
        "start_time": "2021-06-29T18:53:15.027Z"
      },
      {
        "duration": 9,
        "start_time": "2021-06-29T18:53:15.040Z"
      },
      {
        "duration": 9,
        "start_time": "2021-06-29T18:53:15.052Z"
      },
      {
        "duration": 16,
        "start_time": "2021-06-29T18:53:15.063Z"
      },
      {
        "duration": 6,
        "start_time": "2021-06-29T18:53:15.082Z"
      },
      {
        "duration": 233,
        "start_time": "2021-06-29T18:53:15.091Z"
      },
      {
        "duration": 4,
        "start_time": "2021-06-29T18:53:15.326Z"
      },
      {
        "duration": 14,
        "start_time": "2021-06-29T18:53:15.332Z"
      },
      {
        "duration": 124,
        "start_time": "2021-06-29T18:53:15.348Z"
      },
      {
        "duration": 9,
        "start_time": "2021-06-29T18:53:15.474Z"
      },
      {
        "duration": 23,
        "start_time": "2021-06-29T18:53:15.485Z"
      },
      {
        "duration": 5,
        "start_time": "2021-06-29T18:53:15.524Z"
      },
      {
        "duration": 7,
        "start_time": "2021-06-29T18:53:15.532Z"
      },
      {
        "duration": 20,
        "start_time": "2021-06-29T18:53:15.541Z"
      },
      {
        "duration": 3,
        "start_time": "2021-06-29T18:55:23.734Z"
      },
      {
        "duration": 5,
        "start_time": "2021-06-29T18:55:38.431Z"
      },
      {
        "duration": 5,
        "start_time": "2021-06-29T18:56:08.918Z"
      },
      {
        "duration": 5,
        "start_time": "2021-06-29T18:56:09.966Z"
      },
      {
        "duration": 17,
        "start_time": "2021-06-29T18:56:19.543Z"
      },
      {
        "duration": 1990,
        "start_time": "2021-06-29T18:56:33.244Z"
      },
      {
        "duration": 463,
        "start_time": "2021-06-29T18:56:35.237Z"
      },
      {
        "duration": 23,
        "start_time": "2021-06-29T18:56:35.704Z"
      },
      {
        "duration": 18,
        "start_time": "2021-06-29T18:56:35.730Z"
      },
      {
        "duration": 12,
        "start_time": "2021-06-29T18:56:35.750Z"
      },
      {
        "duration": 96,
        "start_time": "2021-06-29T18:56:35.765Z"
      },
      {
        "duration": 62,
        "start_time": "2021-06-29T18:56:35.863Z"
      },
      {
        "duration": 415,
        "start_time": "2021-06-29T18:56:35.928Z"
      },
      {
        "duration": 335,
        "start_time": "2021-06-29T18:56:36.347Z"
      },
      {
        "duration": 228,
        "start_time": "2021-06-29T18:56:36.685Z"
      },
      {
        "duration": 17,
        "start_time": "2021-06-29T18:56:36.915Z"
      },
      {
        "duration": 17,
        "start_time": "2021-06-29T18:56:36.934Z"
      },
      {
        "duration": 13,
        "start_time": "2021-06-29T18:56:36.954Z"
      },
      {
        "duration": 99,
        "start_time": "2021-06-29T18:56:36.969Z"
      },
      {
        "duration": 55,
        "start_time": "2021-06-29T18:56:37.071Z"
      },
      {
        "duration": 422,
        "start_time": "2021-06-29T18:56:37.129Z"
      },
      {
        "duration": 462,
        "start_time": "2021-06-29T18:56:37.553Z"
      },
      {
        "duration": 228,
        "start_time": "2021-06-29T18:56:38.017Z"
      },
      {
        "duration": 13,
        "start_time": "2021-06-29T18:56:38.247Z"
      },
      {
        "duration": 34,
        "start_time": "2021-06-29T18:56:38.262Z"
      },
      {
        "duration": 28,
        "start_time": "2021-06-29T18:56:38.298Z"
      },
      {
        "duration": 102,
        "start_time": "2021-06-29T18:56:38.329Z"
      },
      {
        "duration": 66,
        "start_time": "2021-06-29T18:56:38.434Z"
      },
      {
        "duration": 425,
        "start_time": "2021-06-29T18:56:38.503Z"
      },
      {
        "duration": 423,
        "start_time": "2021-06-29T18:56:38.930Z"
      },
      {
        "duration": 233,
        "start_time": "2021-06-29T18:56:39.356Z"
      },
      {
        "duration": 12,
        "start_time": "2021-06-29T18:56:39.596Z"
      },
      {
        "duration": 21,
        "start_time": "2021-06-29T18:56:39.625Z"
      },
      {
        "duration": 28,
        "start_time": "2021-06-29T18:56:39.649Z"
      },
      {
        "duration": 5,
        "start_time": "2021-06-29T18:56:39.680Z"
      },
      {
        "duration": 559,
        "start_time": "2021-06-29T18:56:39.687Z"
      },
      {
        "duration": 5,
        "start_time": "2021-06-29T18:56:40.249Z"
      },
      {
        "duration": 30,
        "start_time": "2021-06-29T18:56:40.257Z"
      },
      {
        "duration": 43,
        "start_time": "2021-06-29T18:56:40.289Z"
      },
      {
        "duration": 189,
        "start_time": "2021-06-29T18:56:40.335Z"
      },
      {
        "duration": 15,
        "start_time": "2021-06-29T18:56:40.527Z"
      },
      {
        "duration": 7,
        "start_time": "2021-06-29T18:56:40.544Z"
      },
      {
        "duration": 23,
        "start_time": "2021-06-29T18:56:40.553Z"
      },
      {
        "duration": 13,
        "start_time": "2021-06-29T18:56:40.579Z"
      },
      {
        "duration": 29,
        "start_time": "2021-06-29T18:56:40.595Z"
      },
      {
        "duration": 21,
        "start_time": "2021-06-29T18:56:40.627Z"
      },
      {
        "duration": 83,
        "start_time": "2021-06-29T18:56:40.650Z"
      },
      {
        "duration": 108,
        "start_time": "2021-06-29T18:56:40.736Z"
      },
      {
        "duration": 11,
        "start_time": "2021-06-29T18:56:40.846Z"
      },
      {
        "duration": 23,
        "start_time": "2021-06-29T18:56:40.859Z"
      },
      {
        "duration": 20,
        "start_time": "2021-06-29T18:56:40.885Z"
      },
      {
        "duration": 34,
        "start_time": "2021-06-29T18:56:40.907Z"
      },
      {
        "duration": 16,
        "start_time": "2021-06-29T18:56:40.943Z"
      },
      {
        "duration": 65,
        "start_time": "2021-06-29T18:56:40.961Z"
      },
      {
        "duration": 97,
        "start_time": "2021-06-29T18:56:41.029Z"
      },
      {
        "duration": 3,
        "start_time": "2021-06-29T18:56:41.128Z"
      },
      {
        "duration": 16,
        "start_time": "2021-06-29T18:56:41.134Z"
      },
      {
        "duration": 15,
        "start_time": "2021-06-29T18:56:41.153Z"
      },
      {
        "duration": 9,
        "start_time": "2021-06-29T18:56:41.171Z"
      },
      {
        "duration": 15,
        "start_time": "2021-06-29T18:56:41.183Z"
      },
      {
        "duration": 13,
        "start_time": "2021-06-29T18:56:41.201Z"
      },
      {
        "duration": 25,
        "start_time": "2021-06-29T18:56:41.216Z"
      },
      {
        "duration": 205,
        "start_time": "2021-06-29T18:56:41.243Z"
      },
      {
        "duration": 3,
        "start_time": "2021-06-29T18:56:41.450Z"
      },
      {
        "duration": 16,
        "start_time": "2021-06-29T18:56:41.455Z"
      },
      {
        "duration": 20,
        "start_time": "2021-06-29T18:56:41.473Z"
      },
      {
        "duration": 18,
        "start_time": "2021-06-29T18:56:41.495Z"
      },
      {
        "duration": 15,
        "start_time": "2021-06-29T18:56:41.515Z"
      },
      {
        "duration": 248,
        "start_time": "2021-06-29T18:56:41.532Z"
      },
      {
        "duration": 4,
        "start_time": "2021-06-29T18:56:41.782Z"
      },
      {
        "duration": 16,
        "start_time": "2021-06-29T18:56:41.788Z"
      },
      {
        "duration": 419,
        "start_time": "2021-06-29T18:56:41.806Z"
      },
      {
        "duration": 3,
        "start_time": "2021-06-29T18:56:42.228Z"
      },
      {
        "duration": 36,
        "start_time": "2021-06-29T18:56:42.233Z"
      },
      {
        "duration": 14,
        "start_time": "2021-06-29T18:56:42.272Z"
      },
      {
        "duration": 14,
        "start_time": "2021-06-29T18:56:42.289Z"
      },
      {
        "duration": 13,
        "start_time": "2021-06-29T18:56:42.305Z"
      },
      {
        "duration": 10,
        "start_time": "2021-06-29T18:56:42.321Z"
      },
      {
        "duration": 8,
        "start_time": "2021-06-29T18:56:42.333Z"
      },
      {
        "duration": 6,
        "start_time": "2021-06-29T18:56:42.343Z"
      },
      {
        "duration": 15,
        "start_time": "2021-06-29T18:56:42.351Z"
      },
      {
        "duration": 14,
        "start_time": "2021-06-29T18:56:42.369Z"
      },
      {
        "duration": 307,
        "start_time": "2021-06-29T18:56:42.385Z"
      },
      {
        "duration": 4,
        "start_time": "2021-06-29T18:56:42.694Z"
      },
      {
        "duration": 23,
        "start_time": "2021-06-29T18:56:42.700Z"
      },
      {
        "duration": 14,
        "start_time": "2021-06-29T18:56:42.731Z"
      },
      {
        "duration": 23,
        "start_time": "2021-06-29T18:56:42.748Z"
      },
      {
        "duration": 20,
        "start_time": "2021-06-29T18:56:42.773Z"
      },
      {
        "duration": 22,
        "start_time": "2021-06-29T18:56:42.795Z"
      },
      {
        "duration": 14,
        "start_time": "2021-06-29T18:56:42.820Z"
      },
      {
        "duration": 24,
        "start_time": "2021-06-29T18:56:42.836Z"
      },
      {
        "duration": 10,
        "start_time": "2021-06-29T18:56:42.863Z"
      },
      {
        "duration": 19,
        "start_time": "2021-06-29T18:56:42.875Z"
      },
      {
        "duration": 30,
        "start_time": "2021-06-29T18:56:42.896Z"
      },
      {
        "duration": 5,
        "start_time": "2021-06-29T18:57:27.721Z"
      },
      {
        "duration": 21,
        "start_time": "2021-06-29T18:57:31.583Z"
      },
      {
        "duration": 391,
        "start_time": "2021-06-29T18:58:21.396Z"
      },
      {
        "duration": 17,
        "start_time": "2021-06-29T18:58:25.431Z"
      },
      {
        "duration": 4,
        "start_time": "2021-06-29T19:07:28.702Z"
      },
      {
        "duration": 4,
        "start_time": "2021-06-29T19:07:59.206Z"
      },
      {
        "duration": 469,
        "start_time": "2021-06-29T19:08:33.048Z"
      },
      {
        "duration": 4,
        "start_time": "2021-06-29T19:08:56.735Z"
      },
      {
        "duration": 1238,
        "start_time": "2021-06-29T19:08:57.790Z"
      },
      {
        "duration": 290,
        "start_time": "2021-06-29T19:09:06.926Z"
      },
      {
        "duration": 409,
        "start_time": "2021-06-29T19:09:31.585Z"
      },
      {
        "duration": 5,
        "start_time": "2021-06-29T19:10:06.431Z"
      },
      {
        "duration": 9,
        "start_time": "2021-06-29T19:10:08.719Z"
      },
      {
        "duration": 5,
        "start_time": "2021-06-29T19:11:44.367Z"
      },
      {
        "duration": 3997,
        "start_time": "2021-06-29T19:11:45.216Z"
      },
      {
        "duration": 4,
        "start_time": "2021-06-29T19:12:10.647Z"
      },
      {
        "duration": 5,
        "start_time": "2021-06-29T19:12:12.993Z"
      },
      {
        "duration": 7,
        "start_time": "2021-06-29T19:12:13.672Z"
      },
      {
        "duration": 7,
        "start_time": "2021-06-29T19:12:21.735Z"
      },
      {
        "duration": 4,
        "start_time": "2021-06-29T19:13:45.600Z"
      },
      {
        "duration": 615,
        "start_time": "2021-06-29T19:13:47.887Z"
      },
      {
        "duration": 5,
        "start_time": "2021-06-29T19:13:53.097Z"
      },
      {
        "duration": 5,
        "start_time": "2021-06-29T19:13:53.697Z"
      },
      {
        "duration": 8,
        "start_time": "2021-06-29T19:13:54.799Z"
      },
      {
        "duration": 7,
        "start_time": "2021-06-29T19:13:59.503Z"
      },
      {
        "duration": 4,
        "start_time": "2021-06-29T19:14:07.265Z"
      },
      {
        "duration": 13,
        "start_time": "2021-06-29T19:14:07.272Z"
      },
      {
        "duration": 4,
        "start_time": "2021-06-29T19:14:07.432Z"
      },
      {
        "duration": 5,
        "start_time": "2021-06-29T19:14:08.023Z"
      },
      {
        "duration": 6,
        "start_time": "2021-06-29T19:14:08.584Z"
      },
      {
        "duration": 4,
        "start_time": "2021-06-29T19:14:28.423Z"
      },
      {
        "duration": 544,
        "start_time": "2021-06-29T19:14:28.712Z"
      },
      {
        "duration": -1315,
        "start_time": "2021-06-29T19:14:30.573Z"
      },
      {
        "duration": 4,
        "start_time": "2021-06-29T19:14:35.712Z"
      },
      {
        "duration": 5,
        "start_time": "2021-06-29T19:14:35.969Z"
      },
      {
        "duration": 7,
        "start_time": "2021-06-29T19:14:36.200Z"
      },
      {
        "duration": 4,
        "start_time": "2021-06-29T19:16:29.848Z"
      },
      {
        "duration": 5832,
        "start_time": "2021-06-29T19:16:30.354Z"
      },
      {
        "duration": 4,
        "start_time": "2021-06-29T19:16:52.705Z"
      },
      {
        "duration": 4390,
        "start_time": "2021-06-29T19:16:54.065Z"
      },
      {
        "duration": 17,
        "start_time": "2021-06-29T19:17:15.577Z"
      },
      {
        "duration": 4,
        "start_time": "2021-06-29T19:18:59.042Z"
      },
      {
        "duration": 5,
        "start_time": "2021-06-29T19:19:00.137Z"
      },
      {
        "duration": 7,
        "start_time": "2021-06-29T19:19:02.273Z"
      },
      {
        "duration": 7,
        "start_time": "2021-06-29T19:19:13.297Z"
      },
      {
        "duration": 18,
        "start_time": "2021-06-29T19:20:15.820Z"
      },
      {
        "duration": 44112,
        "start_time": "2021-06-29T19:23:24.739Z"
      },
      {
        "duration": 6,
        "start_time": "2021-06-29T19:24:28.647Z"
      },
      {
        "duration": 8,
        "start_time": "2021-06-29T19:24:35.338Z"
      },
      {
        "duration": 4,
        "start_time": "2021-06-29T19:25:41.643Z"
      },
      {
        "duration": 4,
        "start_time": "2021-06-29T19:25:42.060Z"
      },
      {
        "duration": 7,
        "start_time": "2021-06-29T19:25:42.419Z"
      },
      {
        "duration": 4,
        "start_time": "2021-06-29T19:26:31.083Z"
      },
      {
        "duration": 2100,
        "start_time": "2021-06-29T19:26:31.779Z"
      },
      {
        "duration": 7,
        "start_time": "2021-06-29T19:26:40.515Z"
      },
      {
        "duration": 8,
        "start_time": "2021-06-29T19:26:41.442Z"
      },
      {
        "duration": 4,
        "start_time": "2021-06-29T19:26:43.619Z"
      },
      {
        "duration": 4,
        "start_time": "2021-06-29T19:26:44.149Z"
      },
      {
        "duration": 9,
        "start_time": "2021-06-29T19:26:44.572Z"
      },
      {
        "duration": 3,
        "start_time": "2021-06-29T19:27:58.021Z"
      },
      {
        "duration": 4,
        "start_time": "2021-06-29T19:27:58.551Z"
      },
      {
        "duration": 17,
        "start_time": "2021-06-29T19:27:59.107Z"
      },
      {
        "duration": 5,
        "start_time": "2021-06-29T19:28:32.541Z"
      },
      {
        "duration": 7,
        "start_time": "2021-06-29T19:28:33.027Z"
      },
      {
        "duration": 28,
        "start_time": "2021-06-29T19:28:33.372Z"
      },
      {
        "duration": 4,
        "start_time": "2021-06-29T19:28:48.420Z"
      },
      {
        "duration": 5,
        "start_time": "2021-06-29T19:28:48.835Z"
      },
      {
        "duration": 17,
        "start_time": "2021-06-29T19:28:49.181Z"
      },
      {
        "duration": 7,
        "start_time": "2021-06-29T19:30:11.894Z"
      },
      {
        "duration": 4,
        "start_time": "2021-06-29T19:30:32.108Z"
      },
      {
        "duration": 6,
        "start_time": "2021-06-29T19:30:42.692Z"
      },
      {
        "duration": 5,
        "start_time": "2021-06-29T19:30:43.516Z"
      },
      {
        "duration": 4,
        "start_time": "2021-06-29T19:31:20.108Z"
      },
      {
        "duration": 621,
        "start_time": "2021-06-29T19:31:21.251Z"
      },
      {
        "duration": 5,
        "start_time": "2021-06-29T19:31:22.044Z"
      },
      {
        "duration": 5,
        "start_time": "2021-06-29T19:32:07.300Z"
      },
      {
        "duration": 611,
        "start_time": "2021-06-29T19:32:08.068Z"
      },
      {
        "duration": 4,
        "start_time": "2021-06-29T19:32:19.125Z"
      },
      {
        "duration": 579,
        "start_time": "2021-06-29T19:32:20.117Z"
      },
      {
        "duration": 4,
        "start_time": "2021-06-29T19:32:24.725Z"
      },
      {
        "duration": 5,
        "start_time": "2021-06-29T19:32:25.173Z"
      },
      {
        "duration": 5,
        "start_time": "2021-06-29T19:32:27.540Z"
      },
      {
        "duration": 4,
        "start_time": "2021-06-29T19:33:13.277Z"
      },
      {
        "duration": 6,
        "start_time": "2021-06-29T19:33:13.876Z"
      },
      {
        "duration": 13,
        "start_time": "2021-06-29T19:33:16.044Z"
      },
      {
        "duration": 8,
        "start_time": "2021-06-29T19:33:24.565Z"
      },
      {
        "duration": 5,
        "start_time": "2021-06-29T19:33:40.709Z"
      },
      {
        "duration": 8,
        "start_time": "2021-06-29T19:33:41.142Z"
      },
      {
        "duration": 6,
        "start_time": "2021-06-29T19:33:42.159Z"
      },
      {
        "duration": 9,
        "start_time": "2021-06-29T19:34:09.678Z"
      },
      {
        "duration": 7,
        "start_time": "2021-06-29T19:34:10.229Z"
      },
      {
        "duration": 6,
        "start_time": "2021-06-29T19:34:10.683Z"
      },
      {
        "duration": 1597,
        "start_time": "2021-06-29T19:36:27.241Z"
      },
      {
        "duration": 475,
        "start_time": "2021-06-29T19:36:28.841Z"
      },
      {
        "duration": 19,
        "start_time": "2021-06-29T19:36:29.320Z"
      },
      {
        "duration": 23,
        "start_time": "2021-06-29T19:36:29.342Z"
      },
      {
        "duration": 13,
        "start_time": "2021-06-29T19:36:29.369Z"
      },
      {
        "duration": 120,
        "start_time": "2021-06-29T19:36:29.385Z"
      },
      {
        "duration": 79,
        "start_time": "2021-06-29T19:36:29.508Z"
      },
      {
        "duration": 539,
        "start_time": "2021-06-29T19:36:29.593Z"
      },
      {
        "duration": 378,
        "start_time": "2021-06-29T19:36:30.135Z"
      },
      {
        "duration": 235,
        "start_time": "2021-06-29T19:36:30.516Z"
      },
      {
        "duration": 15,
        "start_time": "2021-06-29T19:36:30.753Z"
      },
      {
        "duration": 26,
        "start_time": "2021-06-29T19:36:30.770Z"
      },
      {
        "duration": 46,
        "start_time": "2021-06-29T19:36:30.799Z"
      },
      {
        "duration": 88,
        "start_time": "2021-06-29T19:36:30.848Z"
      },
      {
        "duration": 50,
        "start_time": "2021-06-29T19:36:30.938Z"
      },
      {
        "duration": 455,
        "start_time": "2021-06-29T19:36:30.991Z"
      },
      {
        "duration": 511,
        "start_time": "2021-06-29T19:36:31.448Z"
      },
      {
        "duration": 232,
        "start_time": "2021-06-29T19:36:31.961Z"
      },
      {
        "duration": 16,
        "start_time": "2021-06-29T19:36:32.195Z"
      },
      {
        "duration": 15,
        "start_time": "2021-06-29T19:36:32.225Z"
      },
      {
        "duration": 14,
        "start_time": "2021-06-29T19:36:32.242Z"
      },
      {
        "duration": 106,
        "start_time": "2021-06-29T19:36:32.258Z"
      },
      {
        "duration": 63,
        "start_time": "2021-06-29T19:36:32.370Z"
      },
      {
        "duration": 428,
        "start_time": "2021-06-29T19:36:32.436Z"
      },
      {
        "duration": 437,
        "start_time": "2021-06-29T19:36:32.867Z"
      },
      {
        "duration": 248,
        "start_time": "2021-06-29T19:36:33.306Z"
      },
      {
        "duration": 13,
        "start_time": "2021-06-29T19:36:33.557Z"
      },
      {
        "duration": 28,
        "start_time": "2021-06-29T19:36:33.572Z"
      },
      {
        "duration": 47,
        "start_time": "2021-06-29T19:36:33.602Z"
      },
      {
        "duration": 5,
        "start_time": "2021-06-29T19:36:33.651Z"
      },
      {
        "duration": 568,
        "start_time": "2021-06-29T19:36:33.659Z"
      },
      {
        "duration": 5,
        "start_time": "2021-06-29T19:36:34.230Z"
      },
      {
        "duration": 32,
        "start_time": "2021-06-29T19:36:34.238Z"
      },
      {
        "duration": 54,
        "start_time": "2021-06-29T19:36:34.273Z"
      },
      {
        "duration": 98,
        "start_time": "2021-06-29T19:36:34.330Z"
      },
      {
        "duration": 21,
        "start_time": "2021-06-29T19:36:34.430Z"
      },
      {
        "duration": 20,
        "start_time": "2021-06-29T19:36:34.453Z"
      },
      {
        "duration": 22,
        "start_time": "2021-06-29T19:36:34.475Z"
      },
      {
        "duration": 25,
        "start_time": "2021-06-29T19:36:34.499Z"
      },
      {
        "duration": 38,
        "start_time": "2021-06-29T19:36:34.526Z"
      },
      {
        "duration": 158,
        "start_time": "2021-06-29T19:36:34.566Z"
      },
      {
        "duration": 6,
        "start_time": "2021-06-29T19:36:34.726Z"
      },
      {
        "duration": 18,
        "start_time": "2021-06-29T19:36:34.735Z"
      },
      {
        "duration": 15,
        "start_time": "2021-06-29T19:36:34.755Z"
      },
      {
        "duration": 19,
        "start_time": "2021-06-29T19:36:34.772Z"
      },
      {
        "duration": 19,
        "start_time": "2021-06-29T19:36:34.793Z"
      },
      {
        "duration": 36,
        "start_time": "2021-06-29T19:36:34.814Z"
      },
      {
        "duration": 75,
        "start_time": "2021-06-29T19:36:34.852Z"
      },
      {
        "duration": 94,
        "start_time": "2021-06-29T19:36:34.930Z"
      },
      {
        "duration": 19,
        "start_time": "2021-06-29T19:36:35.027Z"
      },
      {
        "duration": 20,
        "start_time": "2021-06-29T19:36:35.048Z"
      },
      {
        "duration": 23,
        "start_time": "2021-06-29T19:36:35.071Z"
      },
      {
        "duration": 28,
        "start_time": "2021-06-29T19:36:35.096Z"
      },
      {
        "duration": 11,
        "start_time": "2021-06-29T19:36:35.126Z"
      },
      {
        "duration": 21,
        "start_time": "2021-06-29T19:36:35.139Z"
      },
      {
        "duration": 23,
        "start_time": "2021-06-29T19:36:35.162Z"
      },
      {
        "duration": 20,
        "start_time": "2021-06-29T19:36:35.188Z"
      },
      {
        "duration": 219,
        "start_time": "2021-06-29T19:36:35.210Z"
      },
      {
        "duration": 4,
        "start_time": "2021-06-29T19:36:35.431Z"
      },
      {
        "duration": 10,
        "start_time": "2021-06-29T19:36:35.437Z"
      },
      {
        "duration": 20,
        "start_time": "2021-06-29T19:36:35.449Z"
      },
      {
        "duration": 25,
        "start_time": "2021-06-29T19:36:35.471Z"
      },
      {
        "duration": 15,
        "start_time": "2021-06-29T19:36:35.498Z"
      },
      {
        "duration": 254,
        "start_time": "2021-06-29T19:36:35.515Z"
      },
      {
        "duration": 6,
        "start_time": "2021-06-29T19:36:35.771Z"
      },
      {
        "duration": 29,
        "start_time": "2021-06-29T19:36:35.780Z"
      },
      {
        "duration": 419,
        "start_time": "2021-06-29T19:36:35.812Z"
      },
      {
        "duration": 4,
        "start_time": "2021-06-29T19:36:36.239Z"
      },
      {
        "duration": 20,
        "start_time": "2021-06-29T19:36:36.245Z"
      },
      {
        "duration": 28,
        "start_time": "2021-06-29T19:36:36.268Z"
      },
      {
        "duration": 17,
        "start_time": "2021-06-29T19:36:36.299Z"
      },
      {
        "duration": 19,
        "start_time": "2021-06-29T19:36:36.318Z"
      },
      {
        "duration": 15,
        "start_time": "2021-06-29T19:36:36.340Z"
      },
      {
        "duration": 19,
        "start_time": "2021-06-29T19:36:36.358Z"
      },
      {
        "duration": 12,
        "start_time": "2021-06-29T19:36:36.379Z"
      },
      {
        "duration": 26,
        "start_time": "2021-06-29T19:36:36.393Z"
      },
      {
        "duration": 12,
        "start_time": "2021-06-29T19:36:36.421Z"
      },
      {
        "duration": 21,
        "start_time": "2021-06-29T19:36:36.435Z"
      },
      {
        "duration": 18,
        "start_time": "2021-06-29T19:36:36.458Z"
      },
      {
        "duration": 19,
        "start_time": "2021-06-29T19:36:36.478Z"
      },
      {
        "duration": 529,
        "start_time": "2021-06-29T19:36:36.499Z"
      },
      {
        "duration": 4,
        "start_time": "2021-06-29T19:36:37.030Z"
      },
      {
        "duration": 18,
        "start_time": "2021-06-29T19:36:37.037Z"
      },
      {
        "duration": 24,
        "start_time": "2021-06-29T19:36:37.057Z"
      },
      {
        "duration": 418,
        "start_time": "2021-06-29T19:36:37.084Z"
      },
      {
        "duration": 4,
        "start_time": "2021-06-29T19:37:49.183Z"
      },
      {
        "duration": 5,
        "start_time": "2021-06-29T19:37:49.631Z"
      },
      {
        "duration": 14,
        "start_time": "2021-06-29T19:37:50.111Z"
      },
      {
        "duration": 6,
        "start_time": "2021-06-29T19:37:53.567Z"
      },
      {
        "duration": 4,
        "start_time": "2021-06-29T19:39:13.088Z"
      },
      {
        "duration": 6,
        "start_time": "2021-06-29T19:39:13.662Z"
      },
      {
        "duration": 14,
        "start_time": "2021-06-29T19:39:14.199Z"
      },
      {
        "duration": 6,
        "start_time": "2021-06-29T19:39:16.887Z"
      },
      {
        "duration": 1558,
        "start_time": "2021-06-29T19:39:23.277Z"
      },
      {
        "duration": 475,
        "start_time": "2021-06-29T19:39:24.837Z"
      },
      {
        "duration": 24,
        "start_time": "2021-06-29T19:39:25.316Z"
      },
      {
        "duration": 21,
        "start_time": "2021-06-29T19:39:25.343Z"
      },
      {
        "duration": 13,
        "start_time": "2021-06-29T19:39:25.367Z"
      },
      {
        "duration": 107,
        "start_time": "2021-06-29T19:39:25.382Z"
      },
      {
        "duration": 82,
        "start_time": "2021-06-29T19:39:25.492Z"
      },
      {
        "duration": 716,
        "start_time": "2021-06-29T19:39:25.580Z"
      },
      {
        "duration": 347,
        "start_time": "2021-06-29T19:39:26.301Z"
      },
      {
        "duration": 232,
        "start_time": "2021-06-29T19:39:26.650Z"
      },
      {
        "duration": 15,
        "start_time": "2021-06-29T19:39:26.885Z"
      },
      {
        "duration": 34,
        "start_time": "2021-06-29T19:39:26.903Z"
      },
      {
        "duration": 13,
        "start_time": "2021-06-29T19:39:26.939Z"
      },
      {
        "duration": 103,
        "start_time": "2021-06-29T19:39:26.955Z"
      },
      {
        "duration": 62,
        "start_time": "2021-06-29T19:39:27.061Z"
      },
      {
        "duration": 435,
        "start_time": "2021-06-29T19:39:27.126Z"
      },
      {
        "duration": 494,
        "start_time": "2021-06-29T19:39:27.564Z"
      },
      {
        "duration": 228,
        "start_time": "2021-06-29T19:39:28.060Z"
      },
      {
        "duration": 14,
        "start_time": "2021-06-29T19:39:28.290Z"
      },
      {
        "duration": 32,
        "start_time": "2021-06-29T19:39:28.306Z"
      },
      {
        "duration": 14,
        "start_time": "2021-06-29T19:39:28.340Z"
      },
      {
        "duration": 131,
        "start_time": "2021-06-29T19:39:28.357Z"
      },
      {
        "duration": 60,
        "start_time": "2021-06-29T19:39:28.495Z"
      },
      {
        "duration": 425,
        "start_time": "2021-06-29T19:39:28.559Z"
      },
      {
        "duration": 426,
        "start_time": "2021-06-29T19:39:28.986Z"
      },
      {
        "duration": 245,
        "start_time": "2021-06-29T19:39:29.414Z"
      },
      {
        "duration": 12,
        "start_time": "2021-06-29T19:39:29.661Z"
      },
      {
        "duration": 23,
        "start_time": "2021-06-29T19:39:29.676Z"
      },
      {
        "duration": 50,
        "start_time": "2021-06-29T19:39:29.701Z"
      },
      {
        "duration": 5,
        "start_time": "2021-06-29T19:39:29.753Z"
      },
      {
        "duration": 568,
        "start_time": "2021-06-29T19:39:29.760Z"
      },
      {
        "duration": 7,
        "start_time": "2021-06-29T19:39:30.331Z"
      },
      {
        "duration": 38,
        "start_time": "2021-06-29T19:39:30.342Z"
      },
      {
        "duration": 42,
        "start_time": "2021-06-29T19:39:30.389Z"
      },
      {
        "duration": 92,
        "start_time": "2021-06-29T19:39:30.434Z"
      },
      {
        "duration": 111,
        "start_time": "2021-06-29T19:39:30.528Z"
      },
      {
        "duration": 14,
        "start_time": "2021-06-29T19:39:30.642Z"
      },
      {
        "duration": 23,
        "start_time": "2021-06-29T19:39:30.658Z"
      },
      {
        "duration": 18,
        "start_time": "2021-06-29T19:39:30.684Z"
      },
      {
        "duration": 30,
        "start_time": "2021-06-29T19:39:30.705Z"
      },
      {
        "duration": 25,
        "start_time": "2021-06-29T19:39:30.737Z"
      },
      {
        "duration": 66,
        "start_time": "2021-06-29T19:39:30.765Z"
      },
      {
        "duration": 92,
        "start_time": "2021-06-29T19:39:30.834Z"
      },
      {
        "duration": 26,
        "start_time": "2021-06-29T19:39:30.928Z"
      },
      {
        "duration": 23,
        "start_time": "2021-06-29T19:39:30.956Z"
      },
      {
        "duration": 31,
        "start_time": "2021-06-29T19:39:30.982Z"
      },
      {
        "duration": 40,
        "start_time": "2021-06-29T19:39:31.015Z"
      },
      {
        "duration": 67,
        "start_time": "2021-06-29T19:39:31.057Z"
      },
      {
        "duration": 103,
        "start_time": "2021-06-29T19:39:31.127Z"
      },
      {
        "duration": 21,
        "start_time": "2021-06-29T19:39:31.234Z"
      },
      {
        "duration": 9,
        "start_time": "2021-06-29T19:39:31.258Z"
      },
      {
        "duration": 20,
        "start_time": "2021-06-29T19:39:31.270Z"
      },
      {
        "duration": 20,
        "start_time": "2021-06-29T19:39:31.293Z"
      },
      {
        "duration": 10,
        "start_time": "2021-06-29T19:39:31.315Z"
      },
      {
        "duration": 18,
        "start_time": "2021-06-29T19:39:31.328Z"
      },
      {
        "duration": 12,
        "start_time": "2021-06-29T19:39:31.349Z"
      },
      {
        "duration": 14,
        "start_time": "2021-06-29T19:39:31.364Z"
      },
      {
        "duration": 213,
        "start_time": "2021-06-29T19:39:31.380Z"
      },
      {
        "duration": 4,
        "start_time": "2021-06-29T19:39:31.595Z"
      },
      {
        "duration": 23,
        "start_time": "2021-06-29T19:39:31.602Z"
      },
      {
        "duration": 14,
        "start_time": "2021-06-29T19:39:31.627Z"
      },
      {
        "duration": 14,
        "start_time": "2021-06-29T19:39:31.644Z"
      },
      {
        "duration": 15,
        "start_time": "2021-06-29T19:39:31.661Z"
      },
      {
        "duration": 249,
        "start_time": "2021-06-29T19:39:31.679Z"
      },
      {
        "duration": 5,
        "start_time": "2021-06-29T19:39:31.931Z"
      },
      {
        "duration": 8,
        "start_time": "2021-06-29T19:39:31.939Z"
      },
      {
        "duration": 439,
        "start_time": "2021-06-29T19:39:31.950Z"
      },
      {
        "duration": 3,
        "start_time": "2021-06-29T19:39:32.398Z"
      },
      {
        "duration": 21,
        "start_time": "2021-06-29T19:39:32.406Z"
      },
      {
        "duration": 9,
        "start_time": "2021-06-29T19:39:32.430Z"
      },
      {
        "duration": 9,
        "start_time": "2021-06-29T19:39:32.442Z"
      },
      {
        "duration": 7,
        "start_time": "2021-06-29T19:39:32.454Z"
      },
      {
        "duration": 9,
        "start_time": "2021-06-29T19:39:32.464Z"
      },
      {
        "duration": 6,
        "start_time": "2021-06-29T19:39:32.476Z"
      },
      {
        "duration": 7,
        "start_time": "2021-06-29T19:39:32.485Z"
      },
      {
        "duration": 33,
        "start_time": "2021-06-29T19:39:32.494Z"
      },
      {
        "duration": 9,
        "start_time": "2021-06-29T19:39:32.530Z"
      },
      {
        "duration": 7,
        "start_time": "2021-06-29T19:39:32.541Z"
      },
      {
        "duration": 12,
        "start_time": "2021-06-29T19:39:32.550Z"
      },
      {
        "duration": 11,
        "start_time": "2021-06-29T19:39:32.564Z"
      },
      {
        "duration": 555,
        "start_time": "2021-06-29T19:39:32.578Z"
      },
      {
        "duration": 4,
        "start_time": "2021-06-29T19:39:33.135Z"
      },
      {
        "duration": 24,
        "start_time": "2021-06-29T19:39:33.141Z"
      },
      {
        "duration": 21,
        "start_time": "2021-06-29T19:39:33.168Z"
      },
      {
        "duration": 12,
        "start_time": "2021-06-29T19:39:33.191Z"
      },
      {
        "duration": 4,
        "start_time": "2021-06-29T19:40:18.910Z"
      },
      {
        "duration": 6,
        "start_time": "2021-06-29T19:40:19.325Z"
      },
      {
        "duration": 14,
        "start_time": "2021-06-29T19:40:19.845Z"
      },
      {
        "duration": 4,
        "start_time": "2021-06-29T19:40:28.015Z"
      },
      {
        "duration": 8,
        "start_time": "2021-06-29T19:40:28.335Z"
      },
      {
        "duration": 5,
        "start_time": "2021-06-29T19:40:28.862Z"
      },
      {
        "duration": 4,
        "start_time": "2021-06-29T19:40:47.174Z"
      },
      {
        "duration": 5,
        "start_time": "2021-06-29T19:40:47.541Z"
      },
      {
        "duration": 7,
        "start_time": "2021-06-29T19:40:47.873Z"
      },
      {
        "duration": 437,
        "start_time": "2021-06-29T19:40:48.246Z"
      },
      {
        "duration": 4,
        "start_time": "2021-06-29T19:41:11.878Z"
      },
      {
        "duration": 5,
        "start_time": "2021-06-29T19:41:12.309Z"
      },
      {
        "duration": 16,
        "start_time": "2021-06-29T19:41:12.928Z"
      },
      {
        "duration": 6,
        "start_time": "2021-06-29T19:41:15.960Z"
      },
      {
        "duration": 5,
        "start_time": "2021-06-29T19:41:23.912Z"
      },
      {
        "duration": 6,
        "start_time": "2021-06-29T19:41:24.375Z"
      },
      {
        "duration": 7,
        "start_time": "2021-06-29T19:41:25.032Z"
      },
      {
        "duration": 152,
        "start_time": "2021-06-29T19:42:33.033Z"
      },
      {
        "duration": 411,
        "start_time": "2021-06-29T19:42:39.446Z"
      },
      {
        "duration": 5,
        "start_time": "2021-06-29T19:42:39.860Z"
      },
      {
        "duration": 6,
        "start_time": "2021-06-29T19:42:40.174Z"
      },
      {
        "duration": 5,
        "start_time": "2021-06-29T19:42:40.718Z"
      },
      {
        "duration": 415,
        "start_time": "2021-06-29T19:42:43.470Z"
      },
      {
        "duration": 4,
        "start_time": "2021-06-29T19:42:43.888Z"
      },
      {
        "duration": 5,
        "start_time": "2021-06-29T19:42:44.134Z"
      },
      {
        "duration": 5,
        "start_time": "2021-06-29T19:42:44.446Z"
      },
      {
        "duration": 5,
        "start_time": "2021-06-29T19:42:49.341Z"
      },
      {
        "duration": 680,
        "start_time": "2021-06-29T19:42:50.420Z"
      },
      {
        "duration": 6,
        "start_time": "2021-06-29T19:42:51.104Z"
      },
      {
        "duration": 7,
        "start_time": "2021-06-29T19:42:51.160Z"
      },
      {
        "duration": 7,
        "start_time": "2021-06-29T19:42:51.558Z"
      },
      {
        "duration": 718,
        "start_time": "2021-06-29T19:44:42.382Z"
      },
      {
        "duration": 5,
        "start_time": "2021-06-29T19:44:45.430Z"
      },
      {
        "duration": 6,
        "start_time": "2021-06-29T19:44:45.766Z"
      },
      {
        "duration": 6,
        "start_time": "2021-06-29T19:44:46.160Z"
      },
      {
        "duration": 873,
        "start_time": "2021-06-29T19:44:47.528Z"
      },
      {
        "duration": 4,
        "start_time": "2021-06-29T19:44:48.403Z"
      },
      {
        "duration": 19,
        "start_time": "2021-06-29T19:44:48.410Z"
      },
      {
        "duration": 6,
        "start_time": "2021-06-29T19:44:48.526Z"
      },
      {
        "duration": 727,
        "start_time": "2021-06-29T19:44:49.464Z"
      },
      {
        "duration": 4,
        "start_time": "2021-06-29T19:44:50.193Z"
      },
      {
        "duration": 24,
        "start_time": "2021-06-29T19:44:50.200Z"
      },
      {
        "duration": 5,
        "start_time": "2021-06-29T19:44:50.455Z"
      },
      {
        "duration": 732,
        "start_time": "2021-06-29T19:44:51.960Z"
      },
      {
        "duration": 6,
        "start_time": "2021-06-29T19:44:52.694Z"
      },
      {
        "duration": 21,
        "start_time": "2021-06-29T19:44:52.703Z"
      },
      {
        "duration": 6,
        "start_time": "2021-06-29T19:44:52.878Z"
      },
      {
        "duration": 724,
        "start_time": "2021-06-29T19:44:54.102Z"
      },
      {
        "duration": 4,
        "start_time": "2021-06-29T19:44:54.828Z"
      },
      {
        "duration": 14,
        "start_time": "2021-06-29T19:44:54.835Z"
      },
      {
        "duration": 6,
        "start_time": "2021-06-29T19:44:55.086Z"
      },
      {
        "duration": 730,
        "start_time": "2021-06-29T19:45:08.558Z"
      },
      {
        "duration": 4,
        "start_time": "2021-06-29T19:45:09.290Z"
      },
      {
        "duration": 21,
        "start_time": "2021-06-29T19:45:09.298Z"
      },
      {
        "duration": 6,
        "start_time": "2021-06-29T19:45:09.534Z"
      },
      {
        "duration": 723,
        "start_time": "2021-06-29T19:45:40.070Z"
      },
      {
        "duration": 4,
        "start_time": "2021-06-29T19:45:40.796Z"
      },
      {
        "duration": 6,
        "start_time": "2021-06-29T19:45:41.958Z"
      },
      {
        "duration": 5,
        "start_time": "2021-06-29T19:45:42.375Z"
      },
      {
        "duration": 749,
        "start_time": "2021-06-29T19:45:54.368Z"
      },
      {
        "duration": 6,
        "start_time": "2021-06-29T19:45:55.120Z"
      },
      {
        "duration": 6,
        "start_time": "2021-06-29T19:45:55.439Z"
      },
      {
        "duration": 6,
        "start_time": "2021-06-29T19:45:56.582Z"
      },
      {
        "duration": 1491,
        "start_time": "2021-06-29T19:46:05.469Z"
      },
      {
        "duration": 489,
        "start_time": "2021-06-29T19:46:06.963Z"
      },
      {
        "duration": 21,
        "start_time": "2021-06-29T19:46:07.455Z"
      },
      {
        "duration": 16,
        "start_time": "2021-06-29T19:46:07.478Z"
      },
      {
        "duration": 48,
        "start_time": "2021-06-29T19:46:07.498Z"
      },
      {
        "duration": 122,
        "start_time": "2021-06-29T19:46:07.549Z"
      },
      {
        "duration": 84,
        "start_time": "2021-06-29T19:46:07.674Z"
      },
      {
        "duration": 446,
        "start_time": "2021-06-29T19:46:07.761Z"
      },
      {
        "duration": 338,
        "start_time": "2021-06-29T19:46:08.211Z"
      },
      {
        "duration": 243,
        "start_time": "2021-06-29T19:46:08.552Z"
      },
      {
        "duration": 14,
        "start_time": "2021-06-29T19:46:08.797Z"
      },
      {
        "duration": 16,
        "start_time": "2021-06-29T19:46:08.824Z"
      },
      {
        "duration": 14,
        "start_time": "2021-06-29T19:46:08.842Z"
      },
      {
        "duration": 107,
        "start_time": "2021-06-29T19:46:08.858Z"
      },
      {
        "duration": 58,
        "start_time": "2021-06-29T19:46:08.968Z"
      },
      {
        "duration": 435,
        "start_time": "2021-06-29T19:46:09.029Z"
      },
      {
        "duration": 493,
        "start_time": "2021-06-29T19:46:09.466Z"
      },
      {
        "duration": 231,
        "start_time": "2021-06-29T19:46:09.962Z"
      },
      {
        "duration": 14,
        "start_time": "2021-06-29T19:46:10.196Z"
      },
      {
        "duration": 25,
        "start_time": "2021-06-29T19:46:10.212Z"
      },
      {
        "duration": 16,
        "start_time": "2021-06-29T19:46:10.239Z"
      },
      {
        "duration": 110,
        "start_time": "2021-06-29T19:46:10.258Z"
      },
      {
        "duration": 63,
        "start_time": "2021-06-29T19:46:10.370Z"
      },
      {
        "duration": 422,
        "start_time": "2021-06-29T19:46:10.435Z"
      },
      {
        "duration": 735,
        "start_time": "2021-06-29T19:46:10.860Z"
      },
      {
        "duration": 406,
        "start_time": "2021-06-29T19:46:11.598Z"
      },
      {
        "duration": 17,
        "start_time": "2021-06-29T19:46:12.023Z"
      },
      {
        "duration": 25,
        "start_time": "2021-06-29T19:46:12.046Z"
      },
      {
        "duration": 54,
        "start_time": "2021-06-29T19:46:12.073Z"
      },
      {
        "duration": 5,
        "start_time": "2021-06-29T19:46:12.130Z"
      },
      {
        "duration": 556,
        "start_time": "2021-06-29T19:46:12.138Z"
      },
      {
        "duration": 6,
        "start_time": "2021-06-29T19:46:12.697Z"
      },
      {
        "duration": 33,
        "start_time": "2021-06-29T19:46:12.705Z"
      },
      {
        "duration": 87,
        "start_time": "2021-06-29T19:46:12.740Z"
      },
      {
        "duration": 5,
        "start_time": "2021-06-29T19:46:12.830Z"
      },
      {
        "duration": 5,
        "start_time": "2021-06-29T19:46:12.926Z"
      },
      {
        "duration": 6,
        "start_time": "2021-06-29T19:46:12.934Z"
      },
      {
        "duration": 11,
        "start_time": "2021-06-29T19:46:12.942Z"
      },
      {
        "duration": 6,
        "start_time": "2021-06-29T19:46:12.956Z"
      },
      {
        "duration": 20,
        "start_time": "2021-06-29T19:46:12.964Z"
      },
      {
        "duration": 60,
        "start_time": "2021-06-29T19:46:12.986Z"
      },
      {
        "duration": 6,
        "start_time": "2021-06-29T19:46:13.126Z"
      },
      {
        "duration": 90,
        "start_time": "2021-06-29T19:46:13.135Z"
      },
      {
        "duration": 6,
        "start_time": "2021-06-29T19:46:13.228Z"
      },
      {
        "duration": 7,
        "start_time": "2021-06-29T19:46:13.237Z"
      },
      {
        "duration": 6,
        "start_time": "2021-06-29T19:46:13.247Z"
      },
      {
        "duration": 18,
        "start_time": "2021-06-29T19:46:13.256Z"
      },
      {
        "duration": 150,
        "start_time": "2021-06-29T19:46:13.277Z"
      },
      {
        "duration": 7,
        "start_time": "2021-06-29T19:46:13.430Z"
      },
      {
        "duration": 87,
        "start_time": "2021-06-29T19:46:13.440Z"
      },
      {
        "duration": 6,
        "start_time": "2021-06-29T19:46:13.530Z"
      },
      {
        "duration": 7,
        "start_time": "2021-06-29T19:46:13.538Z"
      },
      {
        "duration": 5,
        "start_time": "2021-06-29T19:46:13.548Z"
      },
      {
        "duration": 6,
        "start_time": "2021-06-29T19:46:13.555Z"
      },
      {
        "duration": 6,
        "start_time": "2021-06-29T19:46:13.564Z"
      },
      {
        "duration": 5,
        "start_time": "2021-06-29T19:46:13.573Z"
      },
      {
        "duration": 5,
        "start_time": "2021-06-29T19:46:13.625Z"
      },
      {
        "duration": 226,
        "start_time": "2021-06-29T19:46:13.634Z"
      },
      {
        "duration": 5,
        "start_time": "2021-06-29T19:46:13.863Z"
      },
      {
        "duration": 11,
        "start_time": "2021-06-29T19:46:13.870Z"
      },
      {
        "duration": 13,
        "start_time": "2021-06-29T19:46:13.884Z"
      },
      {
        "duration": 9,
        "start_time": "2021-06-29T19:46:13.899Z"
      },
      {
        "duration": 5,
        "start_time": "2021-06-29T19:46:13.924Z"
      },
      {
        "duration": 274,
        "start_time": "2021-06-29T19:46:13.932Z"
      },
      {
        "duration": 4,
        "start_time": "2021-06-29T19:46:14.208Z"
      },
      {
        "duration": 5,
        "start_time": "2021-06-29T19:46:14.223Z"
      },
      {
        "duration": 436,
        "start_time": "2021-06-29T19:46:14.231Z"
      },
      {
        "duration": 3,
        "start_time": "2021-06-29T19:46:14.669Z"
      },
      {
        "duration": 7,
        "start_time": "2021-06-29T19:46:14.675Z"
      },
      {
        "duration": 14,
        "start_time": "2021-06-29T19:46:14.684Z"
      },
      {
        "duration": 27,
        "start_time": "2021-06-29T19:46:14.701Z"
      },
      {
        "duration": 6,
        "start_time": "2021-06-29T19:46:14.730Z"
      },
      {
        "duration": 11,
        "start_time": "2021-06-29T19:46:14.739Z"
      },
      {
        "duration": 20,
        "start_time": "2021-06-29T19:46:14.753Z"
      },
      {
        "duration": 22,
        "start_time": "2021-06-29T19:46:14.776Z"
      },
      {
        "duration": 17,
        "start_time": "2021-06-29T19:46:14.802Z"
      },
      {
        "duration": 8,
        "start_time": "2021-06-29T19:46:14.823Z"
      },
      {
        "duration": 138,
        "start_time": "2021-06-29T19:46:14.834Z"
      },
      {
        "duration": 11,
        "start_time": "2021-06-29T19:46:14.975Z"
      },
      {
        "duration": 755,
        "start_time": "2021-06-29T19:46:14.988Z"
      },
      {
        "duration": 4,
        "start_time": "2021-06-29T19:46:15.750Z"
      },
      {
        "duration": 426,
        "start_time": "2021-06-29T19:46:15.758Z"
      },
      {
        "duration": -1312,
        "start_time": "2021-06-29T19:46:17.500Z"
      },
      {
        "duration": 277,
        "start_time": "2021-06-29T19:46:29.757Z"
      },
      {
        "duration": 6,
        "start_time": "2021-06-29T19:46:38.397Z"
      },
      {
        "duration": 6,
        "start_time": "2021-06-29T19:46:39.124Z"
      },
      {
        "duration": 5,
        "start_time": "2021-06-29T19:46:59.317Z"
      },
      {
        "duration": 4,
        "start_time": "2021-06-29T19:47:22.932Z"
      },
      {
        "duration": 6,
        "start_time": "2021-06-29T19:47:23.329Z"
      },
      {
        "duration": 5,
        "start_time": "2021-06-29T19:47:37.061Z"
      },
      {
        "duration": 6,
        "start_time": "2021-06-29T19:47:37.439Z"
      },
      {
        "duration": 7,
        "start_time": "2021-06-29T19:47:41.781Z"
      },
      {
        "duration": 6,
        "start_time": "2021-06-29T19:47:42.181Z"
      },
      {
        "duration": 2236,
        "start_time": "2021-06-29T19:47:47.552Z"
      },
      {
        "duration": 482,
        "start_time": "2021-06-29T19:47:49.791Z"
      },
      {
        "duration": 20,
        "start_time": "2021-06-29T19:47:50.278Z"
      },
      {
        "duration": 32,
        "start_time": "2021-06-29T19:47:50.301Z"
      },
      {
        "duration": 13,
        "start_time": "2021-06-29T19:47:50.336Z"
      },
      {
        "duration": 99,
        "start_time": "2021-06-29T19:47:50.351Z"
      },
      {
        "duration": 53,
        "start_time": "2021-06-29T19:47:50.452Z"
      },
      {
        "duration": 431,
        "start_time": "2021-06-29T19:47:50.525Z"
      },
      {
        "duration": 342,
        "start_time": "2021-06-29T19:47:50.959Z"
      },
      {
        "duration": 229,
        "start_time": "2021-06-29T19:47:51.304Z"
      },
      {
        "duration": 14,
        "start_time": "2021-06-29T19:47:51.536Z"
      },
      {
        "duration": 18,
        "start_time": "2021-06-29T19:47:51.553Z"
      },
      {
        "duration": 14,
        "start_time": "2021-06-29T19:47:51.573Z"
      },
      {
        "duration": 102,
        "start_time": "2021-06-29T19:47:51.589Z"
      },
      {
        "duration": 64,
        "start_time": "2021-06-29T19:47:51.693Z"
      },
      {
        "duration": 447,
        "start_time": "2021-06-29T19:47:51.760Z"
      },
      {
        "duration": 494,
        "start_time": "2021-06-29T19:47:52.209Z"
      },
      {
        "duration": 239,
        "start_time": "2021-06-29T19:47:52.706Z"
      },
      {
        "duration": 14,
        "start_time": "2021-06-29T19:47:52.948Z"
      },
      {
        "duration": 27,
        "start_time": "2021-06-29T19:47:52.965Z"
      },
      {
        "duration": 39,
        "start_time": "2021-06-29T19:47:52.994Z"
      },
      {
        "duration": 99,
        "start_time": "2021-06-29T19:47:53.036Z"
      },
      {
        "duration": 59,
        "start_time": "2021-06-29T19:47:53.138Z"
      },
      {
        "duration": 433,
        "start_time": "2021-06-29T19:47:53.200Z"
      },
      {
        "duration": 440,
        "start_time": "2021-06-29T19:47:53.635Z"
      },
      {
        "duration": 242,
        "start_time": "2021-06-29T19:47:54.082Z"
      },
      {
        "duration": 14,
        "start_time": "2021-06-29T19:47:54.327Z"
      },
      {
        "duration": 27,
        "start_time": "2021-06-29T19:47:54.343Z"
      },
      {
        "duration": 58,
        "start_time": "2021-06-29T19:47:54.373Z"
      },
      {
        "duration": 5,
        "start_time": "2021-06-29T19:47:54.433Z"
      },
      {
        "duration": 568,
        "start_time": "2021-06-29T19:47:54.441Z"
      },
      {
        "duration": 15,
        "start_time": "2021-06-29T19:47:55.011Z"
      },
      {
        "duration": 21,
        "start_time": "2021-06-29T19:47:55.029Z"
      },
      {
        "duration": 171,
        "start_time": "2021-06-29T19:47:55.053Z"
      },
      {
        "duration": 5,
        "start_time": "2021-06-29T19:47:55.227Z"
      },
      {
        "duration": 7,
        "start_time": "2021-06-29T19:47:55.235Z"
      },
      {
        "duration": 8,
        "start_time": "2021-06-29T19:47:55.244Z"
      },
      {
        "duration": 7,
        "start_time": "2021-06-29T19:47:55.254Z"
      },
      {
        "duration": 8,
        "start_time": "2021-06-29T19:47:55.264Z"
      },
      {
        "duration": 58,
        "start_time": "2021-06-29T19:47:55.274Z"
      },
      {
        "duration": 23,
        "start_time": "2021-06-29T19:47:55.334Z"
      },
      {
        "duration": 99,
        "start_time": "2021-06-29T19:47:55.425Z"
      },
      {
        "duration": 7,
        "start_time": "2021-06-29T19:47:55.527Z"
      },
      {
        "duration": 6,
        "start_time": "2021-06-29T19:47:55.537Z"
      },
      {
        "duration": 8,
        "start_time": "2021-06-29T19:47:55.546Z"
      },
      {
        "duration": 8,
        "start_time": "2021-06-29T19:47:55.558Z"
      },
      {
        "duration": 64,
        "start_time": "2021-06-29T19:47:55.569Z"
      },
      {
        "duration": 92,
        "start_time": "2021-06-29T19:47:55.635Z"
      },
      {
        "duration": 100,
        "start_time": "2021-06-29T19:47:55.729Z"
      },
      {
        "duration": 6,
        "start_time": "2021-06-29T19:47:55.832Z"
      },
      {
        "duration": 6,
        "start_time": "2021-06-29T19:47:55.841Z"
      },
      {
        "duration": 9,
        "start_time": "2021-06-29T19:47:55.849Z"
      },
      {
        "duration": 8,
        "start_time": "2021-06-29T19:47:55.861Z"
      },
      {
        "duration": 7,
        "start_time": "2021-06-29T19:47:55.872Z"
      },
      {
        "duration": 42,
        "start_time": "2021-06-29T19:47:55.882Z"
      },
      {
        "duration": 8,
        "start_time": "2021-06-29T19:47:55.928Z"
      },
      {
        "duration": 8,
        "start_time": "2021-06-29T19:47:55.939Z"
      },
      {
        "duration": 241,
        "start_time": "2021-06-29T19:47:55.950Z"
      },
      {
        "duration": 5,
        "start_time": "2021-06-29T19:47:56.194Z"
      },
      {
        "duration": 22,
        "start_time": "2021-06-29T19:47:56.202Z"
      },
      {
        "duration": 6,
        "start_time": "2021-06-29T19:47:56.227Z"
      },
      {
        "duration": 8,
        "start_time": "2021-06-29T19:47:56.236Z"
      },
      {
        "duration": 7,
        "start_time": "2021-06-29T19:47:56.247Z"
      },
      {
        "duration": 288,
        "start_time": "2021-06-29T19:47:56.257Z"
      },
      {
        "duration": 6,
        "start_time": "2021-06-29T19:47:56.548Z"
      },
      {
        "duration": 8,
        "start_time": "2021-06-29T19:47:56.556Z"
      },
      {
        "duration": 446,
        "start_time": "2021-06-29T19:47:56.567Z"
      },
      {
        "duration": 3,
        "start_time": "2021-06-29T19:47:57.024Z"
      },
      {
        "duration": 7,
        "start_time": "2021-06-29T19:47:57.030Z"
      },
      {
        "duration": 7,
        "start_time": "2021-06-29T19:47:57.040Z"
      },
      {
        "duration": 12,
        "start_time": "2021-06-29T19:47:57.050Z"
      },
      {
        "duration": 9,
        "start_time": "2021-06-29T19:47:57.065Z"
      },
      {
        "duration": 5,
        "start_time": "2021-06-29T19:47:57.077Z"
      },
      {
        "duration": 6,
        "start_time": "2021-06-29T19:47:57.085Z"
      },
      {
        "duration": 5,
        "start_time": "2021-06-29T19:47:57.125Z"
      },
      {
        "duration": 9,
        "start_time": "2021-06-29T19:47:57.133Z"
      },
      {
        "duration": 6,
        "start_time": "2021-06-29T19:47:57.145Z"
      },
      {
        "duration": 128,
        "start_time": "2021-06-29T19:47:57.154Z"
      },
      {
        "duration": 9,
        "start_time": "2021-06-29T19:47:57.285Z"
      },
      {
        "duration": 1268,
        "start_time": "2021-06-29T19:47:57.307Z"
      },
      {
        "duration": 5,
        "start_time": "2021-06-29T19:47:58.579Z"
      },
      {
        "duration": 9,
        "start_time": "2021-06-29T19:47:58.587Z"
      },
      {
        "duration": 604,
        "start_time": "2021-06-29T19:47:58.599Z"
      },
      {
        "duration": 11,
        "start_time": "2021-06-29T19:48:17.574Z"
      },
      {
        "duration": 6,
        "start_time": "2021-06-29T19:48:17.990Z"
      },
      {
        "duration": 4,
        "start_time": "2021-06-29T19:50:14.487Z"
      },
      {
        "duration": 4,
        "start_time": "2021-06-29T19:52:30.207Z"
      },
      {
        "duration": 6,
        "start_time": "2021-06-29T19:52:36.415Z"
      },
      {
        "duration": 6,
        "start_time": "2021-06-29T19:52:36.943Z"
      },
      {
        "duration": 5,
        "start_time": "2021-06-29T19:54:45.287Z"
      },
      {
        "duration": 5,
        "start_time": "2021-06-29T19:54:49.167Z"
      },
      {
        "duration": 6,
        "start_time": "2021-06-29T19:54:53.328Z"
      },
      {
        "duration": 1614,
        "start_time": "2021-06-29T19:56:05.804Z"
      },
      {
        "duration": 482,
        "start_time": "2021-06-29T19:56:07.421Z"
      },
      {
        "duration": 29,
        "start_time": "2021-06-29T19:56:07.906Z"
      },
      {
        "duration": 15,
        "start_time": "2021-06-29T19:56:07.938Z"
      },
      {
        "duration": 24,
        "start_time": "2021-06-29T19:56:07.957Z"
      },
      {
        "duration": 130,
        "start_time": "2021-06-29T19:56:07.985Z"
      },
      {
        "duration": 80,
        "start_time": "2021-06-29T19:56:08.117Z"
      },
      {
        "duration": 686,
        "start_time": "2021-06-29T19:56:08.223Z"
      },
      {
        "duration": 481,
        "start_time": "2021-06-29T19:56:08.912Z"
      },
      {
        "duration": 214,
        "start_time": "2021-06-29T19:56:09.395Z"
      },
      {
        "duration": 24,
        "start_time": "2021-06-29T19:56:09.611Z"
      },
      {
        "duration": 27,
        "start_time": "2021-06-29T19:56:09.637Z"
      },
      {
        "duration": 14,
        "start_time": "2021-06-29T19:56:09.667Z"
      },
      {
        "duration": 99,
        "start_time": "2021-06-29T19:56:09.683Z"
      },
      {
        "duration": 68,
        "start_time": "2021-06-29T19:56:09.785Z"
      },
      {
        "duration": 434,
        "start_time": "2021-06-29T19:56:09.855Z"
      },
      {
        "duration": 493,
        "start_time": "2021-06-29T19:56:10.291Z"
      },
      {
        "duration": 226,
        "start_time": "2021-06-29T19:56:10.787Z"
      },
      {
        "duration": 19,
        "start_time": "2021-06-29T19:56:11.016Z"
      },
      {
        "duration": 27,
        "start_time": "2021-06-29T19:56:11.037Z"
      },
      {
        "duration": 19,
        "start_time": "2021-06-29T19:56:11.066Z"
      },
      {
        "duration": 97,
        "start_time": "2021-06-29T19:56:11.088Z"
      },
      {
        "duration": 62,
        "start_time": "2021-06-29T19:56:11.191Z"
      },
      {
        "duration": 684,
        "start_time": "2021-06-29T19:56:11.257Z"
      },
      {
        "duration": 723,
        "start_time": "2021-06-29T19:56:11.944Z"
      },
      {
        "duration": 381,
        "start_time": "2021-06-29T19:56:12.670Z"
      },
      {
        "duration": 17,
        "start_time": "2021-06-29T19:56:13.055Z"
      },
      {
        "duration": 53,
        "start_time": "2021-06-29T19:56:13.075Z"
      },
      {
        "duration": 34,
        "start_time": "2021-06-29T19:56:13.131Z"
      },
      {
        "duration": 5,
        "start_time": "2021-06-29T19:56:13.168Z"
      },
      {
        "duration": 566,
        "start_time": "2021-06-29T19:56:13.176Z"
      },
      {
        "duration": 6,
        "start_time": "2021-06-29T19:56:13.744Z"
      },
      {
        "duration": 25,
        "start_time": "2021-06-29T19:56:13.753Z"
      },
      {
        "duration": 52,
        "start_time": "2021-06-29T19:56:13.781Z"
      },
      {
        "duration": 89,
        "start_time": "2021-06-29T19:56:13.835Z"
      },
      {
        "duration": 8,
        "start_time": "2021-06-29T19:56:13.927Z"
      },
      {
        "duration": 95,
        "start_time": "2021-06-29T19:56:13.938Z"
      },
      {
        "duration": 18,
        "start_time": "2021-06-29T19:56:14.036Z"
      },
      {
        "duration": 11,
        "start_time": "2021-06-29T19:56:14.056Z"
      },
      {
        "duration": 57,
        "start_time": "2021-06-29T19:56:14.069Z"
      },
      {
        "duration": 23,
        "start_time": "2021-06-29T19:56:14.128Z"
      },
      {
        "duration": 76,
        "start_time": "2021-06-29T19:56:14.154Z"
      },
      {
        "duration": 93,
        "start_time": "2021-06-29T19:56:14.232Z"
      },
      {
        "duration": 4,
        "start_time": "2021-06-29T19:56:14.328Z"
      },
      {
        "duration": 17,
        "start_time": "2021-06-29T19:56:14.334Z"
      },
      {
        "duration": 10,
        "start_time": "2021-06-29T19:56:14.353Z"
      },
      {
        "duration": 63,
        "start_time": "2021-06-29T19:56:14.365Z"
      },
      {
        "duration": 22,
        "start_time": "2021-06-29T19:56:14.431Z"
      },
      {
        "duration": 172,
        "start_time": "2021-06-29T19:56:14.456Z"
      },
      {
        "duration": 10,
        "start_time": "2021-06-29T19:56:14.630Z"
      },
      {
        "duration": 8,
        "start_time": "2021-06-29T19:56:14.642Z"
      },
      {
        "duration": 13,
        "start_time": "2021-06-29T19:56:14.653Z"
      },
      {
        "duration": 21,
        "start_time": "2021-06-29T19:56:14.669Z"
      },
      {
        "duration": 18,
        "start_time": "2021-06-29T19:56:14.692Z"
      },
      {
        "duration": 14,
        "start_time": "2021-06-29T19:56:14.712Z"
      },
      {
        "duration": 9,
        "start_time": "2021-06-29T19:56:14.728Z"
      },
      {
        "duration": 24,
        "start_time": "2021-06-29T19:56:14.739Z"
      },
      {
        "duration": 364,
        "start_time": "2021-06-29T19:56:14.766Z"
      },
      {
        "duration": 5,
        "start_time": "2021-06-29T19:56:15.133Z"
      },
      {
        "duration": 17,
        "start_time": "2021-06-29T19:56:15.141Z"
      },
      {
        "duration": 15,
        "start_time": "2021-06-29T19:56:15.161Z"
      },
      {
        "duration": 14,
        "start_time": "2021-06-29T19:56:15.179Z"
      },
      {
        "duration": 21,
        "start_time": "2021-06-29T19:56:15.195Z"
      },
      {
        "duration": 332,
        "start_time": "2021-06-29T19:56:15.218Z"
      },
      {
        "duration": 4,
        "start_time": "2021-06-29T19:56:15.553Z"
      },
      {
        "duration": 15,
        "start_time": "2021-06-29T19:56:15.560Z"
      },
      {
        "duration": 604,
        "start_time": "2021-06-29T19:56:15.577Z"
      },
      {
        "duration": 3,
        "start_time": "2021-06-29T19:56:16.190Z"
      },
      {
        "duration": 9,
        "start_time": "2021-06-29T19:56:16.197Z"
      },
      {
        "duration": 4,
        "start_time": "2021-06-29T19:56:16.225Z"
      },
      {
        "duration": 21,
        "start_time": "2021-06-29T19:56:16.232Z"
      },
      {
        "duration": 19,
        "start_time": "2021-06-29T19:56:16.256Z"
      },
      {
        "duration": 16,
        "start_time": "2021-06-29T19:56:16.278Z"
      },
      {
        "duration": 9,
        "start_time": "2021-06-29T19:56:16.297Z"
      },
      {
        "duration": 9,
        "start_time": "2021-06-29T19:56:16.309Z"
      },
      {
        "duration": 16,
        "start_time": "2021-06-29T19:56:16.321Z"
      },
      {
        "duration": 13,
        "start_time": "2021-06-29T19:56:16.342Z"
      },
      {
        "duration": 27,
        "start_time": "2021-06-29T19:56:16.357Z"
      },
      {
        "duration": 8,
        "start_time": "2021-06-29T19:56:16.386Z"
      },
      {
        "duration": 16,
        "start_time": "2021-06-29T19:56:16.396Z"
      },
      {
        "duration": 830,
        "start_time": "2021-06-29T19:56:16.415Z"
      },
      {
        "duration": 6,
        "start_time": "2021-06-29T19:56:17.247Z"
      },
      {
        "duration": 25,
        "start_time": "2021-06-29T19:56:17.256Z"
      },
      {
        "duration": 6,
        "start_time": "2021-06-29T19:56:17.283Z"
      },
      {
        "duration": 9,
        "start_time": "2021-06-29T19:56:17.291Z"
      },
      {
        "duration": 28,
        "start_time": "2021-06-29T19:56:17.302Z"
      },
      {
        "duration": 730,
        "start_time": "2021-06-29T19:56:17.333Z"
      },
      {
        "duration": 6,
        "start_time": "2021-06-29T19:56:18.065Z"
      },
      {
        "duration": 434,
        "start_time": "2021-06-29T19:56:18.074Z"
      },
      {
        "duration": -1323,
        "start_time": "2021-06-29T19:56:19.834Z"
      },
      {
        "duration": -1325,
        "start_time": "2021-06-29T19:56:19.838Z"
      },
      {
        "duration": -1326,
        "start_time": "2021-06-29T19:56:19.841Z"
      },
      {
        "duration": -1334,
        "start_time": "2021-06-29T19:56:19.850Z"
      },
      {
        "duration": -1335,
        "start_time": "2021-06-29T19:56:19.853Z"
      },
      {
        "duration": -1337,
        "start_time": "2021-06-29T19:56:19.857Z"
      },
      {
        "duration": 1645,
        "start_time": "2021-06-29T19:56:32.667Z"
      },
      {
        "duration": 478,
        "start_time": "2021-06-29T19:56:34.315Z"
      },
      {
        "duration": 29,
        "start_time": "2021-06-29T19:56:34.796Z"
      },
      {
        "duration": 15,
        "start_time": "2021-06-29T19:56:34.828Z"
      },
      {
        "duration": 17,
        "start_time": "2021-06-29T19:56:34.845Z"
      },
      {
        "duration": 109,
        "start_time": "2021-06-29T19:56:34.865Z"
      },
      {
        "duration": 69,
        "start_time": "2021-06-29T19:56:34.977Z"
      },
      {
        "duration": 430,
        "start_time": "2021-06-29T19:56:35.049Z"
      },
      {
        "duration": 342,
        "start_time": "2021-06-29T19:56:35.482Z"
      },
      {
        "duration": 223,
        "start_time": "2021-06-29T19:56:35.826Z"
      },
      {
        "duration": 16,
        "start_time": "2021-06-29T19:56:36.051Z"
      },
      {
        "duration": 16,
        "start_time": "2021-06-29T19:56:36.070Z"
      },
      {
        "duration": 43,
        "start_time": "2021-06-29T19:56:36.089Z"
      },
      {
        "duration": 94,
        "start_time": "2021-06-29T19:56:36.134Z"
      },
      {
        "duration": 50,
        "start_time": "2021-06-29T19:56:36.230Z"
      },
      {
        "duration": 426,
        "start_time": "2021-06-29T19:56:36.282Z"
      },
      {
        "duration": 494,
        "start_time": "2021-06-29T19:56:36.710Z"
      },
      {
        "duration": 238,
        "start_time": "2021-06-29T19:56:37.206Z"
      },
      {
        "duration": 14,
        "start_time": "2021-06-29T19:56:37.447Z"
      },
      {
        "duration": 17,
        "start_time": "2021-06-29T19:56:37.464Z"
      },
      {
        "duration": 49,
        "start_time": "2021-06-29T19:56:37.484Z"
      },
      {
        "duration": 92,
        "start_time": "2021-06-29T19:56:37.536Z"
      },
      {
        "duration": 50,
        "start_time": "2021-06-29T19:56:37.634Z"
      },
      {
        "duration": 615,
        "start_time": "2021-06-29T19:56:37.689Z"
      },
      {
        "duration": 514,
        "start_time": "2021-06-29T19:56:38.307Z"
      },
      {
        "duration": 242,
        "start_time": "2021-06-29T19:56:38.824Z"
      },
      {
        "duration": 15,
        "start_time": "2021-06-29T19:56:39.069Z"
      },
      {
        "duration": 45,
        "start_time": "2021-06-29T19:56:39.086Z"
      },
      {
        "duration": 34,
        "start_time": "2021-06-29T19:56:39.134Z"
      },
      {
        "duration": 7,
        "start_time": "2021-06-29T19:56:39.170Z"
      },
      {
        "duration": 574,
        "start_time": "2021-06-29T19:56:39.180Z"
      },
      {
        "duration": 7,
        "start_time": "2021-06-29T19:56:39.757Z"
      },
      {
        "duration": 20,
        "start_time": "2021-06-29T19:56:39.767Z"
      },
      {
        "duration": 50,
        "start_time": "2021-06-29T19:56:39.790Z"
      },
      {
        "duration": 93,
        "start_time": "2021-06-29T19:56:39.843Z"
      },
      {
        "duration": 92,
        "start_time": "2021-06-29T19:56:39.939Z"
      },
      {
        "duration": 12,
        "start_time": "2021-06-29T19:56:40.034Z"
      },
      {
        "duration": 9,
        "start_time": "2021-06-29T19:56:40.049Z"
      },
      {
        "duration": 8,
        "start_time": "2021-06-29T19:56:40.061Z"
      },
      {
        "duration": 23,
        "start_time": "2021-06-29T19:56:40.072Z"
      },
      {
        "duration": 31,
        "start_time": "2021-06-29T19:56:40.125Z"
      },
      {
        "duration": 170,
        "start_time": "2021-06-29T19:56:40.158Z"
      },
      {
        "duration": 6,
        "start_time": "2021-06-29T19:56:40.330Z"
      },
      {
        "duration": 5,
        "start_time": "2021-06-29T19:56:40.339Z"
      },
      {
        "duration": 9,
        "start_time": "2021-06-29T19:56:40.346Z"
      },
      {
        "duration": 8,
        "start_time": "2021-06-29T19:56:40.357Z"
      },
      {
        "duration": 71,
        "start_time": "2021-06-29T19:56:40.367Z"
      },
      {
        "duration": 83,
        "start_time": "2021-06-29T19:56:40.440Z"
      },
      {
        "duration": 11,
        "start_time": "2021-06-29T19:56:40.526Z"
      },
      {
        "duration": 10,
        "start_time": "2021-06-29T19:56:40.624Z"
      },
      {
        "duration": 7,
        "start_time": "2021-06-29T19:56:40.636Z"
      },
      {
        "duration": 9,
        "start_time": "2021-06-29T19:56:40.645Z"
      },
      {
        "duration": 14,
        "start_time": "2021-06-29T19:56:40.656Z"
      },
      {
        "duration": 13,
        "start_time": "2021-06-29T19:56:40.673Z"
      },
      {
        "duration": 44,
        "start_time": "2021-06-29T19:56:40.689Z"
      },
      {
        "duration": 16,
        "start_time": "2021-06-29T19:56:40.736Z"
      },
      {
        "duration": 30,
        "start_time": "2021-06-29T19:56:40.754Z"
      },
      {
        "duration": 207,
        "start_time": "2021-06-29T19:56:40.786Z"
      },
      {
        "duration": 4,
        "start_time": "2021-06-29T19:56:40.996Z"
      },
      {
        "duration": 26,
        "start_time": "2021-06-29T19:56:41.002Z"
      },
      {
        "duration": 13,
        "start_time": "2021-06-29T19:56:41.030Z"
      },
      {
        "duration": 13,
        "start_time": "2021-06-29T19:56:41.046Z"
      },
      {
        "duration": 6,
        "start_time": "2021-06-29T19:56:41.062Z"
      },
      {
        "duration": 277,
        "start_time": "2021-06-29T19:56:41.071Z"
      },
      {
        "duration": 5,
        "start_time": "2021-06-29T19:56:41.350Z"
      },
      {
        "duration": 14,
        "start_time": "2021-06-29T19:56:41.357Z"
      },
      {
        "duration": 441,
        "start_time": "2021-06-29T19:56:41.374Z"
      },
      {
        "duration": 3,
        "start_time": "2021-06-29T19:56:41.828Z"
      },
      {
        "duration": 18,
        "start_time": "2021-06-29T19:56:41.834Z"
      },
      {
        "duration": 19,
        "start_time": "2021-06-29T19:56:41.854Z"
      },
      {
        "duration": 13,
        "start_time": "2021-06-29T19:56:41.876Z"
      },
      {
        "duration": 23,
        "start_time": "2021-06-29T19:56:41.892Z"
      },
      {
        "duration": 25,
        "start_time": "2021-06-29T19:56:41.917Z"
      },
      {
        "duration": 21,
        "start_time": "2021-06-29T19:56:41.944Z"
      },
      {
        "duration": 14,
        "start_time": "2021-06-29T19:56:41.967Z"
      },
      {
        "duration": 18,
        "start_time": "2021-06-29T19:56:41.984Z"
      },
      {
        "duration": 15,
        "start_time": "2021-06-29T19:56:42.005Z"
      },
      {
        "duration": 10,
        "start_time": "2021-06-29T19:56:42.023Z"
      },
      {
        "duration": 21,
        "start_time": "2021-06-29T19:56:42.035Z"
      },
      {
        "duration": 23,
        "start_time": "2021-06-29T19:56:42.058Z"
      },
      {
        "duration": 853,
        "start_time": "2021-06-29T19:56:42.083Z"
      },
      {
        "duration": 6,
        "start_time": "2021-06-29T19:56:42.938Z"
      },
      {
        "duration": 29,
        "start_time": "2021-06-29T19:56:42.946Z"
      },
      {
        "duration": 15,
        "start_time": "2021-06-29T19:56:42.978Z"
      },
      {
        "duration": 23,
        "start_time": "2021-06-29T19:56:42.996Z"
      },
      {
        "duration": 11,
        "start_time": "2021-06-29T19:56:43.021Z"
      },
      {
        "duration": 733,
        "start_time": "2021-06-29T19:56:43.034Z"
      },
      {
        "duration": 6,
        "start_time": "2021-06-29T19:56:43.769Z"
      },
      {
        "duration": 18,
        "start_time": "2021-06-29T19:56:43.777Z"
      },
      {
        "duration": 8,
        "start_time": "2021-06-29T19:56:43.798Z"
      },
      {
        "duration": 16,
        "start_time": "2021-06-29T19:56:43.808Z"
      },
      {
        "duration": 18,
        "start_time": "2021-06-29T19:56:43.826Z"
      },
      {
        "duration": 729,
        "start_time": "2021-06-29T19:56:43.846Z"
      },
      {
        "duration": 6,
        "start_time": "2021-06-29T19:56:44.577Z"
      },
      {
        "duration": 15,
        "start_time": "2021-06-29T19:56:44.585Z"
      },
      {
        "duration": 1673,
        "start_time": "2021-06-30T17:58:10.385Z"
      },
      {
        "duration": 496,
        "start_time": "2021-06-30T17:58:12.061Z"
      },
      {
        "duration": 20,
        "start_time": "2021-06-30T17:58:12.560Z"
      },
      {
        "duration": 35,
        "start_time": "2021-06-30T17:58:12.583Z"
      },
      {
        "duration": 15,
        "start_time": "2021-06-30T17:58:12.620Z"
      },
      {
        "duration": 93,
        "start_time": "2021-06-30T17:58:12.637Z"
      },
      {
        "duration": 52,
        "start_time": "2021-06-30T17:58:12.733Z"
      },
      {
        "duration": 459,
        "start_time": "2021-06-30T17:58:12.789Z"
      },
      {
        "duration": 356,
        "start_time": "2021-06-30T17:58:13.252Z"
      },
      {
        "duration": 223,
        "start_time": "2021-06-30T17:58:13.611Z"
      },
      {
        "duration": 19,
        "start_time": "2021-06-30T17:58:13.837Z"
      },
      {
        "duration": 26,
        "start_time": "2021-06-30T17:58:13.858Z"
      },
      {
        "duration": 35,
        "start_time": "2021-06-30T17:58:13.886Z"
      },
      {
        "duration": 63,
        "start_time": "2021-06-30T17:58:13.924Z"
      },
      {
        "duration": 51,
        "start_time": "2021-06-30T17:58:14.009Z"
      },
      {
        "duration": 434,
        "start_time": "2021-06-30T17:58:14.063Z"
      },
      {
        "duration": 484,
        "start_time": "2021-06-30T17:58:14.499Z"
      },
      {
        "duration": 236,
        "start_time": "2021-06-30T17:58:14.986Z"
      },
      {
        "duration": 14,
        "start_time": "2021-06-30T17:58:15.224Z"
      },
      {
        "duration": 25,
        "start_time": "2021-06-30T17:58:15.241Z"
      },
      {
        "duration": 13,
        "start_time": "2021-06-30T17:58:15.269Z"
      },
      {
        "duration": 72,
        "start_time": "2021-06-30T17:58:15.310Z"
      },
      {
        "duration": 68,
        "start_time": "2021-06-30T17:58:15.388Z"
      },
      {
        "duration": 420,
        "start_time": "2021-06-30T17:58:15.460Z"
      },
      {
        "duration": 428,
        "start_time": "2021-06-30T17:58:15.882Z"
      },
      {
        "duration": 242,
        "start_time": "2021-06-30T17:58:16.313Z"
      },
      {
        "duration": 15,
        "start_time": "2021-06-30T17:58:16.558Z"
      },
      {
        "duration": 41,
        "start_time": "2021-06-30T17:58:16.577Z"
      },
      {
        "duration": 33,
        "start_time": "2021-06-30T17:58:16.622Z"
      },
      {
        "duration": 5,
        "start_time": "2021-06-30T17:58:16.658Z"
      },
      {
        "duration": 575,
        "start_time": "2021-06-30T17:58:16.666Z"
      },
      {
        "duration": 6,
        "start_time": "2021-06-30T17:58:17.244Z"
      },
      {
        "duration": 31,
        "start_time": "2021-06-30T17:58:17.253Z"
      },
      {
        "duration": 34,
        "start_time": "2021-06-30T17:58:17.287Z"
      },
      {
        "duration": 98,
        "start_time": "2021-06-30T17:58:17.413Z"
      },
      {
        "duration": 6,
        "start_time": "2021-06-30T17:58:17.513Z"
      },
      {
        "duration": 5,
        "start_time": "2021-06-30T17:58:17.522Z"
      },
      {
        "duration": 15,
        "start_time": "2021-06-30T17:58:17.530Z"
      },
      {
        "duration": 9,
        "start_time": "2021-06-30T17:58:17.547Z"
      },
      {
        "duration": 55,
        "start_time": "2021-06-30T17:58:17.558Z"
      },
      {
        "duration": 18,
        "start_time": "2021-06-30T17:58:17.615Z"
      },
      {
        "duration": 77,
        "start_time": "2021-06-30T17:58:17.637Z"
      },
      {
        "duration": 94,
        "start_time": "2021-06-30T17:58:17.717Z"
      },
      {
        "duration": 13,
        "start_time": "2021-06-30T17:58:17.814Z"
      },
      {
        "duration": 20,
        "start_time": "2021-06-30T17:58:17.830Z"
      },
      {
        "duration": 25,
        "start_time": "2021-06-30T17:58:17.853Z"
      },
      {
        "duration": 29,
        "start_time": "2021-06-30T17:58:17.881Z"
      },
      {
        "duration": 16,
        "start_time": "2021-06-30T17:58:17.912Z"
      },
      {
        "duration": 177,
        "start_time": "2021-06-30T17:58:17.932Z"
      },
      {
        "duration": 5,
        "start_time": "2021-06-30T17:58:18.111Z"
      },
      {
        "duration": 15,
        "start_time": "2021-06-30T17:58:18.119Z"
      },
      {
        "duration": 10,
        "start_time": "2021-06-30T17:58:18.136Z"
      },
      {
        "duration": 19,
        "start_time": "2021-06-30T17:58:18.148Z"
      },
      {
        "duration": 14,
        "start_time": "2021-06-30T17:58:18.169Z"
      },
      {
        "duration": 6,
        "start_time": "2021-06-30T17:58:18.186Z"
      },
      {
        "duration": 18,
        "start_time": "2021-06-30T17:58:18.195Z"
      },
      {
        "duration": 13,
        "start_time": "2021-06-30T17:58:18.215Z"
      },
      {
        "duration": 215,
        "start_time": "2021-06-30T17:58:18.230Z"
      },
      {
        "duration": 5,
        "start_time": "2021-06-30T17:58:18.447Z"
      },
      {
        "duration": 20,
        "start_time": "2021-06-30T17:58:18.454Z"
      },
      {
        "duration": 10,
        "start_time": "2021-06-30T17:58:18.477Z"
      },
      {
        "duration": 8,
        "start_time": "2021-06-30T17:58:18.489Z"
      },
      {
        "duration": 11,
        "start_time": "2021-06-30T17:58:18.508Z"
      },
      {
        "duration": 278,
        "start_time": "2021-06-30T17:58:18.522Z"
      },
      {
        "duration": 8,
        "start_time": "2021-06-30T17:58:18.803Z"
      },
      {
        "duration": 8,
        "start_time": "2021-06-30T17:58:18.814Z"
      },
      {
        "duration": 433,
        "start_time": "2021-06-30T17:58:18.825Z"
      },
      {
        "duration": 4,
        "start_time": "2021-06-30T17:58:19.266Z"
      },
      {
        "duration": 8,
        "start_time": "2021-06-30T17:58:19.274Z"
      },
      {
        "duration": 25,
        "start_time": "2021-06-30T17:58:19.284Z"
      },
      {
        "duration": 12,
        "start_time": "2021-06-30T17:58:19.313Z"
      },
      {
        "duration": 8,
        "start_time": "2021-06-30T17:58:19.327Z"
      },
      {
        "duration": 14,
        "start_time": "2021-06-30T17:58:19.338Z"
      },
      {
        "duration": 7,
        "start_time": "2021-06-30T17:58:19.355Z"
      },
      {
        "duration": 22,
        "start_time": "2021-06-30T17:58:19.364Z"
      },
      {
        "duration": 15,
        "start_time": "2021-06-30T17:58:19.388Z"
      },
      {
        "duration": 8,
        "start_time": "2021-06-30T17:58:19.409Z"
      },
      {
        "duration": 17,
        "start_time": "2021-06-30T17:58:19.419Z"
      },
      {
        "duration": 9,
        "start_time": "2021-06-30T17:58:19.439Z"
      },
      {
        "duration": 11,
        "start_time": "2021-06-30T17:58:19.451Z"
      },
      {
        "duration": 979,
        "start_time": "2021-06-30T17:58:19.465Z"
      },
      {
        "duration": 6,
        "start_time": "2021-06-30T17:58:20.447Z"
      },
      {
        "duration": 7,
        "start_time": "2021-06-30T17:58:20.457Z"
      },
      {
        "duration": 6,
        "start_time": "2021-06-30T17:58:20.467Z"
      },
      {
        "duration": 36,
        "start_time": "2021-06-30T17:58:20.476Z"
      },
      {
        "duration": 8,
        "start_time": "2021-06-30T17:58:20.515Z"
      },
      {
        "duration": 839,
        "start_time": "2021-06-30T17:58:20.526Z"
      },
      {
        "duration": 6,
        "start_time": "2021-06-30T17:58:21.367Z"
      },
      {
        "duration": 7,
        "start_time": "2021-06-30T17:58:21.376Z"
      },
      {
        "duration": 24,
        "start_time": "2021-06-30T17:58:21.385Z"
      },
      {
        "duration": 11,
        "start_time": "2021-06-30T17:58:21.412Z"
      },
      {
        "duration": 6,
        "start_time": "2021-06-30T17:58:21.426Z"
      },
      {
        "duration": 746,
        "start_time": "2021-06-30T17:58:21.434Z"
      },
      {
        "duration": 5,
        "start_time": "2021-06-30T17:58:22.183Z"
      },
      {
        "duration": 21,
        "start_time": "2021-06-30T17:58:22.191Z"
      },
      {
        "duration": 1696,
        "start_time": "2021-06-30T17:58:39.951Z"
      },
      {
        "duration": 495,
        "start_time": "2021-06-30T17:58:41.650Z"
      },
      {
        "duration": 19,
        "start_time": "2021-06-30T17:58:42.148Z"
      },
      {
        "duration": 17,
        "start_time": "2021-06-30T17:58:42.170Z"
      },
      {
        "duration": 14,
        "start_time": "2021-06-30T17:58:42.210Z"
      },
      {
        "duration": 100,
        "start_time": "2021-06-30T17:58:42.226Z"
      },
      {
        "duration": 54,
        "start_time": "2021-06-30T17:58:42.329Z"
      },
      {
        "duration": 460,
        "start_time": "2021-06-30T17:58:42.387Z"
      },
      {
        "duration": 352,
        "start_time": "2021-06-30T17:58:42.850Z"
      },
      {
        "duration": 232,
        "start_time": "2021-06-30T17:58:43.205Z"
      },
      {
        "duration": 18,
        "start_time": "2021-06-30T17:58:43.439Z"
      },
      {
        "duration": 26,
        "start_time": "2021-06-30T17:58:43.459Z"
      },
      {
        "duration": 32,
        "start_time": "2021-06-30T17:58:43.487Z"
      },
      {
        "duration": 68,
        "start_time": "2021-06-30T17:58:43.522Z"
      },
      {
        "duration": 50,
        "start_time": "2021-06-30T17:58:43.609Z"
      },
      {
        "duration": 440,
        "start_time": "2021-06-30T17:58:43.661Z"
      },
      {
        "duration": 487,
        "start_time": "2021-06-30T17:58:44.103Z"
      },
      {
        "duration": 236,
        "start_time": "2021-06-30T17:58:44.593Z"
      },
      {
        "duration": 14,
        "start_time": "2021-06-30T17:58:44.831Z"
      },
      {
        "duration": 21,
        "start_time": "2021-06-30T17:58:44.848Z"
      },
      {
        "duration": 45,
        "start_time": "2021-06-30T17:58:44.871Z"
      },
      {
        "duration": 72,
        "start_time": "2021-06-30T17:58:44.918Z"
      },
      {
        "duration": 49,
        "start_time": "2021-06-30T17:58:45.014Z"
      },
      {
        "duration": 430,
        "start_time": "2021-06-30T17:58:45.066Z"
      },
      {
        "duration": 434,
        "start_time": "2021-06-30T17:58:45.508Z"
      },
      {
        "duration": 241,
        "start_time": "2021-06-30T17:58:45.944Z"
      },
      {
        "duration": 22,
        "start_time": "2021-06-30T17:58:46.188Z"
      },
      {
        "duration": 24,
        "start_time": "2021-06-30T17:58:46.212Z"
      },
      {
        "duration": 32,
        "start_time": "2021-06-30T17:58:46.238Z"
      },
      {
        "duration": 37,
        "start_time": "2021-06-30T17:58:46.272Z"
      },
      {
        "duration": 568,
        "start_time": "2021-06-30T17:58:46.312Z"
      },
      {
        "duration": 5,
        "start_time": "2021-06-30T17:58:46.883Z"
      },
      {
        "duration": 33,
        "start_time": "2021-06-30T17:58:46.891Z"
      },
      {
        "duration": 85,
        "start_time": "2021-06-30T17:58:46.926Z"
      },
      {
        "duration": 96,
        "start_time": "2021-06-30T17:58:47.015Z"
      },
      {
        "duration": 5,
        "start_time": "2021-06-30T17:58:47.114Z"
      },
      {
        "duration": 7,
        "start_time": "2021-06-30T17:58:47.121Z"
      },
      {
        "duration": 10,
        "start_time": "2021-06-30T17:58:47.131Z"
      },
      {
        "duration": 7,
        "start_time": "2021-06-30T17:58:47.143Z"
      },
      {
        "duration": 56,
        "start_time": "2021-06-30T17:58:47.153Z"
      },
      {
        "duration": 23,
        "start_time": "2021-06-30T17:58:47.211Z"
      },
      {
        "duration": 76,
        "start_time": "2021-06-30T17:58:47.237Z"
      },
      {
        "duration": 98,
        "start_time": "2021-06-30T17:58:47.317Z"
      },
      {
        "duration": 13,
        "start_time": "2021-06-30T17:58:47.417Z"
      },
      {
        "duration": 13,
        "start_time": "2021-06-30T17:58:47.433Z"
      },
      {
        "duration": 9,
        "start_time": "2021-06-30T17:58:47.449Z"
      },
      {
        "duration": 40,
        "start_time": "2021-06-30T17:58:47.460Z"
      },
      {
        "duration": 30,
        "start_time": "2021-06-30T17:58:47.502Z"
      },
      {
        "duration": 99,
        "start_time": "2021-06-30T17:58:47.611Z"
      },
      {
        "duration": 10,
        "start_time": "2021-06-30T17:58:47.713Z"
      },
      {
        "duration": 8,
        "start_time": "2021-06-30T17:58:47.726Z"
      },
      {
        "duration": 12,
        "start_time": "2021-06-30T17:58:47.737Z"
      },
      {
        "duration": 8,
        "start_time": "2021-06-30T17:58:47.752Z"
      },
      {
        "duration": 16,
        "start_time": "2021-06-30T17:58:47.762Z"
      },
      {
        "duration": 17,
        "start_time": "2021-06-30T17:58:47.781Z"
      },
      {
        "duration": 14,
        "start_time": "2021-06-30T17:58:47.800Z"
      },
      {
        "duration": 17,
        "start_time": "2021-06-30T17:58:47.817Z"
      },
      {
        "duration": 220,
        "start_time": "2021-06-30T17:58:47.837Z"
      },
      {
        "duration": 5,
        "start_time": "2021-06-30T17:58:48.060Z"
      },
      {
        "duration": 14,
        "start_time": "2021-06-30T17:58:48.068Z"
      },
      {
        "duration": 11,
        "start_time": "2021-06-30T17:58:48.084Z"
      },
      {
        "duration": 4,
        "start_time": "2021-06-30T17:58:48.110Z"
      },
      {
        "duration": 14,
        "start_time": "2021-06-30T17:58:48.116Z"
      },
      {
        "duration": 270,
        "start_time": "2021-06-30T17:58:48.133Z"
      },
      {
        "duration": 5,
        "start_time": "2021-06-30T17:58:48.408Z"
      },
      {
        "duration": 23,
        "start_time": "2021-06-30T17:58:48.415Z"
      },
      {
        "duration": 422,
        "start_time": "2021-06-30T17:58:48.440Z"
      },
      {
        "duration": 3,
        "start_time": "2021-06-30T17:58:48.870Z"
      },
      {
        "duration": 11,
        "start_time": "2021-06-30T17:58:48.876Z"
      },
      {
        "duration": 19,
        "start_time": "2021-06-30T17:58:48.890Z"
      },
      {
        "duration": 13,
        "start_time": "2021-06-30T17:58:48.911Z"
      },
      {
        "duration": 9,
        "start_time": "2021-06-30T17:58:48.927Z"
      },
      {
        "duration": 15,
        "start_time": "2021-06-30T17:58:48.938Z"
      },
      {
        "duration": 10,
        "start_time": "2021-06-30T17:58:48.955Z"
      },
      {
        "duration": 12,
        "start_time": "2021-06-30T17:58:48.967Z"
      },
      {
        "duration": 10,
        "start_time": "2021-06-30T17:58:48.982Z"
      },
      {
        "duration": 14,
        "start_time": "2021-06-30T17:58:48.995Z"
      },
      {
        "duration": 9,
        "start_time": "2021-06-30T17:58:49.011Z"
      },
      {
        "duration": 11,
        "start_time": "2021-06-30T17:58:49.022Z"
      },
      {
        "duration": 10,
        "start_time": "2021-06-30T17:58:49.036Z"
      },
      {
        "duration": 842,
        "start_time": "2021-06-30T17:58:49.048Z"
      },
      {
        "duration": 15,
        "start_time": "2021-06-30T17:58:49.893Z"
      },
      {
        "duration": 10,
        "start_time": "2021-06-30T17:58:49.911Z"
      },
      {
        "duration": 11,
        "start_time": "2021-06-30T17:58:49.923Z"
      },
      {
        "duration": 13,
        "start_time": "2021-06-30T17:58:49.936Z"
      },
      {
        "duration": 9,
        "start_time": "2021-06-30T17:58:49.951Z"
      },
      {
        "duration": 741,
        "start_time": "2021-06-30T17:58:49.962Z"
      },
      {
        "duration": 6,
        "start_time": "2021-06-30T17:58:50.708Z"
      },
      {
        "duration": 11,
        "start_time": "2021-06-30T17:58:50.717Z"
      },
      {
        "duration": 23,
        "start_time": "2021-06-30T17:58:50.731Z"
      },
      {
        "duration": 11,
        "start_time": "2021-06-30T17:58:50.756Z"
      },
      {
        "duration": 7,
        "start_time": "2021-06-30T17:58:50.770Z"
      },
      {
        "duration": 737,
        "start_time": "2021-06-30T17:58:50.779Z"
      },
      {
        "duration": 6,
        "start_time": "2021-06-30T17:58:51.518Z"
      },
      {
        "duration": 14,
        "start_time": "2021-06-30T17:58:51.526Z"
      },
      {
        "duration": 3,
        "start_time": "2021-06-30T18:04:38.617Z"
      },
      {
        "duration": 9,
        "start_time": "2021-06-30T18:04:42.738Z"
      },
      {
        "duration": 17,
        "start_time": "2021-06-30T18:06:40.634Z"
      },
      {
        "duration": 7,
        "start_time": "2021-06-30T18:07:03.180Z"
      },
      {
        "duration": 6,
        "start_time": "2021-06-30T18:07:18.410Z"
      },
      {
        "duration": 9,
        "start_time": "2021-06-30T18:09:40.755Z"
      },
      {
        "duration": 7,
        "start_time": "2021-06-30T18:09:41.474Z"
      },
      {
        "duration": 17,
        "start_time": "2021-06-30T18:09:52.429Z"
      },
      {
        "duration": 6,
        "start_time": "2021-06-30T18:10:26.660Z"
      },
      {
        "duration": 1648,
        "start_time": "2021-06-30T18:15:58.500Z"
      },
      {
        "duration": 493,
        "start_time": "2021-06-30T18:16:00.151Z"
      },
      {
        "duration": 21,
        "start_time": "2021-06-30T18:16:00.647Z"
      },
      {
        "duration": 39,
        "start_time": "2021-06-30T18:16:00.671Z"
      },
      {
        "duration": 18,
        "start_time": "2021-06-30T18:16:00.713Z"
      },
      {
        "duration": 94,
        "start_time": "2021-06-30T18:16:00.734Z"
      },
      {
        "duration": 53,
        "start_time": "2021-06-30T18:16:00.830Z"
      },
      {
        "duration": 444,
        "start_time": "2021-06-30T18:16:00.887Z"
      },
      {
        "duration": 374,
        "start_time": "2021-06-30T18:16:01.334Z"
      },
      {
        "duration": 225,
        "start_time": "2021-06-30T18:16:01.711Z"
      },
      {
        "duration": 14,
        "start_time": "2021-06-30T18:16:01.938Z"
      },
      {
        "duration": 69,
        "start_time": "2021-06-30T18:16:01.954Z"
      },
      {
        "duration": 118,
        "start_time": "2021-06-30T18:16:02.026Z"
      },
      {
        "duration": 99,
        "start_time": "2021-06-30T18:16:02.146Z"
      },
      {
        "duration": 63,
        "start_time": "2021-06-30T18:16:02.248Z"
      },
      {
        "duration": 435,
        "start_time": "2021-06-30T18:16:02.313Z"
      },
      {
        "duration": 501,
        "start_time": "2021-06-30T18:16:02.750Z"
      },
      {
        "duration": 243,
        "start_time": "2021-06-30T18:16:03.253Z"
      },
      {
        "duration": 21,
        "start_time": "2021-06-30T18:16:03.499Z"
      },
      {
        "duration": 29,
        "start_time": "2021-06-30T18:16:03.522Z"
      },
      {
        "duration": 16,
        "start_time": "2021-06-30T18:16:03.553Z"
      },
      {
        "duration": 90,
        "start_time": "2021-06-30T18:16:03.571Z"
      },
      {
        "duration": 64,
        "start_time": "2021-06-30T18:16:03.667Z"
      },
      {
        "duration": 432,
        "start_time": "2021-06-30T18:16:03.736Z"
      },
      {
        "duration": 440,
        "start_time": "2021-06-30T18:16:04.171Z"
      },
      {
        "duration": 241,
        "start_time": "2021-06-30T18:16:04.614Z"
      },
      {
        "duration": 13,
        "start_time": "2021-06-30T18:16:04.858Z"
      },
      {
        "duration": 41,
        "start_time": "2021-06-30T18:16:04.873Z"
      },
      {
        "duration": 32,
        "start_time": "2021-06-30T18:16:04.916Z"
      },
      {
        "duration": 5,
        "start_time": "2021-06-30T18:16:04.950Z"
      },
      {
        "duration": 584,
        "start_time": "2021-06-30T18:16:04.958Z"
      },
      {
        "duration": 7,
        "start_time": "2021-06-30T18:16:05.544Z"
      },
      {
        "duration": 55,
        "start_time": "2021-06-30T18:16:05.554Z"
      },
      {
        "duration": 46,
        "start_time": "2021-06-30T18:16:05.611Z"
      },
      {
        "duration": 100,
        "start_time": "2021-06-30T18:16:05.712Z"
      },
      {
        "duration": 48,
        "start_time": "2021-06-30T18:16:05.814Z"
      },
      {
        "duration": 66,
        "start_time": "2021-06-30T18:16:05.865Z"
      },
      {
        "duration": 28,
        "start_time": "2021-06-30T18:16:05.933Z"
      },
      {
        "duration": 141,
        "start_time": "2021-06-30T18:16:05.963Z"
      },
      {
        "duration": 28,
        "start_time": "2021-06-30T18:16:06.107Z"
      },
      {
        "duration": 18,
        "start_time": "2021-06-30T18:16:06.138Z"
      },
      {
        "duration": 149,
        "start_time": "2021-06-30T18:16:06.160Z"
      },
      {
        "duration": 12,
        "start_time": "2021-06-30T18:16:06.312Z"
      },
      {
        "duration": 9,
        "start_time": "2021-06-30T18:16:06.327Z"
      },
      {
        "duration": 16,
        "start_time": "2021-06-30T18:16:06.339Z"
      },
      {
        "duration": 52,
        "start_time": "2021-06-30T18:16:06.358Z"
      },
      {
        "duration": 45,
        "start_time": "2021-06-30T18:16:06.413Z"
      },
      {
        "duration": 16,
        "start_time": "2021-06-30T18:16:06.461Z"
      },
      {
        "duration": 35,
        "start_time": "2021-06-30T18:16:06.480Z"
      },
      {
        "duration": 93,
        "start_time": "2021-06-30T18:16:06.518Z"
      },
      {
        "duration": 39,
        "start_time": "2021-06-30T18:16:06.613Z"
      },
      {
        "duration": 38,
        "start_time": "2021-06-30T18:16:06.654Z"
      },
      {
        "duration": 21,
        "start_time": "2021-06-30T18:16:06.695Z"
      },
      {
        "duration": 18,
        "start_time": "2021-06-30T18:16:06.718Z"
      },
      {
        "duration": 28,
        "start_time": "2021-06-30T18:16:06.739Z"
      },
      {
        "duration": 35,
        "start_time": "2021-06-30T18:16:06.769Z"
      },
      {
        "duration": 15,
        "start_time": "2021-06-30T18:16:06.806Z"
      },
      {
        "duration": 224,
        "start_time": "2021-06-30T18:16:06.823Z"
      },
      {
        "duration": 5,
        "start_time": "2021-06-30T18:16:07.050Z"
      },
      {
        "duration": 25,
        "start_time": "2021-06-30T18:16:07.058Z"
      },
      {
        "duration": 53,
        "start_time": "2021-06-30T18:16:07.086Z"
      },
      {
        "duration": 22,
        "start_time": "2021-06-30T18:16:07.142Z"
      },
      {
        "duration": 17,
        "start_time": "2021-06-30T18:16:07.166Z"
      },
      {
        "duration": 271,
        "start_time": "2021-06-30T18:16:07.185Z"
      },
      {
        "duration": 5,
        "start_time": "2021-06-30T18:16:07.459Z"
      },
      {
        "duration": 21,
        "start_time": "2021-06-30T18:16:07.467Z"
      },
      {
        "duration": 434,
        "start_time": "2021-06-30T18:16:07.491Z"
      },
      {
        "duration": 3,
        "start_time": "2021-06-30T18:16:07.935Z"
      },
      {
        "duration": 8,
        "start_time": "2021-06-30T18:16:07.941Z"
      },
      {
        "duration": 8,
        "start_time": "2021-06-30T18:16:07.952Z"
      },
      {
        "duration": 12,
        "start_time": "2021-06-30T18:16:07.962Z"
      },
      {
        "duration": 14,
        "start_time": "2021-06-30T18:16:07.976Z"
      },
      {
        "duration": 15,
        "start_time": "2021-06-30T18:16:07.993Z"
      },
      {
        "duration": 15,
        "start_time": "2021-06-30T18:16:08.011Z"
      },
      {
        "duration": 10,
        "start_time": "2021-06-30T18:16:08.028Z"
      },
      {
        "duration": 13,
        "start_time": "2021-06-30T18:16:08.040Z"
      },
      {
        "duration": 12,
        "start_time": "2021-06-30T18:16:08.055Z"
      },
      {
        "duration": 13,
        "start_time": "2021-06-30T18:16:08.069Z"
      },
      {
        "duration": 13,
        "start_time": "2021-06-30T18:16:08.084Z"
      },
      {
        "duration": 11,
        "start_time": "2021-06-30T18:16:08.100Z"
      },
      {
        "duration": 840,
        "start_time": "2021-06-30T18:16:08.113Z"
      },
      {
        "duration": 6,
        "start_time": "2021-06-30T18:16:08.956Z"
      },
      {
        "duration": 23,
        "start_time": "2021-06-30T18:16:08.965Z"
      },
      {
        "duration": 19,
        "start_time": "2021-06-30T18:16:08.991Z"
      },
      {
        "duration": 13,
        "start_time": "2021-06-30T18:16:09.014Z"
      },
      {
        "duration": 19,
        "start_time": "2021-06-30T18:16:09.029Z"
      },
      {
        "duration": 746,
        "start_time": "2021-06-30T18:16:09.050Z"
      },
      {
        "duration": 15,
        "start_time": "2021-06-30T18:16:09.798Z"
      },
      {
        "duration": 16,
        "start_time": "2021-06-30T18:16:09.815Z"
      },
      {
        "duration": 28,
        "start_time": "2021-06-30T18:16:09.833Z"
      },
      {
        "duration": 15,
        "start_time": "2021-06-30T18:16:09.864Z"
      },
      {
        "duration": 15,
        "start_time": "2021-06-30T18:16:09.881Z"
      },
      {
        "duration": 732,
        "start_time": "2021-06-30T18:16:09.899Z"
      },
      {
        "duration": 5,
        "start_time": "2021-06-30T18:16:10.634Z"
      },
      {
        "duration": 14,
        "start_time": "2021-06-30T18:16:10.642Z"
      },
      {
        "duration": 7,
        "start_time": "2021-06-30T18:16:10.658Z"
      },
      {
        "duration": 10,
        "start_time": "2021-06-30T18:16:10.668Z"
      },
      {
        "duration": 31,
        "start_time": "2021-06-30T18:16:10.680Z"
      },
      {
        "duration": 6,
        "start_time": "2021-06-30T18:16:10.713Z"
      },
      {
        "duration": 10,
        "start_time": "2021-06-30T18:16:10.722Z"
      },
      {
        "duration": 7,
        "start_time": "2021-06-30T18:17:21.586Z"
      },
      {
        "duration": 6,
        "start_time": "2021-06-30T18:17:22.682Z"
      },
      {
        "duration": 5,
        "start_time": "2021-06-30T18:17:38.920Z"
      },
      {
        "duration": 6,
        "start_time": "2021-06-30T18:17:44.456Z"
      },
      {
        "duration": 8,
        "start_time": "2021-06-30T18:18:36.067Z"
      },
      {
        "duration": 7,
        "start_time": "2021-06-30T18:19:04.065Z"
      },
      {
        "duration": 6,
        "start_time": "2021-06-30T18:19:05.008Z"
      },
      {
        "duration": 7,
        "start_time": "2021-06-30T18:19:13.193Z"
      },
      {
        "duration": 7,
        "start_time": "2021-06-30T18:19:38.201Z"
      },
      {
        "duration": 7,
        "start_time": "2021-06-30T18:19:41.729Z"
      },
      {
        "duration": 6,
        "start_time": "2021-06-30T18:20:29.055Z"
      },
      {
        "duration": 24,
        "start_time": "2021-06-30T18:20:43.569Z"
      },
      {
        "duration": 17,
        "start_time": "2021-06-30T18:21:28.561Z"
      },
      {
        "duration": 7,
        "start_time": "2021-06-30T18:23:31.074Z"
      },
      {
        "duration": 14,
        "start_time": "2021-06-30T18:23:51.500Z"
      },
      {
        "duration": 4,
        "start_time": "2021-06-30T18:24:30.199Z"
      },
      {
        "duration": 5,
        "start_time": "2021-06-30T18:25:17.754Z"
      },
      {
        "duration": 485,
        "start_time": "2021-06-30T18:25:44.900Z"
      },
      {
        "duration": 7,
        "start_time": "2021-06-30T18:25:48.763Z"
      },
      {
        "duration": 4,
        "start_time": "2021-06-30T18:25:49.994Z"
      },
      {
        "duration": 393,
        "start_time": "2021-06-30T18:26:23.747Z"
      },
      {
        "duration": 6,
        "start_time": "2021-06-30T18:26:28.795Z"
      },
      {
        "duration": 5,
        "start_time": "2021-06-30T18:28:15.292Z"
      },
      {
        "duration": 4,
        "start_time": "2021-06-30T18:29:44.804Z"
      },
      {
        "duration": 5,
        "start_time": "2021-06-30T18:29:48.293Z"
      },
      {
        "duration": 458,
        "start_time": "2021-06-30T18:30:01.484Z"
      },
      {
        "duration": 4,
        "start_time": "2021-06-30T18:30:06.534Z"
      },
      {
        "duration": 6,
        "start_time": "2021-06-30T18:30:07.021Z"
      },
      {
        "duration": 6,
        "start_time": "2021-06-30T18:30:09.661Z"
      },
      {
        "duration": 3,
        "start_time": "2021-06-30T18:30:34.933Z"
      },
      {
        "duration": 5,
        "start_time": "2021-06-30T18:30:37.830Z"
      },
      {
        "duration": 4,
        "start_time": "2021-06-30T18:30:43.636Z"
      },
      {
        "duration": 7,
        "start_time": "2021-06-30T18:30:51.294Z"
      },
      {
        "duration": 5,
        "start_time": "2021-06-30T18:30:55.534Z"
      },
      {
        "duration": 5,
        "start_time": "2021-06-30T18:32:34.703Z"
      },
      {
        "duration": 7,
        "start_time": "2021-06-30T18:32:48.471Z"
      },
      {
        "duration": 7,
        "start_time": "2021-06-30T18:32:52.000Z"
      },
      {
        "duration": 8,
        "start_time": "2021-06-30T18:33:19.958Z"
      },
      {
        "duration": 8,
        "start_time": "2021-06-30T18:33:42.878Z"
      },
      {
        "duration": 5,
        "start_time": "2021-06-30T18:33:46.750Z"
      },
      {
        "duration": 7,
        "start_time": "2021-06-30T18:34:37.088Z"
      },
      {
        "duration": 5,
        "start_time": "2021-06-30T18:34:41.853Z"
      },
      {
        "duration": 6,
        "start_time": "2021-06-30T18:35:08.182Z"
      },
      {
        "duration": 5,
        "start_time": "2021-06-30T18:35:09.090Z"
      },
      {
        "duration": 6,
        "start_time": "2021-06-30T18:37:44.923Z"
      },
      {
        "duration": 9,
        "start_time": "2021-06-30T18:38:51.026Z"
      },
      {
        "duration": 8,
        "start_time": "2021-06-30T18:40:58.938Z"
      },
      {
        "duration": 8,
        "start_time": "2021-06-30T18:41:15.866Z"
      },
      {
        "duration": 9,
        "start_time": "2021-06-30T18:41:28.961Z"
      },
      {
        "duration": 5,
        "start_time": "2021-06-30T18:53:42.011Z"
      },
      {
        "duration": 5,
        "start_time": "2021-06-30T18:54:18.372Z"
      },
      {
        "duration": 6,
        "start_time": "2021-06-30T18:54:28.956Z"
      },
      {
        "duration": 5,
        "start_time": "2021-06-30T18:54:33.491Z"
      },
      {
        "duration": 17,
        "start_time": "2021-06-30T18:54:49.940Z"
      },
      {
        "duration": 5,
        "start_time": "2021-06-30T18:55:18.724Z"
      },
      {
        "duration": 16,
        "start_time": "2021-06-30T18:55:24.651Z"
      },
      {
        "duration": 9,
        "start_time": "2021-06-30T18:56:46.613Z"
      },
      {
        "duration": 6,
        "start_time": "2021-06-30T18:58:39.465Z"
      },
      {
        "duration": 5,
        "start_time": "2021-06-30T18:59:05.356Z"
      },
      {
        "duration": 16,
        "start_time": "2021-06-30T18:59:14.781Z"
      },
      {
        "duration": 17,
        "start_time": "2021-06-30T18:59:58.006Z"
      },
      {
        "duration": 4,
        "start_time": "2021-06-30T19:00:44.877Z"
      },
      {
        "duration": 5,
        "start_time": "2021-06-30T19:01:08.013Z"
      },
      {
        "duration": 4,
        "start_time": "2021-06-30T19:01:09.669Z"
      },
      {
        "duration": 4,
        "start_time": "2021-06-30T19:01:23.837Z"
      },
      {
        "duration": 6,
        "start_time": "2021-06-30T19:01:24.165Z"
      },
      {
        "duration": 6,
        "start_time": "2021-06-30T19:01:25.900Z"
      },
      {
        "duration": 8,
        "start_time": "2021-06-30T19:01:35.725Z"
      },
      {
        "duration": 8,
        "start_time": "2021-06-30T19:03:13.054Z"
      },
      {
        "duration": 362,
        "start_time": "2021-06-30T19:17:54.555Z"
      },
      {
        "duration": 391,
        "start_time": "2021-06-30T19:18:32.330Z"
      },
      {
        "duration": 338,
        "start_time": "2021-06-30T19:20:06.546Z"
      },
      {
        "duration": 433,
        "start_time": "2021-06-30T19:20:21.851Z"
      },
      {
        "duration": 354,
        "start_time": "2021-06-30T19:21:06.050Z"
      },
      {
        "duration": 386,
        "start_time": "2021-06-30T19:27:55.524Z"
      },
      {
        "duration": 131,
        "start_time": "2021-06-30T19:28:02.476Z"
      },
      {
        "duration": 123,
        "start_time": "2021-06-30T19:28:06.580Z"
      },
      {
        "duration": 473,
        "start_time": "2021-06-30T19:28:19.020Z"
      },
      {
        "duration": 17,
        "start_time": "2021-06-30T19:29:53.604Z"
      },
      {
        "duration": 8,
        "start_time": "2021-06-30T19:30:09.056Z"
      },
      {
        "duration": 8,
        "start_time": "2021-06-30T19:33:17.774Z"
      },
      {
        "duration": 368,
        "start_time": "2021-06-30T19:33:57.974Z"
      },
      {
        "duration": 5,
        "start_time": "2021-06-30T19:34:01.974Z"
      },
      {
        "duration": 333,
        "start_time": "2021-06-30T19:34:02.838Z"
      },
      {
        "duration": 4,
        "start_time": "2021-06-30T19:34:50.318Z"
      },
      {
        "duration": 446,
        "start_time": "2021-06-30T19:34:54.186Z"
      },
      {
        "duration": 8,
        "start_time": "2021-06-30T19:34:56.397Z"
      },
      {
        "duration": 4,
        "start_time": "2021-06-30T19:38:40.840Z"
      },
      {
        "duration": 6,
        "start_time": "2021-06-30T19:38:46.486Z"
      },
      {
        "duration": 7,
        "start_time": "2021-06-30T19:39:20.399Z"
      },
      {
        "duration": 4,
        "start_time": "2021-06-30T19:39:33.416Z"
      },
      {
        "duration": 5,
        "start_time": "2021-06-30T19:39:38.623Z"
      },
      {
        "duration": 4,
        "start_time": "2021-06-30T19:39:48.575Z"
      },
      {
        "duration": 4,
        "start_time": "2021-06-30T19:39:49.936Z"
      },
      {
        "duration": 4,
        "start_time": "2021-06-30T19:40:18.952Z"
      },
      {
        "duration": 5,
        "start_time": "2021-06-30T19:40:19.375Z"
      },
      {
        "duration": 4,
        "start_time": "2021-06-30T19:40:31.615Z"
      },
      {
        "duration": 6,
        "start_time": "2021-06-30T19:40:31.934Z"
      },
      {
        "duration": 5,
        "start_time": "2021-06-30T19:40:59.256Z"
      },
      {
        "duration": 123,
        "start_time": "2021-06-30T19:41:10.295Z"
      },
      {
        "duration": 137,
        "start_time": "2021-06-30T19:41:13.591Z"
      },
      {
        "duration": 5,
        "start_time": "2021-06-30T19:41:17.303Z"
      },
      {
        "duration": 6,
        "start_time": "2021-06-30T19:43:59.960Z"
      },
      {
        "duration": 4,
        "start_time": "2021-06-30T19:44:04.352Z"
      },
      {
        "duration": 6,
        "start_time": "2021-06-30T19:44:08.880Z"
      },
      {
        "duration": 4,
        "start_time": "2021-06-30T19:44:20.744Z"
      },
      {
        "duration": 5,
        "start_time": "2021-06-30T19:44:29.377Z"
      },
      {
        "duration": 4,
        "start_time": "2021-06-30T19:44:32.209Z"
      },
      {
        "duration": 5,
        "start_time": "2021-06-30T19:44:44.328Z"
      },
      {
        "duration": 6,
        "start_time": "2021-06-30T19:44:44.848Z"
      },
      {
        "duration": 5,
        "start_time": "2021-06-30T19:45:08.136Z"
      },
      {
        "duration": 4,
        "start_time": "2021-06-30T19:45:08.472Z"
      },
      {
        "duration": 5,
        "start_time": "2021-06-30T19:45:10.816Z"
      },
      {
        "duration": 4,
        "start_time": "2021-06-30T19:45:56.233Z"
      },
      {
        "duration": 6,
        "start_time": "2021-06-30T19:46:05.009Z"
      },
      {
        "duration": 5,
        "start_time": "2021-06-30T19:46:07.417Z"
      },
      {
        "duration": 5,
        "start_time": "2021-06-30T19:46:13.936Z"
      },
      {
        "duration": 5,
        "start_time": "2021-06-30T19:46:16.410Z"
      },
      {
        "duration": 3,
        "start_time": "2021-06-30T19:47:14.865Z"
      },
      {
        "duration": 1636,
        "start_time": "2021-06-30T19:50:41.413Z"
      },
      {
        "duration": 478,
        "start_time": "2021-06-30T19:50:43.052Z"
      },
      {
        "duration": 19,
        "start_time": "2021-06-30T19:50:43.533Z"
      },
      {
        "duration": 17,
        "start_time": "2021-06-30T19:50:43.555Z"
      },
      {
        "duration": 40,
        "start_time": "2021-06-30T19:50:43.575Z"
      },
      {
        "duration": 71,
        "start_time": "2021-06-30T19:50:43.618Z"
      },
      {
        "duration": 64,
        "start_time": "2021-06-30T19:50:43.692Z"
      },
      {
        "duration": 437,
        "start_time": "2021-06-30T19:50:43.760Z"
      },
      {
        "duration": 343,
        "start_time": "2021-06-30T19:50:44.200Z"
      },
      {
        "duration": 229,
        "start_time": "2021-06-30T19:50:44.546Z"
      },
      {
        "duration": 14,
        "start_time": "2021-06-30T19:50:44.777Z"
      },
      {
        "duration": 15,
        "start_time": "2021-06-30T19:50:44.810Z"
      },
      {
        "duration": 24,
        "start_time": "2021-06-30T19:50:44.827Z"
      },
      {
        "duration": 111,
        "start_time": "2021-06-30T19:50:44.854Z"
      },
      {
        "duration": 67,
        "start_time": "2021-06-30T19:50:44.968Z"
      },
      {
        "duration": 443,
        "start_time": "2021-06-30T19:50:45.037Z"
      },
      {
        "duration": 515,
        "start_time": "2021-06-30T19:50:45.483Z"
      },
      {
        "duration": 245,
        "start_time": "2021-06-30T19:50:46.000Z"
      },
      {
        "duration": 14,
        "start_time": "2021-06-30T19:50:46.248Z"
      },
      {
        "duration": 15,
        "start_time": "2021-06-30T19:50:46.265Z"
      },
      {
        "duration": 33,
        "start_time": "2021-06-30T19:50:46.283Z"
      },
      {
        "duration": 93,
        "start_time": "2021-06-30T19:50:46.318Z"
      },
      {
        "duration": 51,
        "start_time": "2021-06-30T19:50:46.420Z"
      },
      {
        "duration": 459,
        "start_time": "2021-06-30T19:50:46.477Z"
      },
      {
        "duration": 432,
        "start_time": "2021-06-30T19:50:46.938Z"
      },
      {
        "duration": 243,
        "start_time": "2021-06-30T19:50:47.372Z"
      },
      {
        "duration": 14,
        "start_time": "2021-06-30T19:50:47.618Z"
      },
      {
        "duration": 23,
        "start_time": "2021-06-30T19:50:47.635Z"
      },
      {
        "duration": 59,
        "start_time": "2021-06-30T19:50:47.661Z"
      },
      {
        "duration": 5,
        "start_time": "2021-06-30T19:50:47.722Z"
      },
      {
        "duration": 561,
        "start_time": "2021-06-30T19:50:47.730Z"
      },
      {
        "duration": 6,
        "start_time": "2021-06-30T19:50:48.293Z"
      },
      {
        "duration": 17,
        "start_time": "2021-06-30T19:50:48.309Z"
      },
      {
        "duration": 81,
        "start_time": "2021-06-30T19:50:48.328Z"
      },
      {
        "duration": 97,
        "start_time": "2021-06-30T19:50:48.412Z"
      },
      {
        "duration": 9,
        "start_time": "2021-06-30T19:50:48.512Z"
      },
      {
        "duration": 8,
        "start_time": "2021-06-30T19:50:48.524Z"
      },
      {
        "duration": 8,
        "start_time": "2021-06-30T19:50:48.535Z"
      },
      {
        "duration": 15,
        "start_time": "2021-06-30T19:50:48.546Z"
      },
      {
        "duration": 45,
        "start_time": "2021-06-30T19:50:48.564Z"
      },
      {
        "duration": 19,
        "start_time": "2021-06-30T19:50:48.611Z"
      },
      {
        "duration": 174,
        "start_time": "2021-06-30T19:50:48.636Z"
      },
      {
        "duration": 5,
        "start_time": "2021-06-30T19:50:48.813Z"
      },
      {
        "duration": 8,
        "start_time": "2021-06-30T19:50:48.821Z"
      },
      {
        "duration": 14,
        "start_time": "2021-06-30T19:50:48.832Z"
      },
      {
        "duration": 8,
        "start_time": "2021-06-30T19:50:48.849Z"
      },
      {
        "duration": 55,
        "start_time": "2021-06-30T19:50:48.859Z"
      },
      {
        "duration": 16,
        "start_time": "2021-06-30T19:50:48.917Z"
      },
      {
        "duration": 76,
        "start_time": "2021-06-30T19:50:48.936Z"
      },
      {
        "duration": 96,
        "start_time": "2021-06-30T19:50:49.015Z"
      },
      {
        "duration": 10,
        "start_time": "2021-06-30T19:50:49.114Z"
      },
      {
        "duration": 13,
        "start_time": "2021-06-30T19:50:49.127Z"
      },
      {
        "duration": 13,
        "start_time": "2021-06-30T19:50:49.142Z"
      },
      {
        "duration": 14,
        "start_time": "2021-06-30T19:50:49.157Z"
      },
      {
        "duration": 11,
        "start_time": "2021-06-30T19:50:49.174Z"
      },
      {
        "duration": 21,
        "start_time": "2021-06-30T19:50:49.188Z"
      },
      {
        "duration": 12,
        "start_time": "2021-06-30T19:50:49.211Z"
      },
      {
        "duration": 213,
        "start_time": "2021-06-30T19:50:49.225Z"
      },
      {
        "duration": 4,
        "start_time": "2021-06-30T19:50:49.440Z"
      },
      {
        "duration": 9,
        "start_time": "2021-06-30T19:50:49.447Z"
      },
      {
        "duration": 11,
        "start_time": "2021-06-30T19:50:49.458Z"
      },
      {
        "duration": 15,
        "start_time": "2021-06-30T19:50:49.471Z"
      },
      {
        "duration": 21,
        "start_time": "2021-06-30T19:50:49.488Z"
      },
      {
        "duration": 258,
        "start_time": "2021-06-30T19:50:49.512Z"
      },
      {
        "duration": 4,
        "start_time": "2021-06-30T19:50:49.773Z"
      },
      {
        "duration": 42,
        "start_time": "2021-06-30T19:50:49.779Z"
      },
      {
        "duration": 410,
        "start_time": "2021-06-30T19:50:49.824Z"
      },
      {
        "duration": 4,
        "start_time": "2021-06-30T19:50:50.244Z"
      },
      {
        "duration": 7,
        "start_time": "2021-06-30T19:50:50.251Z"
      },
      {
        "duration": 12,
        "start_time": "2021-06-30T19:50:50.260Z"
      },
      {
        "duration": 7,
        "start_time": "2021-06-30T19:50:50.275Z"
      },
      {
        "duration": 24,
        "start_time": "2021-06-30T19:50:50.285Z"
      },
      {
        "duration": 6,
        "start_time": "2021-06-30T19:50:50.311Z"
      },
      {
        "duration": 11,
        "start_time": "2021-06-30T19:50:50.320Z"
      },
      {
        "duration": 10,
        "start_time": "2021-06-30T19:50:50.333Z"
      },
      {
        "duration": 10,
        "start_time": "2021-06-30T19:50:50.346Z"
      },
      {
        "duration": 7,
        "start_time": "2021-06-30T19:50:50.358Z"
      },
      {
        "duration": 19,
        "start_time": "2021-06-30T19:50:50.367Z"
      },
      {
        "duration": 22,
        "start_time": "2021-06-30T19:50:50.388Z"
      },
      {
        "duration": 10,
        "start_time": "2021-06-30T19:50:50.413Z"
      },
      {
        "duration": 830,
        "start_time": "2021-06-30T19:50:50.426Z"
      },
      {
        "duration": 5,
        "start_time": "2021-06-30T19:50:51.259Z"
      },
      {
        "duration": 15,
        "start_time": "2021-06-30T19:50:51.266Z"
      },
      {
        "duration": 16,
        "start_time": "2021-06-30T19:50:51.284Z"
      },
      {
        "duration": 20,
        "start_time": "2021-06-30T19:50:51.302Z"
      },
      {
        "duration": 15,
        "start_time": "2021-06-30T19:50:51.324Z"
      },
      {
        "duration": 711,
        "start_time": "2021-06-30T19:50:51.341Z"
      },
      {
        "duration": 6,
        "start_time": "2021-06-30T19:50:52.054Z"
      },
      {
        "duration": 17,
        "start_time": "2021-06-30T19:50:52.062Z"
      },
      {
        "duration": 10,
        "start_time": "2021-06-30T19:50:52.081Z"
      },
      {
        "duration": 16,
        "start_time": "2021-06-30T19:50:52.093Z"
      },
      {
        "duration": 16,
        "start_time": "2021-06-30T19:50:52.111Z"
      },
      {
        "duration": 728,
        "start_time": "2021-06-30T19:50:52.130Z"
      },
      {
        "duration": 6,
        "start_time": "2021-06-30T19:50:52.860Z"
      },
      {
        "duration": 20,
        "start_time": "2021-06-30T19:50:52.868Z"
      },
      {
        "duration": 18,
        "start_time": "2021-06-30T19:50:52.891Z"
      },
      {
        "duration": 15,
        "start_time": "2021-06-30T19:50:52.911Z"
      },
      {
        "duration": 16,
        "start_time": "2021-06-30T19:50:52.929Z"
      },
      {
        "duration": 16,
        "start_time": "2021-06-30T19:50:52.948Z"
      },
      {
        "duration": 20,
        "start_time": "2021-06-30T19:50:52.967Z"
      },
      {
        "duration": 11,
        "start_time": "2021-06-30T19:50:52.990Z"
      },
      {
        "duration": 16,
        "start_time": "2021-06-30T19:50:53.003Z"
      },
      {
        "duration": 15,
        "start_time": "2021-06-30T19:50:53.022Z"
      },
      {
        "duration": 23,
        "start_time": "2021-06-30T19:50:53.040Z"
      },
      {
        "duration": 10,
        "start_time": "2021-06-30T19:50:53.066Z"
      },
      {
        "duration": 19,
        "start_time": "2021-06-30T19:50:53.078Z"
      },
      {
        "duration": 19,
        "start_time": "2021-06-30T19:50:53.100Z"
      },
      {
        "duration": 20,
        "start_time": "2021-06-30T19:50:53.122Z"
      },
      {
        "duration": 14,
        "start_time": "2021-06-30T19:50:53.145Z"
      },
      {
        "duration": 17,
        "start_time": "2021-06-30T19:50:53.162Z"
      },
      {
        "duration": 15,
        "start_time": "2021-06-30T19:50:53.182Z"
      },
      {
        "duration": 24,
        "start_time": "2021-06-30T19:50:53.200Z"
      },
      {
        "duration": 12,
        "start_time": "2021-06-30T19:50:53.227Z"
      },
      {
        "duration": 10,
        "start_time": "2021-06-30T19:50:53.242Z"
      },
      {
        "duration": 11,
        "start_time": "2021-06-30T19:50:53.254Z"
      },
      {
        "duration": 11,
        "start_time": "2021-06-30T19:50:53.268Z"
      },
      {
        "duration": 16,
        "start_time": "2021-06-30T19:50:53.281Z"
      },
      {
        "duration": 17,
        "start_time": "2021-06-30T19:50:53.300Z"
      },
      {
        "duration": 13,
        "start_time": "2021-06-30T19:50:53.319Z"
      },
      {
        "duration": 15,
        "start_time": "2021-06-30T19:50:53.334Z"
      },
      {
        "duration": 5,
        "start_time": "2021-06-30T19:52:02.155Z"
      },
      {
        "duration": 1661,
        "start_time": "2021-06-30T20:00:34.777Z"
      },
      {
        "duration": 477,
        "start_time": "2021-06-30T20:00:36.441Z"
      },
      {
        "duration": 21,
        "start_time": "2021-06-30T20:00:36.921Z"
      },
      {
        "duration": 15,
        "start_time": "2021-06-30T20:00:36.945Z"
      },
      {
        "duration": 13,
        "start_time": "2021-06-30T20:00:36.963Z"
      },
      {
        "duration": 70,
        "start_time": "2021-06-30T20:00:37.010Z"
      },
      {
        "duration": 70,
        "start_time": "2021-06-30T20:00:37.082Z"
      },
      {
        "duration": 429,
        "start_time": "2021-06-30T20:00:37.156Z"
      },
      {
        "duration": 340,
        "start_time": "2021-06-30T20:00:37.588Z"
      },
      {
        "duration": 225,
        "start_time": "2021-06-30T20:00:37.931Z"
      },
      {
        "duration": 15,
        "start_time": "2021-06-30T20:00:38.158Z"
      },
      {
        "duration": 35,
        "start_time": "2021-06-30T20:00:38.175Z"
      },
      {
        "duration": 14,
        "start_time": "2021-06-30T20:00:38.212Z"
      },
      {
        "duration": 93,
        "start_time": "2021-06-30T20:00:38.228Z"
      },
      {
        "duration": 48,
        "start_time": "2021-06-30T20:00:38.323Z"
      },
      {
        "duration": 433,
        "start_time": "2021-06-30T20:00:38.373Z"
      },
      {
        "duration": 485,
        "start_time": "2021-06-30T20:00:38.808Z"
      },
      {
        "duration": 234,
        "start_time": "2021-06-30T20:00:39.296Z"
      },
      {
        "duration": 15,
        "start_time": "2021-06-30T20:00:39.534Z"
      },
      {
        "duration": 22,
        "start_time": "2021-06-30T20:00:39.552Z"
      },
      {
        "duration": 40,
        "start_time": "2021-06-30T20:00:39.577Z"
      },
      {
        "duration": 103,
        "start_time": "2021-06-30T20:00:39.620Z"
      },
      {
        "duration": 52,
        "start_time": "2021-06-30T20:00:39.729Z"
      },
      {
        "duration": 751,
        "start_time": "2021-06-30T20:00:39.784Z"
      },
      {
        "duration": 758,
        "start_time": "2021-06-30T20:00:40.538Z"
      },
      {
        "duration": 393,
        "start_time": "2021-06-30T20:00:41.299Z"
      },
      {
        "duration": 23,
        "start_time": "2021-06-30T20:00:41.695Z"
      },
      {
        "duration": 24,
        "start_time": "2021-06-30T20:00:41.720Z"
      },
      {
        "duration": 29,
        "start_time": "2021-06-30T20:00:41.746Z"
      },
      {
        "duration": 31,
        "start_time": "2021-06-30T20:00:41.778Z"
      },
      {
        "duration": 565,
        "start_time": "2021-06-30T20:00:41.812Z"
      },
      {
        "duration": 6,
        "start_time": "2021-06-30T20:00:42.379Z"
      },
      {
        "duration": 36,
        "start_time": "2021-06-30T20:00:42.388Z"
      },
      {
        "duration": 87,
        "start_time": "2021-06-30T20:00:42.426Z"
      },
      {
        "duration": 95,
        "start_time": "2021-06-30T20:00:42.516Z"
      },
      {
        "duration": 15,
        "start_time": "2021-06-30T20:00:42.614Z"
      },
      {
        "duration": 15,
        "start_time": "2021-06-30T20:00:42.632Z"
      },
      {
        "duration": 19,
        "start_time": "2021-06-30T20:00:42.650Z"
      },
      {
        "duration": 18,
        "start_time": "2021-06-30T20:00:42.671Z"
      },
      {
        "duration": 28,
        "start_time": "2021-06-30T20:00:42.692Z"
      },
      {
        "duration": 85,
        "start_time": "2021-06-30T20:00:42.723Z"
      },
      {
        "duration": 98,
        "start_time": "2021-06-30T20:00:42.813Z"
      },
      {
        "duration": 19,
        "start_time": "2021-06-30T20:00:42.914Z"
      },
      {
        "duration": 22,
        "start_time": "2021-06-30T20:00:42.935Z"
      },
      {
        "duration": 12,
        "start_time": "2021-06-30T20:00:42.960Z"
      },
      {
        "duration": 14,
        "start_time": "2021-06-30T20:00:42.975Z"
      },
      {
        "duration": 41,
        "start_time": "2021-06-30T20:00:42.991Z"
      },
      {
        "duration": 84,
        "start_time": "2021-06-30T20:00:43.035Z"
      },
      {
        "duration": 94,
        "start_time": "2021-06-30T20:00:43.123Z"
      },
      {
        "duration": 96,
        "start_time": "2021-06-30T20:00:43.219Z"
      },
      {
        "duration": 15,
        "start_time": "2021-06-30T20:00:43.319Z"
      },
      {
        "duration": 63,
        "start_time": "2021-06-30T20:00:43.336Z"
      },
      {
        "duration": 10,
        "start_time": "2021-06-30T20:00:43.402Z"
      },
      {
        "duration": 18,
        "start_time": "2021-06-30T20:00:43.414Z"
      },
      {
        "duration": 13,
        "start_time": "2021-06-30T20:00:43.435Z"
      },
      {
        "duration": 11,
        "start_time": "2021-06-30T20:00:43.450Z"
      },
      {
        "duration": 13,
        "start_time": "2021-06-30T20:00:43.463Z"
      },
      {
        "duration": 231,
        "start_time": "2021-06-30T20:00:43.478Z"
      },
      {
        "duration": 5,
        "start_time": "2021-06-30T20:00:43.712Z"
      },
      {
        "duration": 14,
        "start_time": "2021-06-30T20:00:43.719Z"
      },
      {
        "duration": 19,
        "start_time": "2021-06-30T20:00:43.735Z"
      },
      {
        "duration": 20,
        "start_time": "2021-06-30T20:00:43.757Z"
      },
      {
        "duration": 16,
        "start_time": "2021-06-30T20:00:43.780Z"
      },
      {
        "duration": 269,
        "start_time": "2021-06-30T20:00:43.798Z"
      },
      {
        "duration": 4,
        "start_time": "2021-06-30T20:00:44.069Z"
      },
      {
        "duration": 10,
        "start_time": "2021-06-30T20:00:44.075Z"
      },
      {
        "duration": 16,
        "start_time": "2021-06-30T20:00:44.087Z"
      },
      {
        "duration": 27,
        "start_time": "2021-06-30T20:00:44.116Z"
      },
      {
        "duration": 17,
        "start_time": "2021-06-30T20:00:44.146Z"
      },
      {
        "duration": 14,
        "start_time": "2021-06-30T20:00:44.165Z"
      },
      {
        "duration": 15,
        "start_time": "2021-06-30T20:00:44.181Z"
      },
      {
        "duration": 23,
        "start_time": "2021-06-30T20:00:44.199Z"
      },
      {
        "duration": 10,
        "start_time": "2021-06-30T20:00:44.224Z"
      },
      {
        "duration": 764,
        "start_time": "2021-06-30T20:00:44.237Z"
      },
      {
        "duration": 7,
        "start_time": "2021-06-30T20:00:45.003Z"
      },
      {
        "duration": 33,
        "start_time": "2021-06-30T20:00:45.013Z"
      },
      {
        "duration": 20,
        "start_time": "2021-06-30T20:00:45.049Z"
      },
      {
        "duration": 15,
        "start_time": "2021-06-30T20:00:45.071Z"
      },
      {
        "duration": 15,
        "start_time": "2021-06-30T20:00:45.089Z"
      },
      {
        "duration": 733,
        "start_time": "2021-06-30T20:00:45.106Z"
      },
      {
        "duration": 6,
        "start_time": "2021-06-30T20:00:45.842Z"
      },
      {
        "duration": 18,
        "start_time": "2021-06-30T20:00:45.850Z"
      },
      {
        "duration": 8,
        "start_time": "2021-06-30T20:00:45.871Z"
      },
      {
        "duration": 14,
        "start_time": "2021-06-30T20:00:45.882Z"
      },
      {
        "duration": 16,
        "start_time": "2021-06-30T20:00:45.899Z"
      },
      {
        "duration": 746,
        "start_time": "2021-06-30T20:00:45.918Z"
      },
      {
        "duration": 7,
        "start_time": "2021-06-30T20:00:46.666Z"
      },
      {
        "duration": 13,
        "start_time": "2021-06-30T20:00:46.676Z"
      },
      {
        "duration": 18,
        "start_time": "2021-06-30T20:00:46.692Z"
      },
      {
        "duration": 9,
        "start_time": "2021-06-30T20:00:46.713Z"
      },
      {
        "duration": 8,
        "start_time": "2021-06-30T20:00:46.725Z"
      },
      {
        "duration": 10,
        "start_time": "2021-06-30T20:00:46.736Z"
      },
      {
        "duration": 12,
        "start_time": "2021-06-30T20:00:46.749Z"
      },
      {
        "duration": 8,
        "start_time": "2021-06-30T20:00:46.764Z"
      },
      {
        "duration": 38,
        "start_time": "2021-06-30T20:00:46.775Z"
      },
      {
        "duration": 6,
        "start_time": "2021-06-30T20:00:46.815Z"
      },
      {
        "duration": 9,
        "start_time": "2021-06-30T20:00:46.824Z"
      },
      {
        "duration": 14,
        "start_time": "2021-06-30T20:00:46.836Z"
      },
      {
        "duration": 6,
        "start_time": "2021-06-30T20:00:46.853Z"
      },
      {
        "duration": 10,
        "start_time": "2021-06-30T20:00:46.862Z"
      },
      {
        "duration": 34,
        "start_time": "2021-06-30T20:00:46.875Z"
      },
      {
        "duration": 7,
        "start_time": "2021-06-30T20:00:46.912Z"
      },
      {
        "duration": 11,
        "start_time": "2021-06-30T20:00:46.921Z"
      },
      {
        "duration": 7,
        "start_time": "2021-06-30T20:00:46.934Z"
      },
      {
        "duration": 9,
        "start_time": "2021-06-30T20:00:46.944Z"
      },
      {
        "duration": 8,
        "start_time": "2021-06-30T20:00:46.955Z"
      },
      {
        "duration": 45,
        "start_time": "2021-06-30T20:00:46.965Z"
      },
      {
        "duration": 11,
        "start_time": "2021-06-30T20:00:47.013Z"
      },
      {
        "duration": 19,
        "start_time": "2021-06-30T20:00:47.027Z"
      },
      {
        "duration": 15,
        "start_time": "2021-06-30T20:00:47.048Z"
      },
      {
        "duration": 9,
        "start_time": "2021-06-30T20:00:47.065Z"
      },
      {
        "duration": 7,
        "start_time": "2021-06-30T20:00:47.077Z"
      },
      {
        "duration": 23,
        "start_time": "2021-06-30T20:00:47.086Z"
      },
      {
        "duration": 5,
        "start_time": "2021-07-01T18:37:33.812Z"
      },
      {
        "duration": 94,
        "start_time": "2021-07-01T18:38:27.012Z"
      },
      {
        "duration": 348,
        "start_time": "2021-07-01T18:49:15.278Z"
      },
      {
        "duration": 269,
        "start_time": "2021-07-01T18:49:18.031Z"
      },
      {
        "duration": 279,
        "start_time": "2021-07-01T18:49:25.174Z"
      },
      {
        "duration": 1637,
        "start_time": "2021-07-01T18:49:32.000Z"
      },
      {
        "duration": 476,
        "start_time": "2021-07-01T18:49:33.640Z"
      },
      {
        "duration": 21,
        "start_time": "2021-07-01T18:49:34.119Z"
      },
      {
        "duration": 24,
        "start_time": "2021-07-01T18:49:34.143Z"
      },
      {
        "duration": 22,
        "start_time": "2021-07-01T18:49:34.170Z"
      },
      {
        "duration": 92,
        "start_time": "2021-07-01T18:49:34.194Z"
      },
      {
        "duration": 67,
        "start_time": "2021-07-01T18:49:34.289Z"
      },
      {
        "duration": 442,
        "start_time": "2021-07-01T18:49:34.362Z"
      },
      {
        "duration": 358,
        "start_time": "2021-07-01T18:49:34.807Z"
      },
      {
        "duration": 249,
        "start_time": "2021-07-01T18:49:35.167Z"
      },
      {
        "duration": 25,
        "start_time": "2021-07-01T18:49:35.418Z"
      },
      {
        "duration": 50,
        "start_time": "2021-07-01T18:49:35.446Z"
      },
      {
        "duration": 58,
        "start_time": "2021-07-01T18:49:35.498Z"
      },
      {
        "duration": 71,
        "start_time": "2021-07-01T18:49:35.559Z"
      },
      {
        "duration": 56,
        "start_time": "2021-07-01T18:49:35.632Z"
      },
      {
        "duration": 464,
        "start_time": "2021-07-01T18:49:35.690Z"
      },
      {
        "duration": 526,
        "start_time": "2021-07-01T18:49:36.157Z"
      },
      {
        "duration": 251,
        "start_time": "2021-07-01T18:49:36.686Z"
      },
      {
        "duration": 15,
        "start_time": "2021-07-01T18:49:36.940Z"
      },
      {
        "duration": 29,
        "start_time": "2021-07-01T18:49:36.958Z"
      },
      {
        "duration": 27,
        "start_time": "2021-07-01T18:49:36.989Z"
      },
      {
        "duration": 84,
        "start_time": "2021-07-01T18:49:37.024Z"
      },
      {
        "duration": 61,
        "start_time": "2021-07-01T18:49:37.116Z"
      },
      {
        "duration": 474,
        "start_time": "2021-07-01T18:49:37.182Z"
      },
      {
        "duration": 451,
        "start_time": "2021-07-01T18:49:37.659Z"
      },
      {
        "duration": 251,
        "start_time": "2021-07-01T18:49:38.112Z"
      },
      {
        "duration": 13,
        "start_time": "2021-07-01T18:49:38.366Z"
      },
      {
        "duration": 44,
        "start_time": "2021-07-01T18:49:38.382Z"
      },
      {
        "duration": 32,
        "start_time": "2021-07-01T18:49:38.430Z"
      },
      {
        "duration": 5,
        "start_time": "2021-07-01T18:49:38.464Z"
      },
      {
        "duration": 606,
        "start_time": "2021-07-01T18:49:38.472Z"
      },
      {
        "duration": 6,
        "start_time": "2021-07-01T18:49:39.080Z"
      },
      {
        "duration": 43,
        "start_time": "2021-07-01T18:49:39.088Z"
      },
      {
        "duration": 91,
        "start_time": "2021-07-01T18:49:39.133Z"
      },
      {
        "duration": 9,
        "start_time": "2021-07-01T18:49:39.229Z"
      },
      {
        "duration": 90,
        "start_time": "2021-07-01T18:49:39.242Z"
      },
      {
        "duration": 5,
        "start_time": "2021-07-01T18:49:39.340Z"
      },
      {
        "duration": 8,
        "start_time": "2021-07-01T18:49:39.348Z"
      },
      {
        "duration": 8,
        "start_time": "2021-07-01T18:49:39.359Z"
      },
      {
        "duration": 66,
        "start_time": "2021-07-01T18:49:39.370Z"
      },
      {
        "duration": 24,
        "start_time": "2021-07-01T18:49:39.439Z"
      },
      {
        "duration": 89,
        "start_time": "2021-07-01T18:49:39.540Z"
      },
      {
        "duration": 6,
        "start_time": "2021-07-01T18:49:39.643Z"
      },
      {
        "duration": 12,
        "start_time": "2021-07-01T18:49:39.652Z"
      },
      {
        "duration": 8,
        "start_time": "2021-07-01T18:49:39.666Z"
      },
      {
        "duration": 14,
        "start_time": "2021-07-01T18:49:39.677Z"
      },
      {
        "duration": 50,
        "start_time": "2021-07-01T18:49:39.694Z"
      },
      {
        "duration": 24,
        "start_time": "2021-07-01T18:49:39.747Z"
      },
      {
        "duration": 97,
        "start_time": "2021-07-01T18:49:39.829Z"
      },
      {
        "duration": 8,
        "start_time": "2021-07-01T18:49:39.929Z"
      },
      {
        "duration": 10,
        "start_time": "2021-07-01T18:49:39.949Z"
      },
      {
        "duration": 12,
        "start_time": "2021-07-01T18:49:39.962Z"
      },
      {
        "duration": 4,
        "start_time": "2021-07-01T18:49:39.976Z"
      },
      {
        "duration": 7,
        "start_time": "2021-07-01T18:49:39.983Z"
      },
      {
        "duration": 34,
        "start_time": "2021-07-01T18:49:39.992Z"
      },
      {
        "duration": 10,
        "start_time": "2021-07-01T18:49:40.029Z"
      },
      {
        "duration": 7,
        "start_time": "2021-07-01T18:49:40.044Z"
      },
      {
        "duration": 231,
        "start_time": "2021-07-01T18:49:40.053Z"
      },
      {
        "duration": 5,
        "start_time": "2021-07-01T18:49:40.286Z"
      },
      {
        "duration": 7,
        "start_time": "2021-07-01T18:49:40.294Z"
      },
      {
        "duration": 21,
        "start_time": "2021-07-01T18:49:40.304Z"
      },
      {
        "duration": 7,
        "start_time": "2021-07-01T18:49:40.334Z"
      },
      {
        "duration": 19,
        "start_time": "2021-07-01T18:49:40.343Z"
      },
      {
        "duration": 376,
        "start_time": "2021-07-01T18:49:40.364Z"
      },
      {
        "duration": 4,
        "start_time": "2021-07-01T18:49:40.743Z"
      },
      {
        "duration": 7,
        "start_time": "2021-07-01T18:49:40.749Z"
      },
      {
        "duration": 5,
        "start_time": "2021-07-01T18:49:40.758Z"
      },
      {
        "duration": 3,
        "start_time": "2021-07-01T18:49:40.773Z"
      },
      {
        "duration": 52,
        "start_time": "2021-07-01T18:49:40.779Z"
      },
      {
        "duration": 12,
        "start_time": "2021-07-01T18:49:40.835Z"
      },
      {
        "duration": 6,
        "start_time": "2021-07-01T18:49:40.849Z"
      },
      {
        "duration": 6,
        "start_time": "2021-07-01T18:49:40.858Z"
      },
      {
        "duration": 11,
        "start_time": "2021-07-01T18:49:40.867Z"
      },
      {
        "duration": 799,
        "start_time": "2021-07-01T18:49:40.881Z"
      },
      {
        "duration": 5,
        "start_time": "2021-07-01T18:49:41.683Z"
      },
      {
        "duration": 8,
        "start_time": "2021-07-01T18:49:41.690Z"
      },
      {
        "duration": 26,
        "start_time": "2021-07-01T18:49:41.700Z"
      },
      {
        "duration": 6,
        "start_time": "2021-07-01T18:49:41.730Z"
      },
      {
        "duration": 8,
        "start_time": "2021-07-01T18:49:41.739Z"
      },
      {
        "duration": 8,
        "start_time": "2021-07-01T18:49:41.750Z"
      },
      {
        "duration": 812,
        "start_time": "2021-07-01T18:49:41.760Z"
      },
      {
        "duration": 5,
        "start_time": "2021-07-01T18:49:42.575Z"
      },
      {
        "duration": 20,
        "start_time": "2021-07-01T18:49:42.583Z"
      },
      {
        "duration": 4,
        "start_time": "2021-07-01T18:49:42.606Z"
      },
      {
        "duration": 15,
        "start_time": "2021-07-01T18:49:42.613Z"
      },
      {
        "duration": 13,
        "start_time": "2021-07-01T18:49:42.631Z"
      },
      {
        "duration": 806,
        "start_time": "2021-07-01T18:49:42.647Z"
      },
      {
        "duration": 7,
        "start_time": "2021-07-01T18:49:43.455Z"
      },
      {
        "duration": 11,
        "start_time": "2021-07-01T18:49:43.464Z"
      },
      {
        "duration": 11,
        "start_time": "2021-07-01T18:49:43.477Z"
      },
      {
        "duration": 7,
        "start_time": "2021-07-01T18:49:43.490Z"
      },
      {
        "duration": 26,
        "start_time": "2021-07-01T18:49:43.499Z"
      },
      {
        "duration": 13,
        "start_time": "2021-07-01T18:49:43.528Z"
      },
      {
        "duration": 12,
        "start_time": "2021-07-01T18:49:43.547Z"
      },
      {
        "duration": 7,
        "start_time": "2021-07-01T18:49:43.561Z"
      },
      {
        "duration": 17,
        "start_time": "2021-07-01T18:49:43.570Z"
      },
      {
        "duration": 5,
        "start_time": "2021-07-01T18:49:43.590Z"
      },
      {
        "duration": 39,
        "start_time": "2021-07-01T18:49:43.598Z"
      },
      {
        "duration": 6,
        "start_time": "2021-07-01T18:49:43.640Z"
      },
      {
        "duration": 5,
        "start_time": "2021-07-01T18:49:43.649Z"
      },
      {
        "duration": 11,
        "start_time": "2021-07-01T18:49:43.656Z"
      },
      {
        "duration": 7,
        "start_time": "2021-07-01T18:49:43.669Z"
      },
      {
        "duration": 22,
        "start_time": "2021-07-01T18:49:43.678Z"
      },
      {
        "duration": 34,
        "start_time": "2021-07-01T18:49:43.703Z"
      },
      {
        "duration": 5,
        "start_time": "2021-07-01T18:49:43.740Z"
      },
      {
        "duration": 14,
        "start_time": "2021-07-01T18:49:43.747Z"
      },
      {
        "duration": 6,
        "start_time": "2021-07-01T18:49:43.763Z"
      },
      {
        "duration": 10,
        "start_time": "2021-07-01T18:49:43.771Z"
      },
      {
        "duration": 23,
        "start_time": "2021-07-01T18:49:43.783Z"
      },
      {
        "duration": 16,
        "start_time": "2021-07-01T18:49:43.808Z"
      },
      {
        "duration": 13,
        "start_time": "2021-07-01T18:49:43.826Z"
      },
      {
        "duration": 16,
        "start_time": "2021-07-01T18:49:43.842Z"
      },
      {
        "duration": 4,
        "start_time": "2021-07-01T18:49:43.861Z"
      },
      {
        "duration": 10,
        "start_time": "2021-07-01T18:49:43.867Z"
      },
      {
        "duration": 6,
        "start_time": "2021-07-01T18:49:46.326Z"
      },
      {
        "duration": 7,
        "start_time": "2021-07-01T18:50:25.530Z"
      },
      {
        "duration": 5,
        "start_time": "2021-07-01T18:50:27.695Z"
      },
      {
        "duration": 5,
        "start_time": "2021-07-01T18:50:28.071Z"
      },
      {
        "duration": 5,
        "start_time": "2021-07-01T18:50:28.386Z"
      },
      {
        "duration": 763,
        "start_time": "2021-07-01T18:50:28.696Z"
      },
      {
        "duration": 5,
        "start_time": "2021-07-01T18:50:30.545Z"
      },
      {
        "duration": 5,
        "start_time": "2021-07-01T18:50:30.959Z"
      },
      {
        "duration": 4,
        "start_time": "2021-07-01T18:50:43.663Z"
      },
      {
        "duration": 4,
        "start_time": "2021-07-01T18:50:47.793Z"
      },
      {
        "duration": 6,
        "start_time": "2021-07-01T18:50:48.129Z"
      },
      {
        "duration": 6,
        "start_time": "2021-07-01T18:50:48.434Z"
      },
      {
        "duration": 1107,
        "start_time": "2021-07-01T18:50:49.513Z"
      },
      {
        "duration": 7,
        "start_time": "2021-07-01T18:50:52.129Z"
      },
      {
        "duration": 6,
        "start_time": "2021-07-01T18:50:52.855Z"
      },
      {
        "duration": 4,
        "start_time": "2021-07-01T18:52:57.618Z"
      },
      {
        "duration": 4,
        "start_time": "2021-07-01T18:52:59.567Z"
      },
      {
        "duration": 5,
        "start_time": "2021-07-01T18:52:59.889Z"
      },
      {
        "duration": 5,
        "start_time": "2021-07-01T18:53:00.226Z"
      },
      {
        "duration": 759,
        "start_time": "2021-07-01T18:53:00.585Z"
      },
      {
        "duration": 6,
        "start_time": "2021-07-01T18:53:02.256Z"
      },
      {
        "duration": 5,
        "start_time": "2021-07-01T18:53:02.864Z"
      },
      {
        "duration": 99,
        "start_time": "2021-07-01T18:54:08.025Z"
      },
      {
        "duration": 290,
        "start_time": "2021-07-01T18:54:15.219Z"
      },
      {
        "duration": 5,
        "start_time": "2021-07-01T18:54:27.953Z"
      },
      {
        "duration": 686,
        "start_time": "2021-07-01T18:54:43.505Z"
      },
      {
        "duration": 5,
        "start_time": "2021-07-01T18:55:05.225Z"
      },
      {
        "duration": 6,
        "start_time": "2021-07-01T18:55:07.361Z"
      },
      {
        "duration": 5,
        "start_time": "2021-07-01T18:55:10.512Z"
      },
      {
        "duration": 2075,
        "start_time": "2021-07-01T18:56:40.169Z"
      },
      {
        "duration": 6,
        "start_time": "2021-07-01T18:56:48.753Z"
      },
      {
        "duration": 1615,
        "start_time": "2021-07-01T18:56:57.529Z"
      },
      {
        "duration": 463,
        "start_time": "2021-07-01T18:56:59.146Z"
      },
      {
        "duration": 24,
        "start_time": "2021-07-01T18:56:59.612Z"
      },
      {
        "duration": 17,
        "start_time": "2021-07-01T18:56:59.639Z"
      },
      {
        "duration": 16,
        "start_time": "2021-07-01T18:56:59.659Z"
      },
      {
        "duration": 109,
        "start_time": "2021-07-01T18:56:59.678Z"
      },
      {
        "duration": 66,
        "start_time": "2021-07-01T18:56:59.790Z"
      },
      {
        "duration": 424,
        "start_time": "2021-07-01T18:56:59.860Z"
      },
      {
        "duration": 394,
        "start_time": "2021-07-01T18:57:00.287Z"
      },
      {
        "duration": 232,
        "start_time": "2021-07-01T18:57:00.684Z"
      },
      {
        "duration": 19,
        "start_time": "2021-07-01T18:57:00.924Z"
      },
      {
        "duration": 25,
        "start_time": "2021-07-01T18:57:00.946Z"
      },
      {
        "duration": 14,
        "start_time": "2021-07-01T18:57:00.973Z"
      },
      {
        "duration": 95,
        "start_time": "2021-07-01T18:57:00.990Z"
      },
      {
        "duration": 77,
        "start_time": "2021-07-01T18:57:01.087Z"
      },
      {
        "duration": 439,
        "start_time": "2021-07-01T18:57:01.166Z"
      },
      {
        "duration": 506,
        "start_time": "2021-07-01T18:57:01.608Z"
      },
      {
        "duration": 223,
        "start_time": "2021-07-01T18:57:02.127Z"
      },
      {
        "duration": 13,
        "start_time": "2021-07-01T18:57:02.353Z"
      },
      {
        "duration": 20,
        "start_time": "2021-07-01T18:57:02.369Z"
      },
      {
        "duration": 47,
        "start_time": "2021-07-01T18:57:02.392Z"
      },
      {
        "duration": 85,
        "start_time": "2021-07-01T18:57:02.442Z"
      },
      {
        "duration": 52,
        "start_time": "2021-07-01T18:57:02.537Z"
      },
      {
        "duration": 445,
        "start_time": "2021-07-01T18:57:02.594Z"
      },
      {
        "duration": 451,
        "start_time": "2021-07-01T18:57:03.042Z"
      },
      {
        "duration": 249,
        "start_time": "2021-07-01T18:57:03.496Z"
      },
      {
        "duration": 14,
        "start_time": "2021-07-01T18:57:03.748Z"
      },
      {
        "duration": 22,
        "start_time": "2021-07-01T18:57:03.765Z"
      },
      {
        "duration": 55,
        "start_time": "2021-07-01T18:57:03.790Z"
      },
      {
        "duration": 6,
        "start_time": "2021-07-01T18:57:03.848Z"
      },
      {
        "duration": 598,
        "start_time": "2021-07-01T18:57:03.857Z"
      },
      {
        "duration": 6,
        "start_time": "2021-07-01T18:57:04.458Z"
      },
      {
        "duration": 21,
        "start_time": "2021-07-01T18:57:04.466Z"
      },
      {
        "duration": 41,
        "start_time": "2021-07-01T18:57:04.489Z"
      },
      {
        "duration": 6,
        "start_time": "2021-07-01T18:57:04.532Z"
      },
      {
        "duration": 4,
        "start_time": "2021-07-01T18:57:04.540Z"
      },
      {
        "duration": 12,
        "start_time": "2021-07-01T18:57:04.633Z"
      },
      {
        "duration": 7,
        "start_time": "2021-07-01T18:57:04.647Z"
      },
      {
        "duration": 10,
        "start_time": "2021-07-01T18:57:04.657Z"
      },
      {
        "duration": 71,
        "start_time": "2021-07-01T18:57:04.669Z"
      },
      {
        "duration": 84,
        "start_time": "2021-07-01T18:57:04.743Z"
      },
      {
        "duration": 91,
        "start_time": "2021-07-01T18:57:04.833Z"
      },
      {
        "duration": 11,
        "start_time": "2021-07-01T18:57:04.930Z"
      },
      {
        "duration": 4,
        "start_time": "2021-07-01T18:57:04.943Z"
      },
      {
        "duration": 7,
        "start_time": "2021-07-01T18:57:04.950Z"
      },
      {
        "duration": 8,
        "start_time": "2021-07-01T18:57:04.960Z"
      },
      {
        "duration": 24,
        "start_time": "2021-07-01T18:57:04.970Z"
      },
      {
        "duration": 24,
        "start_time": "2021-07-01T18:57:05.033Z"
      },
      {
        "duration": 9,
        "start_time": "2021-07-01T18:57:05.125Z"
      },
      {
        "duration": 99,
        "start_time": "2021-07-01T18:57:05.137Z"
      },
      {
        "duration": 6,
        "start_time": "2021-07-01T18:57:05.238Z"
      },
      {
        "duration": 11,
        "start_time": "2021-07-01T18:57:05.246Z"
      },
      {
        "duration": 8,
        "start_time": "2021-07-01T18:57:05.260Z"
      },
      {
        "duration": 11,
        "start_time": "2021-07-01T18:57:05.271Z"
      },
      {
        "duration": 25,
        "start_time": "2021-07-01T18:57:05.284Z"
      },
      {
        "duration": 10,
        "start_time": "2021-07-01T18:57:05.311Z"
      },
      {
        "duration": 21,
        "start_time": "2021-07-01T18:57:05.323Z"
      },
      {
        "duration": 216,
        "start_time": "2021-07-01T18:57:05.347Z"
      },
      {
        "duration": 4,
        "start_time": "2021-07-01T18:57:05.566Z"
      },
      {
        "duration": 8,
        "start_time": "2021-07-01T18:57:05.573Z"
      },
      {
        "duration": 8,
        "start_time": "2021-07-01T18:57:05.583Z"
      },
      {
        "duration": 7,
        "start_time": "2021-07-01T18:57:05.593Z"
      },
      {
        "duration": 30,
        "start_time": "2021-07-01T18:57:05.602Z"
      },
      {
        "duration": 272,
        "start_time": "2021-07-01T18:57:05.635Z"
      },
      {
        "duration": 3,
        "start_time": "2021-07-01T18:57:05.910Z"
      },
      {
        "duration": 9,
        "start_time": "2021-07-01T18:57:05.924Z"
      },
      {
        "duration": 5,
        "start_time": "2021-07-01T18:57:05.937Z"
      },
      {
        "duration": 7,
        "start_time": "2021-07-01T18:57:05.950Z"
      },
      {
        "duration": 15,
        "start_time": "2021-07-01T18:57:05.961Z"
      },
      {
        "duration": 5,
        "start_time": "2021-07-01T18:57:05.978Z"
      },
      {
        "duration": 7,
        "start_time": "2021-07-01T18:57:05.985Z"
      },
      {
        "duration": 45,
        "start_time": "2021-07-01T18:57:05.994Z"
      },
      {
        "duration": 10,
        "start_time": "2021-07-01T18:57:06.041Z"
      },
      {
        "duration": 2241,
        "start_time": "2021-07-01T18:57:06.053Z"
      },
      {
        "duration": 4,
        "start_time": "2021-07-01T18:57:08.297Z"
      },
      {
        "duration": 25,
        "start_time": "2021-07-01T18:57:08.304Z"
      },
      {
        "duration": 20,
        "start_time": "2021-07-01T18:57:08.332Z"
      },
      {
        "duration": 8,
        "start_time": "2021-07-01T18:57:08.355Z"
      },
      {
        "duration": 9,
        "start_time": "2021-07-01T18:57:08.365Z"
      },
      {
        "duration": 5,
        "start_time": "2021-07-01T18:57:08.376Z"
      },
      {
        "duration": 7,
        "start_time": "2021-07-01T18:57:08.384Z"
      },
      {
        "duration": 42,
        "start_time": "2021-07-01T18:57:08.393Z"
      },
      {
        "duration": 764,
        "start_time": "2021-07-01T18:57:08.438Z"
      },
      {
        "duration": 6,
        "start_time": "2021-07-01T18:57:09.204Z"
      },
      {
        "duration": 19,
        "start_time": "2021-07-01T18:57:09.212Z"
      },
      {
        "duration": 8,
        "start_time": "2021-07-01T18:57:09.234Z"
      },
      {
        "duration": 11,
        "start_time": "2021-07-01T18:57:09.244Z"
      },
      {
        "duration": 6,
        "start_time": "2021-07-01T18:57:09.258Z"
      },
      {
        "duration": 765,
        "start_time": "2021-07-01T18:57:09.267Z"
      },
      {
        "duration": 6,
        "start_time": "2021-07-01T18:57:10.035Z"
      },
      {
        "duration": 13,
        "start_time": "2021-07-01T18:57:10.043Z"
      },
      {
        "duration": 18,
        "start_time": "2021-07-01T18:57:10.059Z"
      },
      {
        "duration": 20,
        "start_time": "2021-07-01T18:57:10.080Z"
      },
      {
        "duration": 10,
        "start_time": "2021-07-01T18:57:10.102Z"
      },
      {
        "duration": 24,
        "start_time": "2021-07-01T18:57:10.114Z"
      },
      {
        "duration": 16,
        "start_time": "2021-07-01T18:57:10.140Z"
      },
      {
        "duration": 13,
        "start_time": "2021-07-01T18:57:10.158Z"
      },
      {
        "duration": 6,
        "start_time": "2021-07-01T18:57:10.174Z"
      },
      {
        "duration": 7,
        "start_time": "2021-07-01T18:57:10.183Z"
      },
      {
        "duration": 10,
        "start_time": "2021-07-01T18:57:10.192Z"
      },
      {
        "duration": 20,
        "start_time": "2021-07-01T18:57:10.205Z"
      },
      {
        "duration": 8,
        "start_time": "2021-07-01T18:57:10.228Z"
      },
      {
        "duration": 9,
        "start_time": "2021-07-01T18:57:10.238Z"
      },
      {
        "duration": 8,
        "start_time": "2021-07-01T18:57:10.250Z"
      },
      {
        "duration": 11,
        "start_time": "2021-07-01T18:57:10.261Z"
      },
      {
        "duration": 18,
        "start_time": "2021-07-01T18:57:10.274Z"
      },
      {
        "duration": 10,
        "start_time": "2021-07-01T18:57:10.294Z"
      },
      {
        "duration": 19,
        "start_time": "2021-07-01T18:57:10.306Z"
      },
      {
        "duration": 27,
        "start_time": "2021-07-01T18:57:10.328Z"
      },
      {
        "duration": 12,
        "start_time": "2021-07-01T18:57:10.357Z"
      },
      {
        "duration": 11,
        "start_time": "2021-07-01T18:57:10.371Z"
      },
      {
        "duration": 18,
        "start_time": "2021-07-01T18:57:10.384Z"
      },
      {
        "duration": 20,
        "start_time": "2021-07-01T18:57:10.405Z"
      },
      {
        "duration": 24,
        "start_time": "2021-07-01T18:57:10.428Z"
      },
      {
        "duration": 9,
        "start_time": "2021-07-01T18:57:10.455Z"
      },
      {
        "duration": 14,
        "start_time": "2021-07-01T18:57:10.466Z"
      },
      {
        "duration": 1658,
        "start_time": "2021-07-01T19:02:39.517Z"
      },
      {
        "duration": 512,
        "start_time": "2021-07-01T19:02:41.178Z"
      },
      {
        "duration": 19,
        "start_time": "2021-07-01T19:02:41.693Z"
      },
      {
        "duration": 25,
        "start_time": "2021-07-01T19:02:41.729Z"
      },
      {
        "duration": 16,
        "start_time": "2021-07-01T19:02:41.757Z"
      },
      {
        "duration": 99,
        "start_time": "2021-07-01T19:02:41.776Z"
      },
      {
        "duration": 66,
        "start_time": "2021-07-01T19:02:41.878Z"
      },
      {
        "duration": 458,
        "start_time": "2021-07-01T19:02:41.950Z"
      },
      {
        "duration": 366,
        "start_time": "2021-07-01T19:02:42.413Z"
      },
      {
        "duration": 248,
        "start_time": "2021-07-01T19:02:42.782Z"
      },
      {
        "duration": 19,
        "start_time": "2021-07-01T19:02:43.033Z"
      },
      {
        "duration": 34,
        "start_time": "2021-07-01T19:02:43.055Z"
      },
      {
        "duration": 39,
        "start_time": "2021-07-01T19:02:43.092Z"
      },
      {
        "duration": 71,
        "start_time": "2021-07-01T19:02:43.135Z"
      },
      {
        "duration": 65,
        "start_time": "2021-07-01T19:02:43.208Z"
      },
      {
        "duration": 470,
        "start_time": "2021-07-01T19:02:43.275Z"
      },
      {
        "duration": 555,
        "start_time": "2021-07-01T19:02:43.748Z"
      },
      {
        "duration": 243,
        "start_time": "2021-07-01T19:02:44.306Z"
      },
      {
        "duration": 13,
        "start_time": "2021-07-01T19:02:44.552Z"
      },
      {
        "duration": 29,
        "start_time": "2021-07-01T19:02:44.567Z"
      },
      {
        "duration": 36,
        "start_time": "2021-07-01T19:02:44.599Z"
      },
      {
        "duration": 96,
        "start_time": "2021-07-01T19:02:44.638Z"
      },
      {
        "duration": 51,
        "start_time": "2021-07-01T19:02:44.741Z"
      },
      {
        "duration": 467,
        "start_time": "2021-07-01T19:02:44.796Z"
      },
      {
        "duration": 497,
        "start_time": "2021-07-01T19:02:45.265Z"
      },
      {
        "duration": 263,
        "start_time": "2021-07-01T19:02:45.764Z"
      },
      {
        "duration": 15,
        "start_time": "2021-07-01T19:02:46.030Z"
      },
      {
        "duration": 27,
        "start_time": "2021-07-01T19:02:46.048Z"
      },
      {
        "duration": 63,
        "start_time": "2021-07-01T19:02:46.078Z"
      },
      {
        "duration": 9,
        "start_time": "2021-07-01T19:02:46.144Z"
      },
      {
        "duration": 604,
        "start_time": "2021-07-01T19:02:46.156Z"
      },
      {
        "duration": 7,
        "start_time": "2021-07-01T19:02:46.762Z"
      },
      {
        "duration": 22,
        "start_time": "2021-07-01T19:02:46.783Z"
      },
      {
        "duration": 36,
        "start_time": "2021-07-01T19:02:46.808Z"
      },
      {
        "duration": 181,
        "start_time": "2021-07-01T19:02:46.848Z"
      },
      {
        "duration": 12,
        "start_time": "2021-07-01T19:02:47.032Z"
      },
      {
        "duration": 5,
        "start_time": "2021-07-01T19:02:47.047Z"
      },
      {
        "duration": 8,
        "start_time": "2021-07-01T19:02:47.055Z"
      },
      {
        "duration": 10,
        "start_time": "2021-07-01T19:02:47.065Z"
      },
      {
        "duration": 21,
        "start_time": "2021-07-01T19:02:47.077Z"
      },
      {
        "duration": 19,
        "start_time": "2021-07-01T19:02:47.129Z"
      },
      {
        "duration": 6,
        "start_time": "2021-07-01T19:02:47.151Z"
      },
      {
        "duration": 89,
        "start_time": "2021-07-01T19:02:47.159Z"
      },
      {
        "duration": 91,
        "start_time": "2021-07-01T19:02:47.250Z"
      },
      {
        "duration": 17,
        "start_time": "2021-07-01T19:02:47.344Z"
      },
      {
        "duration": 33,
        "start_time": "2021-07-01T19:02:47.364Z"
      },
      {
        "duration": 45,
        "start_time": "2021-07-01T19:02:47.399Z"
      },
      {
        "duration": 37,
        "start_time": "2021-07-01T19:02:47.447Z"
      },
      {
        "duration": 61,
        "start_time": "2021-07-01T19:02:47.487Z"
      },
      {
        "duration": 88,
        "start_time": "2021-07-01T19:02:47.550Z"
      },
      {
        "duration": 15,
        "start_time": "2021-07-01T19:02:47.641Z"
      },
      {
        "duration": 19,
        "start_time": "2021-07-01T19:02:47.659Z"
      },
      {
        "duration": 20,
        "start_time": "2021-07-01T19:02:47.681Z"
      },
      {
        "duration": 13,
        "start_time": "2021-07-01T19:02:47.704Z"
      },
      {
        "duration": 19,
        "start_time": "2021-07-01T19:02:47.719Z"
      },
      {
        "duration": 20,
        "start_time": "2021-07-01T19:02:47.741Z"
      },
      {
        "duration": 21,
        "start_time": "2021-07-01T19:02:47.763Z"
      },
      {
        "duration": 236,
        "start_time": "2021-07-01T19:02:47.786Z"
      },
      {
        "duration": 5,
        "start_time": "2021-07-01T19:02:48.028Z"
      },
      {
        "duration": 15,
        "start_time": "2021-07-01T19:02:48.036Z"
      },
      {
        "duration": 13,
        "start_time": "2021-07-01T19:02:48.054Z"
      },
      {
        "duration": 28,
        "start_time": "2021-07-01T19:02:48.069Z"
      },
      {
        "duration": 20,
        "start_time": "2021-07-01T19:02:48.100Z"
      },
      {
        "duration": 297,
        "start_time": "2021-07-01T19:02:48.123Z"
      },
      {
        "duration": 7,
        "start_time": "2021-07-01T19:02:48.422Z"
      },
      {
        "duration": 18,
        "start_time": "2021-07-01T19:02:48.433Z"
      },
      {
        "duration": 10,
        "start_time": "2021-07-01T19:02:48.454Z"
      },
      {
        "duration": 21,
        "start_time": "2021-07-01T19:02:48.477Z"
      },
      {
        "duration": 14,
        "start_time": "2021-07-01T19:02:48.502Z"
      },
      {
        "duration": 14,
        "start_time": "2021-07-01T19:02:48.519Z"
      },
      {
        "duration": 14,
        "start_time": "2021-07-01T19:02:48.537Z"
      },
      {
        "duration": 13,
        "start_time": "2021-07-01T19:02:48.555Z"
      },
      {
        "duration": 14,
        "start_time": "2021-07-01T19:02:48.571Z"
      },
      {
        "duration": 1743,
        "start_time": "2021-07-01T19:03:22.490Z"
      },
      {
        "duration": 529,
        "start_time": "2021-07-01T19:03:24.237Z"
      },
      {
        "duration": 19,
        "start_time": "2021-07-01T19:03:24.769Z"
      },
      {
        "duration": 40,
        "start_time": "2021-07-01T19:03:24.791Z"
      },
      {
        "duration": 17,
        "start_time": "2021-07-01T19:03:24.834Z"
      },
      {
        "duration": 95,
        "start_time": "2021-07-01T19:03:24.854Z"
      },
      {
        "duration": 51,
        "start_time": "2021-07-01T19:03:24.952Z"
      },
      {
        "duration": 462,
        "start_time": "2021-07-01T19:03:25.023Z"
      },
      {
        "duration": 370,
        "start_time": "2021-07-01T19:03:25.488Z"
      },
      {
        "duration": 237,
        "start_time": "2021-07-01T19:03:25.861Z"
      },
      {
        "duration": 30,
        "start_time": "2021-07-01T19:03:26.101Z"
      },
      {
        "duration": 22,
        "start_time": "2021-07-01T19:03:26.134Z"
      },
      {
        "duration": 15,
        "start_time": "2021-07-01T19:03:26.159Z"
      },
      {
        "duration": 104,
        "start_time": "2021-07-01T19:03:26.176Z"
      },
      {
        "duration": 63,
        "start_time": "2021-07-01T19:03:26.282Z"
      },
      {
        "duration": 455,
        "start_time": "2021-07-01T19:03:26.348Z"
      },
      {
        "duration": 530,
        "start_time": "2021-07-01T19:03:26.806Z"
      },
      {
        "duration": 244,
        "start_time": "2021-07-01T19:03:27.339Z"
      },
      {
        "duration": 15,
        "start_time": "2021-07-01T19:03:27.586Z"
      },
      {
        "duration": 39,
        "start_time": "2021-07-01T19:03:27.603Z"
      },
      {
        "duration": 18,
        "start_time": "2021-07-01T19:03:27.645Z"
      },
      {
        "duration": 115,
        "start_time": "2021-07-01T19:03:27.666Z"
      },
      {
        "duration": 70,
        "start_time": "2021-07-01T19:03:27.787Z"
      },
      {
        "duration": 464,
        "start_time": "2021-07-01T19:03:27.862Z"
      },
      {
        "duration": 470,
        "start_time": "2021-07-01T19:03:28.329Z"
      },
      {
        "duration": 260,
        "start_time": "2021-07-01T19:03:28.801Z"
      },
      {
        "duration": 13,
        "start_time": "2021-07-01T19:03:29.063Z"
      },
      {
        "duration": 22,
        "start_time": "2021-07-01T19:03:29.078Z"
      },
      {
        "duration": 56,
        "start_time": "2021-07-01T19:03:29.102Z"
      },
      {
        "duration": 7,
        "start_time": "2021-07-01T19:03:29.161Z"
      },
      {
        "duration": 611,
        "start_time": "2021-07-01T19:03:29.171Z"
      },
      {
        "duration": 5,
        "start_time": "2021-07-01T19:03:29.785Z"
      },
      {
        "duration": 39,
        "start_time": "2021-07-01T19:03:29.792Z"
      },
      {
        "duration": 30,
        "start_time": "2021-07-01T19:03:29.834Z"
      },
      {
        "duration": 10,
        "start_time": "2021-07-01T19:03:29.932Z"
      },
      {
        "duration": 19,
        "start_time": "2021-07-01T19:03:30.025Z"
      },
      {
        "duration": 5,
        "start_time": "2021-07-01T19:03:30.048Z"
      },
      {
        "duration": 22,
        "start_time": "2021-07-01T19:03:30.056Z"
      },
      {
        "duration": 12,
        "start_time": "2021-07-01T19:03:30.080Z"
      },
      {
        "duration": 64,
        "start_time": "2021-07-01T19:03:30.095Z"
      },
      {
        "duration": 81,
        "start_time": "2021-07-01T19:03:30.161Z"
      },
      {
        "duration": 8,
        "start_time": "2021-07-01T19:03:30.252Z"
      },
      {
        "duration": 87,
        "start_time": "2021-07-01T19:03:30.262Z"
      },
      {
        "duration": 29,
        "start_time": "2021-07-01T19:03:30.353Z"
      },
      {
        "duration": 16,
        "start_time": "2021-07-01T19:03:30.385Z"
      },
      {
        "duration": 15,
        "start_time": "2021-07-01T19:03:30.404Z"
      },
      {
        "duration": 35,
        "start_time": "2021-07-01T19:03:30.422Z"
      },
      {
        "duration": 86,
        "start_time": "2021-07-01T19:03:30.460Z"
      },
      {
        "duration": 81,
        "start_time": "2021-07-01T19:03:30.549Z"
      },
      {
        "duration": 8,
        "start_time": "2021-07-01T19:03:30.636Z"
      },
      {
        "duration": 18,
        "start_time": "2021-07-01T19:03:30.648Z"
      },
      {
        "duration": 19,
        "start_time": "2021-07-01T19:03:30.669Z"
      },
      {
        "duration": 42,
        "start_time": "2021-07-01T19:03:30.690Z"
      },
      {
        "duration": 16,
        "start_time": "2021-07-01T19:03:30.735Z"
      },
      {
        "duration": 22,
        "start_time": "2021-07-01T19:03:30.754Z"
      },
      {
        "duration": 14,
        "start_time": "2021-07-01T19:03:30.779Z"
      },
      {
        "duration": 14,
        "start_time": "2021-07-01T19:03:30.795Z"
      },
      {
        "duration": 247,
        "start_time": "2021-07-01T19:03:30.811Z"
      },
      {
        "duration": 4,
        "start_time": "2021-07-01T19:03:31.061Z"
      },
      {
        "duration": 37,
        "start_time": "2021-07-01T19:03:31.068Z"
      },
      {
        "duration": 25,
        "start_time": "2021-07-01T19:03:31.107Z"
      },
      {
        "duration": 21,
        "start_time": "2021-07-01T19:03:31.136Z"
      },
      {
        "duration": 24,
        "start_time": "2021-07-01T19:03:31.160Z"
      },
      {
        "duration": 277,
        "start_time": "2021-07-01T19:03:31.187Z"
      },
      {
        "duration": 3,
        "start_time": "2021-07-01T19:03:31.467Z"
      },
      {
        "duration": 31,
        "start_time": "2021-07-01T19:03:31.472Z"
      },
      {
        "duration": 28,
        "start_time": "2021-07-01T19:03:31.505Z"
      },
      {
        "duration": 9,
        "start_time": "2021-07-01T19:03:31.546Z"
      },
      {
        "duration": 19,
        "start_time": "2021-07-01T19:03:31.558Z"
      },
      {
        "duration": 15,
        "start_time": "2021-07-01T19:03:31.580Z"
      },
      {
        "duration": 14,
        "start_time": "2021-07-01T19:03:31.598Z"
      },
      {
        "duration": 18,
        "start_time": "2021-07-01T19:03:31.614Z"
      },
      {
        "duration": 17,
        "start_time": "2021-07-01T19:03:31.635Z"
      },
      {
        "duration": 2411,
        "start_time": "2021-07-01T19:03:31.654Z"
      },
      {
        "duration": 5,
        "start_time": "2021-07-01T19:03:34.067Z"
      },
      {
        "duration": 477,
        "start_time": "2021-07-01T19:03:34.075Z"
      },
      {
        "duration": 216,
        "start_time": "2021-07-01T19:03:34.340Z"
      },
      {
        "duration": 212,
        "start_time": "2021-07-01T19:03:34.346Z"
      },
      {
        "duration": 209,
        "start_time": "2021-07-01T19:03:34.350Z"
      },
      {
        "duration": 207,
        "start_time": "2021-07-01T19:03:34.354Z"
      },
      {
        "duration": 205,
        "start_time": "2021-07-01T19:03:34.357Z"
      },
      {
        "duration": 202,
        "start_time": "2021-07-01T19:03:34.361Z"
      },
      {
        "duration": 201,
        "start_time": "2021-07-01T19:03:34.364Z"
      },
      {
        "duration": 198,
        "start_time": "2021-07-01T19:03:34.368Z"
      },
      {
        "duration": 195,
        "start_time": "2021-07-01T19:03:34.372Z"
      },
      {
        "duration": 187,
        "start_time": "2021-07-01T19:03:34.382Z"
      },
      {
        "duration": 182,
        "start_time": "2021-07-01T19:03:34.388Z"
      },
      {
        "duration": 180,
        "start_time": "2021-07-01T19:03:34.392Z"
      },
      {
        "duration": 177,
        "start_time": "2021-07-01T19:03:34.396Z"
      },
      {
        "duration": 169,
        "start_time": "2021-07-01T19:03:34.406Z"
      },
      {
        "duration": 166,
        "start_time": "2021-07-01T19:03:34.410Z"
      },
      {
        "duration": 165,
        "start_time": "2021-07-01T19:03:34.413Z"
      },
      {
        "duration": 161,
        "start_time": "2021-07-01T19:03:34.418Z"
      },
      {
        "duration": 158,
        "start_time": "2021-07-01T19:03:34.422Z"
      },
      {
        "duration": 156,
        "start_time": "2021-07-01T19:03:34.426Z"
      },
      {
        "duration": 154,
        "start_time": "2021-07-01T19:03:34.429Z"
      },
      {
        "duration": 146,
        "start_time": "2021-07-01T19:03:34.439Z"
      },
      {
        "duration": 143,
        "start_time": "2021-07-01T19:03:34.443Z"
      },
      {
        "duration": 138,
        "start_time": "2021-07-01T19:03:34.449Z"
      },
      {
        "duration": 135,
        "start_time": "2021-07-01T19:03:34.453Z"
      },
      {
        "duration": 133,
        "start_time": "2021-07-01T19:03:34.457Z"
      },
      {
        "duration": 162,
        "start_time": "2021-07-01T19:03:34.461Z"
      },
      {
        "duration": 160,
        "start_time": "2021-07-01T19:03:34.465Z"
      },
      {
        "duration": 158,
        "start_time": "2021-07-01T19:03:34.468Z"
      },
      {
        "duration": 156,
        "start_time": "2021-07-01T19:03:34.472Z"
      },
      {
        "duration": 154,
        "start_time": "2021-07-01T19:03:34.475Z"
      },
      {
        "duration": 146,
        "start_time": "2021-07-01T19:03:34.484Z"
      },
      {
        "duration": 146,
        "start_time": "2021-07-01T19:03:34.488Z"
      },
      {
        "duration": 143,
        "start_time": "2021-07-01T19:03:34.492Z"
      },
      {
        "duration": 142,
        "start_time": "2021-07-01T19:03:34.495Z"
      },
      {
        "duration": 140,
        "start_time": "2021-07-01T19:03:34.499Z"
      },
      {
        "duration": 134,
        "start_time": "2021-07-01T19:03:34.506Z"
      },
      {
        "duration": 122,
        "start_time": "2021-07-01T19:03:34.520Z"
      },
      {
        "duration": 121,
        "start_time": "2021-07-01T19:03:34.523Z"
      },
      {
        "duration": 102,
        "start_time": "2021-07-01T19:03:34.543Z"
      },
      {
        "duration": 100,
        "start_time": "2021-07-01T19:03:34.546Z"
      },
      {
        "duration": 98,
        "start_time": "2021-07-01T19:03:34.550Z"
      },
      {
        "duration": 282,
        "start_time": "2021-07-01T19:07:05.033Z"
      },
      {
        "duration": 2251,
        "start_time": "2021-07-01T19:07:17.529Z"
      },
      {
        "duration": 27,
        "start_time": "2021-07-01T19:07:24.682Z"
      },
      {
        "duration": 5,
        "start_time": "2021-07-01T19:10:00.666Z"
      },
      {
        "duration": 1824,
        "start_time": "2021-07-01T19:10:29.381Z"
      },
      {
        "duration": 33,
        "start_time": "2021-07-01T19:10:34.026Z"
      },
      {
        "duration": 1788,
        "start_time": "2021-07-01T19:10:56.273Z"
      },
      {
        "duration": 25,
        "start_time": "2021-07-01T19:10:59.138Z"
      },
      {
        "duration": 2210,
        "start_time": "2021-07-01T19:11:44.426Z"
      },
      {
        "duration": 28,
        "start_time": "2021-07-01T19:11:50.130Z"
      },
      {
        "duration": 5,
        "start_time": "2021-07-01T19:12:18.753Z"
      },
      {
        "duration": 4,
        "start_time": "2021-07-01T19:12:25.289Z"
      },
      {
        "duration": 1810,
        "start_time": "2021-07-01T19:12:25.729Z"
      },
      {
        "duration": 27,
        "start_time": "2021-07-01T19:12:28.395Z"
      },
      {
        "duration": 1851,
        "start_time": "2021-07-01T19:12:37.745Z"
      },
      {
        "duration": 26,
        "start_time": "2021-07-01T19:12:40.449Z"
      },
      {
        "duration": 3,
        "start_time": "2021-07-01T19:20:01.605Z"
      },
      {
        "duration": 21,
        "start_time": "2021-07-01T19:20:05.333Z"
      },
      {
        "duration": 5,
        "start_time": "2021-07-01T19:20:34.091Z"
      },
      {
        "duration": 7,
        "start_time": "2021-07-01T19:24:16.933Z"
      },
      {
        "duration": 273,
        "start_time": "2021-07-01T19:26:31.365Z"
      },
      {
        "duration": 4,
        "start_time": "2021-07-01T19:27:26.470Z"
      },
      {
        "duration": 9,
        "start_time": "2021-07-01T19:27:30.421Z"
      },
      {
        "duration": 7,
        "start_time": "2021-07-01T19:28:53.430Z"
      },
      {
        "duration": 10,
        "start_time": "2021-07-01T19:29:02.349Z"
      },
      {
        "duration": 11,
        "start_time": "2021-07-01T19:29:23.678Z"
      },
      {
        "duration": 6049,
        "start_time": "2021-07-01T19:29:39.662Z"
      },
      {
        "duration": 6364,
        "start_time": "2021-07-01T19:29:56.085Z"
      },
      {
        "duration": 3,
        "start_time": "2021-07-01T19:30:56.415Z"
      },
      {
        "duration": 6586,
        "start_time": "2021-07-01T19:30:58.110Z"
      },
      {
        "duration": 7,
        "start_time": "2021-07-01T19:31:12.256Z"
      },
      {
        "duration": 1514,
        "start_time": "2021-07-01T19:31:25.555Z"
      },
      {
        "duration": 492,
        "start_time": "2021-07-01T19:31:27.072Z"
      },
      {
        "duration": 22,
        "start_time": "2021-07-01T19:31:27.568Z"
      },
      {
        "duration": 43,
        "start_time": "2021-07-01T19:31:27.594Z"
      },
      {
        "duration": 13,
        "start_time": "2021-07-01T19:31:27.640Z"
      },
      {
        "duration": 90,
        "start_time": "2021-07-01T19:31:27.656Z"
      },
      {
        "duration": 51,
        "start_time": "2021-07-01T19:31:27.748Z"
      },
      {
        "duration": 443,
        "start_time": "2021-07-01T19:31:27.803Z"
      },
      {
        "duration": 415,
        "start_time": "2021-07-01T19:31:28.249Z"
      },
      {
        "duration": 229,
        "start_time": "2021-07-01T19:31:28.666Z"
      },
      {
        "duration": 14,
        "start_time": "2021-07-01T19:31:28.897Z"
      },
      {
        "duration": 23,
        "start_time": "2021-07-01T19:31:28.924Z"
      },
      {
        "duration": 16,
        "start_time": "2021-07-01T19:31:28.950Z"
      },
      {
        "duration": 109,
        "start_time": "2021-07-01T19:31:28.969Z"
      },
      {
        "duration": 61,
        "start_time": "2021-07-01T19:31:29.080Z"
      },
      {
        "duration": 445,
        "start_time": "2021-07-01T19:31:29.144Z"
      },
      {
        "duration": 497,
        "start_time": "2021-07-01T19:31:29.592Z"
      },
      {
        "duration": 239,
        "start_time": "2021-07-01T19:31:30.092Z"
      },
      {
        "duration": 15,
        "start_time": "2021-07-01T19:31:30.335Z"
      },
      {
        "duration": 33,
        "start_time": "2021-07-01T19:31:30.353Z"
      },
      {
        "duration": 45,
        "start_time": "2021-07-01T19:31:30.390Z"
      },
      {
        "duration": 76,
        "start_time": "2021-07-01T19:31:30.438Z"
      },
      {
        "duration": 67,
        "start_time": "2021-07-01T19:31:30.534Z"
      },
      {
        "duration": 449,
        "start_time": "2021-07-01T19:31:30.605Z"
      },
      {
        "duration": 454,
        "start_time": "2021-07-01T19:31:31.057Z"
      },
      {
        "duration": 240,
        "start_time": "2021-07-01T19:31:31.514Z"
      },
      {
        "duration": 15,
        "start_time": "2021-07-01T19:31:31.756Z"
      },
      {
        "duration": 58,
        "start_time": "2021-07-01T19:31:31.774Z"
      },
      {
        "duration": 33,
        "start_time": "2021-07-01T19:31:31.835Z"
      },
      {
        "duration": 7,
        "start_time": "2021-07-01T19:31:31.871Z"
      },
      {
        "duration": 579,
        "start_time": "2021-07-01T19:31:31.881Z"
      },
      {
        "duration": 6,
        "start_time": "2021-07-01T19:31:32.462Z"
      },
      {
        "duration": 20,
        "start_time": "2021-07-01T19:31:32.471Z"
      },
      {
        "duration": 49,
        "start_time": "2021-07-01T19:31:32.494Z"
      },
      {
        "duration": 89,
        "start_time": "2021-07-01T19:31:32.545Z"
      },
      {
        "duration": 89,
        "start_time": "2021-07-01T19:31:32.637Z"
      },
      {
        "duration": 5,
        "start_time": "2021-07-01T19:31:32.737Z"
      },
      {
        "duration": 8,
        "start_time": "2021-07-01T19:31:32.744Z"
      },
      {
        "duration": 11,
        "start_time": "2021-07-01T19:31:32.755Z"
      },
      {
        "duration": 20,
        "start_time": "2021-07-01T19:31:32.768Z"
      },
      {
        "duration": 57,
        "start_time": "2021-07-01T19:31:32.790Z"
      },
      {
        "duration": 95,
        "start_time": "2021-07-01T19:31:32.849Z"
      },
      {
        "duration": 87,
        "start_time": "2021-07-01T19:31:32.947Z"
      },
      {
        "duration": 9,
        "start_time": "2021-07-01T19:31:33.038Z"
      },
      {
        "duration": 10,
        "start_time": "2021-07-01T19:31:33.050Z"
      },
      {
        "duration": 6,
        "start_time": "2021-07-01T19:31:33.063Z"
      },
      {
        "duration": 28,
        "start_time": "2021-07-01T19:31:33.072Z"
      },
      {
        "duration": 37,
        "start_time": "2021-07-01T19:31:33.102Z"
      },
      {
        "duration": 7,
        "start_time": "2021-07-01T19:31:33.141Z"
      },
      {
        "duration": 12,
        "start_time": "2021-07-01T19:31:33.233Z"
      },
      {
        "duration": 88,
        "start_time": "2021-07-01T19:31:33.247Z"
      },
      {
        "duration": 15,
        "start_time": "2021-07-01T19:31:33.341Z"
      },
      {
        "duration": 5,
        "start_time": "2021-07-01T19:31:33.359Z"
      },
      {
        "duration": 6,
        "start_time": "2021-07-01T19:31:33.367Z"
      },
      {
        "duration": 9,
        "start_time": "2021-07-01T19:31:33.375Z"
      },
      {
        "duration": 6,
        "start_time": "2021-07-01T19:31:33.386Z"
      },
      {
        "duration": 8,
        "start_time": "2021-07-01T19:31:33.394Z"
      },
      {
        "duration": 246,
        "start_time": "2021-07-01T19:31:33.404Z"
      },
      {
        "duration": 3,
        "start_time": "2021-07-01T19:31:33.653Z"
      },
      {
        "duration": 6,
        "start_time": "2021-07-01T19:31:33.659Z"
      },
      {
        "duration": 5,
        "start_time": "2021-07-01T19:31:33.668Z"
      },
      {
        "duration": 8,
        "start_time": "2021-07-01T19:31:33.676Z"
      },
      {
        "duration": 8,
        "start_time": "2021-07-01T19:31:33.686Z"
      },
      {
        "duration": 281,
        "start_time": "2021-07-01T19:31:33.696Z"
      },
      {
        "duration": 3,
        "start_time": "2021-07-01T19:31:33.979Z"
      },
      {
        "duration": 7,
        "start_time": "2021-07-01T19:31:33.984Z"
      },
      {
        "duration": 9,
        "start_time": "2021-07-01T19:31:33.993Z"
      },
      {
        "duration": 7,
        "start_time": "2021-07-01T19:31:34.031Z"
      },
      {
        "duration": 5,
        "start_time": "2021-07-01T19:31:34.042Z"
      },
      {
        "duration": 25,
        "start_time": "2021-07-01T19:31:34.050Z"
      },
      {
        "duration": 6,
        "start_time": "2021-07-01T19:31:34.077Z"
      },
      {
        "duration": 9,
        "start_time": "2021-07-01T19:31:34.085Z"
      },
      {
        "duration": 30,
        "start_time": "2021-07-01T19:31:34.097Z"
      },
      {
        "duration": 1821,
        "start_time": "2021-07-01T19:31:34.132Z"
      },
      {
        "duration": 3,
        "start_time": "2021-07-01T19:31:35.956Z"
      },
      {
        "duration": 419,
        "start_time": "2021-07-01T19:31:35.961Z"
      },
      {
        "duration": 216,
        "start_time": "2021-07-01T19:31:36.166Z"
      },
      {
        "duration": 214,
        "start_time": "2021-07-01T19:31:36.170Z"
      },
      {
        "duration": 211,
        "start_time": "2021-07-01T19:31:36.174Z"
      },
      {
        "duration": 202,
        "start_time": "2021-07-01T19:31:36.184Z"
      },
      {
        "duration": 200,
        "start_time": "2021-07-01T19:31:36.188Z"
      },
      {
        "duration": 198,
        "start_time": "2021-07-01T19:31:36.191Z"
      },
      {
        "duration": 195,
        "start_time": "2021-07-01T19:31:36.196Z"
      },
      {
        "duration": 193,
        "start_time": "2021-07-01T19:31:36.199Z"
      },
      {
        "duration": 191,
        "start_time": "2021-07-01T19:31:36.203Z"
      },
      {
        "duration": 189,
        "start_time": "2021-07-01T19:31:36.207Z"
      },
      {
        "duration": 187,
        "start_time": "2021-07-01T19:31:36.211Z"
      },
      {
        "duration": 185,
        "start_time": "2021-07-01T19:31:36.214Z"
      },
      {
        "duration": 183,
        "start_time": "2021-07-01T19:31:36.218Z"
      },
      {
        "duration": 180,
        "start_time": "2021-07-01T19:31:36.222Z"
      },
      {
        "duration": 178,
        "start_time": "2021-07-01T19:31:36.226Z"
      },
      {
        "duration": 177,
        "start_time": "2021-07-01T19:31:36.229Z"
      },
      {
        "duration": 174,
        "start_time": "2021-07-01T19:31:36.233Z"
      },
      {
        "duration": 172,
        "start_time": "2021-07-01T19:31:36.237Z"
      },
      {
        "duration": 169,
        "start_time": "2021-07-01T19:31:36.241Z"
      },
      {
        "duration": 161,
        "start_time": "2021-07-01T19:31:36.251Z"
      },
      {
        "duration": 160,
        "start_time": "2021-07-01T19:31:36.254Z"
      },
      {
        "duration": 157,
        "start_time": "2021-07-01T19:31:36.258Z"
      },
      {
        "duration": 156,
        "start_time": "2021-07-01T19:31:36.261Z"
      },
      {
        "duration": 153,
        "start_time": "2021-07-01T19:31:36.265Z"
      },
      {
        "duration": 152,
        "start_time": "2021-07-01T19:31:36.268Z"
      },
      {
        "duration": 149,
        "start_time": "2021-07-01T19:31:36.272Z"
      },
      {
        "duration": 148,
        "start_time": "2021-07-01T19:31:36.275Z"
      },
      {
        "duration": 145,
        "start_time": "2021-07-01T19:31:36.279Z"
      },
      {
        "duration": 143,
        "start_time": "2021-07-01T19:31:36.282Z"
      },
      {
        "duration": 141,
        "start_time": "2021-07-01T19:31:36.286Z"
      },
      {
        "duration": 139,
        "start_time": "2021-07-01T19:31:36.289Z"
      },
      {
        "duration": 136,
        "start_time": "2021-07-01T19:31:36.293Z"
      },
      {
        "duration": 134,
        "start_time": "2021-07-01T19:31:36.297Z"
      },
      {
        "duration": 132,
        "start_time": "2021-07-01T19:31:36.301Z"
      },
      {
        "duration": 130,
        "start_time": "2021-07-01T19:31:36.304Z"
      },
      {
        "duration": 128,
        "start_time": "2021-07-01T19:31:36.308Z"
      },
      {
        "duration": 125,
        "start_time": "2021-07-01T19:31:36.312Z"
      },
      {
        "duration": 124,
        "start_time": "2021-07-01T19:31:36.315Z"
      },
      {
        "duration": 121,
        "start_time": "2021-07-01T19:31:36.320Z"
      },
      {
        "duration": 118,
        "start_time": "2021-07-01T19:31:36.324Z"
      },
      {
        "duration": 116,
        "start_time": "2021-07-01T19:31:36.327Z"
      },
      {
        "duration": 113,
        "start_time": "2021-07-01T19:31:36.331Z"
      },
      {
        "duration": 111,
        "start_time": "2021-07-01T19:31:36.335Z"
      },
      {
        "duration": 108,
        "start_time": "2021-07-01T19:31:36.339Z"
      },
      {
        "duration": 5,
        "start_time": "2021-07-01T19:32:48.341Z"
      },
      {
        "duration": 296,
        "start_time": "2021-07-01T19:32:49.950Z"
      },
      {
        "duration": 7,
        "start_time": "2021-07-01T19:32:53.541Z"
      },
      {
        "duration": 6,
        "start_time": "2021-07-01T19:32:59.261Z"
      },
      {
        "duration": 293,
        "start_time": "2021-07-01T19:34:57.030Z"
      },
      {
        "duration": 7,
        "start_time": "2021-07-01T19:35:08.717Z"
      },
      {
        "duration": 5,
        "start_time": "2021-07-01T19:35:13.373Z"
      },
      {
        "duration": 5,
        "start_time": "2021-07-01T19:35:17.406Z"
      },
      {
        "duration": 15,
        "start_time": "2021-07-01T19:35:42.526Z"
      },
      {
        "duration": 298,
        "start_time": "2021-07-01T19:35:52.607Z"
      },
      {
        "duration": 324,
        "start_time": "2021-07-01T19:35:59.087Z"
      },
      {
        "duration": 9,
        "start_time": "2021-07-01T19:36:21.313Z"
      },
      {
        "duration": 8,
        "start_time": "2021-07-01T19:36:37.702Z"
      },
      {
        "duration": 6,
        "start_time": "2021-07-01T19:37:02.623Z"
      },
      {
        "duration": 9,
        "start_time": "2021-07-01T19:37:20.871Z"
      },
      {
        "duration": 104,
        "start_time": "2021-07-01T19:38:36.402Z"
      },
      {
        "duration": 6,
        "start_time": "2021-07-01T19:38:40.927Z"
      },
      {
        "duration": 5,
        "start_time": "2021-07-01T19:38:55.583Z"
      },
      {
        "duration": 300,
        "start_time": "2021-07-01T19:39:12.991Z"
      },
      {
        "duration": 1614,
        "start_time": "2021-07-01T19:39:18.713Z"
      },
      {
        "duration": 491,
        "start_time": "2021-07-01T19:39:20.330Z"
      },
      {
        "duration": 20,
        "start_time": "2021-07-01T19:39:20.837Z"
      },
      {
        "duration": 25,
        "start_time": "2021-07-01T19:39:20.859Z"
      },
      {
        "duration": 13,
        "start_time": "2021-07-01T19:39:20.886Z"
      },
      {
        "duration": 98,
        "start_time": "2021-07-01T19:39:20.901Z"
      },
      {
        "duration": 68,
        "start_time": "2021-07-01T19:39:21.002Z"
      },
      {
        "duration": 435,
        "start_time": "2021-07-01T19:39:21.072Z"
      },
      {
        "duration": 449,
        "start_time": "2021-07-01T19:39:21.509Z"
      },
      {
        "duration": 229,
        "start_time": "2021-07-01T19:39:21.960Z"
      },
      {
        "duration": 15,
        "start_time": "2021-07-01T19:39:22.192Z"
      },
      {
        "duration": 18,
        "start_time": "2021-07-01T19:39:22.225Z"
      },
      {
        "duration": 13,
        "start_time": "2021-07-01T19:39:22.246Z"
      },
      {
        "duration": 101,
        "start_time": "2021-07-01T19:39:22.262Z"
      },
      {
        "duration": 64,
        "start_time": "2021-07-01T19:39:22.365Z"
      },
      {
        "duration": 546,
        "start_time": "2021-07-01T19:39:22.431Z"
      },
      {
        "duration": 504,
        "start_time": "2021-07-01T19:39:22.980Z"
      },
      {
        "duration": 233,
        "start_time": "2021-07-01T19:39:23.486Z"
      },
      {
        "duration": 19,
        "start_time": "2021-07-01T19:39:23.725Z"
      },
      {
        "duration": 24,
        "start_time": "2021-07-01T19:39:23.746Z"
      },
      {
        "duration": 16,
        "start_time": "2021-07-01T19:39:23.773Z"
      },
      {
        "duration": 72,
        "start_time": "2021-07-01T19:39:23.826Z"
      },
      {
        "duration": 69,
        "start_time": "2021-07-01T19:39:23.901Z"
      },
      {
        "duration": 429,
        "start_time": "2021-07-01T19:39:23.972Z"
      },
      {
        "duration": 450,
        "start_time": "2021-07-01T19:39:24.403Z"
      },
      {
        "duration": 246,
        "start_time": "2021-07-01T19:39:24.856Z"
      },
      {
        "duration": 21,
        "start_time": "2021-07-01T19:39:25.104Z"
      },
      {
        "duration": 24,
        "start_time": "2021-07-01T19:39:25.128Z"
      },
      {
        "duration": 31,
        "start_time": "2021-07-01T19:39:25.155Z"
      },
      {
        "duration": 42,
        "start_time": "2021-07-01T19:39:25.189Z"
      },
      {
        "duration": 544,
        "start_time": "2021-07-01T19:39:25.233Z"
      },
      {
        "duration": 6,
        "start_time": "2021-07-01T19:39:25.779Z"
      },
      {
        "duration": 36,
        "start_time": "2021-07-01T19:39:25.788Z"
      },
      {
        "duration": 23,
        "start_time": "2021-07-01T19:39:25.827Z"
      },
      {
        "duration": 7,
        "start_time": "2021-07-01T19:39:25.929Z"
      },
      {
        "duration": 96,
        "start_time": "2021-07-01T19:39:25.940Z"
      },
      {
        "duration": 4,
        "start_time": "2021-07-01T19:39:26.039Z"
      },
      {
        "duration": 10,
        "start_time": "2021-07-01T19:39:26.045Z"
      },
      {
        "duration": 14,
        "start_time": "2021-07-01T19:39:26.057Z"
      },
      {
        "duration": 29,
        "start_time": "2021-07-01T19:39:26.073Z"
      },
      {
        "duration": 38,
        "start_time": "2021-07-01T19:39:26.105Z"
      },
      {
        "duration": 88,
        "start_time": "2021-07-01T19:39:26.146Z"
      },
      {
        "duration": 7,
        "start_time": "2021-07-01T19:39:26.238Z"
      },
      {
        "duration": 4,
        "start_time": "2021-07-01T19:39:26.329Z"
      },
      {
        "duration": 10,
        "start_time": "2021-07-01T19:39:26.336Z"
      },
      {
        "duration": 8,
        "start_time": "2021-07-01T19:39:26.349Z"
      },
      {
        "duration": 23,
        "start_time": "2021-07-01T19:39:26.359Z"
      },
      {
        "duration": 56,
        "start_time": "2021-07-01T19:39:26.384Z"
      },
      {
        "duration": 83,
        "start_time": "2021-07-01T19:39:26.443Z"
      },
      {
        "duration": 8,
        "start_time": "2021-07-01T19:39:26.529Z"
      },
      {
        "duration": 85,
        "start_time": "2021-07-01T19:39:26.542Z"
      },
      {
        "duration": 11,
        "start_time": "2021-07-01T19:39:26.630Z"
      },
      {
        "duration": 6,
        "start_time": "2021-07-01T19:39:26.643Z"
      },
      {
        "duration": 10,
        "start_time": "2021-07-01T19:39:26.651Z"
      },
      {
        "duration": 8,
        "start_time": "2021-07-01T19:39:26.664Z"
      },
      {
        "duration": 6,
        "start_time": "2021-07-01T19:39:26.674Z"
      },
      {
        "duration": 8,
        "start_time": "2021-07-01T19:39:26.682Z"
      },
      {
        "duration": 248,
        "start_time": "2021-07-01T19:39:26.692Z"
      },
      {
        "duration": 3,
        "start_time": "2021-07-01T19:39:26.943Z"
      },
      {
        "duration": 12,
        "start_time": "2021-07-01T19:39:26.948Z"
      },
      {
        "duration": 8,
        "start_time": "2021-07-01T19:39:26.962Z"
      },
      {
        "duration": 6,
        "start_time": "2021-07-01T19:39:26.972Z"
      },
      {
        "duration": 9,
        "start_time": "2021-07-01T19:39:26.980Z"
      },
      {
        "duration": 277,
        "start_time": "2021-07-01T19:39:26.992Z"
      },
      {
        "duration": 3,
        "start_time": "2021-07-01T19:39:27.272Z"
      },
      {
        "duration": 8,
        "start_time": "2021-07-01T19:39:27.277Z"
      },
      {
        "duration": 4,
        "start_time": "2021-07-01T19:39:27.294Z"
      },
      {
        "duration": 24,
        "start_time": "2021-07-01T19:39:27.301Z"
      },
      {
        "duration": 33,
        "start_time": "2021-07-01T19:39:27.328Z"
      },
      {
        "duration": 6,
        "start_time": "2021-07-01T19:39:27.364Z"
      },
      {
        "duration": 6,
        "start_time": "2021-07-01T19:39:27.373Z"
      },
      {
        "duration": 7,
        "start_time": "2021-07-01T19:39:27.382Z"
      },
      {
        "duration": 10,
        "start_time": "2021-07-01T19:39:27.391Z"
      },
      {
        "duration": 1836,
        "start_time": "2021-07-01T19:39:27.404Z"
      },
      {
        "duration": 4,
        "start_time": "2021-07-01T19:39:29.243Z"
      },
      {
        "duration": 10,
        "start_time": "2021-07-01T19:39:29.249Z"
      },
      {
        "duration": 7,
        "start_time": "2021-07-01T19:39:29.262Z"
      },
      {
        "duration": 420,
        "start_time": "2021-07-01T19:39:29.271Z"
      },
      {
        "duration": 229,
        "start_time": "2021-07-01T19:39:29.464Z"
      },
      {
        "duration": 227,
        "start_time": "2021-07-01T19:39:29.467Z"
      },
      {
        "duration": 223,
        "start_time": "2021-07-01T19:39:29.473Z"
      },
      {
        "duration": 220,
        "start_time": "2021-07-01T19:39:29.477Z"
      },
      {
        "duration": 201,
        "start_time": "2021-07-01T19:39:29.497Z"
      },
      {
        "duration": 198,
        "start_time": "2021-07-01T19:39:29.501Z"
      },
      {
        "duration": 197,
        "start_time": "2021-07-01T19:39:29.504Z"
      },
      {
        "duration": 194,
        "start_time": "2021-07-01T19:39:29.508Z"
      },
      {
        "duration": 191,
        "start_time": "2021-07-01T19:39:29.512Z"
      },
      {
        "duration": 190,
        "start_time": "2021-07-01T19:39:29.515Z"
      },
      {
        "duration": 180,
        "start_time": "2021-07-01T19:39:29.526Z"
      },
      {
        "duration": 179,
        "start_time": "2021-07-01T19:39:29.529Z"
      },
      {
        "duration": 176,
        "start_time": "2021-07-01T19:39:29.533Z"
      },
      {
        "duration": 174,
        "start_time": "2021-07-01T19:39:29.537Z"
      },
      {
        "duration": 171,
        "start_time": "2021-07-01T19:39:29.541Z"
      },
      {
        "duration": 169,
        "start_time": "2021-07-01T19:39:29.544Z"
      },
      {
        "duration": 167,
        "start_time": "2021-07-01T19:39:29.548Z"
      },
      {
        "duration": 165,
        "start_time": "2021-07-01T19:39:29.551Z"
      },
      {
        "duration": 163,
        "start_time": "2021-07-01T19:39:29.554Z"
      },
      {
        "duration": 162,
        "start_time": "2021-07-01T19:39:29.557Z"
      },
      {
        "duration": 160,
        "start_time": "2021-07-01T19:39:29.560Z"
      },
      {
        "duration": 158,
        "start_time": "2021-07-01T19:39:29.563Z"
      },
      {
        "duration": 156,
        "start_time": "2021-07-01T19:39:29.567Z"
      },
      {
        "duration": 154,
        "start_time": "2021-07-01T19:39:29.570Z"
      },
      {
        "duration": 146,
        "start_time": "2021-07-01T19:39:29.580Z"
      },
      {
        "duration": 144,
        "start_time": "2021-07-01T19:39:29.583Z"
      },
      {
        "duration": 146,
        "start_time": "2021-07-01T19:39:29.587Z"
      },
      {
        "duration": 144,
        "start_time": "2021-07-01T19:39:29.591Z"
      },
      {
        "duration": 142,
        "start_time": "2021-07-01T19:39:29.595Z"
      },
      {
        "duration": 141,
        "start_time": "2021-07-01T19:39:29.598Z"
      },
      {
        "duration": 138,
        "start_time": "2021-07-01T19:39:29.602Z"
      },
      {
        "duration": 137,
        "start_time": "2021-07-01T19:39:29.605Z"
      },
      {
        "duration": 134,
        "start_time": "2021-07-01T19:39:29.609Z"
      },
      {
        "duration": 132,
        "start_time": "2021-07-01T19:39:29.612Z"
      },
      {
        "duration": 129,
        "start_time": "2021-07-01T19:39:29.616Z"
      },
      {
        "duration": 127,
        "start_time": "2021-07-01T19:39:29.619Z"
      },
      {
        "duration": 125,
        "start_time": "2021-07-01T19:39:29.623Z"
      },
      {
        "duration": 102,
        "start_time": "2021-07-01T19:39:29.647Z"
      },
      {
        "duration": 99,
        "start_time": "2021-07-01T19:39:29.651Z"
      },
      {
        "duration": 96,
        "start_time": "2021-07-01T19:39:29.655Z"
      },
      {
        "duration": 94,
        "start_time": "2021-07-01T19:39:29.658Z"
      },
      {
        "duration": 91,
        "start_time": "2021-07-01T19:39:29.662Z"
      },
      {
        "duration": 5,
        "start_time": "2021-07-01T19:39:40.206Z"
      },
      {
        "duration": 108,
        "start_time": "2021-07-01T19:39:58.271Z"
      },
      {
        "duration": 5,
        "start_time": "2021-07-01T19:40:01.934Z"
      },
      {
        "duration": 92,
        "start_time": "2021-07-01T19:41:43.335Z"
      },
      {
        "duration": 5,
        "start_time": "2021-07-01T19:42:35.481Z"
      },
      {
        "duration": 4,
        "start_time": "2021-07-01T19:43:37.576Z"
      },
      {
        "duration": 5,
        "start_time": "2021-07-01T19:43:42.703Z"
      },
      {
        "duration": 5,
        "start_time": "2021-07-01T19:44:11.960Z"
      },
      {
        "duration": 9,
        "start_time": "2021-07-01T19:44:38.402Z"
      },
      {
        "duration": 8,
        "start_time": "2021-07-01T19:45:00.697Z"
      },
      {
        "duration": 10,
        "start_time": "2021-07-01T19:45:05.455Z"
      },
      {
        "duration": 6,
        "start_time": "2021-07-01T19:45:51.320Z"
      },
      {
        "duration": 4,
        "start_time": "2021-07-01T19:46:12.086Z"
      },
      {
        "duration": 14,
        "start_time": "2021-07-01T19:46:12.093Z"
      },
      {
        "duration": 1638,
        "start_time": "2021-07-01T19:51:12.314Z"
      },
      {
        "duration": 499,
        "start_time": "2021-07-01T19:51:13.955Z"
      },
      {
        "duration": 19,
        "start_time": "2021-07-01T19:51:14.458Z"
      },
      {
        "duration": 18,
        "start_time": "2021-07-01T19:51:14.480Z"
      },
      {
        "duration": 43,
        "start_time": "2021-07-01T19:51:14.501Z"
      },
      {
        "duration": 105,
        "start_time": "2021-07-01T19:51:14.546Z"
      },
      {
        "duration": 76,
        "start_time": "2021-07-01T19:51:14.654Z"
      },
      {
        "duration": 455,
        "start_time": "2021-07-01T19:51:14.734Z"
      },
      {
        "duration": 354,
        "start_time": "2021-07-01T19:51:15.193Z"
      },
      {
        "duration": 236,
        "start_time": "2021-07-01T19:51:15.550Z"
      },
      {
        "duration": 14,
        "start_time": "2021-07-01T19:51:15.788Z"
      },
      {
        "duration": 35,
        "start_time": "2021-07-01T19:51:15.804Z"
      },
      {
        "duration": 13,
        "start_time": "2021-07-01T19:51:15.841Z"
      },
      {
        "duration": 95,
        "start_time": "2021-07-01T19:51:15.857Z"
      },
      {
        "duration": 48,
        "start_time": "2021-07-01T19:51:15.954Z"
      },
      {
        "duration": 455,
        "start_time": "2021-07-01T19:51:16.005Z"
      },
      {
        "duration": 510,
        "start_time": "2021-07-01T19:51:16.463Z"
      },
      {
        "duration": 227,
        "start_time": "2021-07-01T19:51:16.976Z"
      },
      {
        "duration": 30,
        "start_time": "2021-07-01T19:51:17.205Z"
      },
      {
        "duration": 14,
        "start_time": "2021-07-01T19:51:17.237Z"
      },
      {
        "duration": 13,
        "start_time": "2021-07-01T19:51:17.253Z"
      },
      {
        "duration": 103,
        "start_time": "2021-07-01T19:51:17.269Z"
      },
      {
        "duration": 63,
        "start_time": "2021-07-01T19:51:17.378Z"
      },
      {
        "duration": 434,
        "start_time": "2021-07-01T19:51:17.445Z"
      },
      {
        "duration": 471,
        "start_time": "2021-07-01T19:51:17.882Z"
      },
      {
        "duration": 352,
        "start_time": "2021-07-01T19:51:18.355Z"
      },
      {
        "duration": 26,
        "start_time": "2021-07-01T19:51:18.710Z"
      },
      {
        "duration": 40,
        "start_time": "2021-07-01T19:51:18.741Z"
      },
      {
        "duration": 48,
        "start_time": "2021-07-01T19:51:18.784Z"
      },
      {
        "duration": 5,
        "start_time": "2021-07-01T19:51:18.835Z"
      },
      {
        "duration": 568,
        "start_time": "2021-07-01T19:51:18.847Z"
      },
      {
        "duration": 8,
        "start_time": "2021-07-01T19:51:19.417Z"
      },
      {
        "duration": 46,
        "start_time": "2021-07-01T19:51:19.428Z"
      },
      {
        "duration": 20,
        "start_time": "2021-07-01T19:51:19.477Z"
      },
      {
        "duration": 46,
        "start_time": "2021-07-01T19:51:19.500Z"
      },
      {
        "duration": 90,
        "start_time": "2021-07-01T19:51:19.548Z"
      },
      {
        "duration": 13,
        "start_time": "2021-07-01T19:51:19.641Z"
      },
      {
        "duration": 13,
        "start_time": "2021-07-01T19:51:19.656Z"
      },
      {
        "duration": 7,
        "start_time": "2021-07-01T19:51:19.672Z"
      },
      {
        "duration": 54,
        "start_time": "2021-07-01T19:51:19.681Z"
      },
      {
        "duration": 90,
        "start_time": "2021-07-01T19:51:19.738Z"
      },
      {
        "duration": 5,
        "start_time": "2021-07-01T19:51:19.831Z"
      },
      {
        "duration": 95,
        "start_time": "2021-07-01T19:51:19.840Z"
      },
      {
        "duration": 6,
        "start_time": "2021-07-01T19:51:19.938Z"
      },
      {
        "duration": 9,
        "start_time": "2021-07-01T19:51:19.946Z"
      },
      {
        "duration": 9,
        "start_time": "2021-07-01T19:51:19.957Z"
      },
      {
        "duration": 22,
        "start_time": "2021-07-01T19:51:19.968Z"
      },
      {
        "duration": 43,
        "start_time": "2021-07-01T19:51:19.993Z"
      },
      {
        "duration": 87,
        "start_time": "2021-07-01T19:51:20.041Z"
      },
      {
        "duration": 18,
        "start_time": "2021-07-01T19:51:20.132Z"
      },
      {
        "duration": 10,
        "start_time": "2021-07-01T19:51:20.226Z"
      },
      {
        "duration": 9,
        "start_time": "2021-07-01T19:51:20.239Z"
      },
      {
        "duration": 9,
        "start_time": "2021-07-01T19:51:20.250Z"
      },
      {
        "duration": 8,
        "start_time": "2021-07-01T19:51:20.261Z"
      },
      {
        "duration": 12,
        "start_time": "2021-07-01T19:51:20.271Z"
      },
      {
        "duration": 12,
        "start_time": "2021-07-01T19:51:20.285Z"
      },
      {
        "duration": 33,
        "start_time": "2021-07-01T19:51:20.299Z"
      },
      {
        "duration": 217,
        "start_time": "2021-07-01T19:51:20.336Z"
      },
      {
        "duration": 5,
        "start_time": "2021-07-01T19:51:20.556Z"
      },
      {
        "duration": 9,
        "start_time": "2021-07-01T19:51:20.564Z"
      },
      {
        "duration": 13,
        "start_time": "2021-07-01T19:51:20.576Z"
      },
      {
        "duration": 39,
        "start_time": "2021-07-01T19:51:20.592Z"
      },
      {
        "duration": 6,
        "start_time": "2021-07-01T19:51:20.634Z"
      },
      {
        "duration": 261,
        "start_time": "2021-07-01T19:51:20.643Z"
      },
      {
        "duration": 4,
        "start_time": "2021-07-01T19:51:20.907Z"
      },
      {
        "duration": 6,
        "start_time": "2021-07-01T19:51:20.925Z"
      },
      {
        "duration": 11,
        "start_time": "2021-07-01T19:51:20.934Z"
      },
      {
        "duration": 5,
        "start_time": "2021-07-01T19:51:20.954Z"
      },
      {
        "duration": 12,
        "start_time": "2021-07-01T19:51:20.963Z"
      },
      {
        "duration": 11,
        "start_time": "2021-07-01T19:51:20.977Z"
      },
      {
        "duration": 19,
        "start_time": "2021-07-01T19:51:20.990Z"
      },
      {
        "duration": 20,
        "start_time": "2021-07-01T19:51:21.011Z"
      },
      {
        "duration": 5,
        "start_time": "2021-07-01T19:51:21.041Z"
      },
      {
        "duration": 1831,
        "start_time": "2021-07-01T19:51:21.048Z"
      },
      {
        "duration": 4,
        "start_time": "2021-07-01T19:51:22.881Z"
      },
      {
        "duration": 23,
        "start_time": "2021-07-01T19:51:22.887Z"
      },
      {
        "duration": 26,
        "start_time": "2021-07-01T19:51:22.912Z"
      },
      {
        "duration": 5,
        "start_time": "2021-07-01T19:51:22.941Z"
      },
      {
        "duration": 33,
        "start_time": "2021-07-01T19:51:22.949Z"
      },
      {
        "duration": 19,
        "start_time": "2021-07-01T19:51:22.984Z"
      },
      {
        "duration": 33,
        "start_time": "2021-07-01T19:51:23.005Z"
      },
      {
        "duration": 23,
        "start_time": "2021-07-01T19:51:23.041Z"
      },
      {
        "duration": 8,
        "start_time": "2021-07-01T19:51:23.066Z"
      },
      {
        "duration": 1807,
        "start_time": "2021-07-01T19:51:23.076Z"
      },
      {
        "duration": 3,
        "start_time": "2021-07-01T19:51:24.886Z"
      },
      {
        "duration": 18,
        "start_time": "2021-07-01T19:51:24.891Z"
      },
      {
        "duration": 23,
        "start_time": "2021-07-01T19:51:24.911Z"
      },
      {
        "duration": 9,
        "start_time": "2021-07-01T19:51:24.937Z"
      },
      {
        "duration": 15,
        "start_time": "2021-07-01T19:51:24.948Z"
      },
      {
        "duration": 9,
        "start_time": "2021-07-01T19:51:24.965Z"
      },
      {
        "duration": 7,
        "start_time": "2021-07-01T19:51:24.976Z"
      },
      {
        "duration": 14,
        "start_time": "2021-07-01T19:51:24.985Z"
      },
      {
        "duration": 7,
        "start_time": "2021-07-01T19:51:25.001Z"
      },
      {
        "duration": 1796,
        "start_time": "2021-07-01T19:51:25.034Z"
      },
      {
        "duration": 8,
        "start_time": "2021-07-01T19:51:26.832Z"
      },
      {
        "duration": 15,
        "start_time": "2021-07-01T19:51:26.842Z"
      },
      {
        "duration": 13,
        "start_time": "2021-07-01T19:51:26.860Z"
      },
      {
        "duration": 23,
        "start_time": "2021-07-01T19:51:26.875Z"
      },
      {
        "duration": 16,
        "start_time": "2021-07-01T19:51:26.901Z"
      },
      {
        "duration": 18,
        "start_time": "2021-07-01T19:51:26.919Z"
      },
      {
        "duration": 24,
        "start_time": "2021-07-01T19:51:26.939Z"
      },
      {
        "duration": 17,
        "start_time": "2021-07-01T19:51:26.965Z"
      },
      {
        "duration": 19,
        "start_time": "2021-07-01T19:51:26.984Z"
      },
      {
        "duration": 23,
        "start_time": "2021-07-01T19:51:27.006Z"
      },
      {
        "duration": 33,
        "start_time": "2021-07-01T19:51:27.031Z"
      },
      {
        "duration": 770,
        "start_time": "2021-07-01T19:51:27.066Z"
      },
      {
        "duration": 5,
        "start_time": "2021-07-01T19:51:27.839Z"
      },
      {
        "duration": 29,
        "start_time": "2021-07-01T19:51:27.846Z"
      },
      {
        "duration": 20,
        "start_time": "2021-07-01T19:51:27.877Z"
      },
      {
        "duration": 17,
        "start_time": "2021-07-01T19:51:27.900Z"
      },
      {
        "duration": 24,
        "start_time": "2021-07-01T19:51:27.919Z"
      },
      {
        "duration": 874,
        "start_time": "2021-07-01T19:51:27.946Z"
      },
      {
        "duration": 9,
        "start_time": "2021-07-01T19:51:28.822Z"
      },
      {
        "duration": 19,
        "start_time": "2021-07-01T19:51:28.833Z"
      },
      {
        "duration": 29,
        "start_time": "2021-07-01T19:51:28.854Z"
      },
      {
        "duration": 23,
        "start_time": "2021-07-01T19:51:28.885Z"
      },
      {
        "duration": 23,
        "start_time": "2021-07-01T19:51:28.910Z"
      },
      {
        "duration": 21,
        "start_time": "2021-07-01T19:51:28.936Z"
      },
      {
        "duration": 19,
        "start_time": "2021-07-01T19:51:28.960Z"
      },
      {
        "duration": 24,
        "start_time": "2021-07-01T19:51:28.981Z"
      },
      {
        "duration": 34,
        "start_time": "2021-07-01T19:51:29.008Z"
      },
      {
        "duration": 19,
        "start_time": "2021-07-01T19:51:29.044Z"
      },
      {
        "duration": 20,
        "start_time": "2021-07-01T19:51:29.065Z"
      },
      {
        "duration": 24,
        "start_time": "2021-07-01T19:51:29.087Z"
      },
      {
        "duration": 22,
        "start_time": "2021-07-01T19:51:29.113Z"
      },
      {
        "duration": 19,
        "start_time": "2021-07-01T19:51:29.137Z"
      },
      {
        "duration": 20,
        "start_time": "2021-07-01T19:51:29.158Z"
      },
      {
        "duration": 22,
        "start_time": "2021-07-01T19:51:29.180Z"
      },
      {
        "duration": 16,
        "start_time": "2021-07-01T19:51:29.204Z"
      },
      {
        "duration": 18,
        "start_time": "2021-07-01T19:51:29.222Z"
      },
      {
        "duration": 19,
        "start_time": "2021-07-01T19:51:29.243Z"
      },
      {
        "duration": 26,
        "start_time": "2021-07-01T19:51:29.265Z"
      },
      {
        "duration": 16,
        "start_time": "2021-07-01T19:51:29.293Z"
      },
      {
        "duration": 21,
        "start_time": "2021-07-01T19:51:29.312Z"
      },
      {
        "duration": 10,
        "start_time": "2021-07-01T19:51:29.336Z"
      },
      {
        "duration": 17,
        "start_time": "2021-07-01T19:51:29.349Z"
      },
      {
        "duration": 15,
        "start_time": "2021-07-01T19:51:29.369Z"
      },
      {
        "duration": 7,
        "start_time": "2021-07-01T19:51:29.387Z"
      },
      {
        "duration": 34,
        "start_time": "2021-07-01T19:51:29.397Z"
      },
      {
        "duration": 638,
        "start_time": "2021-07-01T19:54:06.467Z"
      },
      {
        "duration": 1615,
        "start_time": "2021-07-01T19:56:27.040Z"
      },
      {
        "duration": 484,
        "start_time": "2021-07-01T19:56:28.657Z"
      },
      {
        "duration": 20,
        "start_time": "2021-07-01T19:56:29.144Z"
      },
      {
        "duration": 21,
        "start_time": "2021-07-01T19:56:29.167Z"
      },
      {
        "duration": 42,
        "start_time": "2021-07-01T19:56:29.191Z"
      },
      {
        "duration": 70,
        "start_time": "2021-07-01T19:56:29.236Z"
      },
      {
        "duration": 68,
        "start_time": "2021-07-01T19:56:29.308Z"
      },
      {
        "duration": 449,
        "start_time": "2021-07-01T19:56:29.380Z"
      },
      {
        "duration": 336,
        "start_time": "2021-07-01T19:56:29.838Z"
      },
      {
        "duration": 257,
        "start_time": "2021-07-01T19:56:30.176Z"
      },
      {
        "duration": 16,
        "start_time": "2021-07-01T19:56:30.436Z"
      },
      {
        "duration": 28,
        "start_time": "2021-07-01T19:56:30.455Z"
      },
      {
        "duration": 13,
        "start_time": "2021-07-01T19:56:30.486Z"
      },
      {
        "duration": 69,
        "start_time": "2021-07-01T19:56:30.527Z"
      },
      {
        "duration": 72,
        "start_time": "2021-07-01T19:56:30.599Z"
      },
      {
        "duration": 452,
        "start_time": "2021-07-01T19:56:30.674Z"
      },
      {
        "duration": 510,
        "start_time": "2021-07-01T19:56:31.129Z"
      },
      {
        "duration": 229,
        "start_time": "2021-07-01T19:56:31.641Z"
      },
      {
        "duration": 13,
        "start_time": "2021-07-01T19:56:31.872Z"
      },
      {
        "duration": 39,
        "start_time": "2021-07-01T19:56:31.888Z"
      },
      {
        "duration": 13,
        "start_time": "2021-07-01T19:56:31.932Z"
      },
      {
        "duration": 96,
        "start_time": "2021-07-01T19:56:31.947Z"
      },
      {
        "duration": 50,
        "start_time": "2021-07-01T19:56:32.049Z"
      },
      {
        "duration": 437,
        "start_time": "2021-07-01T19:56:32.103Z"
      },
      {
        "duration": 442,
        "start_time": "2021-07-01T19:56:32.542Z"
      },
      {
        "duration": 253,
        "start_time": "2021-07-01T19:56:32.986Z"
      },
      {
        "duration": 13,
        "start_time": "2021-07-01T19:56:33.241Z"
      },
      {
        "duration": 28,
        "start_time": "2021-07-01T19:56:33.257Z"
      },
      {
        "duration": 59,
        "start_time": "2021-07-01T19:56:33.287Z"
      },
      {
        "duration": 5,
        "start_time": "2021-07-01T19:56:33.348Z"
      },
      {
        "duration": 557,
        "start_time": "2021-07-01T19:56:33.355Z"
      },
      {
        "duration": 11,
        "start_time": "2021-07-01T19:56:33.915Z"
      },
      {
        "duration": 39,
        "start_time": "2021-07-01T19:56:33.930Z"
      },
      {
        "duration": 72,
        "start_time": "2021-07-01T19:56:33.971Z"
      },
      {
        "duration": 14,
        "start_time": "2021-07-01T19:56:34.125Z"
      },
      {
        "duration": 4,
        "start_time": "2021-07-01T19:56:34.142Z"
      },
      {
        "duration": 7,
        "start_time": "2021-07-01T19:56:34.148Z"
      },
      {
        "duration": 9,
        "start_time": "2021-07-01T19:56:34.157Z"
      },
      {
        "duration": 10,
        "start_time": "2021-07-01T19:56:34.169Z"
      },
      {
        "duration": 59,
        "start_time": "2021-07-01T19:56:34.181Z"
      },
      {
        "duration": 15,
        "start_time": "2021-07-01T19:56:34.242Z"
      },
      {
        "duration": 67,
        "start_time": "2021-07-01T19:56:34.259Z"
      },
      {
        "duration": 6,
        "start_time": "2021-07-01T19:56:34.328Z"
      },
      {
        "duration": 5,
        "start_time": "2021-07-01T19:56:34.336Z"
      },
      {
        "duration": 92,
        "start_time": "2021-07-01T19:56:34.344Z"
      },
      {
        "duration": 18,
        "start_time": "2021-07-01T19:56:34.440Z"
      },
      {
        "duration": 25,
        "start_time": "2021-07-01T19:56:34.461Z"
      },
      {
        "duration": 42,
        "start_time": "2021-07-01T19:56:34.489Z"
      },
      {
        "duration": 111,
        "start_time": "2021-07-01T19:56:34.533Z"
      },
      {
        "duration": 5,
        "start_time": "2021-07-01T19:56:34.647Z"
      },
      {
        "duration": 11,
        "start_time": "2021-07-01T19:56:34.654Z"
      },
      {
        "duration": 8,
        "start_time": "2021-07-01T19:56:34.724Z"
      },
      {
        "duration": 4,
        "start_time": "2021-07-01T19:56:34.739Z"
      },
      {
        "duration": 8,
        "start_time": "2021-07-01T19:56:34.745Z"
      },
      {
        "duration": 10,
        "start_time": "2021-07-01T19:56:34.755Z"
      },
      {
        "duration": 11,
        "start_time": "2021-07-01T19:56:34.767Z"
      },
      {
        "duration": 7,
        "start_time": "2021-07-01T19:56:34.781Z"
      },
      {
        "duration": 241,
        "start_time": "2021-07-01T19:56:34.790Z"
      },
      {
        "duration": 4,
        "start_time": "2021-07-01T19:56:35.033Z"
      },
      {
        "duration": 8,
        "start_time": "2021-07-01T19:56:35.040Z"
      },
      {
        "duration": 7,
        "start_time": "2021-07-01T19:56:35.050Z"
      },
      {
        "duration": 7,
        "start_time": "2021-07-01T19:56:35.060Z"
      },
      {
        "duration": 15,
        "start_time": "2021-07-01T19:56:35.069Z"
      },
      {
        "duration": 283,
        "start_time": "2021-07-01T19:56:35.087Z"
      },
      {
        "duration": 3,
        "start_time": "2021-07-01T19:56:35.373Z"
      },
      {
        "duration": 19,
        "start_time": "2021-07-01T19:56:35.378Z"
      },
      {
        "duration": 12,
        "start_time": "2021-07-01T19:56:35.399Z"
      },
      {
        "duration": 15,
        "start_time": "2021-07-01T19:56:35.426Z"
      },
      {
        "duration": 27,
        "start_time": "2021-07-01T19:56:35.445Z"
      },
      {
        "duration": 10,
        "start_time": "2021-07-01T19:56:35.475Z"
      },
      {
        "duration": 17,
        "start_time": "2021-07-01T19:56:35.487Z"
      },
      {
        "duration": 24,
        "start_time": "2021-07-01T19:56:35.507Z"
      },
      {
        "duration": 13,
        "start_time": "2021-07-01T19:56:35.535Z"
      },
      {
        "duration": 1918,
        "start_time": "2021-07-01T19:56:35.550Z"
      },
      {
        "duration": 5,
        "start_time": "2021-07-01T19:56:37.471Z"
      },
      {
        "duration": 21,
        "start_time": "2021-07-01T19:56:37.479Z"
      },
      {
        "duration": 25,
        "start_time": "2021-07-01T19:56:37.503Z"
      },
      {
        "duration": 6,
        "start_time": "2021-07-01T19:56:37.533Z"
      },
      {
        "duration": 4,
        "start_time": "2021-07-01T19:56:37.542Z"
      },
      {
        "duration": 11,
        "start_time": "2021-07-01T19:56:37.548Z"
      },
      {
        "duration": 7,
        "start_time": "2021-07-01T19:56:37.561Z"
      },
      {
        "duration": 7,
        "start_time": "2021-07-01T19:56:37.571Z"
      },
      {
        "duration": 8,
        "start_time": "2021-07-01T19:56:37.580Z"
      },
      {
        "duration": 1823,
        "start_time": "2021-07-01T19:56:37.590Z"
      },
      {
        "duration": 4,
        "start_time": "2021-07-01T19:56:39.415Z"
      },
      {
        "duration": 27,
        "start_time": "2021-07-01T19:56:39.427Z"
      },
      {
        "duration": 17,
        "start_time": "2021-07-01T19:56:39.457Z"
      },
      {
        "duration": 18,
        "start_time": "2021-07-01T19:56:39.476Z"
      },
      {
        "duration": 16,
        "start_time": "2021-07-01T19:56:39.496Z"
      },
      {
        "duration": 23,
        "start_time": "2021-07-01T19:56:39.514Z"
      },
      {
        "duration": 25,
        "start_time": "2021-07-01T19:56:39.540Z"
      },
      {
        "duration": 22,
        "start_time": "2021-07-01T19:56:39.567Z"
      },
      {
        "duration": 27,
        "start_time": "2021-07-01T19:56:39.591Z"
      },
      {
        "duration": 1771,
        "start_time": "2021-07-01T19:56:39.621Z"
      },
      {
        "duration": 4,
        "start_time": "2021-07-01T19:56:41.394Z"
      },
      {
        "duration": 21,
        "start_time": "2021-07-01T19:56:41.400Z"
      },
      {
        "duration": 29,
        "start_time": "2021-07-01T19:56:41.424Z"
      },
      {
        "duration": 23,
        "start_time": "2021-07-01T19:56:41.455Z"
      },
      {
        "duration": 12,
        "start_time": "2021-07-01T19:56:41.480Z"
      },
      {
        "duration": 21,
        "start_time": "2021-07-01T19:56:41.494Z"
      },
      {
        "duration": 29,
        "start_time": "2021-07-01T19:56:41.519Z"
      },
      {
        "duration": 17,
        "start_time": "2021-07-01T19:56:41.551Z"
      },
      {
        "duration": 17,
        "start_time": "2021-07-01T19:56:41.571Z"
      },
      {
        "duration": 23,
        "start_time": "2021-07-01T19:56:41.590Z"
      },
      {
        "duration": 23,
        "start_time": "2021-07-01T19:56:41.616Z"
      },
      {
        "duration": 760,
        "start_time": "2021-07-01T19:56:41.641Z"
      },
      {
        "duration": 6,
        "start_time": "2021-07-01T19:56:42.404Z"
      },
      {
        "duration": 22,
        "start_time": "2021-07-01T19:56:42.412Z"
      },
      {
        "duration": 5,
        "start_time": "2021-07-01T19:56:42.436Z"
      },
      {
        "duration": 7,
        "start_time": "2021-07-01T19:56:42.444Z"
      },
      {
        "duration": 6,
        "start_time": "2021-07-01T19:56:42.453Z"
      },
      {
        "duration": 775,
        "start_time": "2021-07-01T19:56:42.461Z"
      },
      {
        "duration": 5,
        "start_time": "2021-07-01T19:56:43.239Z"
      },
      {
        "duration": 10,
        "start_time": "2021-07-01T19:56:43.246Z"
      },
      {
        "duration": 7,
        "start_time": "2021-07-01T19:56:43.258Z"
      },
      {
        "duration": 10,
        "start_time": "2021-07-01T19:56:43.267Z"
      },
      {
        "duration": 7,
        "start_time": "2021-07-01T19:56:43.279Z"
      },
      {
        "duration": 40,
        "start_time": "2021-07-01T19:56:43.288Z"
      },
      {
        "duration": 7,
        "start_time": "2021-07-01T19:56:43.331Z"
      },
      {
        "duration": 7,
        "start_time": "2021-07-01T19:56:43.345Z"
      },
      {
        "duration": 16,
        "start_time": "2021-07-01T19:56:43.355Z"
      },
      {
        "duration": 7,
        "start_time": "2021-07-01T19:56:43.374Z"
      },
      {
        "duration": 12,
        "start_time": "2021-07-01T19:56:43.384Z"
      },
      {
        "duration": 26,
        "start_time": "2021-07-01T19:56:43.399Z"
      },
      {
        "duration": 21,
        "start_time": "2021-07-01T19:56:43.427Z"
      },
      {
        "duration": 10,
        "start_time": "2021-07-01T19:56:43.450Z"
      },
      {
        "duration": 6,
        "start_time": "2021-07-01T19:56:43.462Z"
      },
      {
        "duration": 11,
        "start_time": "2021-07-01T19:56:43.470Z"
      },
      {
        "duration": 11,
        "start_time": "2021-07-01T19:56:43.483Z"
      },
      {
        "duration": 7,
        "start_time": "2021-07-01T19:56:43.496Z"
      },
      {
        "duration": 33,
        "start_time": "2021-07-01T19:56:43.505Z"
      },
      {
        "duration": 9,
        "start_time": "2021-07-01T19:56:43.541Z"
      },
      {
        "duration": 5,
        "start_time": "2021-07-01T19:56:43.552Z"
      },
      {
        "duration": 10,
        "start_time": "2021-07-01T19:56:43.559Z"
      },
      {
        "duration": 7,
        "start_time": "2021-07-01T19:56:43.571Z"
      },
      {
        "duration": 8,
        "start_time": "2021-07-01T19:56:43.580Z"
      },
      {
        "duration": 40,
        "start_time": "2021-07-01T19:56:43.590Z"
      },
      {
        "duration": 5,
        "start_time": "2021-07-01T19:56:43.636Z"
      },
      {
        "duration": 9,
        "start_time": "2021-07-01T19:56:43.644Z"
      }
    ],
    "kernelspec": {
      "display_name": "Python 3",
      "language": "python",
      "name": "python3"
    },
    "language_info": {
      "codemirror_mode": {
        "name": "ipython",
        "version": 3
      },
      "file_extension": ".py",
      "mimetype": "text/x-python",
      "name": "python",
      "nbconvert_exporter": "python",
      "pygments_lexer": "ipython3",
      "version": "3.7.8"
    },
    "toc": {
      "base_numbering": 1,
      "nav_menu": {},
      "number_sections": true,
      "sideBar": true,
      "skip_h1_title": true,
      "title_cell": "Table of Contents",
      "title_sidebar": "Contents",
      "toc_cell": false,
      "toc_position": {},
      "toc_section_display": true,
      "toc_window_display": false
    },
    "colab": {
      "name": "Проект для нефтяной компании.ipynb",
      "provenance": [],
      "collapsed_sections": []
    }
  },
  "cells": [
    {
      "cell_type": "markdown",
      "metadata": {
        "id": "b3RFv-myEtrr"
      },
      "source": [
        "# Описание данных:\n",
        "\n",
        "- id — уникальный идентификатор скважины;\n",
        "\n",
        "- f0, f1, f2 — три признака точек (неважно, что они означают, но сами признаки значимы);\n",
        "\n",
        "- product — объём запасов в скважине (тыс. баррелей)."
      ]
    },
    {
      "cell_type": "markdown",
      "metadata": {
        "id": "bTwIvK0KEtrr"
      },
      "source": [
        "## Загрузка и подготовка данных"
      ]
    },
    {
      "cell_type": "code",
      "metadata": {
        "id": "PopzcFbTEtrs"
      },
      "source": [
        "import pandas as pd\n",
        "import numpy as np\n",
        "import matplotlib.pyplot as plt\n",
        "import seaborn as sns\n",
        "from scipy import stats as st\n",
        "from sklearn.linear_model import LinearRegression\n",
        "from sklearn.model_selection import train_test_split\n",
        "from sklearn.metrics import mean_squared_error\n",
        "from numpy.random import RandomState\n",
        "state = RandomState(12345)"
      ],
      "execution_count": null,
      "outputs": []
    },
    {
      "cell_type": "code",
      "metadata": {
        "id": "e2mKFSadEtru"
      },
      "source": [
        "df_0 = pd.read_csv('/datasets/geo_data_0.csv')\n",
        "df_1 = pd.read_csv('/datasets/geo_data_1.csv')\n",
        "df_2 = pd.read_csv('/datasets/geo_data_2.csv')"
      ],
      "execution_count": null,
      "outputs": []
    },
    {
      "cell_type": "markdown",
      "metadata": {
        "id": "kHEoeXFgEtrv"
      },
      "source": [
        "Посмотрим на данные. Начнем с нулевого региона"
      ]
    },
    {
      "cell_type": "code",
      "metadata": {
        "id": "fYGOFUHmEtrv",
        "outputId": "fe262c30-4cac-4ed0-8005-2be460e6202a"
      },
      "source": [
        "df_0.head(10)"
      ],
      "execution_count": null,
      "outputs": [
        {
          "data": {
            "text/html": [
              "<div>\n",
              "<style scoped>\n",
              "    .dataframe tbody tr th:only-of-type {\n",
              "        vertical-align: middle;\n",
              "    }\n",
              "\n",
              "    .dataframe tbody tr th {\n",
              "        vertical-align: top;\n",
              "    }\n",
              "\n",
              "    .dataframe thead th {\n",
              "        text-align: right;\n",
              "    }\n",
              "</style>\n",
              "<table border=\"1\" class=\"dataframe\">\n",
              "  <thead>\n",
              "    <tr style=\"text-align: right;\">\n",
              "      <th></th>\n",
              "      <th>id</th>\n",
              "      <th>f0</th>\n",
              "      <th>f1</th>\n",
              "      <th>f2</th>\n",
              "      <th>product</th>\n",
              "    </tr>\n",
              "  </thead>\n",
              "  <tbody>\n",
              "    <tr>\n",
              "      <td>0</td>\n",
              "      <td>txEyH</td>\n",
              "      <td>0.705745</td>\n",
              "      <td>-0.497823</td>\n",
              "      <td>1.221170</td>\n",
              "      <td>105.280062</td>\n",
              "    </tr>\n",
              "    <tr>\n",
              "      <td>1</td>\n",
              "      <td>2acmU</td>\n",
              "      <td>1.334711</td>\n",
              "      <td>-0.340164</td>\n",
              "      <td>4.365080</td>\n",
              "      <td>73.037750</td>\n",
              "    </tr>\n",
              "    <tr>\n",
              "      <td>2</td>\n",
              "      <td>409Wp</td>\n",
              "      <td>1.022732</td>\n",
              "      <td>0.151990</td>\n",
              "      <td>1.419926</td>\n",
              "      <td>85.265647</td>\n",
              "    </tr>\n",
              "    <tr>\n",
              "      <td>3</td>\n",
              "      <td>iJLyR</td>\n",
              "      <td>-0.032172</td>\n",
              "      <td>0.139033</td>\n",
              "      <td>2.978566</td>\n",
              "      <td>168.620776</td>\n",
              "    </tr>\n",
              "    <tr>\n",
              "      <td>4</td>\n",
              "      <td>Xdl7t</td>\n",
              "      <td>1.988431</td>\n",
              "      <td>0.155413</td>\n",
              "      <td>4.751769</td>\n",
              "      <td>154.036647</td>\n",
              "    </tr>\n",
              "    <tr>\n",
              "      <td>5</td>\n",
              "      <td>wX4Hy</td>\n",
              "      <td>0.969570</td>\n",
              "      <td>0.489775</td>\n",
              "      <td>-0.735383</td>\n",
              "      <td>64.741541</td>\n",
              "    </tr>\n",
              "    <tr>\n",
              "      <td>6</td>\n",
              "      <td>tL6pL</td>\n",
              "      <td>0.645075</td>\n",
              "      <td>0.530656</td>\n",
              "      <td>1.780266</td>\n",
              "      <td>49.055285</td>\n",
              "    </tr>\n",
              "    <tr>\n",
              "      <td>7</td>\n",
              "      <td>BYPU6</td>\n",
              "      <td>-0.400648</td>\n",
              "      <td>0.808337</td>\n",
              "      <td>-5.624670</td>\n",
              "      <td>72.943292</td>\n",
              "    </tr>\n",
              "    <tr>\n",
              "      <td>8</td>\n",
              "      <td>j9Oui</td>\n",
              "      <td>0.643105</td>\n",
              "      <td>-0.551583</td>\n",
              "      <td>2.372141</td>\n",
              "      <td>113.356160</td>\n",
              "    </tr>\n",
              "    <tr>\n",
              "      <td>9</td>\n",
              "      <td>OLuZU</td>\n",
              "      <td>2.173381</td>\n",
              "      <td>0.563698</td>\n",
              "      <td>9.441852</td>\n",
              "      <td>127.910945</td>\n",
              "    </tr>\n",
              "  </tbody>\n",
              "</table>\n",
              "</div>"
            ],
            "text/plain": [
              "      id        f0        f1        f2     product\n",
              "0  txEyH  0.705745 -0.497823  1.221170  105.280062\n",
              "1  2acmU  1.334711 -0.340164  4.365080   73.037750\n",
              "2  409Wp  1.022732  0.151990  1.419926   85.265647\n",
              "3  iJLyR -0.032172  0.139033  2.978566  168.620776\n",
              "4  Xdl7t  1.988431  0.155413  4.751769  154.036647\n",
              "5  wX4Hy  0.969570  0.489775 -0.735383   64.741541\n",
              "6  tL6pL  0.645075  0.530656  1.780266   49.055285\n",
              "7  BYPU6 -0.400648  0.808337 -5.624670   72.943292\n",
              "8  j9Oui  0.643105 -0.551583  2.372141  113.356160\n",
              "9  OLuZU  2.173381  0.563698  9.441852  127.910945"
            ]
          },
          "execution_count": 3,
          "metadata": {},
          "output_type": "execute_result"
        }
      ]
    },
    {
      "cell_type": "code",
      "metadata": {
        "id": "rqKN1pqREtrw",
        "outputId": "d852afd2-0fdd-400a-dd83-3f8687cfd36e"
      },
      "source": [
        "df_0.info()"
      ],
      "execution_count": null,
      "outputs": [
        {
          "name": "stdout",
          "output_type": "stream",
          "text": [
            "<class 'pandas.core.frame.DataFrame'>\n",
            "RangeIndex: 100000 entries, 0 to 99999\n",
            "Data columns (total 5 columns):\n",
            "id         100000 non-null object\n",
            "f0         100000 non-null float64\n",
            "f1         100000 non-null float64\n",
            "f2         100000 non-null float64\n",
            "product    100000 non-null float64\n",
            "dtypes: float64(4), object(1)\n",
            "memory usage: 3.8+ MB\n"
          ]
        }
      ]
    },
    {
      "cell_type": "code",
      "metadata": {
        "id": "djwGsV8BEtrw",
        "outputId": "43fdc4f2-cc08-48e1-e498-dd66557c2265"
      },
      "source": [
        "df_0.isna().mean()"
      ],
      "execution_count": null,
      "outputs": [
        {
          "data": {
            "text/plain": [
              "id         0.0\n",
              "f0         0.0\n",
              "f1         0.0\n",
              "f2         0.0\n",
              "product    0.0\n",
              "dtype: float64"
            ]
          },
          "execution_count": 5,
          "metadata": {},
          "output_type": "execute_result"
        }
      ]
    },
    {
      "cell_type": "code",
      "metadata": {
        "id": "LW_rkzNSEtrx",
        "outputId": "cb7f2734-ef6c-443f-86f1-7fa4815246ff"
      },
      "source": [
        "df_0.duplicated().sum()"
      ],
      "execution_count": null,
      "outputs": [
        {
          "data": {
            "text/plain": [
              "0"
            ]
          },
          "execution_count": 6,
          "metadata": {},
          "output_type": "execute_result"
        }
      ]
    },
    {
      "cell_type": "code",
      "metadata": {
        "id": "hldVlSJKEtrx",
        "outputId": "bb93a586-15b1-4fbb-a264-1eca63bfcf69"
      },
      "source": [
        "df_0.describe()"
      ],
      "execution_count": null,
      "outputs": [
        {
          "data": {
            "text/html": [
              "<div>\n",
              "<style scoped>\n",
              "    .dataframe tbody tr th:only-of-type {\n",
              "        vertical-align: middle;\n",
              "    }\n",
              "\n",
              "    .dataframe tbody tr th {\n",
              "        vertical-align: top;\n",
              "    }\n",
              "\n",
              "    .dataframe thead th {\n",
              "        text-align: right;\n",
              "    }\n",
              "</style>\n",
              "<table border=\"1\" class=\"dataframe\">\n",
              "  <thead>\n",
              "    <tr style=\"text-align: right;\">\n",
              "      <th></th>\n",
              "      <th>f0</th>\n",
              "      <th>f1</th>\n",
              "      <th>f2</th>\n",
              "      <th>product</th>\n",
              "    </tr>\n",
              "  </thead>\n",
              "  <tbody>\n",
              "    <tr>\n",
              "      <td>count</td>\n",
              "      <td>100000.000000</td>\n",
              "      <td>100000.000000</td>\n",
              "      <td>100000.000000</td>\n",
              "      <td>100000.000000</td>\n",
              "    </tr>\n",
              "    <tr>\n",
              "      <td>mean</td>\n",
              "      <td>0.500419</td>\n",
              "      <td>0.250143</td>\n",
              "      <td>2.502647</td>\n",
              "      <td>92.500000</td>\n",
              "    </tr>\n",
              "    <tr>\n",
              "      <td>std</td>\n",
              "      <td>0.871832</td>\n",
              "      <td>0.504433</td>\n",
              "      <td>3.248248</td>\n",
              "      <td>44.288691</td>\n",
              "    </tr>\n",
              "    <tr>\n",
              "      <td>min</td>\n",
              "      <td>-1.408605</td>\n",
              "      <td>-0.848218</td>\n",
              "      <td>-12.088328</td>\n",
              "      <td>0.000000</td>\n",
              "    </tr>\n",
              "    <tr>\n",
              "      <td>25%</td>\n",
              "      <td>-0.072580</td>\n",
              "      <td>-0.200881</td>\n",
              "      <td>0.287748</td>\n",
              "      <td>56.497507</td>\n",
              "    </tr>\n",
              "    <tr>\n",
              "      <td>50%</td>\n",
              "      <td>0.502360</td>\n",
              "      <td>0.250252</td>\n",
              "      <td>2.515969</td>\n",
              "      <td>91.849972</td>\n",
              "    </tr>\n",
              "    <tr>\n",
              "      <td>75%</td>\n",
              "      <td>1.073581</td>\n",
              "      <td>0.700646</td>\n",
              "      <td>4.715088</td>\n",
              "      <td>128.564089</td>\n",
              "    </tr>\n",
              "    <tr>\n",
              "      <td>max</td>\n",
              "      <td>2.362331</td>\n",
              "      <td>1.343769</td>\n",
              "      <td>16.003790</td>\n",
              "      <td>185.364347</td>\n",
              "    </tr>\n",
              "  </tbody>\n",
              "</table>\n",
              "</div>"
            ],
            "text/plain": [
              "                  f0             f1             f2        product\n",
              "count  100000.000000  100000.000000  100000.000000  100000.000000\n",
              "mean        0.500419       0.250143       2.502647      92.500000\n",
              "std         0.871832       0.504433       3.248248      44.288691\n",
              "min        -1.408605      -0.848218     -12.088328       0.000000\n",
              "25%        -0.072580      -0.200881       0.287748      56.497507\n",
              "50%         0.502360       0.250252       2.515969      91.849972\n",
              "75%         1.073581       0.700646       4.715088     128.564089\n",
              "max         2.362331       1.343769      16.003790     185.364347"
            ]
          },
          "execution_count": 7,
          "metadata": {},
          "output_type": "execute_result"
        }
      ]
    },
    {
      "cell_type": "code",
      "metadata": {
        "id": "c9KJOihKEtrx",
        "outputId": "bae48c84-d91a-478b-b573-041be71a7052"
      },
      "source": [
        "df_0['product'].hist(bins=50)\n",
        "plt.show()"
      ],
      "execution_count": null,
      "outputs": [
        {
          "data": {
            "image/png": "[encoded data removed]",
            "text/plain": [
              "<Figure size 432x288 with 1 Axes>"
            ]
          },
          "metadata": {
            "needs_background": "light"
          },
          "output_type": "display_data"
        }
      ]
    },
    {
      "cell_type": "code",
      "metadata": {
        "id": "yL1L2covEtry",
        "outputId": "13c0e80d-1eec-4ae0-b4f2-0cdf58cbbc62"
      },
      "source": [
        "df_0['f2'].hist(bins=20)\n",
        "plt.show()"
      ],
      "execution_count": null,
      "outputs": [
        {
          "data": {
            "image/png": "[encoded data removed]",
            "text/plain": [
              "<Figure size 432x288 with 1 Axes>"
            ]
          },
          "metadata": {
            "needs_background": "light"
          },
          "output_type": "display_data"
        }
      ]
    },
    {
      "cell_type": "code",
      "metadata": {
        "scrolled": true,
        "id": "Zp5sNSwVEtry",
        "outputId": "d3d1ab7a-c692-41a5-a8e1-66e417b92efe"
      },
      "source": [
        "df_0.boxplot(column = 'f2')\n",
        "plt.show()"
      ],
      "execution_count": null,
      "outputs": [
        {
          "data": {
            "image/png": "[encoded data removed]",
            "text/plain": [
              "<Figure size 432x288 with 1 Axes>"
            ]
          },
          "metadata": {
            "needs_background": "light"
          },
          "output_type": "display_data"
        }
      ]
    },
    {
      "cell_type": "markdown",
      "metadata": {
        "id": "OZQkP96pEtrz"
      },
      "source": [
        "Данные для 0 региона изучены, пропусков и дубликатов нет, типы данных подходящие. Возможно, есть выбросы в столбце f2, но пока не буду их выбрасывать, так как данные распределены нормально для признаков f2 и product. Выделяется группа скважин со средним объемом запасов, скважин с максимальным и минимальным значениями меньше"
      ]
    },
    {
      "cell_type": "markdown",
      "metadata": {
        "id": "4fdLU62fEtrz"
      },
      "source": [
        "Посмотрим на датасет 1 региона"
      ]
    },
    {
      "cell_type": "code",
      "metadata": {
        "id": "5NCJWvnsEtrz",
        "outputId": "3f681f76-e9e7-47c8-fee2-63e9f4cb1002"
      },
      "source": [
        "df_1.head(10)"
      ],
      "execution_count": null,
      "outputs": [
        {
          "data": {
            "text/html": [
              "<div>\n",
              "<style scoped>\n",
              "    .dataframe tbody tr th:only-of-type {\n",
              "        vertical-align: middle;\n",
              "    }\n",
              "\n",
              "    .dataframe tbody tr th {\n",
              "        vertical-align: top;\n",
              "    }\n",
              "\n",
              "    .dataframe thead th {\n",
              "        text-align: right;\n",
              "    }\n",
              "</style>\n",
              "<table border=\"1\" class=\"dataframe\">\n",
              "  <thead>\n",
              "    <tr style=\"text-align: right;\">\n",
              "      <th></th>\n",
              "      <th>id</th>\n",
              "      <th>f0</th>\n",
              "      <th>f1</th>\n",
              "      <th>f2</th>\n",
              "      <th>product</th>\n",
              "    </tr>\n",
              "  </thead>\n",
              "  <tbody>\n",
              "    <tr>\n",
              "      <td>0</td>\n",
              "      <td>kBEdx</td>\n",
              "      <td>-15.001348</td>\n",
              "      <td>-8.276000</td>\n",
              "      <td>-0.005876</td>\n",
              "      <td>3.179103</td>\n",
              "    </tr>\n",
              "    <tr>\n",
              "      <td>1</td>\n",
              "      <td>62mP7</td>\n",
              "      <td>14.272088</td>\n",
              "      <td>-3.475083</td>\n",
              "      <td>0.999183</td>\n",
              "      <td>26.953261</td>\n",
              "    </tr>\n",
              "    <tr>\n",
              "      <td>2</td>\n",
              "      <td>vyE1P</td>\n",
              "      <td>6.263187</td>\n",
              "      <td>-5.948386</td>\n",
              "      <td>5.001160</td>\n",
              "      <td>134.766305</td>\n",
              "    </tr>\n",
              "    <tr>\n",
              "      <td>3</td>\n",
              "      <td>KcrkZ</td>\n",
              "      <td>-13.081196</td>\n",
              "      <td>-11.506057</td>\n",
              "      <td>4.999415</td>\n",
              "      <td>137.945408</td>\n",
              "    </tr>\n",
              "    <tr>\n",
              "      <td>4</td>\n",
              "      <td>AHL4O</td>\n",
              "      <td>12.702195</td>\n",
              "      <td>-8.147433</td>\n",
              "      <td>5.004363</td>\n",
              "      <td>134.766305</td>\n",
              "    </tr>\n",
              "    <tr>\n",
              "      <td>5</td>\n",
              "      <td>HHckp</td>\n",
              "      <td>-3.327590</td>\n",
              "      <td>-2.205276</td>\n",
              "      <td>3.003647</td>\n",
              "      <td>84.038886</td>\n",
              "    </tr>\n",
              "    <tr>\n",
              "      <td>6</td>\n",
              "      <td>h5Ujo</td>\n",
              "      <td>-11.142655</td>\n",
              "      <td>-10.133399</td>\n",
              "      <td>4.002382</td>\n",
              "      <td>110.992147</td>\n",
              "    </tr>\n",
              "    <tr>\n",
              "      <td>7</td>\n",
              "      <td>muH9x</td>\n",
              "      <td>4.234715</td>\n",
              "      <td>-0.001354</td>\n",
              "      <td>2.004588</td>\n",
              "      <td>53.906522</td>\n",
              "    </tr>\n",
              "    <tr>\n",
              "      <td>8</td>\n",
              "      <td>YiRkx</td>\n",
              "      <td>13.355129</td>\n",
              "      <td>-0.332068</td>\n",
              "      <td>4.998647</td>\n",
              "      <td>134.766305</td>\n",
              "    </tr>\n",
              "    <tr>\n",
              "      <td>9</td>\n",
              "      <td>jG6Gi</td>\n",
              "      <td>1.069227</td>\n",
              "      <td>-11.025667</td>\n",
              "      <td>4.997844</td>\n",
              "      <td>137.945408</td>\n",
              "    </tr>\n",
              "  </tbody>\n",
              "</table>\n",
              "</div>"
            ],
            "text/plain": [
              "      id         f0         f1        f2     product\n",
              "0  kBEdx -15.001348  -8.276000 -0.005876    3.179103\n",
              "1  62mP7  14.272088  -3.475083  0.999183   26.953261\n",
              "2  vyE1P   6.263187  -5.948386  5.001160  134.766305\n",
              "3  KcrkZ -13.081196 -11.506057  4.999415  137.945408\n",
              "4  AHL4O  12.702195  -8.147433  5.004363  134.766305\n",
              "5  HHckp  -3.327590  -2.205276  3.003647   84.038886\n",
              "6  h5Ujo -11.142655 -10.133399  4.002382  110.992147\n",
              "7  muH9x   4.234715  -0.001354  2.004588   53.906522\n",
              "8  YiRkx  13.355129  -0.332068  4.998647  134.766305\n",
              "9  jG6Gi   1.069227 -11.025667  4.997844  137.945408"
            ]
          },
          "execution_count": 11,
          "metadata": {},
          "output_type": "execute_result"
        }
      ]
    },
    {
      "cell_type": "code",
      "metadata": {
        "id": "zP0OAlkUEtr0",
        "outputId": "5b01d0c8-0ea8-41d9-b9d1-bef66ce46775"
      },
      "source": [
        "df_1.info()"
      ],
      "execution_count": null,
      "outputs": [
        {
          "name": "stdout",
          "output_type": "stream",
          "text": [
            "<class 'pandas.core.frame.DataFrame'>\n",
            "RangeIndex: 100000 entries, 0 to 99999\n",
            "Data columns (total 5 columns):\n",
            "id         100000 non-null object\n",
            "f0         100000 non-null float64\n",
            "f1         100000 non-null float64\n",
            "f2         100000 non-null float64\n",
            "product    100000 non-null float64\n",
            "dtypes: float64(4), object(1)\n",
            "memory usage: 3.8+ MB\n"
          ]
        }
      ]
    },
    {
      "cell_type": "code",
      "metadata": {
        "id": "prNQvXU8Etr0",
        "outputId": "9050ef12-3dcc-4f06-a84c-23e37b650ade"
      },
      "source": [
        "df_1.isna().mean()"
      ],
      "execution_count": null,
      "outputs": [
        {
          "data": {
            "text/plain": [
              "id         0.0\n",
              "f0         0.0\n",
              "f1         0.0\n",
              "f2         0.0\n",
              "product    0.0\n",
              "dtype: float64"
            ]
          },
          "execution_count": 13,
          "metadata": {},
          "output_type": "execute_result"
        }
      ]
    },
    {
      "cell_type": "code",
      "metadata": {
        "id": "XwcQ8sGUEtr0",
        "outputId": "3e1b9e96-18a2-4c82-cd09-d7f75719da80"
      },
      "source": [
        "df_1.duplicated().sum()"
      ],
      "execution_count": null,
      "outputs": [
        {
          "data": {
            "text/plain": [
              "0"
            ]
          },
          "execution_count": 14,
          "metadata": {},
          "output_type": "execute_result"
        }
      ]
    },
    {
      "cell_type": "code",
      "metadata": {
        "id": "cRVpd7ITEtr0",
        "outputId": "345c82de-5ddf-48c3-8b7e-7e60938d61cf"
      },
      "source": [
        "df_1.describe()"
      ],
      "execution_count": null,
      "outputs": [
        {
          "data": {
            "text/html": [
              "<div>\n",
              "<style scoped>\n",
              "    .dataframe tbody tr th:only-of-type {\n",
              "        vertical-align: middle;\n",
              "    }\n",
              "\n",
              "    .dataframe tbody tr th {\n",
              "        vertical-align: top;\n",
              "    }\n",
              "\n",
              "    .dataframe thead th {\n",
              "        text-align: right;\n",
              "    }\n",
              "</style>\n",
              "<table border=\"1\" class=\"dataframe\">\n",
              "  <thead>\n",
              "    <tr style=\"text-align: right;\">\n",
              "      <th></th>\n",
              "      <th>f0</th>\n",
              "      <th>f1</th>\n",
              "      <th>f2</th>\n",
              "      <th>product</th>\n",
              "    </tr>\n",
              "  </thead>\n",
              "  <tbody>\n",
              "    <tr>\n",
              "      <td>count</td>\n",
              "      <td>100000.000000</td>\n",
              "      <td>100000.000000</td>\n",
              "      <td>100000.000000</td>\n",
              "      <td>100000.000000</td>\n",
              "    </tr>\n",
              "    <tr>\n",
              "      <td>mean</td>\n",
              "      <td>1.141296</td>\n",
              "      <td>-4.796579</td>\n",
              "      <td>2.494541</td>\n",
              "      <td>68.825000</td>\n",
              "    </tr>\n",
              "    <tr>\n",
              "      <td>std</td>\n",
              "      <td>8.965932</td>\n",
              "      <td>5.119872</td>\n",
              "      <td>1.703572</td>\n",
              "      <td>45.944423</td>\n",
              "    </tr>\n",
              "    <tr>\n",
              "      <td>min</td>\n",
              "      <td>-31.609576</td>\n",
              "      <td>-26.358598</td>\n",
              "      <td>-0.018144</td>\n",
              "      <td>0.000000</td>\n",
              "    </tr>\n",
              "    <tr>\n",
              "      <td>25%</td>\n",
              "      <td>-6.298551</td>\n",
              "      <td>-8.267985</td>\n",
              "      <td>1.000021</td>\n",
              "      <td>26.953261</td>\n",
              "    </tr>\n",
              "    <tr>\n",
              "      <td>50%</td>\n",
              "      <td>1.153055</td>\n",
              "      <td>-4.813172</td>\n",
              "      <td>2.011479</td>\n",
              "      <td>57.085625</td>\n",
              "    </tr>\n",
              "    <tr>\n",
              "      <td>75%</td>\n",
              "      <td>8.621015</td>\n",
              "      <td>-1.332816</td>\n",
              "      <td>3.999904</td>\n",
              "      <td>107.813044</td>\n",
              "    </tr>\n",
              "    <tr>\n",
              "      <td>max</td>\n",
              "      <td>29.421755</td>\n",
              "      <td>18.734063</td>\n",
              "      <td>5.019721</td>\n",
              "      <td>137.945408</td>\n",
              "    </tr>\n",
              "  </tbody>\n",
              "</table>\n",
              "</div>"
            ],
            "text/plain": [
              "                  f0             f1             f2        product\n",
              "count  100000.000000  100000.000000  100000.000000  100000.000000\n",
              "mean        1.141296      -4.796579       2.494541      68.825000\n",
              "std         8.965932       5.119872       1.703572      45.944423\n",
              "min       -31.609576     -26.358598      -0.018144       0.000000\n",
              "25%        -6.298551      -8.267985       1.000021      26.953261\n",
              "50%         1.153055      -4.813172       2.011479      57.085625\n",
              "75%         8.621015      -1.332816       3.999904     107.813044\n",
              "max        29.421755      18.734063       5.019721     137.945408"
            ]
          },
          "execution_count": 15,
          "metadata": {},
          "output_type": "execute_result"
        }
      ]
    },
    {
      "cell_type": "code",
      "metadata": {
        "id": "dO34KaGtEtr1",
        "outputId": "120fe4c2-06a1-4a13-afb4-6fdfafe7169b"
      },
      "source": [
        "df_1['product'].hist(bins=50)\n",
        "plt.show()"
      ],
      "execution_count": null,
      "outputs": [
        {
          "data": {
            "image/png": "[encoded data removed]",
            "text/plain": [
              "<Figure size 432x288 with 1 Axes>"
            ]
          },
          "metadata": {
            "needs_background": "light"
          },
          "output_type": "display_data"
        }
      ]
    },
    {
      "cell_type": "code",
      "metadata": {
        "id": "WjG9oGkFEtr1",
        "outputId": "fe65c4a4-718f-48d7-fcae-2d72b0d46e3c"
      },
      "source": [
        "df_1['f0'].hist(bins=50)\n",
        "plt.show()"
      ],
      "execution_count": null,
      "outputs": [
        {
          "data": {
            "image/png": "[encoded data removed]",
            "text/plain": [
              "<Figure size 432x288 with 1 Axes>"
            ]
          },
          "metadata": {
            "needs_background": "light"
          },
          "output_type": "display_data"
        }
      ]
    },
    {
      "cell_type": "code",
      "metadata": {
        "scrolled": false,
        "id": "61qYNbTIEtr1",
        "outputId": "e39cdd37-9435-48a8-a58b-7d7086c664b9"
      },
      "source": [
        "df_1.boxplot(column = 'f0')\n",
        "plt.show()"
      ],
      "execution_count": null,
      "outputs": [
        {
          "data": {
            "image/png": "[encoded data removed]",
            "text/plain": [
              "<Figure size 432x288 with 1 Axes>"
            ]
          },
          "metadata": {
            "needs_background": "light"
          },
          "output_type": "display_data"
        }
      ]
    },
    {
      "cell_type": "markdown",
      "metadata": {
        "id": "swyRVjYuEtr1"
      },
      "source": [
        "Данные для 1 региона изучены, пропусков и дубликатов также нет, типы данных подходящие. Разброс данных в признаках f0 и f1 значительно выше, чем в 0 локации. Данные распределены нормально только для признака f1. Выделяются, почти равные по объему запасов, группы скважин"
      ]
    },
    {
      "cell_type": "markdown",
      "metadata": {
        "id": "Tt1i8OBDEtr2"
      },
      "source": [
        "Посмотрим на датасет 2 региона"
      ]
    },
    {
      "cell_type": "code",
      "metadata": {
        "id": "buCDCJeBEtr2",
        "outputId": "48c94de5-1e05-42c4-d6ae-238bc3b352e1"
      },
      "source": [
        "df_2.head(10)"
      ],
      "execution_count": null,
      "outputs": [
        {
          "data": {
            "text/html": [
              "<div>\n",
              "<style scoped>\n",
              "    .dataframe tbody tr th:only-of-type {\n",
              "        vertical-align: middle;\n",
              "    }\n",
              "\n",
              "    .dataframe tbody tr th {\n",
              "        vertical-align: top;\n",
              "    }\n",
              "\n",
              "    .dataframe thead th {\n",
              "        text-align: right;\n",
              "    }\n",
              "</style>\n",
              "<table border=\"1\" class=\"dataframe\">\n",
              "  <thead>\n",
              "    <tr style=\"text-align: right;\">\n",
              "      <th></th>\n",
              "      <th>id</th>\n",
              "      <th>f0</th>\n",
              "      <th>f1</th>\n",
              "      <th>f2</th>\n",
              "      <th>product</th>\n",
              "    </tr>\n",
              "  </thead>\n",
              "  <tbody>\n",
              "    <tr>\n",
              "      <td>0</td>\n",
              "      <td>fwXo0</td>\n",
              "      <td>-1.146987</td>\n",
              "      <td>0.963328</td>\n",
              "      <td>-0.828965</td>\n",
              "      <td>27.758673</td>\n",
              "    </tr>\n",
              "    <tr>\n",
              "      <td>1</td>\n",
              "      <td>WJtFt</td>\n",
              "      <td>0.262778</td>\n",
              "      <td>0.269839</td>\n",
              "      <td>-2.530187</td>\n",
              "      <td>56.069697</td>\n",
              "    </tr>\n",
              "    <tr>\n",
              "      <td>2</td>\n",
              "      <td>ovLUW</td>\n",
              "      <td>0.194587</td>\n",
              "      <td>0.289035</td>\n",
              "      <td>-5.586433</td>\n",
              "      <td>62.871910</td>\n",
              "    </tr>\n",
              "    <tr>\n",
              "      <td>3</td>\n",
              "      <td>q6cA6</td>\n",
              "      <td>2.236060</td>\n",
              "      <td>-0.553760</td>\n",
              "      <td>0.930038</td>\n",
              "      <td>114.572842</td>\n",
              "    </tr>\n",
              "    <tr>\n",
              "      <td>4</td>\n",
              "      <td>WPMUX</td>\n",
              "      <td>-0.515993</td>\n",
              "      <td>1.716266</td>\n",
              "      <td>5.899011</td>\n",
              "      <td>149.600746</td>\n",
              "    </tr>\n",
              "    <tr>\n",
              "      <td>5</td>\n",
              "      <td>LzZXx</td>\n",
              "      <td>-0.758092</td>\n",
              "      <td>0.710691</td>\n",
              "      <td>2.585887</td>\n",
              "      <td>90.222465</td>\n",
              "    </tr>\n",
              "    <tr>\n",
              "      <td>6</td>\n",
              "      <td>WBHRv</td>\n",
              "      <td>-0.574891</td>\n",
              "      <td>0.317727</td>\n",
              "      <td>1.773745</td>\n",
              "      <td>45.641478</td>\n",
              "    </tr>\n",
              "    <tr>\n",
              "      <td>7</td>\n",
              "      <td>XO8fn</td>\n",
              "      <td>-1.906649</td>\n",
              "      <td>-2.458350</td>\n",
              "      <td>-0.177097</td>\n",
              "      <td>72.480640</td>\n",
              "    </tr>\n",
              "    <tr>\n",
              "      <td>8</td>\n",
              "      <td>ybmQ5</td>\n",
              "      <td>1.776292</td>\n",
              "      <td>-0.279356</td>\n",
              "      <td>3.004156</td>\n",
              "      <td>106.616832</td>\n",
              "    </tr>\n",
              "    <tr>\n",
              "      <td>9</td>\n",
              "      <td>OilcN</td>\n",
              "      <td>-1.214452</td>\n",
              "      <td>-0.439314</td>\n",
              "      <td>5.922514</td>\n",
              "      <td>52.954532</td>\n",
              "    </tr>\n",
              "  </tbody>\n",
              "</table>\n",
              "</div>"
            ],
            "text/plain": [
              "      id        f0        f1        f2     product\n",
              "0  fwXo0 -1.146987  0.963328 -0.828965   27.758673\n",
              "1  WJtFt  0.262778  0.269839 -2.530187   56.069697\n",
              "2  ovLUW  0.194587  0.289035 -5.586433   62.871910\n",
              "3  q6cA6  2.236060 -0.553760  0.930038  114.572842\n",
              "4  WPMUX -0.515993  1.716266  5.899011  149.600746\n",
              "5  LzZXx -0.758092  0.710691  2.585887   90.222465\n",
              "6  WBHRv -0.574891  0.317727  1.773745   45.641478\n",
              "7  XO8fn -1.906649 -2.458350 -0.177097   72.480640\n",
              "8  ybmQ5  1.776292 -0.279356  3.004156  106.616832\n",
              "9  OilcN -1.214452 -0.439314  5.922514   52.954532"
            ]
          },
          "execution_count": 19,
          "metadata": {},
          "output_type": "execute_result"
        }
      ]
    },
    {
      "cell_type": "code",
      "metadata": {
        "id": "jf9GhoiPEtr2",
        "outputId": "e66dd4d2-cc5f-4006-f15c-b642d28a5cbd"
      },
      "source": [
        "df_2.info()"
      ],
      "execution_count": null,
      "outputs": [
        {
          "name": "stdout",
          "output_type": "stream",
          "text": [
            "<class 'pandas.core.frame.DataFrame'>\n",
            "RangeIndex: 100000 entries, 0 to 99999\n",
            "Data columns (total 5 columns):\n",
            "id         100000 non-null object\n",
            "f0         100000 non-null float64\n",
            "f1         100000 non-null float64\n",
            "f2         100000 non-null float64\n",
            "product    100000 non-null float64\n",
            "dtypes: float64(4), object(1)\n",
            "memory usage: 3.8+ MB\n"
          ]
        }
      ]
    },
    {
      "cell_type": "code",
      "metadata": {
        "id": "S_ITvn9sEtr2",
        "outputId": "acfb2ae3-abc3-4c2a-bcb7-2304bf1a1fa7"
      },
      "source": [
        "df_2.isna().mean()"
      ],
      "execution_count": null,
      "outputs": [
        {
          "data": {
            "text/plain": [
              "id         0.0\n",
              "f0         0.0\n",
              "f1         0.0\n",
              "f2         0.0\n",
              "product    0.0\n",
              "dtype: float64"
            ]
          },
          "execution_count": 21,
          "metadata": {},
          "output_type": "execute_result"
        }
      ]
    },
    {
      "cell_type": "code",
      "metadata": {
        "id": "1pQh-xY1Etr2",
        "outputId": "8c0dc8b1-768b-4999-a6e3-6650579f9ad4"
      },
      "source": [
        "df_2.duplicated().sum()"
      ],
      "execution_count": null,
      "outputs": [
        {
          "data": {
            "text/plain": [
              "0"
            ]
          },
          "execution_count": 22,
          "metadata": {},
          "output_type": "execute_result"
        }
      ]
    },
    {
      "cell_type": "code",
      "metadata": {
        "id": "j5Ens4kUEtr2",
        "outputId": "04c5f4c6-92d1-46b3-aef1-cf3661a403f1"
      },
      "source": [
        "df_2.describe()"
      ],
      "execution_count": null,
      "outputs": [
        {
          "data": {
            "text/html": [
              "<div>\n",
              "<style scoped>\n",
              "    .dataframe tbody tr th:only-of-type {\n",
              "        vertical-align: middle;\n",
              "    }\n",
              "\n",
              "    .dataframe tbody tr th {\n",
              "        vertical-align: top;\n",
              "    }\n",
              "\n",
              "    .dataframe thead th {\n",
              "        text-align: right;\n",
              "    }\n",
              "</style>\n",
              "<table border=\"1\" class=\"dataframe\">\n",
              "  <thead>\n",
              "    <tr style=\"text-align: right;\">\n",
              "      <th></th>\n",
              "      <th>f0</th>\n",
              "      <th>f1</th>\n",
              "      <th>f2</th>\n",
              "      <th>product</th>\n",
              "    </tr>\n",
              "  </thead>\n",
              "  <tbody>\n",
              "    <tr>\n",
              "      <td>count</td>\n",
              "      <td>100000.000000</td>\n",
              "      <td>100000.000000</td>\n",
              "      <td>100000.000000</td>\n",
              "      <td>100000.000000</td>\n",
              "    </tr>\n",
              "    <tr>\n",
              "      <td>mean</td>\n",
              "      <td>0.002023</td>\n",
              "      <td>-0.002081</td>\n",
              "      <td>2.495128</td>\n",
              "      <td>95.000000</td>\n",
              "    </tr>\n",
              "    <tr>\n",
              "      <td>std</td>\n",
              "      <td>1.732045</td>\n",
              "      <td>1.730417</td>\n",
              "      <td>3.473445</td>\n",
              "      <td>44.749921</td>\n",
              "    </tr>\n",
              "    <tr>\n",
              "      <td>min</td>\n",
              "      <td>-8.760004</td>\n",
              "      <td>-7.084020</td>\n",
              "      <td>-11.970335</td>\n",
              "      <td>0.000000</td>\n",
              "    </tr>\n",
              "    <tr>\n",
              "      <td>25%</td>\n",
              "      <td>-1.162288</td>\n",
              "      <td>-1.174820</td>\n",
              "      <td>0.130359</td>\n",
              "      <td>59.450441</td>\n",
              "    </tr>\n",
              "    <tr>\n",
              "      <td>50%</td>\n",
              "      <td>0.009424</td>\n",
              "      <td>-0.009482</td>\n",
              "      <td>2.484236</td>\n",
              "      <td>94.925613</td>\n",
              "    </tr>\n",
              "    <tr>\n",
              "      <td>75%</td>\n",
              "      <td>1.158535</td>\n",
              "      <td>1.163678</td>\n",
              "      <td>4.858794</td>\n",
              "      <td>130.595027</td>\n",
              "    </tr>\n",
              "    <tr>\n",
              "      <td>max</td>\n",
              "      <td>7.238262</td>\n",
              "      <td>7.844801</td>\n",
              "      <td>16.739402</td>\n",
              "      <td>190.029838</td>\n",
              "    </tr>\n",
              "  </tbody>\n",
              "</table>\n",
              "</div>"
            ],
            "text/plain": [
              "                  f0             f1             f2        product\n",
              "count  100000.000000  100000.000000  100000.000000  100000.000000\n",
              "mean        0.002023      -0.002081       2.495128      95.000000\n",
              "std         1.732045       1.730417       3.473445      44.749921\n",
              "min        -8.760004      -7.084020     -11.970335       0.000000\n",
              "25%        -1.162288      -1.174820       0.130359      59.450441\n",
              "50%         0.009424      -0.009482       2.484236      94.925613\n",
              "75%         1.158535       1.163678       4.858794     130.595027\n",
              "max         7.238262       7.844801      16.739402     190.029838"
            ]
          },
          "execution_count": 23,
          "metadata": {},
          "output_type": "execute_result"
        }
      ]
    },
    {
      "cell_type": "code",
      "metadata": {
        "id": "0m-AJKLrEtr3",
        "outputId": "6031a475-0669-4127-b771-016f92174cf1"
      },
      "source": [
        "df_2['product'].hist(bins=50)\n",
        "plt.show()"
      ],
      "execution_count": null,
      "outputs": [
        {
          "data": {
            "image/png": "[encoded data removed]",
            "text/plain": [
              "<Figure size 432x288 with 1 Axes>"
            ]
          },
          "metadata": {
            "needs_background": "light"
          },
          "output_type": "display_data"
        }
      ]
    },
    {
      "cell_type": "code",
      "metadata": {
        "id": "2MwYjlVsEtr3",
        "outputId": "91c645c6-0f3c-4f8f-dc60-ffdf0688d987"
      },
      "source": [
        "df_2['f0'].hist(bins=50)\n",
        "plt.show()"
      ],
      "execution_count": null,
      "outputs": [
        {
          "data": {
            "image/png": "[encoded data removed]",
            "text/plain": [
              "<Figure size 432x288 with 1 Axes>"
            ]
          },
          "metadata": {
            "needs_background": "light"
          },
          "output_type": "display_data"
        }
      ]
    },
    {
      "cell_type": "code",
      "metadata": {
        "scrolled": false,
        "id": "TTTfMeNUEtr3",
        "outputId": "91fcf927-f0ab-4509-a9a6-dfda8fa9034f"
      },
      "source": [
        "df_2.boxplot(column = 'f0')\n",
        "plt.show()"
      ],
      "execution_count": null,
      "outputs": [
        {
          "data": {
            "image/png": "[encoded data removed]",
            "text/plain": [
              "<Figure size 432x288 with 1 Axes>"
            ]
          },
          "metadata": {
            "needs_background": "light"
          },
          "output_type": "display_data"
        }
      ]
    },
    {
      "cell_type": "markdown",
      "metadata": {
        "id": "LvEhB1mBEtr3"
      },
      "source": [
        "Данные для 3 региона изучены, пропусков и дубликатов все также нет, типы данных подходящие. Распределение и разброс данных похож на 0 регион, за исключением немного больших значений в столбцах f0 и f1."
      ]
    },
    {
      "cell_type": "markdown",
      "metadata": {
        "id": "GNndQn9xEtr4"
      },
      "source": [
        "Объединим столбцы датафрейма с объемом запасов и построим графики"
      ]
    },
    {
      "cell_type": "code",
      "metadata": {
        "id": "1LyyDiNMEtr4"
      },
      "source": [
        "df_gen = df_0.join(df_1, lsuffix='_0', rsuffix='_1')"
      ],
      "execution_count": null,
      "outputs": []
    },
    {
      "cell_type": "code",
      "metadata": {
        "id": "wZdwKTzAEtr4"
      },
      "source": [
        "df_gen = df_gen.join(df_2, lsuffix='_1', rsuffix='_2')"
      ],
      "execution_count": null,
      "outputs": []
    },
    {
      "cell_type": "code",
      "metadata": {
        "id": "5rChFVs3Etr4"
      },
      "source": [
        "df_gen_prod = df_gen.drop(['id_0', 'f0_0', 'f1_0', 'f2_0', 'id_1', 'f0_1', 'f1_1', 'f2_1', 'id', 'f0', 'f1', 'f2'], axis=1)"
      ],
      "execution_count": null,
      "outputs": []
    },
    {
      "cell_type": "code",
      "metadata": {
        "id": "5DQFLg2eEtr4"
      },
      "source": [
        "df_gen_prod.rename(columns={'product': 'product_2'}, inplace=True)"
      ],
      "execution_count": null,
      "outputs": []
    },
    {
      "cell_type": "code",
      "metadata": {
        "scrolled": true,
        "id": "Td2ncm-xEtr5",
        "outputId": "827e3008-b6a8-4f7c-c3a4-f6f1e1de0303"
      },
      "source": [
        "plt.figure(figsize=(13,10), dpi= 80)\n",
        "plt.title(\"Объем запасов скважин в зонах 0, 1, 2\", fontsize=22)\n",
        "ax = sns.boxplot(data=df_gen_prod).grid(axis='y')\n",
        "plt.ylabel(\"Объем, тыс. баррелей\")"
      ],
      "execution_count": null,
      "outputs": [
        {
          "data": {
            "text/plain": [
              "Text(0, 0.5, 'Объем, тыс. баррелей')"
            ]
          },
          "execution_count": 31,
          "metadata": {},
          "output_type": "execute_result"
        },
        {
          "data": {
            "image/png": "[encoded data removed]",
            "text/plain": [
              "<Figure size 1040x800 with 1 Axes>"
            ]
          },
          "metadata": {
            "needs_background": "light"
          },
          "output_type": "display_data"
        }
      ]
    },
    {
      "cell_type": "markdown",
      "metadata": {
        "id": "qUmFsAGcEtr5"
      },
      "source": [
        "### Вывод"
      ]
    },
    {
      "cell_type": "markdown",
      "metadata": {
        "id": "2qJ3utptEtr5"
      },
      "source": [
        "Нужные библиотеки подгружены, данные подготовлены и изучены. Беглым взглядом посмотрев на сведенные боксплоты по столбцам product видно, что скважины зон 0 и 2 в среднем имеют большие запасы, чем скважины зоны 1."
      ]
    },
    {
      "cell_type": "markdown",
      "metadata": {
        "id": "i-YSgrwEEtr5"
      },
      "source": [
        "## Обучение и проверка модели"
      ]
    },
    {
      "cell_type": "markdown",
      "metadata": {
        "id": "wX5Y9e5PEtr5"
      },
      "source": [
        "Обучим и проверим модель для 0 региона"
      ]
    },
    {
      "cell_type": "code",
      "metadata": {
        "id": "6u-JrD0VEtr6"
      },
      "source": [
        "features_geo_0 = df_0.drop(['id', 'product'], axis=1)\n",
        "target_geo_0 = df_0['product']"
      ],
      "execution_count": null,
      "outputs": []
    },
    {
      "cell_type": "code",
      "metadata": {
        "id": "4KNY-7ojEtr6"
      },
      "source": [
        "features_train_geo_0, features_valid_geo_0, target_train_geo_0, target_valid_geo_0 = train_test_split(\n",
        "    features_geo_0, target_geo_0, test_size=0.25, random_state=12345)"
      ],
      "execution_count": null,
      "outputs": []
    },
    {
      "cell_type": "code",
      "metadata": {
        "id": "t8YSQU5bEtr6"
      },
      "source": [
        "model_geo_0 = LinearRegression()\n",
        "model_geo_0.fit(features_train_geo_0, target_train_geo_0)\n",
        "predictions_valid_geo_0 = model_geo_0.predict(features_valid_geo_0)"
      ],
      "execution_count": null,
      "outputs": []
    },
    {
      "cell_type": "markdown",
      "metadata": {
        "id": "RoQBoiUmEtr6"
      },
      "source": [
        "Средний запас предсказанного сырья 0 региона составляет:"
      ]
    },
    {
      "cell_type": "code",
      "metadata": {
        "id": "UUxBwEshEtr6",
        "outputId": "60513c24-0891-45cd-a695-cb63516f389b"
      },
      "source": [
        "predictions_valid_geo_0.mean()"
      ],
      "execution_count": null,
      "outputs": [
        {
          "data": {
            "text/plain": [
              "92.59256778438038"
            ]
          },
          "execution_count": 35,
          "metadata": {},
          "output_type": "execute_result"
        }
      ]
    },
    {
      "cell_type": "code",
      "metadata": {
        "id": "FK7LRB7pEtr6"
      },
      "source": [
        "mse_geo_0 = mean_squared_error(target_valid_geo_0, predictions_valid_geo_0)"
      ],
      "execution_count": null,
      "outputs": []
    },
    {
      "cell_type": "code",
      "metadata": {
        "id": "xmsvNmkkEtr6"
      },
      "source": [
        "rmse_geo_0 = mse_geo_0 ** 0.5"
      ],
      "execution_count": null,
      "outputs": []
    },
    {
      "cell_type": "markdown",
      "metadata": {
        "id": "28bfonxMEtr7"
      },
      "source": [
        "Средняя квадратичная ошибка 0 региона равна:"
      ]
    },
    {
      "cell_type": "code",
      "metadata": {
        "id": "TeFgO36gEtr7",
        "outputId": "2a922d8b-c5f6-4945-c0c4-9701b732f75e"
      },
      "source": [
        "rmse_geo_0"
      ],
      "execution_count": null,
      "outputs": [
        {
          "data": {
            "text/plain": [
              "37.5794217150813"
            ]
          },
          "execution_count": 38,
          "metadata": {},
          "output_type": "execute_result"
        }
      ]
    },
    {
      "cell_type": "markdown",
      "metadata": {
        "id": "SDIoUPGFEtr7"
      },
      "source": [
        "Обучим и проверим модель для 1 региона"
      ]
    },
    {
      "cell_type": "code",
      "metadata": {
        "id": "zCTd3FvFEtr7"
      },
      "source": [
        "features_geo_1 = df_1.drop(['id', 'product'], axis=1)\n",
        "target_geo_1 = df_1['product']"
      ],
      "execution_count": null,
      "outputs": []
    },
    {
      "cell_type": "code",
      "metadata": {
        "id": "BNvoqRz-Etr7"
      },
      "source": [
        "features_train_geo_1, features_valid_geo_1, target_train_geo_1, target_valid_geo_1 = train_test_split(\n",
        "    features_geo_1, target_geo_1, test_size=0.25, random_state=12345)"
      ],
      "execution_count": null,
      "outputs": []
    },
    {
      "cell_type": "code",
      "metadata": {
        "id": "sy9eez_KEtr7"
      },
      "source": [
        "model_geo_1 = LinearRegression()\n",
        "model_geo_1.fit(features_train_geo_1, target_train_geo_1)\n",
        "predictions_valid_geo_1 = model_geo_1.predict(features_valid_geo_1)"
      ],
      "execution_count": null,
      "outputs": []
    },
    {
      "cell_type": "markdown",
      "metadata": {
        "id": "FSWWYM_0Etr7"
      },
      "source": [
        "Средний запас предсказанного сырья 1 региона составляет:"
      ]
    },
    {
      "cell_type": "code",
      "metadata": {
        "id": "taT9RmkgEtr8",
        "outputId": "f3d69f62-ca5b-43bc-827a-a36ffbf3531a"
      },
      "source": [
        "predictions_valid_geo_1.mean()"
      ],
      "execution_count": null,
      "outputs": [
        {
          "data": {
            "text/plain": [
              "68.728546895446"
            ]
          },
          "execution_count": 42,
          "metadata": {},
          "output_type": "execute_result"
        }
      ]
    },
    {
      "cell_type": "code",
      "metadata": {
        "id": "1wCFuwWbEtr8"
      },
      "source": [
        "mse_geo_1 = mean_squared_error(target_valid_geo_1, predictions_valid_geo_1)"
      ],
      "execution_count": null,
      "outputs": []
    },
    {
      "cell_type": "code",
      "metadata": {
        "id": "Tn_LPUAwEtr8"
      },
      "source": [
        "rmse_geo_1 = mse_geo_1 ** 0.5"
      ],
      "execution_count": null,
      "outputs": []
    },
    {
      "cell_type": "markdown",
      "metadata": {
        "id": "VnlEviubEtr8"
      },
      "source": [
        "Средняя квадратичная ошибка 1 региона равна:"
      ]
    },
    {
      "cell_type": "code",
      "metadata": {
        "id": "3cBDgbIxEtr8",
        "outputId": "fb85d99d-370b-4efc-c490-dc4f5199e537"
      },
      "source": [
        "rmse_geo_1"
      ],
      "execution_count": null,
      "outputs": [
        {
          "data": {
            "text/plain": [
              "0.893099286775616"
            ]
          },
          "execution_count": 45,
          "metadata": {},
          "output_type": "execute_result"
        }
      ]
    },
    {
      "cell_type": "markdown",
      "metadata": {
        "id": "xJqJjixVEtr8"
      },
      "source": [
        "Обучим и проверим модель для 2 региона"
      ]
    },
    {
      "cell_type": "code",
      "metadata": {
        "id": "8TVq85VEEtr8"
      },
      "source": [
        "features_geo_2 = df_2.drop(['id', 'product'], axis=1)\n",
        "target_geo_2 = df_2['product']"
      ],
      "execution_count": null,
      "outputs": []
    },
    {
      "cell_type": "code",
      "metadata": {
        "id": "r2IeOcaeEtr9"
      },
      "source": [
        "features_train_geo_2, features_valid_geo_2, target_train_geo_2, target_valid_geo_2 = train_test_split(\n",
        "    features_geo_2, target_geo_2, test_size=0.25, random_state=12345)"
      ],
      "execution_count": null,
      "outputs": []
    },
    {
      "cell_type": "code",
      "metadata": {
        "id": "1E3XowsyEtr9"
      },
      "source": [
        "model_geo_2 = LinearRegression()\n",
        "model_geo_2.fit(features_train_geo_2, target_train_geo_2)\n",
        "predictions_valid_geo_2 = model_geo_2.predict(features_valid_geo_2)"
      ],
      "execution_count": null,
      "outputs": []
    },
    {
      "cell_type": "markdown",
      "metadata": {
        "id": "G81QCgdAEtr9"
      },
      "source": [
        "Средний запас предсказанного сырья 2 региона составляет:"
      ]
    },
    {
      "cell_type": "code",
      "metadata": {
        "id": "dIcOyd3CEtr9",
        "outputId": "4c18ae23-c813-4158-bbfa-c04f30795b63"
      },
      "source": [
        "predictions_valid_geo_2.mean()"
      ],
      "execution_count": null,
      "outputs": [
        {
          "data": {
            "text/plain": [
              "94.96504596800489"
            ]
          },
          "execution_count": 49,
          "metadata": {},
          "output_type": "execute_result"
        }
      ]
    },
    {
      "cell_type": "code",
      "metadata": {
        "id": "ZxZ9Fl8LEtr9"
      },
      "source": [
        "mse_geo_2 = mean_squared_error(target_valid_geo_2, predictions_valid_geo_2)"
      ],
      "execution_count": null,
      "outputs": []
    },
    {
      "cell_type": "code",
      "metadata": {
        "id": "wxscQMcwEtr9"
      },
      "source": [
        "rmse_geo_2 = mse_geo_2 ** 0.5"
      ],
      "execution_count": null,
      "outputs": []
    },
    {
      "cell_type": "markdown",
      "metadata": {
        "id": "lEIlyylREtr9"
      },
      "source": [
        "Средняя квадратичная ошибка 2 региона равна:"
      ]
    },
    {
      "cell_type": "code",
      "metadata": {
        "id": "dkPYs4F8Etr9",
        "outputId": "25524b11-74f5-4ec3-cb07-7c7be7d2d92a"
      },
      "source": [
        "rmse_geo_2"
      ],
      "execution_count": null,
      "outputs": [
        {
          "data": {
            "text/plain": [
              "40.02970873393434"
            ]
          },
          "execution_count": 52,
          "metadata": {},
          "output_type": "execute_result"
        }
      ]
    },
    {
      "cell_type": "code",
      "metadata": {
        "id": "dKs1rdOMEtr-"
      },
      "source": [
        "pred_valid_geo_0 = pd.Series(predictions_valid_geo_0)"
      ],
      "execution_count": null,
      "outputs": []
    },
    {
      "cell_type": "code",
      "metadata": {
        "id": "nWU4gV-LEtr-"
      },
      "source": [
        "pred_valid_geo_1 = pd.Series(predictions_valid_geo_1)"
      ],
      "execution_count": null,
      "outputs": []
    },
    {
      "cell_type": "code",
      "metadata": {
        "id": "CtEuHOQPEtr-"
      },
      "source": [
        "pred_valid_geo_2 = pd.Series(predictions_valid_geo_2)"
      ],
      "execution_count": null,
      "outputs": []
    },
    {
      "cell_type": "code",
      "metadata": {
        "id": "H2-PpQSGEtr-"
      },
      "source": [
        "pred_gen = { 'zone_0': pred_valid_geo_0, 'zone_1': pred_valid_geo_1, 'zone_2': pred_valid_geo_2 }"
      ],
      "execution_count": null,
      "outputs": []
    },
    {
      "cell_type": "code",
      "metadata": {
        "id": "BSa8yJCvEtr-"
      },
      "source": [
        "pred_gen = pd.DataFrame(pred_gen)"
      ],
      "execution_count": null,
      "outputs": []
    },
    {
      "cell_type": "markdown",
      "metadata": {
        "id": "aLSmfL90Etr-"
      },
      "source": [
        "Средние запасы скважин по зонам:"
      ]
    },
    {
      "cell_type": "code",
      "metadata": {
        "id": "PuOrXZXFEtr-",
        "outputId": "dcc389f4-c49e-4667-aa35-f532bb1706c0"
      },
      "source": [
        "pred_gen.mean().plot.bar()"
      ],
      "execution_count": null,
      "outputs": [
        {
          "data": {
            "text/plain": [
              "<matplotlib.axes._subplots.AxesSubplot at 0x7f81fac9e7d0>"
            ]
          },
          "execution_count": 58,
          "metadata": {},
          "output_type": "execute_result"
        },
        {
          "data": {
            "image/png": "[encoded data removed]",
            "text/plain": [
              "<Figure size 432x288 with 1 Axes>"
            ]
          },
          "metadata": {
            "needs_background": "light"
          },
          "output_type": "display_data"
        }
      ]
    },
    {
      "cell_type": "code",
      "metadata": {
        "id": "Wm4GY71-Etr_"
      },
      "source": [
        "predictions_rmse_geo_0 = pd.Series(rmse_geo_0)"
      ],
      "execution_count": null,
      "outputs": []
    },
    {
      "cell_type": "code",
      "metadata": {
        "id": "Fj2r6H07Etr_"
      },
      "source": [
        "predictions_rmse_geo_1 = pd.Series(rmse_geo_1)"
      ],
      "execution_count": null,
      "outputs": []
    },
    {
      "cell_type": "code",
      "metadata": {
        "id": "P3-Q2rGQEtr_"
      },
      "source": [
        "predictions_rmse_geo_2 = pd.Series(rmse_geo_2)"
      ],
      "execution_count": null,
      "outputs": []
    },
    {
      "cell_type": "code",
      "metadata": {
        "id": "FNKk38MqEtr_"
      },
      "source": [
        "rmse_gen = { 'zone_0': predictions_rmse_geo_0, 'zone_1': predictions_rmse_geo_1, 'zone_2': predictions_rmse_geo_2 }"
      ],
      "execution_count": null,
      "outputs": []
    },
    {
      "cell_type": "code",
      "metadata": {
        "id": "oiCYRB4JEtr_"
      },
      "source": [
        "rmse_gen = pd.DataFrame(rmse_gen)"
      ],
      "execution_count": null,
      "outputs": []
    },
    {
      "cell_type": "markdown",
      "metadata": {
        "id": "1JFhqkNKEtr_"
      },
      "source": [
        "Средняя квадратичная ошибка по зонам:"
      ]
    },
    {
      "cell_type": "code",
      "metadata": {
        "id": "MdnVqCVzEtr_",
        "outputId": "62701996-be4c-4e74-c02d-096cf5eda089"
      },
      "source": [
        "rmse_gen.plot.bar()"
      ],
      "execution_count": null,
      "outputs": [
        {
          "data": {
            "text/plain": [
              "<matplotlib.axes._subplots.AxesSubplot at 0x7f81f19e3fd0>"
            ]
          },
          "execution_count": 64,
          "metadata": {},
          "output_type": "execute_result"
        },
        {
          "data": {
            "image/png": "[encoded data removed]",
            "text/plain": [
              "<Figure size 432x288 with 1 Axes>"
            ]
          },
          "metadata": {
            "needs_background": "light"
          },
          "output_type": "display_data"
        }
      ]
    },
    {
      "cell_type": "markdown",
      "metadata": {
        "id": "qNKVdc2XEtr_"
      },
      "source": [
        "### Вывод"
      ]
    },
    {
      "cell_type": "markdown",
      "metadata": {
        "id": "co6hbmYEEtsA"
      },
      "source": [
        "Модели обучены, предсказания сделаны. По средним запасам пока в лидерах 2 зона, 0 немного отстает. RMSE у предсказаний зоны 1 намного ниже, чем у остальных зон. Однако, объем запасов у нее меньше"
      ]
    },
    {
      "cell_type": "markdown",
      "metadata": {
        "id": "c_DNU6cMEtsA"
      },
      "source": [
        "## Подготовка к расчёту прибыли"
      ]
    },
    {
      "cell_type": "markdown",
      "metadata": {
        "id": "SFYaoAfvEtsA"
      },
      "source": [
        "Посчитаем минимально необходимые запасы скважины для ее безубыточной разработки"
      ]
    },
    {
      "cell_type": "code",
      "metadata": {
        "id": "MZCNnsJKEtsA"
      },
      "source": [
        "BUDGET_THE_REGION = 10000000000"
      ],
      "execution_count": null,
      "outputs": []
    },
    {
      "cell_type": "code",
      "metadata": {
        "id": "H0V_ORTBEtsA"
      },
      "source": [
        "PRICE_THOUSAND_BARREL = 450000"
      ],
      "execution_count": null,
      "outputs": []
    },
    {
      "cell_type": "code",
      "metadata": {
        "id": "Up9qdbFLEtsA"
      },
      "source": [
        "NUMBER_OF_WELLS = 200"
      ],
      "execution_count": null,
      "outputs": []
    },
    {
      "cell_type": "code",
      "metadata": {
        "id": "-aGvPtWGEtsC"
      },
      "source": [
        "MIN_STOCKS = BUDGET_THE_REGION / NUMBER_OF_WELLS / PRICE_THOUSAND_BARREL"
      ],
      "execution_count": null,
      "outputs": []
    },
    {
      "cell_type": "code",
      "metadata": {
        "id": "Q4rIcJI9EtsC",
        "outputId": "b8db5ade-3f41-457e-b879-2a0b6a859213"
      },
      "source": [
        "MIN_STOCKS"
      ],
      "execution_count": null,
      "outputs": [
        {
          "data": {
            "text/plain": [
              "111.11111111111111"
            ]
          },
          "execution_count": 69,
          "metadata": {},
          "output_type": "execute_result"
        }
      ]
    },
    {
      "cell_type": "markdown",
      "metadata": {
        "id": "LKgNgffGEtsC"
      },
      "source": [
        "### Вывод"
      ]
    },
    {
      "cell_type": "markdown",
      "metadata": {
        "id": "cWIW4FssEtsD"
      },
      "source": [
        "Средний запас в скажинах по всем трем регионам значительно уступает запасам, необходимым для безубыточной разработки. Особенно проигрывает 1 регион. Необходимо выделить скважины с наибольшими запасами, чтобы разработка была рентабельной."
      ]
    },
    {
      "cell_type": "markdown",
      "metadata": {
        "id": "OSVV5D69EtsD"
      },
      "source": [
        "## Расчёт прибыли и рисков "
      ]
    },
    {
      "cell_type": "markdown",
      "metadata": {
        "id": "qeTaL5FIEtsD"
      },
      "source": [
        "Напишем функцию для расчета прибыли по скважинам с максимальными предсказаниями модели"
      ]
    },
    {
      "cell_type": "code",
      "metadata": {
        "id": "E6vhDz1WEtsD"
      },
      "source": [
        "def profit(subsample, pred_product, product):\n",
        "    wells_sorted = subsample.sort_values(by = 'pred_product', ascending=False)[:200]\n",
        "    real_product = (wells_sorted['product'] - MIN_STOCKS).sum() * PRICE_THOUSAND_BARREL\n",
        "    return real_product"
      ],
      "execution_count": null,
      "outputs": []
    },
    {
      "cell_type": "markdown",
      "metadata": {
        "id": "6P_iehCWEtsE"
      },
      "source": [
        "бутстрепом выберем 500 скважин и выберем 200 лучших"
      ]
    },
    {
      "cell_type": "markdown",
      "metadata": {
        "id": "nzoH7ylSEtsE"
      },
      "source": [
        "Для региона 0:"
      ]
    },
    {
      "cell_type": "code",
      "metadata": {
        "id": "SCnA2pCREtsE"
      },
      "source": [
        "geo_0_val_gen = features_valid_geo_0.copy()"
      ],
      "execution_count": null,
      "outputs": []
    },
    {
      "cell_type": "code",
      "metadata": {
        "id": "okFZJL9_EtsE"
      },
      "source": [
        "geo_0_val_gen['product'] = target_valid_geo_0"
      ],
      "execution_count": null,
      "outputs": []
    },
    {
      "cell_type": "code",
      "metadata": {
        "id": "eufq4NC-EtsE"
      },
      "source": [
        "geo_0_val_gen['pred_product'] = predictions_valid_geo_0"
      ],
      "execution_count": null,
      "outputs": []
    },
    {
      "cell_type": "code",
      "metadata": {
        "id": "ELjL1P4qEtsE"
      },
      "source": [
        "values_geo_0 = []\n",
        "for i in range(1000):\n",
        "    subsample_0 = geo_0_val_gen.sample(500, replace=True, random_state=state)\n",
        "    profit_geo_0 = profit(subsample_0, subsample_0['pred_product'], subsample_0['product'])\n",
        "    values_geo_0.append(profit_geo_0)"
      ],
      "execution_count": null,
      "outputs": []
    },
    {
      "cell_type": "markdown",
      "metadata": {
        "id": "tXyRotx5EtsF"
      },
      "source": [
        "Найдем среднюю прибыль, 95% доверительный интервал и риск убытков в 0 регионе"
      ]
    },
    {
      "cell_type": "code",
      "metadata": {
        "id": "3cLlOyV4EtsF"
      },
      "source": [
        "values_geo_0 = pd.Series(values_geo_0)"
      ],
      "execution_count": null,
      "outputs": []
    },
    {
      "cell_type": "markdown",
      "metadata": {
        "id": "rry2H4y-EtsF"
      },
      "source": [
        "Средняя прибыль:"
      ]
    },
    {
      "cell_type": "code",
      "metadata": {
        "id": "1_WSLWsNEtsF",
        "outputId": "5cf5e2b9-3f00-451a-ba7f-9b92f8b9695f"
      },
      "source": [
        "values_geo_0.mean()"
      ],
      "execution_count": null,
      "outputs": [
        {
          "data": {
            "text/plain": [
              "396164984.80237085"
            ]
          },
          "execution_count": 76,
          "metadata": {},
          "output_type": "execute_result"
        }
      ]
    },
    {
      "cell_type": "code",
      "metadata": {
        "id": "iD-ImcqPEtsF"
      },
      "source": [
        "lower_values_geo_0 = values_geo_0.quantile(0.025)\n",
        "upper_values_geo_0 = values_geo_0.quantile(0.975)"
      ],
      "execution_count": null,
      "outputs": []
    },
    {
      "cell_type": "markdown",
      "metadata": {
        "id": "apK8GIfjEtsF"
      },
      "source": [
        "Нижняя и верхняя границы доверительного интервала:"
      ]
    },
    {
      "cell_type": "code",
      "metadata": {
        "id": "l8eUVv2pEtsG",
        "outputId": "1b16b6fc-51cc-44eb-87bc-dd7e0c61ebd5"
      },
      "source": [
        "print('Нижняя граница доверительного интервала:', lower_values_geo_0)\n",
        "print('Вверхняя граница доверительного интервала:', upper_values_geo_0)"
      ],
      "execution_count": null,
      "outputs": [
        {
          "name": "stdout",
          "output_type": "stream",
          "text": [
            "Нижняя граница доверительного интервала: -111215545.89049579\n",
            "Вверхняя граница доверительного интервала: 909766941.5534223\n"
          ]
        }
      ]
    },
    {
      "cell_type": "code",
      "metadata": {
        "id": "q6DUW-YGEtsG"
      },
      "source": [
        "total_0 = 0\n",
        "for i in values_geo_0:\n",
        "    if i < 0:\n",
        "        total_0 += 1"
      ],
      "execution_count": null,
      "outputs": []
    },
    {
      "cell_type": "code",
      "metadata": {
        "id": "5UM6CS11EtsG",
        "outputId": "9d1eda80-25cb-4b5a-dfa4-acf9f086e5c0"
      },
      "source": [
        "print('Риск убытков:', total_0 / len(values_geo_0))"
      ],
      "execution_count": null,
      "outputs": [
        {
          "name": "stdout",
          "output_type": "stream",
          "text": [
            "Риск убытков: 0.069\n"
          ]
        }
      ]
    },
    {
      "cell_type": "markdown",
      "metadata": {
        "id": "GdYcIrTFEtsG"
      },
      "source": [
        "Для региона 1:"
      ]
    },
    {
      "cell_type": "code",
      "metadata": {
        "id": "tb3wykYsEtsG"
      },
      "source": [
        "geo_1_val_gen = features_valid_geo_1.copy()"
      ],
      "execution_count": null,
      "outputs": []
    },
    {
      "cell_type": "code",
      "metadata": {
        "id": "KHz_WPtkEtsG"
      },
      "source": [
        "geo_1_val_gen['product'] = target_valid_geo_1"
      ],
      "execution_count": null,
      "outputs": []
    },
    {
      "cell_type": "code",
      "metadata": {
        "id": "pECi6SMSEtsH"
      },
      "source": [
        "geo_1_val_gen['pred_product'] = predictions_valid_geo_1"
      ],
      "execution_count": null,
      "outputs": []
    },
    {
      "cell_type": "code",
      "metadata": {
        "id": "j-eJ4ldVEtsH"
      },
      "source": [
        "values_geo_1 = []\n",
        "for i in range(1000):\n",
        "    subsample_1 = geo_1_val_gen.sample(500, replace=True, random_state=state)\n",
        "    profit_geo_1 = profit(subsample_1, subsample_1['pred_product'], subsample_1['product'])\n",
        "    values_geo_1.append(profit_geo_1)"
      ],
      "execution_count": null,
      "outputs": []
    },
    {
      "cell_type": "markdown",
      "metadata": {
        "id": "Yiy5oOsfEtsH"
      },
      "source": [
        "Найдем среднюю прибыль, 95% доверительный интервал и риск убытков в 1 регионе"
      ]
    },
    {
      "cell_type": "code",
      "metadata": {
        "id": "vtGX-WdkEtsH"
      },
      "source": [
        "values_geo_1 = pd.Series(values_geo_1)"
      ],
      "execution_count": null,
      "outputs": []
    },
    {
      "cell_type": "markdown",
      "metadata": {
        "id": "5GyWfu5IEtsH"
      },
      "source": [
        "Средняя прибыль:"
      ]
    },
    {
      "cell_type": "code",
      "metadata": {
        "id": "dPKoR7ksEtsH",
        "outputId": "cdbd9f32-35e3-436d-ed3c-f6130dcfe8f2"
      },
      "source": [
        "values_geo_1.mean()"
      ],
      "execution_count": null,
      "outputs": [
        {
          "data": {
            "text/plain": [
              "461155817.2772394"
            ]
          },
          "execution_count": 86,
          "metadata": {},
          "output_type": "execute_result"
        }
      ]
    },
    {
      "cell_type": "code",
      "metadata": {
        "id": "P-fLqHDVEtsI"
      },
      "source": [
        "lower_values_geo_1 = values_geo_1.quantile(0.025)\n",
        "upper_values_geo_1 = values_geo_1.quantile(0.975)"
      ],
      "execution_count": null,
      "outputs": []
    },
    {
      "cell_type": "markdown",
      "metadata": {
        "id": "EOaLppDSEtsI"
      },
      "source": [
        "Нижняя и верхняя границы доверительного интервала:"
      ]
    },
    {
      "cell_type": "code",
      "metadata": {
        "id": "SF9kEOUzEtsI",
        "outputId": "0633615c-cf7d-4894-963d-26bd78634e2c"
      },
      "source": [
        "print('Нижняя граница доверительного интервала:', lower_values_geo_1)\n",
        "print('Вверхняя граница доверительного интервала:', upper_values_geo_1)"
      ],
      "execution_count": null,
      "outputs": [
        {
          "name": "stdout",
          "output_type": "stream",
          "text": [
            "Нижняя граница доверительного интервала: 78050810.75174218\n",
            "Вверхняя граница доверительного интервала: 862952060.2637227\n"
          ]
        }
      ]
    },
    {
      "cell_type": "code",
      "metadata": {
        "id": "8FUeyNeTEtsI"
      },
      "source": [
        "total_1 = 0\n",
        "for i in values_geo_1:\n",
        "    if i < 0:\n",
        "        total_0 += 1"
      ],
      "execution_count": null,
      "outputs": []
    },
    {
      "cell_type": "code",
      "metadata": {
        "id": "G6vcDIyHEtsI",
        "outputId": "1b13faa7-b952-4910-8cf6-260a195c5bdd"
      },
      "source": [
        "print('Риск убытков:', total_1 / len(values_geo_1))"
      ],
      "execution_count": null,
      "outputs": [
        {
          "name": "stdout",
          "output_type": "stream",
          "text": [
            "Риск убытков: 0.0\n"
          ]
        }
      ]
    },
    {
      "cell_type": "markdown",
      "metadata": {
        "id": "x5iGfm8FEtsI"
      },
      "source": [
        "Для региона 2:"
      ]
    },
    {
      "cell_type": "code",
      "metadata": {
        "id": "NyxTIS8WEtsI"
      },
      "source": [
        "geo_2_val_gen = features_valid_geo_2.copy()"
      ],
      "execution_count": null,
      "outputs": []
    },
    {
      "cell_type": "code",
      "metadata": {
        "id": "c2wMJotTEtsJ"
      },
      "source": [
        "geo_2_val_gen['product'] = target_valid_geo_2"
      ],
      "execution_count": null,
      "outputs": []
    },
    {
      "cell_type": "code",
      "metadata": {
        "id": "fTybmrOUEtsJ"
      },
      "source": [
        "geo_2_val_gen['pred_product'] = predictions_valid_geo_2"
      ],
      "execution_count": null,
      "outputs": []
    },
    {
      "cell_type": "code",
      "metadata": {
        "id": "ChxYZ8ktEtsJ"
      },
      "source": [
        "values_geo_2 = []\n",
        "for i in range(1000):\n",
        "    subsample_2 = geo_2_val_gen.sample(500, replace=True, random_state=state)\n",
        "    profit_geo_2 = profit(subsample_2, subsample_2['pred_product'], subsample_2['product'])\n",
        "    values_geo_2.append(profit_geo_2)"
      ],
      "execution_count": null,
      "outputs": []
    },
    {
      "cell_type": "markdown",
      "metadata": {
        "id": "fbJXfN0uEtsJ"
      },
      "source": [
        "Найдем среднюю прибыль, 95% доверительный интервал и риск убытков в 0 регионе"
      ]
    },
    {
      "cell_type": "code",
      "metadata": {
        "id": "7C67X-_5EtsJ"
      },
      "source": [
        "values_geo_2 = pd.Series(values_geo_2)"
      ],
      "execution_count": null,
      "outputs": []
    },
    {
      "cell_type": "markdown",
      "metadata": {
        "id": "dOxA8X8qEtsJ"
      },
      "source": [
        "Средняя прибыль:"
      ]
    },
    {
      "cell_type": "code",
      "metadata": {
        "id": "aNkwKNXYEtsJ",
        "outputId": "b624b4ac-3275-4606-e511-9cc7fb3592a0"
      },
      "source": [
        "values_geo_2.mean()"
      ],
      "execution_count": null,
      "outputs": [
        {
          "data": {
            "text/plain": [
              "392950475.1706043"
            ]
          },
          "execution_count": 96,
          "metadata": {},
          "output_type": "execute_result"
        }
      ]
    },
    {
      "cell_type": "code",
      "metadata": {
        "id": "zBdpmk9WEtsK"
      },
      "source": [
        "lower_values_geo_2 = values_geo_2.quantile(0.025)\n",
        "upper_values_geo_2 = values_geo_2.quantile(0.975)"
      ],
      "execution_count": null,
      "outputs": []
    },
    {
      "cell_type": "markdown",
      "metadata": {
        "id": "s0eMldlvEtsK"
      },
      "source": [
        "Нижняя и верхняя границы доверительного интервала:"
      ]
    },
    {
      "cell_type": "code",
      "metadata": {
        "id": "6m0JJ9F8EtsK",
        "outputId": "fad3cc5d-9c99-4d48-bba0-70330fc0205e"
      },
      "source": [
        "print('Нижняя граница доверительного интервала:', lower_values_geo_2)\n",
        "print('Вверхняя граница доверительного интервала:', upper_values_geo_2)"
      ],
      "execution_count": null,
      "outputs": [
        {
          "name": "stdout",
          "output_type": "stream",
          "text": [
            "Нижняя граница доверительного интервала: -112227625.37857623\n",
            "Вверхняя граница доверительного интервала: 934562914.5511639\n"
          ]
        }
      ]
    },
    {
      "cell_type": "code",
      "metadata": {
        "id": "O967KjZSEtsK"
      },
      "source": [
        "total_2 = 0\n",
        "for i in values_geo_2:\n",
        "    if i < 0:\n",
        "        total_2 += 1"
      ],
      "execution_count": null,
      "outputs": []
    },
    {
      "cell_type": "code",
      "metadata": {
        "id": "OtJPCaJmEtsK",
        "outputId": "14c5a2f5-8cce-42f7-ff94-0ad37ca7cb51"
      },
      "source": [
        "print('Риск убытков:', total_2 / len(values_geo_2))"
      ],
      "execution_count": null,
      "outputs": [
        {
          "name": "stdout",
          "output_type": "stream",
          "text": [
            "Риск убытков: 0.065\n"
          ]
        }
      ]
    },
    {
      "cell_type": "markdown",
      "metadata": {
        "id": "F9IyyieVEtsK"
      },
      "source": [
        "### Вывод"
      ]
    },
    {
      "cell_type": "markdown",
      "metadata": {
        "id": "gEqdcisoEtsL"
      },
      "source": [
        "Как бы не было странно на этапе предобработки данных и создания моделей, для разработки я предлагаю выбрать 1 регион. Несмотря на то, что средние запасы всего месторождения меньше, чем у двух других, он выигрывает почти по всем показателя: сердняя прибыль у него больше, 95% доверительный интервал выше и риск получить убыток отсутствует. В этом регионе маленькие запасы, но в нем модель предсказывает точно. Именно из-за этого нам удается выбрать прибыльные скважины и получить максимальную прибыль."
      ]
    },
    {
      "cell_type": "code",
      "metadata": {
        "id": "D9-uIFkdGa7H"
      },
      "source": [
        ""
      ],
      "execution_count": null,
      "outputs": []
    }
  ]
}